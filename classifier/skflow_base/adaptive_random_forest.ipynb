{
 "cells": [
  {
   "cell_type": "markdown",
   "source": [
    "# Initial"
   ],
   "metadata": {
    "collapsed": false
   }
  },
  {
   "cell_type": "code",
   "execution_count": 2,
   "metadata": {
    "collapsed": true
   },
   "outputs": [
    {
     "name": "stderr",
     "output_type": "stream",
     "text": [
      "\n",
      "Bad key \"text.kerning_factor\" on line 4 in\n",
      "C:\\Users\\MARCELO\\anaconda3\\lib\\site-packages\\matplotlib\\mpl-data\\stylelib\\_classic_test_patch.mplstyle.\n",
      "You probably need to get an updated matplotlibrc file from\n",
      "https://github.com/matplotlib/matplotlib/blob/v3.1.3/matplotlibrc.template\n",
      "or from the matplotlib source distribution\n"
     ]
    }
   ],
   "source": [
    "import pandas as pd\n",
    "import numpy as np\n",
    "from sklearn.preprocessing import StandardScaler, MinMaxScaler\n",
    "from sklearn.model_selection import train_test_split\n",
    "from math import floor\n",
    "from sklearn.metrics import confusion_matrix\n",
    "from skmultiflow.lazy import SAMKNNClassifier\n",
    "from skmultiflow.meta import AdaptiveRandomForestClassifier, BatchIncrementalClassifier, ProbabilisticClassifierChain, LearnPPNSEClassifier, LearnPPClassifier, LeveragingBaggingClassifier, MultiOutputLearner, OnlineAdaC2Classifier, OnlineBoostingClassifier, OnlineCSB2Classifier, OnlineRUSBoostClassifier, OnlineSMOTEBaggingClassifier, OnlineUnderOverBaggingClassifier, OzaBaggingClassifier, OzaBaggingADWINClassifier\n",
    "from skmultiflow.trees import HoeffdingAdaptiveTreeClassifier, HoeffdingTreeClassifier, ExtremelyFastDecisionTreeClassifier, LabelCombinationHoeffdingTreeClassifier\n",
    "import random"
   ]
  },
  {
   "cell_type": "code",
   "execution_count": 3,
   "outputs": [],
   "source": [
    "'''\n",
    "EXTERNAL KERNEL\n",
    "'''\n",
    "google_colab = False\n",
    "kaggle = False\n",
    "\n",
    "'''\n",
    "CUDA\n",
    "'''\n",
    "cuda = False\n",
    "\n",
    "'''\n",
    "DATA REPRESENTATION\n",
    "\n",
    "1 => SINGLE READ | 2 => ADD FEATURES | 3 => WINDOW TO FEATURES\n",
    "'''\n",
    "DATA_REPRESENTATION = 2\n",
    "\n",
    "'''\n",
    "DOWNSAMPLE FACTOR\n",
    "\n",
    "1 => 10hz *original rate* | 2 => 5Hz | 5 => 2Hz | 10 => 1hz\n",
    "'''\n",
    "DOWNSAMPLE_FACTOR = 5\n",
    "\n",
    "'''\n",
    "WINDOWS LENGHT\n",
    "\n",
    "* needs divisor by datapoints target\n",
    "* considering downsample factor = 5\n",
    "\n",
    "1 => WINDOW DISABLED | 2 => 1 second | 4 => 2 seconds | 10 => 5 seconds | 20 => 10 seconds | 200 => 100 seconds *full flight*\n",
    "'''\n",
    "WINDOW_LENGHT =  1\n",
    "\n",
    "\n",
    "'''\n",
    "LIMITADOR\n",
    "\n",
    "Quantity of samples in the execution of the tests.\n",
    "'''\n",
    "LIMITADOR = 500\n",
    "\n",
    "'''\n",
    "LOSS FACTOR [0,1]\n",
    "\n",
    "Ignores outliers in calculating the stats of losses in regenerated data.\n",
    "'''\n",
    "LOSS_FACTOR = 1\n",
    "\n",
    "'''\n",
    "TRAIN_SIZE [0,1]\n",
    "\n",
    "Percentage of samples to be trained\n",
    "'''\n",
    "TRAIN_SIZE = 0.8\n",
    "\n",
    "'''\n",
    "OUTPUT_FILE_NAME\n",
    "\n",
    "File with output results\n",
    "'''\n",
    "OUTPUT_FILE_NAME = 'output_adaptive_random_forest_skflow_NOVO_sqrt_dr_' + str(DATA_REPRESENTATION) + '-ts_' + str(TRAIN_SIZE) + '-lf_' + str.replace(str(LOSS_FACTOR), '.', '') + '-limit_' + str(LIMITADOR) + '-wl_' + str(WINDOW_LENGHT) + '.txt'\n",
    "\n",
    "'''\n",
    "PATH_OUTPUTS\n",
    "\n",
    "local : ./outputs/\n",
    "google colab : /content/drive/My Drive/\n",
    "'''\n",
    "if google_colab:\n",
    "    PATH_OUTPUTS = '/content/drive/My Drive/'\n",
    "else:\n",
    "    PATH_OUTPUTS = './outputs/'\n",
    "\n",
    "\n",
    "'''\n",
    "PATH_DATASET\n",
    "\n",
    "'''\n",
    "PATH_DATASET = '../../dataset/original/'\n",
    "\n",
    "'''\n",
    "FLUSH FILE\n",
    "\n",
    "If output results file is ON\n",
    "'''\n",
    "FLUSH_FILE = True"
   ],
   "metadata": {
    "collapsed": false,
    "pycharm": {
     "name": "#%%\n"
    }
   }
  },
  {
   "cell_type": "code",
   "execution_count": 46,
   "outputs": [],
   "source": [
    "if google_colab:\n",
    "    !pip install git+https://github.com/online-ml/river --upgrade\n",
    "\n",
    "    from google.colab import drive\n",
    "\n",
    "    drive.mount('/content/drive')\n",
    "    path = '/content/drive/My Drive/ACADÊMICO/MESTRADO/DISSERTAÇÃO/CHAPTERS/5 EXPERIMENTO/dataset/data_representation_1'\n",
    "    dict_ds_original = {\n",
    "        'data_ds3_normal_t1_original' : pd.read_csv(path+'/F16_DS3_normal_t1.csv', header=None),\n",
    "        'data_ds3_normal_t2_original' : pd.read_csv(path+'/F16_DS3_normal_t2.csv', header=None),\n",
    "        'data_ds3_fault1_original' : pd.read_csv(path+'/F16_DS3_fault1_leakage.csv', header=None),\n",
    "        'data_ds3_fault2_original' : pd.read_csv(path+'/F16_DS3_fault2_viscousfriction.csv', header=None),\n",
    "        'data_ds3_fault3_original' : pd.read_csv(path+'/F16_DS3_fault3_compressibility.csv', header=None),\n",
    "        'data_ds3_fault4_original' : pd.read_csv(path+'/F16_DS3_fault4_fixedposition.csv', header=None),\n",
    "    }\n",
    "elif kaggle:\n",
    "    !conda install -y gdown\n",
    "    !gdown --id 1G88okIVmdcgLFlmd7rDRhHvHv98yK3UB\n",
    "    !gdown --id 1fX3utfHMjwKTt7IW4D01bnm-hv88yzrJ\n",
    "    !gdown --id 1yUG3R5zK2AIxtS9Q4Fk-udkKBZeYShgb\n",
    "    !gdown --id 1OBRDtuqNEZ-3Z-q0helWh2xGiAxeLACH\n",
    "    !gdown --id 17oDi60sWYsWHHxzj2aA9m6ARm8zQ81m_\n",
    "    !gdown --id 1jKEK4s5sYJh8PHtpHeV8ABOsHjuB26RA\n",
    "else:\n",
    "    dict_ds_original = {\n",
    "        'data_ds3_normal_t1_original' : pd.read_csv(PATH_DATASET+'F16_DS3_normal_t1.csv', header=None),\n",
    "        'data_ds3_normal_t2_original' : pd.read_csv(PATH_DATASET+'F16_DS3_normal_t2.csv', header=None),\n",
    "        'data_ds3_fault1_original' : pd.read_csv(PATH_DATASET+'F16_DS3_fault1_leakage.csv', header=None),\n",
    "        'data_ds3_fault2_original' : pd.read_csv(PATH_DATASET+'F16_DS3_fault2_viscousfriction.csv', header=None),\n",
    "        'data_ds3_fault3_original' : pd.read_csv(PATH_DATASET+'F16_DS3_fault3_compressibility.csv', header=None),\n",
    "        'data_ds3_fault4_original' : pd.read_csv(PATH_DATASET+'F16_DS3_fault4_fixedposition.csv', header=None),\n",
    "    }"
   ],
   "metadata": {
    "collapsed": false,
    "pycharm": {
     "name": "#%%\n"
    }
   }
  },
  {
   "cell_type": "markdown",
   "source": [
    "# Dataset"
   ],
   "metadata": {
    "collapsed": false
   }
  },
  {
   "cell_type": "code",
   "execution_count": 47,
   "outputs": [],
   "source": [
    "dict_ds = dict_ds_original.copy()\n",
    "\n",
    "if dict_ds['data_ds3_normal_t1_original'].shape[0] % DOWNSAMPLE_FACTOR != 0 or dict_ds['data_ds3_fault1_original'].shape[0] % DOWNSAMPLE_FACTOR != 0:\n",
    "    raise Exception('Needs to be ?shape? divisor')\n",
    "\n",
    "for n, dataset_name in enumerate(dict_ds):\n",
    "    dataset = dict_ds[dataset_name].to_numpy()\n",
    "\n",
    "    downsampled = dataset[::DOWNSAMPLE_FACTOR]\n",
    "\n",
    "    x, y = downsampled.shape\n",
    "\n",
    "    # resample\n",
    "    dict_ds[dataset_name] = pd.DataFrame(downsampled.reshape((int(x/WINDOW_LENGHT),y*WINDOW_LENGHT)))\n"
   ],
   "metadata": {
    "collapsed": false,
    "pycharm": {
     "name": "#%%\n"
    }
   }
  },
  {
   "cell_type": "code",
   "execution_count": 48,
   "outputs": [],
   "source": [
    "# ADD COLUMNS WITH DIFF PREVIOUS VALUES\n",
    "\n",
    "if (DATA_REPRESENTATION == 2):\n",
    "    frame_size = int(1000/DOWNSAMPLE_FACTOR)\n",
    "\n",
    "    for n, dataset_name in enumerate(dict_ds):\n",
    "        dataset = dict_ds[dataset_name].to_numpy()\n",
    "\n",
    "        dimension = dataset.shape[1]\n",
    "        samples = dataset.shape[0]\n",
    "\n",
    "        # GENERATE NEW DIMENSIONS\n",
    "        dataset = np.concatenate((dataset, np.zeros((samples,dimension))), axis=1)\n",
    "\n",
    "        for f in np.arange(0,int(samples/frame_size)):\n",
    "            # OBTAIN THE FRAME FLIGHT\n",
    "            frame = dataset[f*frame_size:(f+1)*frame_size, 0:dimension]\n",
    "\n",
    "            # CALCULATE DIFFERENCE\n",
    "            chunk = np.diff(frame, axis=0)\n",
    "\n",
    "            # DONT CALCULATE THE DIFFERENCE FOR EACH FIRST TIMESTEP\n",
    "            chunk = np.insert(chunk, 0, frame[0, 0:dimension], axis=0)\n",
    "\n",
    "            # UPDATE DATASET WITH NEW FRAME INTO NEW DIMENSIONS\n",
    "            dataset[f*frame_size:(f+1)*frame_size,dimension:dimension*2] = chunk\n",
    "\n",
    "        dict_ds[dataset_name] = pd.DataFrame(dataset)\n",
    "\n"
   ],
   "metadata": {
    "collapsed": false,
    "pycharm": {
     "name": "#%%\n"
    }
   }
  },
  {
   "cell_type": "code",
   "execution_count": 49,
   "outputs": [],
   "source": [
    "def get_results(data_test, phi):\n",
    "    output = np.zeros((len(data_test), 5)) # 7: none, f1, f2, f3, f4\n",
    "\n",
    "    for k, dt in enumerate(data_test):\n",
    "        a = clf.predict_proba(dt)\n",
    "\n",
    "        for t in np.arange(0, a.shape[1]):\n",
    "            output[k, t] = len(a[:,t][a[:,t] >= phi])\n",
    "            #output[k, t] = len(a[:, t][a[:, t] == True])\n",
    "\n",
    "    return output\n",
    "\n",
    "# append fault labels\n",
    "def generate_fault_label(dataset, fault_label):\n",
    "    labels = np.array([[fault_label]]*dataset.shape[0])\n",
    "\n",
    "    return labels"
   ],
   "metadata": {
    "collapsed": false,
    "pycharm": {
     "name": "#%%\n"
    }
   }
  },
  {
   "cell_type": "markdown",
   "source": [
    "# Split"
   ],
   "metadata": {
    "collapsed": false
   }
  },
  {
   "cell_type": "code",
   "execution_count": 50,
   "outputs": [],
   "source": [
    "faults = np.concatenate((\n",
    "    np.append(dict_ds['data_ds3_fault1_original'].copy(), generate_fault_label(dict_ds['data_ds3_fault1_original'], 1), axis = 1),\n",
    "    np.append(dict_ds['data_ds3_fault2_original'].copy(), generate_fault_label(dict_ds['data_ds3_fault2_original'], 2), axis = 1)\n",
    "))\n",
    "\n",
    "faults_shuffled = faults.copy()\n",
    "np.random.shuffle(faults_shuffled)\n",
    "folds = np.split(faults_shuffled, 10)\n",
    "\n",
    "fold = folds[0]\n",
    "X_train, X_test, y_train, y_test = train_test_split(fold[:, :-1], fold[:, -1], test_size=1-TRAIN_SIZE, random_state=42, shuffle=False)\n",
    "\n",
    "X_train3, X_test3, y_train3, y_test3 = train_test_split(dict_ds['data_ds3_fault3_original'].copy(), generate_fault_label(dict_ds['data_ds3_fault3_original'], 3).reshape(-1), test_size=1-TRAIN_SIZE, random_state=42, shuffle=False)\n",
    "\n",
    "X_train4, X_test4, y_train4, y_test4 = train_test_split(dict_ds['data_ds3_fault4_original'].copy(), generate_fault_label(dict_ds['data_ds3_fault4_original'], 4).reshape(-1), test_size=1-TRAIN_SIZE, random_state=42, shuffle=False)"
   ],
   "metadata": {
    "collapsed": false,
    "pycharm": {
     "name": "#%%\n"
    }
   }
  },
  {
   "cell_type": "markdown",
   "source": [
    "# Run"
   ],
   "metadata": {
    "collapsed": false
   }
  },
  {
   "cell_type": "code",
   "execution_count": null,
   "outputs": [
    {
     "name": "stdout",
     "output_type": "stream",
     "text": [
      "................................"
     ]
    }
   ],
   "source": [
    "log = None\n",
    "if FLUSH_FILE:\n",
    "    log = open(PATH_OUTPUTS+OUTPUT_FILE_NAME, \"a\", buffering=1)\n",
    "\n",
    "phi = 1\n",
    "samples_train = 10000#500\n",
    "samples_test = 800#100\n",
    "samples_retrain = 1000#100\n",
    "\n",
    "params = {'max_features': ['sqrt'], #, 0.5, None, 'log2'\n",
    "          'n_estimatores': [100, 1000, 10],\n",
    "          'leaf_prediction': ['nb', 'mc', 'nba'],\n",
    "          'split_criterion': ['gini', 'info_gain'],\n",
    "          'grace_period': [50, 25, 100, 200],\n",
    "          'performance_metric': ['acc', 'kappa'],\n",
    "          'phis': [0.1, 0.5, 1, 2]}\n",
    "\n",
    "'''params = {'max_features': ['sqrt'],\n",
    "          'n_estimatores': [100],\n",
    "          'leaf_prediction': ['nb'],\n",
    "          'split_criterion': ['gini'],\n",
    "          'grace_period': [100],\n",
    "          'performance_metric': ['acc'],\n",
    "          'phis': [1]}'''\n",
    "\n",
    "for mf in params['max_features']:\n",
    "    for n in params['n_estimatores']:\n",
    "        for lp in params['leaf_prediction']:\n",
    "            for sc in params['split_criterion']:\n",
    "                for gp in params['grace_period']:\n",
    "                    for pm in params['performance_metric']:\n",
    "                        for phi in params['phis']:\n",
    "                            ss = StandardScaler()\n",
    "\n",
    "                            clf = AdaptiveRandomForestClassifier(max_features=mf, n_estimators=n, leaf_prediction=lp, split_criterion=sc, grace_period=gp, performance_metric=pm)\n",
    "\n",
    "                            ss.partial_fit(X_train[:samples_train])\n",
    "                            clf.partial_fit(ss.transform(X_train[:samples_train]), y_train[:samples_train])\n",
    "\n",
    "                            print(mf, n, lp, sc, gp, pm, file=log)\n",
    "\n",
    "                            # TRAIN\n",
    "                            data_test = np.append(X_test, y_test.reshape(-1, 1), axis=1)\n",
    "\n",
    "                            X_test_f1 = data_test[data_test[:,-1] == 1][:,:-1]\n",
    "                            X_test_f2 = data_test[data_test[:,-1] == 2][:,:-1]\n",
    "\n",
    "                            data_test = [ss.transform(X_test_f1[:samples_test]),\n",
    "                                          ss.transform(X_test_f2[:samples_test]),\n",
    "                                          ss.transform(X_test3[:samples_test]),\n",
    "                                          ss.transform(X_test4[:samples_test]),\n",
    "                                          ss.transform(dict_ds['data_ds3_normal_t1_original'][:samples_test]),\n",
    "                                          ss.transform(dict_ds['data_ds3_normal_t2_original'][:samples_test])\n",
    "                            ]\n",
    "\n",
    "                            output = get_results(data_test, phi)\n",
    "                            #print(output)\n",
    "                            output = output.reshape(30)\n",
    "                            for o in output:\n",
    "                                print(o, file=log)\n",
    "\n",
    "                            print('.', end='')\n",
    "\n",
    "                            # NEW TRAIN WITH FAULT 3\n",
    "                            ss.partial_fit(X_train3[:samples_retrain])\n",
    "                            clf.partial_fit(ss.transform(X_train3[:samples_retrain]), y_train3[:samples_retrain])\n",
    "\n",
    "                            data_test = [ss.transform(X_test_f1[:samples_test]),\n",
    "                                          ss.transform(X_test_f2[:samples_test]),\n",
    "                                          ss.transform(X_test3[:samples_test]),\n",
    "                                          ss.transform(X_test4[:samples_test]),\n",
    "                                          ss.transform(dict_ds['data_ds3_normal_t1_original'][:samples_test]),\n",
    "                                          ss.transform(dict_ds['data_ds3_normal_t2_original'][:samples_test])\n",
    "                                          ]\n",
    "\n",
    "                            output = get_results(data_test, phi)\n",
    "                            #print(output)\n",
    "                            output = output.reshape(30)\n",
    "                            for o in output:\n",
    "                                print(o, file=log)\n",
    "\n",
    "                            print('.', end='')\n",
    "\n",
    "                            # NEW TRAIN WITH FAULT 4\n",
    "                            ss.partial_fit(X_train4[:samples_retrain])\n",
    "                            clf.partial_fit(ss.transform(X_train4[:samples_retrain]), y_train4[:samples_retrain])\n",
    "\n",
    "                            data_test = [ss.transform(X_test_f1[:samples_test]),\n",
    "                                         ss.transform(X_test_f2[:samples_test]),\n",
    "                                         ss.transform(X_test3[:samples_test]),\n",
    "                                         ss.transform(X_test4[:samples_test]),\n",
    "                                         ss.transform(dict_ds['data_ds3_normal_t1_original'][:samples_test]),\n",
    "                                         ss.transform(dict_ds['data_ds3_normal_t2_original'][:samples_test])\n",
    "                                         ]\n",
    "\n",
    "                            output = get_results(data_test, phi)\n",
    "                            #print(output)\n",
    "                            output = output.reshape(30)\n",
    "                            for o in output:\n",
    "                                print(o, file=log)\n",
    "\n",
    "                            print('.', end='')\n",
    "\n",
    "if FLUSH_FILE:\n",
    "    log.close()"
   ],
   "metadata": {
    "collapsed": false,
    "pycharm": {
     "name": "#%%\n",
     "is_executing": true
    }
   }
  },
  {
   "cell_type": "code",
   "execution_count": 9,
   "outputs": [],
   "source": [
    "adr = AdaptiveRandomForestClassifier(max_features=0.5, n_estimators=100)"
   ],
   "metadata": {
    "collapsed": false,
    "pycharm": {
     "name": "#%%\n"
    }
   }
  },
  {
   "cell_type": "code",
   "execution_count": 17,
   "outputs": [
    {
     "data": {
      "text/plain": "AdaptiveRandomForestClassifier(binary_split=False, disable_weighted_vote=False,\n                               drift_detection_method=ADWIN(delta=0.001),\n                               grace_period=50, lambda_value=6,\n                               leaf_prediction='nba', max_byte_size=33554432,\n                               max_features=27, memory_estimate_period=2000000,\n                               n_estimators=100, nb_threshold=0,\n                               no_preprune=False, nominal_attributes=None,\n                               performance_metric='acc', random_state=None,\n                               remove_poor_atts=False, split_confidence=0.01,\n                               split_criterion='info_gain',\n                               stop_mem_management=False, tie_threshold=0.05,\n                               warning_detection_method=ADWIN(delta=0.01))"
     },
     "execution_count": 17,
     "metadata": {},
     "output_type": "execute_result"
    }
   ],
   "source": [
    "adr.partial_fit(X_train[:400], y_train[:400])"
   ],
   "metadata": {
    "collapsed": false,
    "pycharm": {
     "name": "#%%\n"
    }
   }
  },
  {
   "cell_type": "code",
   "execution_count": 20,
   "outputs": [],
   "source": [
    "r = adr.predict_proba(X_test[:400])"
   ],
   "metadata": {
    "collapsed": false,
    "pycharm": {
     "name": "#%%\n"
    }
   }
  },
  {
   "cell_type": "code",
   "execution_count": 30,
   "outputs": [
    {
     "data": {
      "text/plain": "array([[192,   0],\n       [  4, 204]], dtype=int64)"
     },
     "execution_count": 30,
     "metadata": {},
     "output_type": "execute_result"
    }
   ],
   "source": [
    "y_hat = []\n",
    "for n in r:\n",
    "    if n[1] == 1:\n",
    "        y_hat.append(1)\n",
    "    elif n[2] == 1:\n",
    "        y_hat.append(2)\n",
    "\n",
    "confusion_matrix(y_test[:400],y_hat)"
   ],
   "metadata": {
    "collapsed": false,
    "pycharm": {
     "name": "#%%\n"
    }
   }
  },
  {
   "cell_type": "code",
   "execution_count": 70,
   "outputs": [
    {
     "data": {
      "text/plain": "array([[0., 1.]])"
     },
     "execution_count": 70,
     "metadata": {},
     "output_type": "execute_result"
    }
   ],
   "source": [
    "adr.predict_proba(X_train4.iloc[100].to_numpy().reshape(1,-1))"
   ],
   "metadata": {
    "collapsed": false,
    "pycharm": {
     "name": "#%%\n"
    }
   }
  },
  {
   "cell_type": "code",
   "execution_count": 54,
   "outputs": [
    {
     "data": {
      "text/plain": "numpy.ndarray"
     },
     "execution_count": 54,
     "metadata": {},
     "output_type": "execute_result"
    }
   ],
   "source": [
    "type(X_train)"
   ],
   "metadata": {
    "collapsed": false,
    "pycharm": {
     "name": "#%%\n"
    }
   }
  },
  {
   "cell_type": "markdown",
   "source": [
    "# HTREE"
   ],
   "metadata": {
    "collapsed": false,
    "pycharm": {
     "name": "#%% md\n"
    }
   }
  },
  {
   "cell_type": "code",
   "execution_count": 326,
   "outputs": [
    {
     "data": {
      "text/plain": "HoeffdingTreeClassifier(binary_split=False, grace_period=200,\n                        leaf_prediction='nb', max_byte_size=33554432,\n                        memory_estimate_period=1000000, nb_threshold=0,\n                        no_preprune=False, nominal_attributes=None,\n                        remove_poor_atts=False, split_confidence=1e-07,\n                        split_criterion='info_gain', stop_mem_management=False,\n                        tie_threshold=0.05)"
     },
     "execution_count": 326,
     "metadata": {},
     "output_type": "execute_result"
    }
   ],
   "source": [
    "ss = StandardScaler()\n",
    "ht = HoeffdingTreeClassifier(leaf_prediction='nb')\n",
    "\n",
    "ss.partial_fit(X_train[:10000])\n",
    "ht.partial_fit(ss.transform(X_train[:10000]), y_train[:10000])"
   ],
   "metadata": {
    "collapsed": false,
    "pycharm": {
     "name": "#%%\n"
    }
   }
  },
  {
   "cell_type": "code",
   "execution_count": 293,
   "outputs": [],
   "source": [
    "data_test = dict_ds['data_ds3_fault1_original'][50000:51000]\n",
    "y_ref = [1]*1000\n",
    "\n",
    "r = ht.predict_proba(ss.transform(data_test))\n",
    "#r"
   ],
   "metadata": {
    "collapsed": false,
    "pycharm": {
     "name": "#%%\n"
    }
   }
  },
  {
   "cell_type": "code",
   "execution_count": 294,
   "outputs": [
    {
     "data": {
      "text/plain": "array([[  0,   0,   0,   0,   0],\n       [ 16, 981,   1,   1,   1],\n       [  0,   0,   0,   0,   0],\n       [  0,   0,   0,   0,   0],\n       [  0,   0,   0,   0,   0]], dtype=int64)"
     },
     "execution_count": 294,
     "metadata": {},
     "output_type": "execute_result"
    }
   ],
   "source": [
    "y_hat = []\n",
    "phi = .9\n",
    "\n",
    "for n in r:\n",
    "    if n[1] >= phi:\n",
    "        y_hat.append(1)\n",
    "    elif n[2] >= phi:\n",
    "        y_hat.append(2)\n",
    "    else:\n",
    "        y_hat.append(0)\n",
    "\n",
    "y_hat[990] = 0\n",
    "y_hat[991] = 1\n",
    "y_hat[992] = 2\n",
    "y_hat[993] = 3\n",
    "y_hat[994] = 4\n",
    "\n",
    "#confusion_matrix(y_ref,y_hat)"
   ],
   "metadata": {
    "collapsed": false,
    "pycharm": {
     "name": "#%%\n"
    }
   }
  },
  {
   "cell_type": "code",
   "execution_count": 327,
   "outputs": [
    {
     "data": {
      "text/plain": "HoeffdingTreeClassifier(binary_split=False, grace_period=200,\n                        leaf_prediction='nb', max_byte_size=33554432,\n                        memory_estimate_period=1000000, nb_threshold=0,\n                        no_preprune=False, nominal_attributes=None,\n                        remove_poor_atts=False, split_confidence=1e-07,\n                        split_criterion='info_gain', stop_mem_management=False,\n                        tie_threshold=0.05)"
     },
     "execution_count": 327,
     "metadata": {},
     "output_type": "execute_result"
    }
   ],
   "source": [
    "# retrain 3\n",
    "memory_size = 500\n",
    "samples_new_train = 1000\n",
    "\n",
    "xoriginal_retrain = np.concatenate((X_train[:memory_size], y_train[:memory_size].reshape(-1,1)), axis=1)\n",
    "x3_train = np.concatenate((X_train3[:samples_new_train], y_train3[:samples_new_train].reshape(-1,1)), axis=1)\n",
    "x_retrain = np.concatenate((x3_train, xoriginal_retrain))\n",
    "np.random.shuffle(x_retrain)\n",
    "\n",
    "ss.partial_fit(x_retrain[:memory_size+samples_new_train, :-1])\n",
    "ht.partial_fit(ss.transform(x_retrain[:,:-1]), x_retrain[:,-1])"
   ],
   "metadata": {
    "collapsed": false,
    "pycharm": {
     "name": "#%%\n"
    }
   }
  },
  {
   "cell_type": "code",
   "execution_count": 336,
   "outputs": [
    {
     "data": {
      "text/plain": "array([[0.00000000e+00, 4.14956503e-62, 1.00000000e+00, 1.02365838e-60],\n       [0.00000000e+00, 0.00000000e+00, 0.00000000e+00, 0.00000000e+00],\n       [0.00000000e+00, 0.00000000e+00, 0.00000000e+00, 1.00000000e+00],\n       ...,\n       [0.00000000e+00, 0.00000000e+00, 0.00000000e+00, 1.00000000e+00],\n       [0.00000000e+00, 0.00000000e+00, 0.00000000e+00, 1.00000000e+00],\n       [0.00000000e+00, 0.00000000e+00, 0.00000000e+00, 1.00000000e+00]])"
     },
     "execution_count": 336,
     "metadata": {},
     "output_type": "execute_result"
    }
   ],
   "source": [
    "data_test = dict_ds['data_ds3_fault4_original'][50000:51000]\n",
    "y_ref = [4]*1000\n",
    "\n",
    "\n",
    "r = ht.predict_proba(ss.transform(data_test))\n",
    "r"
   ],
   "metadata": {
    "collapsed": false,
    "pycharm": {
     "name": "#%%\n"
    }
   }
  },
  {
   "cell_type": "code",
   "execution_count": 337,
   "outputs": [
    {
     "data": {
      "text/plain": "array([[  0,   0,   0,   0,   0],\n       [  0,   0,   0,   0,   0],\n       [  0,   0,   0,   0,   0],\n       [  0,   0,   0,   0,   0],\n       [  6,   1,   6, 986,   1]], dtype=int64)"
     },
     "execution_count": 337,
     "metadata": {},
     "output_type": "execute_result"
    }
   ],
   "source": [
    "y_hat = []\n",
    "phi = .66\n",
    "\n",
    "for n in r:\n",
    "    if n[1] >= phi:\n",
    "        y_hat.append(1)\n",
    "    elif n[2] >= phi:\n",
    "        y_hat.append(2)\n",
    "    elif n[3] >= phi:\n",
    "        y_hat.append(3)\n",
    "    else:\n",
    "        y_hat.append(0)\n",
    "\n",
    "y_hat[990] = 0\n",
    "y_hat[991] = 1\n",
    "y_hat[992] = 2\n",
    "y_hat[993] = 3\n",
    "y_hat[994] = 4\n",
    "\n",
    "confusion_matrix(y_ref,y_hat)"
   ],
   "metadata": {
    "collapsed": false,
    "pycharm": {
     "name": "#%%\n"
    }
   }
  },
  {
   "cell_type": "code",
   "execution_count": 338,
   "outputs": [
    {
     "data": {
      "text/plain": "HoeffdingTreeClassifier(binary_split=False, grace_period=200,\n                        leaf_prediction='nb', max_byte_size=33554432,\n                        memory_estimate_period=1000000, nb_threshold=0,\n                        no_preprune=False, nominal_attributes=None,\n                        remove_poor_atts=False, split_confidence=1e-07,\n                        split_criterion='info_gain', stop_mem_management=False,\n                        tie_threshold=0.05)"
     },
     "execution_count": 338,
     "metadata": {},
     "output_type": "execute_result"
    }
   ],
   "source": [
    "# retrain 4\n",
    "memory_size = 500\n",
    "samples_new_train = 1000\n",
    "\n",
    "x4_train = np.concatenate((X_train4[:samples_new_train], y_train4[:samples_new_train].reshape(-1,1)), axis=1)\n",
    "x_retrain_2 = np.concatenate((x4_train[:memory_size], x_retrain))\n",
    "\n",
    "np.random.shuffle(x_retrain_2)\n",
    "\n",
    "ss.partial_fit(x_retrain_2[:memory_size+samples_new_train, :-1])\n",
    "ht.partial_fit(ss.transform(x_retrain_2[:,:-1]), x_retrain_2[:,-1])"
   ],
   "metadata": {
    "collapsed": false,
    "pycharm": {
     "name": "#%%\n"
    }
   }
  },
  {
   "cell_type": "code",
   "execution_count": 366,
   "outputs": [],
   "source": [
    "#data_ds3_normal_t1_original\n",
    "data_test = dict_ds['data_ds3_normal_t2_original'][50000:51000]\n",
    "y_ref = [0]*1000\n",
    "\n",
    "r = ht.predict_proba(ss.transform(data_test))\n",
    "#r"
   ],
   "metadata": {
    "collapsed": false,
    "pycharm": {
     "name": "#%%\n"
    }
   }
  },
  {
   "cell_type": "code",
   "execution_count": 365,
   "outputs": [
    {
     "data": {
      "text/plain": "array([[  0,   0,   0,   0,   0],\n       [  0,   0,   0,   0,   0],\n       [896,   1,   1, 101,   1],\n       [  0,   0,   0,   0,   0],\n       [  0,   0,   0,   0,   0]], dtype=int64)"
     },
     "execution_count": 365,
     "metadata": {},
     "output_type": "execute_result"
    }
   ],
   "source": [
    "y_hat = []\n",
    "phi = .75\n",
    "\n",
    "for n in r:\n",
    "    if n[1] >= phi:\n",
    "        y_hat.append(1)\n",
    "    elif n[2] >= phi:\n",
    "        y_hat.append(2)\n",
    "    elif n[3] >= phi:\n",
    "        y_hat.append(3)\n",
    "    elif n[4] >= phi:\n",
    "        y_hat.append(4)\n",
    "    else:\n",
    "        y_hat.append(0)\n",
    "\n",
    "y_hat[990] = 0\n",
    "y_hat[991] = 1\n",
    "y_hat[992] = 2\n",
    "y_hat[993] = 3\n",
    "y_hat[994] = 4\n",
    "\n",
    "confusion_matrix(y_ref,y_hat)"
   ],
   "metadata": {
    "collapsed": false,
    "pycharm": {
     "name": "#%%\n"
    }
   }
  }
 ],
 "metadata": {
  "kernelspec": {
   "display_name": "Python 3",
   "language": "python",
   "name": "python3"
  },
  "language_info": {
   "codemirror_mode": {
    "name": "ipython",
    "version": 2
   },
   "file_extension": ".py",
   "mimetype": "text/x-python",
   "name": "python",
   "nbconvert_exporter": "python",
   "pygments_lexer": "ipython2",
   "version": "2.7.6"
  }
 },
 "nbformat": 4,
 "nbformat_minor": 0
}