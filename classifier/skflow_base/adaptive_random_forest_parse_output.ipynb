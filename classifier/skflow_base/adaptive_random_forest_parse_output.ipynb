{
 "cells": [
  {
   "cell_type": "markdown",
   "source": [
    "- LOAD BASE FILES\n",
    "- CONVERT TO 2Hz\n",
    "- FIND BEST NETWORK"
   ],
   "metadata": {
    "collapsed": false
   }
  },
  {
   "cell_type": "code",
   "execution_count": 1,
   "outputs": [],
   "source": [
    "from math import floor\n",
    "import numpy as np\n",
    "import pandas as pd"
   ],
   "metadata": {
    "collapsed": false,
    "pycharm": {
     "name": "#%%\n"
    }
   }
  },
  {
   "cell_type": "code",
   "execution_count": 2,
   "outputs": [],
   "source": [
    "cols = ['arch',\n",
    "        'F1_NONE', 'F1_F1', 'F1_F2', 'F1_F3',\n",
    "        'F2_NONE', 'F2_F1', 'F2_F2', 'F2_F3',\n",
    "        'F3_NONE', 'F3_F1', 'F3_F2', 'F3_F3',\n",
    "        'F4_NONE', 'F4_F1', 'F4_F2', 'F4_F3',\n",
    "        'N1_NONE', 'N1_F1', 'N1_F2', 'N1_F3',\n",
    "        'N2_NONE', 'N2_F1', 'N2_F2', 'N2_F3',\n",
    "\n",
    "        'RET_F1_NONE', 'RET_F1_F1', 'RET_F1_F2', 'RET_F1_F3',\n",
    "        'RET_F2_NONE', 'RET_F2_F1', 'RET_F2_F2', 'RET_F2_F3',\n",
    "        'RET_F3_NONE', 'RET_F3_F1', 'RET_F3_F2', 'RET_F3_F3',\n",
    "        'RET_F4_NONE', 'RET_F4_F1', 'RET_F4_F2', 'RET_F4_F3',\n",
    "        'RET_N1_NONE', 'RET_N1_F1', 'RET_N1_F2', 'RET_N1_F3',\n",
    "        'RET_N2_NONE', 'RET_N2_F1', 'RET_N2_F2', 'RET_N2_F3']\n",
    "\n",
    "columns = {x:k for k,x in enumerate(cols)}\n",
    "\n",
    "numbered_columns = cols[1:]"
   ],
   "metadata": {
    "collapsed": false,
    "pycharm": {
     "name": "#%%\n"
    }
   }
  },
  {
   "cell_type": "code",
   "execution_count": 7,
   "outputs": [],
   "source": [
    "'''\n",
    "NOTE THAT THE \"NORMAL 2\" PATTERN COULD BE OUT OF PATTERN. REQUIRED 2 LINES as 2x2 array. IF THIS HAPPENED, MUST BE MANUALLY CONVERTED TO THE REQUIRED PATTERN AS BELOW!\n",
    "\n",
    "REQUIRED\n",
    "[[1. 0.]\n",
    " [0. 0.]]\n",
    "\n",
    "OUT OF PATTERN\n",
    "[[1.]]\n",
    "'''\n",
    "\n",
    "with open('./outputs/output_adaptive_random_forest_skflow_dr_3-ts_0.8-lf_1-limit_500-wl_10 (6).txt') as f:\n",
    "    lines = f.readlines()\n",
    "\n",
    "height = 49\n",
    "times = floor(len(lines)/height)\n",
    "\n",
    "output = pd.DataFrame(np.zeros((times, len(columns))), columns=columns)\n",
    "\n",
    "for k, column_name in enumerate(columns):\n",
    "    column_init_position = columns[column_name]\n",
    "\n",
    "    for time in np.arange(0, times):\n",
    "        line_number = column_init_position+(time*height)\n",
    "        value = lines[line_number].rstrip(\"\\n\")\n",
    "\n",
    "        if (column_name in numbered_columns):\n",
    "            value = float(value)\n",
    "\n",
    "        output.iloc[time,k] = value\n",
    "\n",
    "f.close()"
   ],
   "metadata": {
    "collapsed": false,
    "pycharm": {
     "name": "#%%\n"
    }
   }
  },
  {
   "cell_type": "code",
   "execution_count": 9,
   "outputs": [],
   "source": [
    "q1 = output.query('F1_F1 > 0 and F2_F2 > 0 and RET_F1_F1 > 0 and RET_F2_F2 > 0')"
   ],
   "metadata": {
    "collapsed": false,
    "pycharm": {
     "name": "#%%\n"
    }
   }
  }
 ],
 "metadata": {
  "kernelspec": {
   "display_name": "Python 3",
   "language": "python",
   "name": "python3"
  },
  "language_info": {
   "codemirror_mode": {
    "name": "ipython",
    "version": 2
   },
   "file_extension": ".py",
   "mimetype": "text/x-python",
   "name": "python",
   "nbconvert_exporter": "python",
   "pygments_lexer": "ipython2",
   "version": "2.7.6"
  }
 },
 "nbformat": 4,
 "nbformat_minor": 0
}