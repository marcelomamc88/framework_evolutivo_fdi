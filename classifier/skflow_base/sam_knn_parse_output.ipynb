{
 "cells": [
  {
   "cell_type": "code",
   "execution_count": 1,
   "metadata": {
    "pycharm": {
     "name": "#%%\n"
    }
   },
   "outputs": [],
   "source": [
    "from math import floor\n",
    "import numpy as np\n",
    "import pandas as pd"
   ]
  },
  {
   "cell_type": "code",
   "execution_count": 2,
   "metadata": {
    "pycharm": {
     "name": "#%%\n"
    }
   },
   "outputs": [],
   "source": [
    "cols = ['arch',\n",
    "        'F1_NONE', 'F1_F1', 'F1_F2', 'F1_F3', 'F1_F4',\n",
    "        'F2_NONE', 'F2_F1', 'F2_F2', 'F2_F3', 'F2_F4',\n",
    "        'F3_NONE', 'F3_F1', 'F3_F2', 'F3_F3', 'F3_F4',\n",
    "        'F4_NONE', 'F4_F1', 'F4_F2', 'F4_F3', 'F4_F4',\n",
    "        'N1_NONE', 'N1_F1', 'N1_F2', 'N1_F3', 'N1_F4',\n",
    "        'N2_NONE', 'N2_F1', 'N2_F2', 'N2_F3', 'N2_F4',\n",
    "\n",
    "        'RET_F1_NONE', 'RET_F1_F1', 'RET_F1_F2', 'RET_F1_F3', 'RET_F1_F4',\n",
    "        'RET_F2_NONE', 'RET_F2_F1', 'RET_F2_F2', 'RET_F2_F3', 'RET_F2_F4',\n",
    "        'RET_F3_NONE', 'RET_F3_F1', 'RET_F3_F2', 'RET_F3_F3', 'RET_F3_F4',\n",
    "        'RET_F4_NONE', 'RET_F4_F1', 'RET_F4_F2', 'RET_F4_F3', 'RET_F4_F4',\n",
    "        'RET_N1_NONE', 'RET_N1_F1', 'RET_N1_F2', 'RET_N1_F3', 'RET_N1_F4',\n",
    "        'RET_N2_NONE', 'RET_N2_F1', 'RET_N2_F2', 'RET_N2_F3', 'RET_N2_F4',\n",
    "\n",
    "        'RET2_F1_NONE', 'RET2_F1_F1', 'RET2_F1_F2', 'RET2_F1_F3', 'RET2_F1_F4',\n",
    "        'RET2_F2_NONE', 'RET2_F2_F1', 'RET2_F2_F2', 'RET2_F2_F3', 'RET2_F2_F4',\n",
    "        'RET2_F3_NONE', 'RET2_F3_F1', 'RET2_F3_F2', 'RET2_F3_F3', 'RET2_F3_F4',\n",
    "        'RET2_F4_NONE', 'RET2_F4_F1', 'RET2_F4_F2', 'RET2_F4_F3', 'RET2_F4_F4',\n",
    "        'RET2_N1_NONE', 'RET2_N1_F1', 'RET2_N1_F2', 'RET2_N1_F3', 'RET2_N1_F4',\n",
    "        'RET2_N2_NONE', 'RET2_N2_F1', 'RET2_N2_F2', 'RET2_N2_F3', 'RET2_N2_F4']\n",
    "\n",
    "columns = {x:k for k,x in enumerate(cols)}\n",
    "\n",
    "numbered_columns = cols[1:]"
   ]
  },
  {
   "cell_type": "code",
   "execution_count": 3,
   "metadata": {
    "pycharm": {
     "name": "#%%\n"
    }
   },
   "outputs": [],
   "source": [
    "'''\n",
    "NOTE THAT THE \"NORMAL 2\" PATTERN COULD BE OUT OF PATTERN. REQUIRED 2 LINES as 2x2 array. IF THIS HAPPENED, MUST BE MANUALLY CONVERTED TO THE REQUIRED PATTERN AS BELOW!\n",
    "\n",
    "REQUIRED\n",
    "[[1. 0.]\n",
    " [0. 0.]]\n",
    "\n",
    "OUT OF PATTERN\n",
    "[[1.]]\n",
    "'''\n",
    "\n",
    "with open('./outputs/output_samknn_skflow_dr_2-ts_0.8-lf_1-limit_500-wl_1df.txt') as f:\n",
    "    lines = f.readlines()\n",
    "\n",
    "height = 91\n",
    "times = floor(len(lines)/height)\n",
    "\n",
    "output = pd.DataFrame(np.zeros((times, len(columns))), columns=columns)\n",
    "\n",
    "for k, column_name in enumerate(columns):\n",
    "    column_init_position = columns[column_name]\n",
    "\n",
    "    for time in np.arange(0, times):\n",
    "        line_number = column_init_position+(time*height)\n",
    "        value = lines[line_number].rstrip(\"\\n\")\n",
    "\n",
    "        if (column_name in numbered_columns):\n",
    "            value = float(value)\n",
    "\n",
    "        output.iloc[time,k] = value\n",
    "\n",
    "f.close()"
   ]
  },
  {
   "cell_type": "code",
   "execution_count": 6,
   "metadata": {
    "pycharm": {
     "name": "#%%\n"
    }
   },
   "outputs": [
    {
     "data": {
      "text/plain": "(8, 91)"
     },
     "execution_count": 6,
     "metadata": {},
     "output_type": "execute_result"
    }
   ],
   "source": [
    "q1 = output.query('F1_F1 > 80 and F2_F2 > 80 and F3_NONE > 80 and F4_NONE > 80 and RET_F1_F1 > 80 and RET_F2_F2 > 80 and RET_F3_F3 > 80 and RET_F4_NONE > 50 and RET2_F1_F1 > 80 and RET2_F2_F2 > 80 and RET2_F3_F3 > 80 and RET2_F4_F4 > 80 and RET2_N1_NONE > 15 and RET2_N2_NONE > 15')\n",
    "q1.shape"
   ]
  },
  {
   "cell_type": "code",
   "execution_count": 8,
   "metadata": {},
   "outputs": [
    {
     "data": {
      "text/plain": "                                                  arch F1_NONE  F1_F1 F1_F2  \\\n245    SAMKNN 10000 1 5 2 distance maxACC 8000 400 800     1.0   99.0   0.0   \n255  SAMKNN 10000 1 5 2 distance maxACCApprox 8000 ...     0.5   99.5   0.0   \n265     SAMKNN 10000 1 5 2 uniform maxACC 8000 400 800     5.5   94.5   0.0   \n275  SAMKNN 10000 1 5 2 uniform maxACCApprox 8000 4...     5.5   94.5   0.0   \n285    SAMKNN 10000 1 5 5 distance maxACC 8000 400 800    5.25  94.75   0.0   \n295  SAMKNN 10000 1 5 5 distance maxACCApprox 8000 ...    5.25  94.75   0.0   \n305     SAMKNN 10000 1 5 5 uniform maxACC 8000 400 800    1.25  98.75   0.0   \n315  SAMKNN 10000 1 5 5 uniform maxACCApprox 8000 4...     1.0   99.0   0.0   \n\n    F1_F3 F1_F4 F2_NONE F2_F1  F2_F2 F2_F3 F2_F4 F3_NONE F3_F1 F3_F2 F3_F3  \\\n245   0.0   0.0    2.75   0.5  96.75   0.0   0.0    91.0   9.0   0.0   0.0   \n255   0.0   0.0    2.75   0.5  96.75   0.0   0.0    91.0   9.0   0.0   0.0   \n265   0.0   0.0     5.5   0.0   94.5   0.0   0.0   91.25  8.75   0.0   0.0   \n275   0.0   0.0    5.75   0.0  94.25   0.0   0.0   91.75  8.25   0.0   0.0   \n285   0.0   0.0    5.25   0.0  94.75   0.0   0.0   91.25  8.75   0.0   0.0   \n295   0.0   0.0    5.25   0.0  94.75   0.0   0.0   91.25  8.75   0.0   0.0   \n305   0.0   0.0    1.25   0.5  98.25   0.0   0.0    91.0   9.0   0.0   0.0   \n315   0.0   0.0    1.25   0.5  98.25   0.0   0.0    91.0   9.0   0.0   0.0   \n\n    F3_F4 F4_NONE F4_F1 F4_F2 F4_F3 F4_F4 N1_NONE  N1_F1 N1_F2 N1_F3 N1_F4  \\\n245   0.0    99.5   0.5   0.0   0.0   0.0   31.25  68.75   0.0   0.0   0.0   \n255   0.0    99.5   0.5   0.0   0.0   0.0   31.25  68.75   0.0   0.0   0.0   \n265   0.0   100.0   0.0   0.0   0.0   0.0    31.5   68.5   0.0   0.0   0.0   \n275   0.0   100.0   0.0   0.0   0.0   0.0    31.5   68.5   0.0   0.0   0.0   \n285   0.0   100.0   0.0   0.0   0.0   0.0    31.5   68.5   0.0   0.0   0.0   \n295   0.0   100.0   0.0   0.0   0.0   0.0    31.5   68.5   0.0   0.0   0.0   \n305   0.0    99.5   0.5   0.0   0.0   0.0    30.0   70.0   0.0   0.0   0.0   \n315   0.0    99.5   0.5   0.0   0.0   0.0    30.0   70.0   0.0   0.0   0.0   \n\n    N2_NONE  N2_F1 N2_F2 N2_F3 N2_F4 RET_F1_NONE RET_F1_F1 RET_F1_F2  \\\n245   16.75  83.25   0.0   0.0   0.0         0.5      99.5       0.0   \n255   16.75  83.25   0.0   0.0   0.0         0.5      99.5       0.0   \n265   17.25  82.75   0.0   0.0   0.0         0.5      99.5       0.0   \n275   17.25  82.75   0.0   0.0   0.0         1.0      99.0       0.0   \n285    17.0   83.0   0.0   0.0   0.0         5.0      95.0       0.0   \n295    17.0   83.0   0.0   0.0   0.0        5.25     94.75       0.0   \n305   16.75  83.25   0.0   0.0   0.0        2.25     97.75       0.0   \n315   16.75  83.25   0.0   0.0   0.0         2.5      97.5       0.0   \n\n    RET_F1_F3 RET_F1_F4 RET_F2_NONE RET_F2_F1 RET_F2_F2 RET_F2_F3 RET_F2_F4  \\\n245       0.0       0.0        1.25       0.5     98.25       0.0       0.0   \n255       0.0       0.0        1.25       0.5     98.25       0.0       0.0   \n265       0.0       0.0        1.25       0.5     98.25       0.0       0.0   \n275       0.0       0.0        1.25       0.5     98.25       0.0       0.0   \n285       0.0       0.0         4.0       0.0      96.0       0.0       0.0   \n295       0.0       0.0         4.5       0.0      95.5       0.0       0.0   \n305       0.0       0.0        1.25       0.5     98.25       0.0       0.0   \n315       0.0       0.0        1.25       0.5     98.25       0.0       0.0   \n\n    RET_F3_NONE RET_F3_F1 RET_F3_F2 RET_F3_F3 RET_F3_F4 RET_F4_NONE RET_F4_F1  \\\n245         6.5      0.25       0.0     93.25       0.0        99.5       0.5   \n255         6.5      0.25       0.0     93.25       0.0        99.5       0.5   \n265        11.5      0.25       0.0     88.25       0.0        99.5       0.5   \n275        10.5      0.25       0.0     89.25       0.0        99.5       0.5   \n285       11.25       0.0       0.0     88.75       0.0       100.0       0.0   \n295       11.75       0.0       0.0     88.25       0.0       100.0       0.0   \n305       11.25      0.25       0.0      88.5       0.0        99.5       0.5   \n315        11.5      0.25       0.0     88.25       0.0        99.5       0.5   \n\n    RET_F4_F2 RET_F4_F3 RET_F4_F4 RET_N1_NONE RET_N1_F1 RET_N1_F2 RET_N1_F3  \\\n245       0.0       0.0       0.0       29.75      64.5       0.0      5.75   \n255       0.0       0.0       0.0        30.0      64.5       0.0       5.5   \n265       0.0       0.0       0.0       31.25     68.75       0.0       0.0   \n275       0.0       0.0       0.0        30.0      70.0       0.0       0.0   \n285       0.0       0.0       0.0       29.75      64.0       0.0      6.25   \n295       0.0       0.0       0.0       29.75     64.25       0.0       6.0   \n305       0.0       0.0       0.0       28.25      65.5       0.0      6.25   \n315       0.0       0.0       0.0        28.5     65.75       0.0      5.75   \n\n    RET_N1_F4 RET_N2_NONE RET_N2_F1 RET_N2_F2 RET_N2_F3 RET_N2_F4  \\\n245       0.0       16.25     83.25       0.0       0.5       0.0   \n255       0.0       16.25     83.25       0.0       0.5       0.0   \n265       0.0       16.75     83.25       0.0       0.0       0.0   \n275       0.0       16.75     83.25       0.0       0.0       0.0   \n285       0.0        16.5      83.0       0.0       0.5       0.0   \n295       0.0        16.5      83.0       0.0       0.5       0.0   \n305       0.0       16.25     83.25       0.0       0.5       0.0   \n315       0.0       16.25     83.25       0.0       0.5       0.0   \n\n    RET2_F1_NONE RET2_F1_F1 RET2_F1_F2 RET2_F1_F3 RET2_F1_F4 RET2_F2_NONE  \\\n245          1.5       98.5        0.0        0.0        0.0         1.75   \n255          1.5       98.5        0.0        0.0        0.0         1.75   \n265          0.5       99.5        0.0        0.0        0.0         1.25   \n275          1.0       99.0        0.0        0.0        0.0         1.25   \n285          5.0       95.0        0.0        0.0        0.0          4.5   \n295          5.5       94.5        0.0        0.0        0.0          4.5   \n305          5.5       94.5        0.0        0.0        0.0         5.25   \n315         5.75      94.25        0.0        0.0        0.0         5.25   \n\n    RET2_F2_F1 RET2_F2_F2 RET2_F2_F3 RET2_F2_F4 RET2_F3_NONE RET2_F3_F1  \\\n245        0.0      98.25        0.0        0.0         5.75        0.0   \n255        0.0      98.25        0.0        0.0         5.75        0.0   \n265        0.5      98.25        0.0        0.0          5.5       0.25   \n275        0.5      98.25        0.0        0.0          5.5       0.25   \n285        0.0       95.5        0.0        0.0         8.25        0.0   \n295        0.0       95.5        0.0        0.0         8.25        0.0   \n305        0.0      94.75        0.0        0.0          8.5        0.0   \n315        0.0      94.75        0.0        0.0          8.5        0.0   \n\n    RET2_F3_F2 RET2_F3_F3 RET2_F3_F4 RET2_F4_NONE RET2_F4_F1 RET2_F4_F2  \\\n245        0.0      94.25        0.0         8.75        0.0        0.0   \n255        0.0      94.25        0.0         8.75        0.0        0.0   \n265        0.0      94.25        0.0         8.25        0.5        0.0   \n275        0.0      94.25        0.0         8.25        0.5        0.0   \n285        0.0      91.75        0.0        10.25        0.0        0.0   \n295        0.0      91.75        0.0        10.25        0.0        0.0   \n305        0.0       91.5        0.0        10.25        0.0        0.0   \n315        0.0       91.5        0.0         9.75        0.0        0.0   \n\n    RET2_F4_F3 RET2_F4_F4 RET2_N1_NONE RET2_N1_F1 RET2_N1_F2 RET2_N1_F3  \\\n245        0.0      91.25        28.75       64.0        0.0       7.25   \n255        0.0      91.25        28.75       64.0        0.0       7.25   \n265        0.0      91.25         29.0      64.25        0.0       6.75   \n275        0.0      91.25        27.75       65.5        0.0       6.75   \n285        0.0      89.75        28.75       64.0        0.0       7.25   \n295        0.0      89.75        28.75       64.0        0.0       7.25   \n305        0.0      89.75        28.75       64.0        0.0       7.25   \n315        0.0      90.25        28.75       64.0        0.0       7.25   \n\n    RET2_N1_F4 RET2_N2_NONE RET2_N2_F1 RET2_N2_F2 RET2_N2_F3 RET2_N2_F4  \n245        0.0         16.0       83.0        0.0        1.0        0.0  \n255        0.0         16.0       83.0        0.0        1.0        0.0  \n265        0.0        15.75      83.25        0.0        1.0        0.0  \n275        0.0        15.75      83.25        0.0        1.0        0.0  \n285        0.0         16.0       83.0        0.0        1.0        0.0  \n295        0.0         16.0       83.0        0.0        1.0        0.0  \n305        0.0         16.0       83.0        0.0        1.0        0.0  \n315        0.0         16.0       83.0        0.0        1.0        0.0  ",
      "text/html": "<div>\n<style scoped>\n    .dataframe tbody tr th:only-of-type {\n        vertical-align: middle;\n    }\n\n    .dataframe tbody tr th {\n        vertical-align: top;\n    }\n\n    .dataframe thead th {\n        text-align: right;\n    }\n</style>\n<table border=\"1\" class=\"dataframe\">\n  <thead>\n    <tr style=\"text-align: right;\">\n      <th></th>\n      <th>arch</th>\n      <th>F1_NONE</th>\n      <th>F1_F1</th>\n      <th>F1_F2</th>\n      <th>F1_F3</th>\n      <th>F1_F4</th>\n      <th>F2_NONE</th>\n      <th>F2_F1</th>\n      <th>F2_F2</th>\n      <th>F2_F3</th>\n      <th>F2_F4</th>\n      <th>F3_NONE</th>\n      <th>F3_F1</th>\n      <th>F3_F2</th>\n      <th>F3_F3</th>\n      <th>F3_F4</th>\n      <th>F4_NONE</th>\n      <th>F4_F1</th>\n      <th>F4_F2</th>\n      <th>F4_F3</th>\n      <th>F4_F4</th>\n      <th>N1_NONE</th>\n      <th>N1_F1</th>\n      <th>N1_F2</th>\n      <th>N1_F3</th>\n      <th>N1_F4</th>\n      <th>N2_NONE</th>\n      <th>N2_F1</th>\n      <th>N2_F2</th>\n      <th>N2_F3</th>\n      <th>N2_F4</th>\n      <th>RET_F1_NONE</th>\n      <th>RET_F1_F1</th>\n      <th>RET_F1_F2</th>\n      <th>RET_F1_F3</th>\n      <th>RET_F1_F4</th>\n      <th>RET_F2_NONE</th>\n      <th>RET_F2_F1</th>\n      <th>RET_F2_F2</th>\n      <th>RET_F2_F3</th>\n      <th>RET_F2_F4</th>\n      <th>RET_F3_NONE</th>\n      <th>RET_F3_F1</th>\n      <th>RET_F3_F2</th>\n      <th>RET_F3_F3</th>\n      <th>RET_F3_F4</th>\n      <th>RET_F4_NONE</th>\n      <th>RET_F4_F1</th>\n      <th>RET_F4_F2</th>\n      <th>RET_F4_F3</th>\n      <th>RET_F4_F4</th>\n      <th>RET_N1_NONE</th>\n      <th>RET_N1_F1</th>\n      <th>RET_N1_F2</th>\n      <th>RET_N1_F3</th>\n      <th>RET_N1_F4</th>\n      <th>RET_N2_NONE</th>\n      <th>RET_N2_F1</th>\n      <th>RET_N2_F2</th>\n      <th>RET_N2_F3</th>\n      <th>RET_N2_F4</th>\n      <th>RET2_F1_NONE</th>\n      <th>RET2_F1_F1</th>\n      <th>RET2_F1_F2</th>\n      <th>RET2_F1_F3</th>\n      <th>RET2_F1_F4</th>\n      <th>RET2_F2_NONE</th>\n      <th>RET2_F2_F1</th>\n      <th>RET2_F2_F2</th>\n      <th>RET2_F2_F3</th>\n      <th>RET2_F2_F4</th>\n      <th>RET2_F3_NONE</th>\n      <th>RET2_F3_F1</th>\n      <th>RET2_F3_F2</th>\n      <th>RET2_F3_F3</th>\n      <th>RET2_F3_F4</th>\n      <th>RET2_F4_NONE</th>\n      <th>RET2_F4_F1</th>\n      <th>RET2_F4_F2</th>\n      <th>RET2_F4_F3</th>\n      <th>RET2_F4_F4</th>\n      <th>RET2_N1_NONE</th>\n      <th>RET2_N1_F1</th>\n      <th>RET2_N1_F2</th>\n      <th>RET2_N1_F3</th>\n      <th>RET2_N1_F4</th>\n      <th>RET2_N2_NONE</th>\n      <th>RET2_N2_F1</th>\n      <th>RET2_N2_F2</th>\n      <th>RET2_N2_F3</th>\n      <th>RET2_N2_F4</th>\n    </tr>\n  </thead>\n  <tbody>\n    <tr>\n      <th>245</th>\n      <td>SAMKNN 10000 1 5 2 distance maxACC 8000 400 800</td>\n      <td>1.0</td>\n      <td>99.0</td>\n      <td>0.0</td>\n      <td>0.0</td>\n      <td>0.0</td>\n      <td>2.75</td>\n      <td>0.5</td>\n      <td>96.75</td>\n      <td>0.0</td>\n      <td>0.0</td>\n      <td>91.0</td>\n      <td>9.0</td>\n      <td>0.0</td>\n      <td>0.0</td>\n      <td>0.0</td>\n      <td>99.5</td>\n      <td>0.5</td>\n      <td>0.0</td>\n      <td>0.0</td>\n      <td>0.0</td>\n      <td>31.25</td>\n      <td>68.75</td>\n      <td>0.0</td>\n      <td>0.0</td>\n      <td>0.0</td>\n      <td>16.75</td>\n      <td>83.25</td>\n      <td>0.0</td>\n      <td>0.0</td>\n      <td>0.0</td>\n      <td>0.5</td>\n      <td>99.5</td>\n      <td>0.0</td>\n      <td>0.0</td>\n      <td>0.0</td>\n      <td>1.25</td>\n      <td>0.5</td>\n      <td>98.25</td>\n      <td>0.0</td>\n      <td>0.0</td>\n      <td>6.5</td>\n      <td>0.25</td>\n      <td>0.0</td>\n      <td>93.25</td>\n      <td>0.0</td>\n      <td>99.5</td>\n      <td>0.5</td>\n      <td>0.0</td>\n      <td>0.0</td>\n      <td>0.0</td>\n      <td>29.75</td>\n      <td>64.5</td>\n      <td>0.0</td>\n      <td>5.75</td>\n      <td>0.0</td>\n      <td>16.25</td>\n      <td>83.25</td>\n      <td>0.0</td>\n      <td>0.5</td>\n      <td>0.0</td>\n      <td>1.5</td>\n      <td>98.5</td>\n      <td>0.0</td>\n      <td>0.0</td>\n      <td>0.0</td>\n      <td>1.75</td>\n      <td>0.0</td>\n      <td>98.25</td>\n      <td>0.0</td>\n      <td>0.0</td>\n      <td>5.75</td>\n      <td>0.0</td>\n      <td>0.0</td>\n      <td>94.25</td>\n      <td>0.0</td>\n      <td>8.75</td>\n      <td>0.0</td>\n      <td>0.0</td>\n      <td>0.0</td>\n      <td>91.25</td>\n      <td>28.75</td>\n      <td>64.0</td>\n      <td>0.0</td>\n      <td>7.25</td>\n      <td>0.0</td>\n      <td>16.0</td>\n      <td>83.0</td>\n      <td>0.0</td>\n      <td>1.0</td>\n      <td>0.0</td>\n    </tr>\n    <tr>\n      <th>255</th>\n      <td>SAMKNN 10000 1 5 2 distance maxACCApprox 8000 ...</td>\n      <td>0.5</td>\n      <td>99.5</td>\n      <td>0.0</td>\n      <td>0.0</td>\n      <td>0.0</td>\n      <td>2.75</td>\n      <td>0.5</td>\n      <td>96.75</td>\n      <td>0.0</td>\n      <td>0.0</td>\n      <td>91.0</td>\n      <td>9.0</td>\n      <td>0.0</td>\n      <td>0.0</td>\n      <td>0.0</td>\n      <td>99.5</td>\n      <td>0.5</td>\n      <td>0.0</td>\n      <td>0.0</td>\n      <td>0.0</td>\n      <td>31.25</td>\n      <td>68.75</td>\n      <td>0.0</td>\n      <td>0.0</td>\n      <td>0.0</td>\n      <td>16.75</td>\n      <td>83.25</td>\n      <td>0.0</td>\n      <td>0.0</td>\n      <td>0.0</td>\n      <td>0.5</td>\n      <td>99.5</td>\n      <td>0.0</td>\n      <td>0.0</td>\n      <td>0.0</td>\n      <td>1.25</td>\n      <td>0.5</td>\n      <td>98.25</td>\n      <td>0.0</td>\n      <td>0.0</td>\n      <td>6.5</td>\n      <td>0.25</td>\n      <td>0.0</td>\n      <td>93.25</td>\n      <td>0.0</td>\n      <td>99.5</td>\n      <td>0.5</td>\n      <td>0.0</td>\n      <td>0.0</td>\n      <td>0.0</td>\n      <td>30.0</td>\n      <td>64.5</td>\n      <td>0.0</td>\n      <td>5.5</td>\n      <td>0.0</td>\n      <td>16.25</td>\n      <td>83.25</td>\n      <td>0.0</td>\n      <td>0.5</td>\n      <td>0.0</td>\n      <td>1.5</td>\n      <td>98.5</td>\n      <td>0.0</td>\n      <td>0.0</td>\n      <td>0.0</td>\n      <td>1.75</td>\n      <td>0.0</td>\n      <td>98.25</td>\n      <td>0.0</td>\n      <td>0.0</td>\n      <td>5.75</td>\n      <td>0.0</td>\n      <td>0.0</td>\n      <td>94.25</td>\n      <td>0.0</td>\n      <td>8.75</td>\n      <td>0.0</td>\n      <td>0.0</td>\n      <td>0.0</td>\n      <td>91.25</td>\n      <td>28.75</td>\n      <td>64.0</td>\n      <td>0.0</td>\n      <td>7.25</td>\n      <td>0.0</td>\n      <td>16.0</td>\n      <td>83.0</td>\n      <td>0.0</td>\n      <td>1.0</td>\n      <td>0.0</td>\n    </tr>\n    <tr>\n      <th>265</th>\n      <td>SAMKNN 10000 1 5 2 uniform maxACC 8000 400 800</td>\n      <td>5.5</td>\n      <td>94.5</td>\n      <td>0.0</td>\n      <td>0.0</td>\n      <td>0.0</td>\n      <td>5.5</td>\n      <td>0.0</td>\n      <td>94.5</td>\n      <td>0.0</td>\n      <td>0.0</td>\n      <td>91.25</td>\n      <td>8.75</td>\n      <td>0.0</td>\n      <td>0.0</td>\n      <td>0.0</td>\n      <td>100.0</td>\n      <td>0.0</td>\n      <td>0.0</td>\n      <td>0.0</td>\n      <td>0.0</td>\n      <td>31.5</td>\n      <td>68.5</td>\n      <td>0.0</td>\n      <td>0.0</td>\n      <td>0.0</td>\n      <td>17.25</td>\n      <td>82.75</td>\n      <td>0.0</td>\n      <td>0.0</td>\n      <td>0.0</td>\n      <td>0.5</td>\n      <td>99.5</td>\n      <td>0.0</td>\n      <td>0.0</td>\n      <td>0.0</td>\n      <td>1.25</td>\n      <td>0.5</td>\n      <td>98.25</td>\n      <td>0.0</td>\n      <td>0.0</td>\n      <td>11.5</td>\n      <td>0.25</td>\n      <td>0.0</td>\n      <td>88.25</td>\n      <td>0.0</td>\n      <td>99.5</td>\n      <td>0.5</td>\n      <td>0.0</td>\n      <td>0.0</td>\n      <td>0.0</td>\n      <td>31.25</td>\n      <td>68.75</td>\n      <td>0.0</td>\n      <td>0.0</td>\n      <td>0.0</td>\n      <td>16.75</td>\n      <td>83.25</td>\n      <td>0.0</td>\n      <td>0.0</td>\n      <td>0.0</td>\n      <td>0.5</td>\n      <td>99.5</td>\n      <td>0.0</td>\n      <td>0.0</td>\n      <td>0.0</td>\n      <td>1.25</td>\n      <td>0.5</td>\n      <td>98.25</td>\n      <td>0.0</td>\n      <td>0.0</td>\n      <td>5.5</td>\n      <td>0.25</td>\n      <td>0.0</td>\n      <td>94.25</td>\n      <td>0.0</td>\n      <td>8.25</td>\n      <td>0.5</td>\n      <td>0.0</td>\n      <td>0.0</td>\n      <td>91.25</td>\n      <td>29.0</td>\n      <td>64.25</td>\n      <td>0.0</td>\n      <td>6.75</td>\n      <td>0.0</td>\n      <td>15.75</td>\n      <td>83.25</td>\n      <td>0.0</td>\n      <td>1.0</td>\n      <td>0.0</td>\n    </tr>\n    <tr>\n      <th>275</th>\n      <td>SAMKNN 10000 1 5 2 uniform maxACCApprox 8000 4...</td>\n      <td>5.5</td>\n      <td>94.5</td>\n      <td>0.0</td>\n      <td>0.0</td>\n      <td>0.0</td>\n      <td>5.75</td>\n      <td>0.0</td>\n      <td>94.25</td>\n      <td>0.0</td>\n      <td>0.0</td>\n      <td>91.75</td>\n      <td>8.25</td>\n      <td>0.0</td>\n      <td>0.0</td>\n      <td>0.0</td>\n      <td>100.0</td>\n      <td>0.0</td>\n      <td>0.0</td>\n      <td>0.0</td>\n      <td>0.0</td>\n      <td>31.5</td>\n      <td>68.5</td>\n      <td>0.0</td>\n      <td>0.0</td>\n      <td>0.0</td>\n      <td>17.25</td>\n      <td>82.75</td>\n      <td>0.0</td>\n      <td>0.0</td>\n      <td>0.0</td>\n      <td>1.0</td>\n      <td>99.0</td>\n      <td>0.0</td>\n      <td>0.0</td>\n      <td>0.0</td>\n      <td>1.25</td>\n      <td>0.5</td>\n      <td>98.25</td>\n      <td>0.0</td>\n      <td>0.0</td>\n      <td>10.5</td>\n      <td>0.25</td>\n      <td>0.0</td>\n      <td>89.25</td>\n      <td>0.0</td>\n      <td>99.5</td>\n      <td>0.5</td>\n      <td>0.0</td>\n      <td>0.0</td>\n      <td>0.0</td>\n      <td>30.0</td>\n      <td>70.0</td>\n      <td>0.0</td>\n      <td>0.0</td>\n      <td>0.0</td>\n      <td>16.75</td>\n      <td>83.25</td>\n      <td>0.0</td>\n      <td>0.0</td>\n      <td>0.0</td>\n      <td>1.0</td>\n      <td>99.0</td>\n      <td>0.0</td>\n      <td>0.0</td>\n      <td>0.0</td>\n      <td>1.25</td>\n      <td>0.5</td>\n      <td>98.25</td>\n      <td>0.0</td>\n      <td>0.0</td>\n      <td>5.5</td>\n      <td>0.25</td>\n      <td>0.0</td>\n      <td>94.25</td>\n      <td>0.0</td>\n      <td>8.25</td>\n      <td>0.5</td>\n      <td>0.0</td>\n      <td>0.0</td>\n      <td>91.25</td>\n      <td>27.75</td>\n      <td>65.5</td>\n      <td>0.0</td>\n      <td>6.75</td>\n      <td>0.0</td>\n      <td>15.75</td>\n      <td>83.25</td>\n      <td>0.0</td>\n      <td>1.0</td>\n      <td>0.0</td>\n    </tr>\n    <tr>\n      <th>285</th>\n      <td>SAMKNN 10000 1 5 5 distance maxACC 8000 400 800</td>\n      <td>5.25</td>\n      <td>94.75</td>\n      <td>0.0</td>\n      <td>0.0</td>\n      <td>0.0</td>\n      <td>5.25</td>\n      <td>0.0</td>\n      <td>94.75</td>\n      <td>0.0</td>\n      <td>0.0</td>\n      <td>91.25</td>\n      <td>8.75</td>\n      <td>0.0</td>\n      <td>0.0</td>\n      <td>0.0</td>\n      <td>100.0</td>\n      <td>0.0</td>\n      <td>0.0</td>\n      <td>0.0</td>\n      <td>0.0</td>\n      <td>31.5</td>\n      <td>68.5</td>\n      <td>0.0</td>\n      <td>0.0</td>\n      <td>0.0</td>\n      <td>17.0</td>\n      <td>83.0</td>\n      <td>0.0</td>\n      <td>0.0</td>\n      <td>0.0</td>\n      <td>5.0</td>\n      <td>95.0</td>\n      <td>0.0</td>\n      <td>0.0</td>\n      <td>0.0</td>\n      <td>4.0</td>\n      <td>0.0</td>\n      <td>96.0</td>\n      <td>0.0</td>\n      <td>0.0</td>\n      <td>11.25</td>\n      <td>0.0</td>\n      <td>0.0</td>\n      <td>88.75</td>\n      <td>0.0</td>\n      <td>100.0</td>\n      <td>0.0</td>\n      <td>0.0</td>\n      <td>0.0</td>\n      <td>0.0</td>\n      <td>29.75</td>\n      <td>64.0</td>\n      <td>0.0</td>\n      <td>6.25</td>\n      <td>0.0</td>\n      <td>16.5</td>\n      <td>83.0</td>\n      <td>0.0</td>\n      <td>0.5</td>\n      <td>0.0</td>\n      <td>5.0</td>\n      <td>95.0</td>\n      <td>0.0</td>\n      <td>0.0</td>\n      <td>0.0</td>\n      <td>4.5</td>\n      <td>0.0</td>\n      <td>95.5</td>\n      <td>0.0</td>\n      <td>0.0</td>\n      <td>8.25</td>\n      <td>0.0</td>\n      <td>0.0</td>\n      <td>91.75</td>\n      <td>0.0</td>\n      <td>10.25</td>\n      <td>0.0</td>\n      <td>0.0</td>\n      <td>0.0</td>\n      <td>89.75</td>\n      <td>28.75</td>\n      <td>64.0</td>\n      <td>0.0</td>\n      <td>7.25</td>\n      <td>0.0</td>\n      <td>16.0</td>\n      <td>83.0</td>\n      <td>0.0</td>\n      <td>1.0</td>\n      <td>0.0</td>\n    </tr>\n    <tr>\n      <th>295</th>\n      <td>SAMKNN 10000 1 5 5 distance maxACCApprox 8000 ...</td>\n      <td>5.25</td>\n      <td>94.75</td>\n      <td>0.0</td>\n      <td>0.0</td>\n      <td>0.0</td>\n      <td>5.25</td>\n      <td>0.0</td>\n      <td>94.75</td>\n      <td>0.0</td>\n      <td>0.0</td>\n      <td>91.25</td>\n      <td>8.75</td>\n      <td>0.0</td>\n      <td>0.0</td>\n      <td>0.0</td>\n      <td>100.0</td>\n      <td>0.0</td>\n      <td>0.0</td>\n      <td>0.0</td>\n      <td>0.0</td>\n      <td>31.5</td>\n      <td>68.5</td>\n      <td>0.0</td>\n      <td>0.0</td>\n      <td>0.0</td>\n      <td>17.0</td>\n      <td>83.0</td>\n      <td>0.0</td>\n      <td>0.0</td>\n      <td>0.0</td>\n      <td>5.25</td>\n      <td>94.75</td>\n      <td>0.0</td>\n      <td>0.0</td>\n      <td>0.0</td>\n      <td>4.5</td>\n      <td>0.0</td>\n      <td>95.5</td>\n      <td>0.0</td>\n      <td>0.0</td>\n      <td>11.75</td>\n      <td>0.0</td>\n      <td>0.0</td>\n      <td>88.25</td>\n      <td>0.0</td>\n      <td>100.0</td>\n      <td>0.0</td>\n      <td>0.0</td>\n      <td>0.0</td>\n      <td>0.0</td>\n      <td>29.75</td>\n      <td>64.25</td>\n      <td>0.0</td>\n      <td>6.0</td>\n      <td>0.0</td>\n      <td>16.5</td>\n      <td>83.0</td>\n      <td>0.0</td>\n      <td>0.5</td>\n      <td>0.0</td>\n      <td>5.5</td>\n      <td>94.5</td>\n      <td>0.0</td>\n      <td>0.0</td>\n      <td>0.0</td>\n      <td>4.5</td>\n      <td>0.0</td>\n      <td>95.5</td>\n      <td>0.0</td>\n      <td>0.0</td>\n      <td>8.25</td>\n      <td>0.0</td>\n      <td>0.0</td>\n      <td>91.75</td>\n      <td>0.0</td>\n      <td>10.25</td>\n      <td>0.0</td>\n      <td>0.0</td>\n      <td>0.0</td>\n      <td>89.75</td>\n      <td>28.75</td>\n      <td>64.0</td>\n      <td>0.0</td>\n      <td>7.25</td>\n      <td>0.0</td>\n      <td>16.0</td>\n      <td>83.0</td>\n      <td>0.0</td>\n      <td>1.0</td>\n      <td>0.0</td>\n    </tr>\n    <tr>\n      <th>305</th>\n      <td>SAMKNN 10000 1 5 5 uniform maxACC 8000 400 800</td>\n      <td>1.25</td>\n      <td>98.75</td>\n      <td>0.0</td>\n      <td>0.0</td>\n      <td>0.0</td>\n      <td>1.25</td>\n      <td>0.5</td>\n      <td>98.25</td>\n      <td>0.0</td>\n      <td>0.0</td>\n      <td>91.0</td>\n      <td>9.0</td>\n      <td>0.0</td>\n      <td>0.0</td>\n      <td>0.0</td>\n      <td>99.5</td>\n      <td>0.5</td>\n      <td>0.0</td>\n      <td>0.0</td>\n      <td>0.0</td>\n      <td>30.0</td>\n      <td>70.0</td>\n      <td>0.0</td>\n      <td>0.0</td>\n      <td>0.0</td>\n      <td>16.75</td>\n      <td>83.25</td>\n      <td>0.0</td>\n      <td>0.0</td>\n      <td>0.0</td>\n      <td>2.25</td>\n      <td>97.75</td>\n      <td>0.0</td>\n      <td>0.0</td>\n      <td>0.0</td>\n      <td>1.25</td>\n      <td>0.5</td>\n      <td>98.25</td>\n      <td>0.0</td>\n      <td>0.0</td>\n      <td>11.25</td>\n      <td>0.25</td>\n      <td>0.0</td>\n      <td>88.5</td>\n      <td>0.0</td>\n      <td>99.5</td>\n      <td>0.5</td>\n      <td>0.0</td>\n      <td>0.0</td>\n      <td>0.0</td>\n      <td>28.25</td>\n      <td>65.5</td>\n      <td>0.0</td>\n      <td>6.25</td>\n      <td>0.0</td>\n      <td>16.25</td>\n      <td>83.25</td>\n      <td>0.0</td>\n      <td>0.5</td>\n      <td>0.0</td>\n      <td>5.5</td>\n      <td>94.5</td>\n      <td>0.0</td>\n      <td>0.0</td>\n      <td>0.0</td>\n      <td>5.25</td>\n      <td>0.0</td>\n      <td>94.75</td>\n      <td>0.0</td>\n      <td>0.0</td>\n      <td>8.5</td>\n      <td>0.0</td>\n      <td>0.0</td>\n      <td>91.5</td>\n      <td>0.0</td>\n      <td>10.25</td>\n      <td>0.0</td>\n      <td>0.0</td>\n      <td>0.0</td>\n      <td>89.75</td>\n      <td>28.75</td>\n      <td>64.0</td>\n      <td>0.0</td>\n      <td>7.25</td>\n      <td>0.0</td>\n      <td>16.0</td>\n      <td>83.0</td>\n      <td>0.0</td>\n      <td>1.0</td>\n      <td>0.0</td>\n    </tr>\n    <tr>\n      <th>315</th>\n      <td>SAMKNN 10000 1 5 5 uniform maxACCApprox 8000 4...</td>\n      <td>1.0</td>\n      <td>99.0</td>\n      <td>0.0</td>\n      <td>0.0</td>\n      <td>0.0</td>\n      <td>1.25</td>\n      <td>0.5</td>\n      <td>98.25</td>\n      <td>0.0</td>\n      <td>0.0</td>\n      <td>91.0</td>\n      <td>9.0</td>\n      <td>0.0</td>\n      <td>0.0</td>\n      <td>0.0</td>\n      <td>99.5</td>\n      <td>0.5</td>\n      <td>0.0</td>\n      <td>0.0</td>\n      <td>0.0</td>\n      <td>30.0</td>\n      <td>70.0</td>\n      <td>0.0</td>\n      <td>0.0</td>\n      <td>0.0</td>\n      <td>16.75</td>\n      <td>83.25</td>\n      <td>0.0</td>\n      <td>0.0</td>\n      <td>0.0</td>\n      <td>2.5</td>\n      <td>97.5</td>\n      <td>0.0</td>\n      <td>0.0</td>\n      <td>0.0</td>\n      <td>1.25</td>\n      <td>0.5</td>\n      <td>98.25</td>\n      <td>0.0</td>\n      <td>0.0</td>\n      <td>11.5</td>\n      <td>0.25</td>\n      <td>0.0</td>\n      <td>88.25</td>\n      <td>0.0</td>\n      <td>99.5</td>\n      <td>0.5</td>\n      <td>0.0</td>\n      <td>0.0</td>\n      <td>0.0</td>\n      <td>28.5</td>\n      <td>65.75</td>\n      <td>0.0</td>\n      <td>5.75</td>\n      <td>0.0</td>\n      <td>16.25</td>\n      <td>83.25</td>\n      <td>0.0</td>\n      <td>0.5</td>\n      <td>0.0</td>\n      <td>5.75</td>\n      <td>94.25</td>\n      <td>0.0</td>\n      <td>0.0</td>\n      <td>0.0</td>\n      <td>5.25</td>\n      <td>0.0</td>\n      <td>94.75</td>\n      <td>0.0</td>\n      <td>0.0</td>\n      <td>8.5</td>\n      <td>0.0</td>\n      <td>0.0</td>\n      <td>91.5</td>\n      <td>0.0</td>\n      <td>9.75</td>\n      <td>0.0</td>\n      <td>0.0</td>\n      <td>0.0</td>\n      <td>90.25</td>\n      <td>28.75</td>\n      <td>64.0</td>\n      <td>0.0</td>\n      <td>7.25</td>\n      <td>0.0</td>\n      <td>16.0</td>\n      <td>83.0</td>\n      <td>0.0</td>\n      <td>1.0</td>\n      <td>0.0</td>\n    </tr>\n  </tbody>\n</table>\n</div>"
     },
     "execution_count": 8,
     "metadata": {},
     "output_type": "execute_result"
    }
   ],
   "source": [
    "pd.set_option('display.max_column', None,'display.max_rows', None)\n",
    "q1.T.T"
   ]
  }
 ],
 "metadata": {
  "kernelspec": {
   "display_name": "Python 3",
   "language": "python",
   "name": "python3"
  },
  "language_info": {
   "codemirror_mode": {
    "name": "ipython",
    "version": 3
   },
   "file_extension": ".py",
   "mimetype": "text/x-python",
   "name": "python",
   "nbconvert_exporter": "python",
   "pygments_lexer": "ipython3",
   "version": "3.7.6"
  }
 },
 "nbformat": 4,
 "nbformat_minor": 1
}