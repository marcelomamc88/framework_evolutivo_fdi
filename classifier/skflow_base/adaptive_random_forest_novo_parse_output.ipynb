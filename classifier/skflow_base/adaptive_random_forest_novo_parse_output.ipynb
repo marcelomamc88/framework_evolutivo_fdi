{
 "cells": [
  {
   "cell_type": "code",
   "execution_count": 1,
   "metadata": {
    "pycharm": {
     "name": "#%%\n"
    }
   },
   "outputs": [],
   "source": [
    "from math import floor\n",
    "import numpy as np\n",
    "import pandas as pd"
   ]
  },
  {
   "cell_type": "code",
   "execution_count": 2,
   "metadata": {
    "pycharm": {
     "name": "#%%\n"
    }
   },
   "outputs": [],
   "source": [
    "cols = ['arch',\n",
    "        'F1_NONE', 'F1_F1', 'F1_F2', 'F1_F3', 'F1_F4',\n",
    "        'F2_NONE', 'F2_F1', 'F2_F2', 'F2_F3', 'F2_F4',\n",
    "        'F3_NONE', 'F3_F1', 'F3_F2', 'F3_F3', 'F3_F4',\n",
    "        'F4_NONE', 'F4_F1', 'F4_F2', 'F4_F3', 'F4_F4',\n",
    "        'N1_NONE', 'N1_F1', 'N1_F2', 'N1_F3', 'N1_F4',\n",
    "        'N2_NONE', 'N2_F1', 'N2_F2', 'N2_F3', 'N2_F4',\n",
    "\n",
    "        'RET_F1_NONE', 'RET_F1_F1', 'RET_F1_F2', 'RET_F1_F3', 'RET_F1_F4',\n",
    "        'RET_F2_NONE', 'RET_F2_F1', 'RET_F2_F2', 'RET_F2_F3', 'RET_F2_F4',\n",
    "        'RET_F3_NONE', 'RET_F3_F1', 'RET_F3_F2', 'RET_F3_F3', 'RET_F3_F4',\n",
    "        'RET_F4_NONE', 'RET_F4_F1', 'RET_F4_F2', 'RET_F4_F3', 'RET_F4_F4',\n",
    "        'RET_N1_NONE', 'RET_N1_F1', 'RET_N1_F2', 'RET_N1_F3', 'RET_N1_F4',\n",
    "        'RET_N2_NONE', 'RET_N2_F1', 'RET_N2_F2', 'RET_N2_F3', 'RET_N2_F4',\n",
    "\n",
    "        'RET2_F1_NONE', 'RET2_F1_F1', 'RET2_F1_F2', 'RET2_F1_F3', 'RET2_F1_F4',\n",
    "        'RET2_F2_NONE', 'RET2_F2_F1', 'RET2_F2_F2', 'RET2_F2_F3', 'RET2_F2_F4',\n",
    "        'RET2_F3_NONE', 'RET2_F3_F1', 'RET2_F3_F2', 'RET2_F3_F3', 'RET2_F3_F4',\n",
    "        'RET2_F4_NONE', 'RET2_F4_F1', 'RET2_F4_F2', 'RET2_F4_F3', 'RET2_F4_F4',\n",
    "        'RET2_N1_NONE', 'RET2_N1_F1', 'RET2_N1_F2', 'RET2_N1_F3', 'RET2_N1_F4',\n",
    "        'RET2_N2_NONE', 'RET2_N2_F1', 'RET2_N2_F2', 'RET2_N2_F3', 'RET2_N2_F4']\n",
    "\n",
    "columns = {x:k for k,x in enumerate(cols)}\n",
    "\n",
    "numbered_columns = cols[1:]"
   ]
  },
  {
   "cell_type": "code",
   "execution_count": 3,
   "metadata": {
    "pycharm": {
     "name": "#%%\n"
    }
   },
   "outputs": [],
   "source": [
    "'''\n",
    "NOTE THAT THE \"NORMAL 2\" PATTERN COULD BE OUT OF PATTERN. REQUIRED 2 LINES as 2x2 array. IF THIS HAPPENED, MUST BE MANUALLY CONVERTED TO THE REQUIRED PATTERN AS BELOW!\n",
    "\n",
    "REQUIRED\n",
    "[[1. 0.]\n",
    " [0. 0.]]\n",
    "\n",
    "OUT OF PATTERN\n",
    "[[1.]]\n",
    "'''\n",
    "\n",
    "with open('./outputs/output_adaptive_random_forest_skflow_NOVO_dr_3-ts_0.8-lf_1-limit_500-wl_10.txt') as f:\n",
    "    lines = f.readlines()\n",
    "\n",
    "height = 91\n",
    "times = floor(len(lines)/height)\n",
    "\n",
    "output = pd.DataFrame(np.zeros((times, len(columns))), columns=columns)\n",
    "\n",
    "for k, column_name in enumerate(columns):\n",
    "    column_init_position = columns[column_name]\n",
    "\n",
    "    for time in np.arange(0, times):\n",
    "        line_number = column_init_position+(time*height)\n",
    "        value = lines[line_number].rstrip(\"\\n\")\n",
    "\n",
    "        if (column_name in numbered_columns):\n",
    "            value = float(value)\n",
    "\n",
    "        output.iloc[time,k] = value\n",
    "\n",
    "f.close()"
   ]
  },
  {
   "cell_type": "code",
   "execution_count": 10,
   "metadata": {
    "pycharm": {
     "name": "#%%\n"
    }
   },
   "outputs": [
    {
     "data": {
      "text/plain": "(2, 91)"
     },
     "execution_count": 10,
     "metadata": {},
     "output_type": "execute_result"
    }
   ],
   "source": [
    "q1 = output.query('F1_F1 > 60 and F2_F2 > 60 and F3_NONE > 60 and F4_NONE > 60 and RET_F1_F1 > 60 and RET_F2_F2 > 60 and RET_F3_F3 > 60 and RET_F4_NONE > 50 and RET2_F1_F1 > 50 and RET2_F2_F2 > 50 and RET2_F3_F3 > 50 and RET2_F4_F4 > 50 ')\n",
    "q1.shape"
   ]
  },
  {
   "cell_type": "code",
   "execution_count": 11,
   "metadata": {},
   "outputs": [
    {
     "data": {
      "text/plain": "                                                  arch F1_NONE   F1_F1 F1_F2  \\\n147  SAMKNN 10000 2 2 5 distance maxACC 10000 800 1000    14.5    85.5   0.0   \n171   SAMKNN 10000 2 2 5 uniform maxACC 10000 800 1000  12.875  87.125   0.0   \n\n    F1_F3 F1_F4 F2_NONE F2_F1   F2_F2 F2_F3 F2_F4 F3_NONE   F3_F1 F3_F2 F3_F3  \\\n147   0.0   0.0    13.0   0.0    87.0   0.0   0.0  74.625  25.375   0.0   0.0   \n171   0.0   0.0  11.625   0.0  88.375   0.0   0.0   73.25   26.75   0.0   0.0   \n\n    F3_F4 F4_NONE F4_F1 F4_F2 F4_F3 F4_F4 N1_NONE   N1_F1 N1_F2 N1_F3 N1_F4  \\\n147   0.0   100.0   0.0   0.0   0.0   0.0  21.375  78.625   0.0   0.0   0.0   \n171   0.0   100.0   0.0   0.0   0.0   0.0  15.625  84.375   0.0   0.0   0.0   \n\n    N2_NONE   N2_F1 N2_F2 N2_F3 N2_F4 RET_F1_NONE RET_F1_F1 RET_F1_F2  \\\n147  19.375  80.625   0.0   0.0   0.0        12.5      87.5       0.0   \n171    14.0    86.0   0.0   0.0   0.0        12.0      88.0       0.0   \n\n    RET_F1_F3 RET_F1_F4 RET_F2_NONE RET_F2_F1 RET_F2_F2 RET_F2_F3 RET_F2_F4  \\\n147       0.0       0.0        12.0       0.0      88.0       0.0       0.0   \n171       0.0       0.0      11.125       0.0    88.875       0.0       0.0   \n\n    RET_F3_NONE RET_F3_F1 RET_F3_F2 RET_F3_F3 RET_F3_F4 RET_F4_NONE RET_F4_F1  \\\n147      31.625       8.0       0.0    60.375       0.0       100.0       0.0   \n171      21.625     16.75       0.0    61.625       0.0       100.0       0.0   \n\n    RET_F4_F2 RET_F4_F3 RET_F4_F4 RET_N1_NONE RET_N1_F1 RET_N1_F2 RET_N1_F3  \\\n147       0.0       0.0       0.0      17.375    82.625       0.0       0.0   \n171       0.0       0.0       0.0        16.0      84.0       0.0       0.0   \n\n    RET_N1_F4 RET_N2_NONE RET_N2_F1 RET_N2_F2 RET_N2_F3 RET_N2_F4  \\\n147       0.0      14.625    85.375       0.0       0.0       0.0   \n171       0.0        15.0      85.0       0.0       0.0       0.0   \n\n    RET2_F1_NONE RET2_F1_F1 RET2_F1_F2 RET2_F1_F3 RET2_F1_F4 RET2_F2_NONE  \\\n147       13.875     86.125        0.0        0.0        0.0        13.25   \n171        15.25      84.75        0.0        0.0        0.0         12.5   \n\n    RET2_F2_F1 RET2_F2_F2 RET2_F2_F3 RET2_F2_F4 RET2_F3_NONE RET2_F3_F1  \\\n147        0.0      86.75        0.0        0.0        15.25      0.875   \n171        0.0       87.5        0.0        0.0         18.5      8.625   \n\n    RET2_F3_F2 RET2_F3_F3 RET2_F3_F4 RET2_F4_NONE RET2_F4_F1 RET2_F4_F2  \\\n147        0.0     83.875        0.0         18.0        0.0        0.0   \n171        0.0     72.875        0.0         22.5        0.0        0.0   \n\n    RET2_F4_F3 RET2_F4_F4 RET2_N1_NONE RET2_N1_F1 RET2_N1_F2 RET2_N1_F3  \\\n147       0.25      81.75        17.75      82.25        0.0        0.0   \n171        3.0       74.5       19.375     80.625        0.0        0.0   \n\n    RET2_N1_F4 RET2_N2_NONE RET2_N2_F1 RET2_N2_F2 RET2_N2_F3 RET2_N2_F4  \n147        0.0         15.0       85.0        0.0        0.0        0.0  \n171        0.0         17.5       82.5        0.0        0.0        0.0  ",
      "text/html": "<div>\n<style scoped>\n    .dataframe tbody tr th:only-of-type {\n        vertical-align: middle;\n    }\n\n    .dataframe tbody tr th {\n        vertical-align: top;\n    }\n\n    .dataframe thead th {\n        text-align: right;\n    }\n</style>\n<table border=\"1\" class=\"dataframe\">\n  <thead>\n    <tr style=\"text-align: right;\">\n      <th></th>\n      <th>arch</th>\n      <th>F1_NONE</th>\n      <th>F1_F1</th>\n      <th>F1_F2</th>\n      <th>F1_F3</th>\n      <th>F1_F4</th>\n      <th>F2_NONE</th>\n      <th>F2_F1</th>\n      <th>F2_F2</th>\n      <th>F2_F3</th>\n      <th>F2_F4</th>\n      <th>F3_NONE</th>\n      <th>F3_F1</th>\n      <th>F3_F2</th>\n      <th>F3_F3</th>\n      <th>F3_F4</th>\n      <th>F4_NONE</th>\n      <th>F4_F1</th>\n      <th>F4_F2</th>\n      <th>F4_F3</th>\n      <th>F4_F4</th>\n      <th>N1_NONE</th>\n      <th>N1_F1</th>\n      <th>N1_F2</th>\n      <th>N1_F3</th>\n      <th>N1_F4</th>\n      <th>N2_NONE</th>\n      <th>N2_F1</th>\n      <th>N2_F2</th>\n      <th>N2_F3</th>\n      <th>N2_F4</th>\n      <th>RET_F1_NONE</th>\n      <th>RET_F1_F1</th>\n      <th>RET_F1_F2</th>\n      <th>RET_F1_F3</th>\n      <th>RET_F1_F4</th>\n      <th>RET_F2_NONE</th>\n      <th>RET_F2_F1</th>\n      <th>RET_F2_F2</th>\n      <th>RET_F2_F3</th>\n      <th>RET_F2_F4</th>\n      <th>RET_F3_NONE</th>\n      <th>RET_F3_F1</th>\n      <th>RET_F3_F2</th>\n      <th>RET_F3_F3</th>\n      <th>RET_F3_F4</th>\n      <th>RET_F4_NONE</th>\n      <th>RET_F4_F1</th>\n      <th>RET_F4_F2</th>\n      <th>RET_F4_F3</th>\n      <th>RET_F4_F4</th>\n      <th>RET_N1_NONE</th>\n      <th>RET_N1_F1</th>\n      <th>RET_N1_F2</th>\n      <th>RET_N1_F3</th>\n      <th>RET_N1_F4</th>\n      <th>RET_N2_NONE</th>\n      <th>RET_N2_F1</th>\n      <th>RET_N2_F2</th>\n      <th>RET_N2_F3</th>\n      <th>RET_N2_F4</th>\n      <th>RET2_F1_NONE</th>\n      <th>RET2_F1_F1</th>\n      <th>RET2_F1_F2</th>\n      <th>RET2_F1_F3</th>\n      <th>RET2_F1_F4</th>\n      <th>RET2_F2_NONE</th>\n      <th>RET2_F2_F1</th>\n      <th>RET2_F2_F2</th>\n      <th>RET2_F2_F3</th>\n      <th>RET2_F2_F4</th>\n      <th>RET2_F3_NONE</th>\n      <th>RET2_F3_F1</th>\n      <th>RET2_F3_F2</th>\n      <th>RET2_F3_F3</th>\n      <th>RET2_F3_F4</th>\n      <th>RET2_F4_NONE</th>\n      <th>RET2_F4_F1</th>\n      <th>RET2_F4_F2</th>\n      <th>RET2_F4_F3</th>\n      <th>RET2_F4_F4</th>\n      <th>RET2_N1_NONE</th>\n      <th>RET2_N1_F1</th>\n      <th>RET2_N1_F2</th>\n      <th>RET2_N1_F3</th>\n      <th>RET2_N1_F4</th>\n      <th>RET2_N2_NONE</th>\n      <th>RET2_N2_F1</th>\n      <th>RET2_N2_F2</th>\n      <th>RET2_N2_F3</th>\n      <th>RET2_N2_F4</th>\n    </tr>\n  </thead>\n  <tbody>\n    <tr>\n      <th>147</th>\n      <td>SAMKNN 10000 2 2 5 distance maxACC 10000 800 1000</td>\n      <td>14.5</td>\n      <td>85.5</td>\n      <td>0.0</td>\n      <td>0.0</td>\n      <td>0.0</td>\n      <td>13.0</td>\n      <td>0.0</td>\n      <td>87.0</td>\n      <td>0.0</td>\n      <td>0.0</td>\n      <td>74.625</td>\n      <td>25.375</td>\n      <td>0.0</td>\n      <td>0.0</td>\n      <td>0.0</td>\n      <td>100.0</td>\n      <td>0.0</td>\n      <td>0.0</td>\n      <td>0.0</td>\n      <td>0.0</td>\n      <td>21.375</td>\n      <td>78.625</td>\n      <td>0.0</td>\n      <td>0.0</td>\n      <td>0.0</td>\n      <td>19.375</td>\n      <td>80.625</td>\n      <td>0.0</td>\n      <td>0.0</td>\n      <td>0.0</td>\n      <td>12.5</td>\n      <td>87.5</td>\n      <td>0.0</td>\n      <td>0.0</td>\n      <td>0.0</td>\n      <td>12.0</td>\n      <td>0.0</td>\n      <td>88.0</td>\n      <td>0.0</td>\n      <td>0.0</td>\n      <td>31.625</td>\n      <td>8.0</td>\n      <td>0.0</td>\n      <td>60.375</td>\n      <td>0.0</td>\n      <td>100.0</td>\n      <td>0.0</td>\n      <td>0.0</td>\n      <td>0.0</td>\n      <td>0.0</td>\n      <td>17.375</td>\n      <td>82.625</td>\n      <td>0.0</td>\n      <td>0.0</td>\n      <td>0.0</td>\n      <td>14.625</td>\n      <td>85.375</td>\n      <td>0.0</td>\n      <td>0.0</td>\n      <td>0.0</td>\n      <td>13.875</td>\n      <td>86.125</td>\n      <td>0.0</td>\n      <td>0.0</td>\n      <td>0.0</td>\n      <td>13.25</td>\n      <td>0.0</td>\n      <td>86.75</td>\n      <td>0.0</td>\n      <td>0.0</td>\n      <td>15.25</td>\n      <td>0.875</td>\n      <td>0.0</td>\n      <td>83.875</td>\n      <td>0.0</td>\n      <td>18.0</td>\n      <td>0.0</td>\n      <td>0.0</td>\n      <td>0.25</td>\n      <td>81.75</td>\n      <td>17.75</td>\n      <td>82.25</td>\n      <td>0.0</td>\n      <td>0.0</td>\n      <td>0.0</td>\n      <td>15.0</td>\n      <td>85.0</td>\n      <td>0.0</td>\n      <td>0.0</td>\n      <td>0.0</td>\n    </tr>\n    <tr>\n      <th>171</th>\n      <td>SAMKNN 10000 2 2 5 uniform maxACC 10000 800 1000</td>\n      <td>12.875</td>\n      <td>87.125</td>\n      <td>0.0</td>\n      <td>0.0</td>\n      <td>0.0</td>\n      <td>11.625</td>\n      <td>0.0</td>\n      <td>88.375</td>\n      <td>0.0</td>\n      <td>0.0</td>\n      <td>73.25</td>\n      <td>26.75</td>\n      <td>0.0</td>\n      <td>0.0</td>\n      <td>0.0</td>\n      <td>100.0</td>\n      <td>0.0</td>\n      <td>0.0</td>\n      <td>0.0</td>\n      <td>0.0</td>\n      <td>15.625</td>\n      <td>84.375</td>\n      <td>0.0</td>\n      <td>0.0</td>\n      <td>0.0</td>\n      <td>14.0</td>\n      <td>86.0</td>\n      <td>0.0</td>\n      <td>0.0</td>\n      <td>0.0</td>\n      <td>12.0</td>\n      <td>88.0</td>\n      <td>0.0</td>\n      <td>0.0</td>\n      <td>0.0</td>\n      <td>11.125</td>\n      <td>0.0</td>\n      <td>88.875</td>\n      <td>0.0</td>\n      <td>0.0</td>\n      <td>21.625</td>\n      <td>16.75</td>\n      <td>0.0</td>\n      <td>61.625</td>\n      <td>0.0</td>\n      <td>100.0</td>\n      <td>0.0</td>\n      <td>0.0</td>\n      <td>0.0</td>\n      <td>0.0</td>\n      <td>16.0</td>\n      <td>84.0</td>\n      <td>0.0</td>\n      <td>0.0</td>\n      <td>0.0</td>\n      <td>15.0</td>\n      <td>85.0</td>\n      <td>0.0</td>\n      <td>0.0</td>\n      <td>0.0</td>\n      <td>15.25</td>\n      <td>84.75</td>\n      <td>0.0</td>\n      <td>0.0</td>\n      <td>0.0</td>\n      <td>12.5</td>\n      <td>0.0</td>\n      <td>87.5</td>\n      <td>0.0</td>\n      <td>0.0</td>\n      <td>18.5</td>\n      <td>8.625</td>\n      <td>0.0</td>\n      <td>72.875</td>\n      <td>0.0</td>\n      <td>22.5</td>\n      <td>0.0</td>\n      <td>0.0</td>\n      <td>3.0</td>\n      <td>74.5</td>\n      <td>19.375</td>\n      <td>80.625</td>\n      <td>0.0</td>\n      <td>0.0</td>\n      <td>0.0</td>\n      <td>17.5</td>\n      <td>82.5</td>\n      <td>0.0</td>\n      <td>0.0</td>\n      <td>0.0</td>\n    </tr>\n  </tbody>\n</table>\n</div>"
     },
     "execution_count": 11,
     "metadata": {},
     "output_type": "execute_result"
    }
   ],
   "source": [
    "pd.set_option('display.max_column', None,'display.max_rows', None)\n",
    "q1.T.T"
   ]
  }
 ],
 "metadata": {
  "kernelspec": {
   "display_name": "Python 3",
   "language": "python",
   "name": "python3"
  },
  "language_info": {
   "codemirror_mode": {
    "name": "ipython",
    "version": 3
   },
   "file_extension": ".py",
   "mimetype": "text/x-python",
   "name": "python",
   "nbconvert_exporter": "python",
   "pygments_lexer": "ipython3",
   "version": "3.7.6"
  }
 },
 "nbformat": 4,
 "nbformat_minor": 1
}