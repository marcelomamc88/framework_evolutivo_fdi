{
 "cells": [
  {
   "cell_type": "markdown",
   "source": [
    "- LOAD BASE FILES\n",
    "- CONVERT TO 2Hz\n",
    "- FIND BEST NETWORK"
   ],
   "metadata": {
    "collapsed": false
   }
  },
  {
   "cell_type": "code",
   "execution_count": 6,
   "outputs": [],
   "source": [
    "from math import floor, ceil\n",
    "import numpy as np\n",
    "import pandas as pd\n",
    "from sklearn.metrics import *"
   ],
   "metadata": {
    "collapsed": false,
    "pycharm": {
     "name": "#%%\n"
    }
   }
  },
  {
   "cell_type": "code",
   "execution_count": 2,
   "metadata": {
    "collapsed": true
   },
   "outputs": [],
   "source": [
    "columns = {'arch':0, 'normal_1_acc':2, 'normal_2_acc':4, 'f1_acc':6, 'f2_acc':8, 'f3_acc':10, 'f4_acc':12}\n",
    "\n",
    "numbered_columns = ['normal_1_acc', 'normal_2_acc', 'f1_acc', 'f2_acc', 'f3_acc', 'f4_acc']"
   ]
  },
  {
   "cell_type": "code",
   "execution_count": 4,
   "outputs": [],
   "source": [
    "'''\n",
    "NOTE THAT THE \"NORMAL 2\" PATTERN COULD BE OUT OF PATTERN. REQUIRED 2 LINES as 2x2 array. IF THIS HAPPENED, MUST BE MANUALLY CONVERTED TO THE REQUIRED PATTERN AS BELOW!\n",
    "\n",
    "REQUIRED\n",
    "[[1. 0.]\n",
    " [0. 0.]]\n",
    "\n",
    "OUT OF PATTERN\n",
    "[[1.]]\n",
    "'''\n",
    "\n",
    "with open('./outputs/output_baseline_dr_2-ts_0.8-lf_1-limit_5000-wl_1.txt') as f:\n",
    "    lines = f.readlines()\n",
    "\n",
    "height = 13\n",
    "times = floor(len(lines)/height)\n",
    "\n",
    "output = pd.DataFrame(np.zeros((times, len(columns))), columns=columns)\n",
    "\n",
    "for k, column_name in enumerate(columns):\n",
    "    column_init_position = columns[column_name]\n",
    "\n",
    "    for time in np.arange(0, times):\n",
    "        line_number = column_init_position+(time*height)\n",
    "        value = lines[line_number].rstrip(\"\\n\")\n",
    "\n",
    "        if (column_name in numbered_columns):\n",
    "            value = float(value)\n",
    "\n",
    "        output.iloc[time,k] = value\n",
    "\n",
    "f.close()"
   ],
   "metadata": {
    "collapsed": false,
    "pycharm": {
     "name": "#%%\n"
    }
   }
  },
  {
   "cell_type": "code",
   "execution_count": 11,
   "outputs": [],
   "source": [
    "q = output.copy()\n",
    "samples = [36000, 5000, 5000, 5000, 5000, 5000]\n",
    "\n",
    "q['samples_n1'] = q['normal_1_acc'] * samples[0] / 100\n",
    "q['samples_n2'] = q['normal_2_acc'] * samples[1] / 100\n",
    "q['samples_f1'] = q['f1_acc'] * samples[2] / 100\n",
    "q['samples_f2'] = q['f2_acc'] * samples[3] / 100\n",
    "q['samples_f3'] = q['f3_acc'] * samples[4] / 100\n",
    "q['samples_f4'] = q['f4_acc'] * samples[5] / 100\n",
    "\n",
    "idx = []\n",
    "for i, e in q.iterrows():\n",
    "    idx.append(i)\n",
    "\n",
    "q1 = q.loc[idx]\n",
    "\n",
    "for n, e in q1.iterrows():\n",
    "    tp = ceil(e['samples_n1']) + ceil(e['samples_n2'])\n",
    "    fp = samples[0] + samples[1] - tp\n",
    "    tn = ceil(e['samples_f1']) + ceil(e['samples_f2']) + ceil(e['samples_f3']) + ceil(e['samples_f4'])\n",
    "    fn = samples[2] + samples[3] + samples[4] + samples[5] - tn\n",
    "\n",
    "    y_true = [0] * (samples[0]+samples[1]) + [1] * (samples[2]+samples[3]+samples[4]+samples[5])\n",
    "    y_pred = [0] * tp + [1] * fp + [0] * fn + [1] * tn\n",
    "\n",
    "    q1.loc[n, 'ba'] = balanced_accuracy_score(y_true, y_pred)\n",
    "    q1.loc[n, 'precision'] = precision_score(y_true, y_pred)\n",
    "    q1.loc[n, 'recall'] = recall_score(y_true, y_pred) #(tn / (tn+fn))\n",
    "    q1.loc[n, 'specificity'] = tn / (tn+fp)"
   ],
   "metadata": {
    "collapsed": false,
    "pycharm": {
     "name": "#%%\n"
    }
   }
  },
  {
   "cell_type": "code",
   "execution_count": 8,
   "outputs": [],
   "source": [
    "q1.iloc[:, :].to_pickle('outputs/lof_resultado.pkl')"
   ],
   "metadata": {
    "collapsed": false,
    "pycharm": {
     "name": "#%%\n"
    }
   }
  }
 ],
 "metadata": {
  "kernelspec": {
   "display_name": "Python 3",
   "language": "python",
   "name": "python3"
  },
  "language_info": {
   "codemirror_mode": {
    "name": "ipython",
    "version": 2
   },
   "file_extension": ".py",
   "mimetype": "text/x-python",
   "name": "python",
   "nbconvert_exporter": "python",
   "pygments_lexer": "ipython2",
   "version": "2.7.6"
  }
 },
 "nbformat": 4,
 "nbformat_minor": 0
}