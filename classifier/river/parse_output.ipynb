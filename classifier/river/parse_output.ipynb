{
 "cells": [
  {
   "cell_type": "markdown",
   "source": [
    "- LOAD BASE FILES\n",
    "- CONVERT TO 2Hz\n",
    "- FIND BEST NETWORK"
   ],
   "metadata": {
    "collapsed": false
   }
  },
  {
   "cell_type": "code",
   "execution_count": 3,
   "outputs": [],
   "source": [
    "from math import floor\n",
    "import numpy as np\n",
    "import pandas as pd"
   ],
   "metadata": {
    "collapsed": false,
    "pycharm": {
     "name": "#%%\n"
    }
   }
  },
  {
   "cell_type": "code",
   "execution_count": 5,
   "metadata": {
    "collapsed": true
   },
   "outputs": [],
   "source": [
    "columns = {'arch':0, 'normal_1_acc':2, 'normal_2_acc':4, 'f1_acc':6, 'f2_acc':8, 'f3_acc':10, 'f4_acc':12}\n",
    "\n",
    "numbered_columns = ['normal_1_acc', 'normal_2_acc', 'f1_acc', 'f2_acc', 'f3_acc', 'f4_acc']"
   ]
  },
  {
   "cell_type": "code",
   "execution_count": 10,
   "outputs": [],
   "source": [
    "'''\n",
    "NOTE THAT THE \"NORMAL 2\" PATTERN COULD BE OUT OF PATTERN. REQUIRED 2 LINES as 2x2 array. IF THIS HAPPENED, MUST BE MANUALLY CONVERTED TO THE REQUIRED PATTERN AS BELOW!\n",
    "\n",
    "REQUIRED\n",
    "[[1. 0.]\n",
    " [0. 0.]]\n",
    "\n",
    "OUT OF PATTERN\n",
    "[[1.]]\n",
    "'''\n",
    "\n",
    "with open('./outputs/output_knn_river_dr_3-ts_0.8-lf_1-limit_None-wl_10 (2).txt') as f:\n",
    "    lines = f.readlines()\n",
    "\n",
    "height = 14\n",
    "times = floor(len(lines)/height)\n",
    "\n",
    "output = pd.DataFrame(np.zeros((times, len(columns))), columns=columns)\n",
    "\n",
    "for k, column_name in enumerate(columns):\n",
    "    column_init_position = columns[column_name]\n",
    "\n",
    "    for time in np.arange(0, times):\n",
    "        line_number = column_init_position+(time*height)\n",
    "        value = lines[line_number].rstrip(\"\\n\")\n",
    "\n",
    "        if (column_name in numbered_columns):\n",
    "            value = float(value)\n",
    "\n",
    "        output.iloc[time,k] = value\n",
    "\n",
    "f.close()"
   ],
   "metadata": {
    "collapsed": false,
    "pycharm": {
     "name": "#%%\n"
    }
   }
  },
  {
   "cell_type": "code",
   "execution_count": 18,
   "outputs": [],
   "source": [
    "q1 = output.query('normal_1_acc > 60 and normal_2_acc > 60 and f1_acc > 20 and f3_acc > 50 and f3_acc > 60 and f4_acc > 50')"
   ],
   "metadata": {
    "collapsed": false,
    "pycharm": {
     "name": "#%%\n"
    }
   }
  }
 ],
 "metadata": {
  "kernelspec": {
   "display_name": "Python 3",
   "language": "python",
   "name": "python3"
  },
  "language_info": {
   "codemirror_mode": {
    "name": "ipython",
    "version": 2
   },
   "file_extension": ".py",
   "mimetype": "text/x-python",
   "name": "python",
   "nbconvert_exporter": "python",
   "pygments_lexer": "ipython2",
   "version": "2.7.6"
  }
 },
 "nbformat": 4,
 "nbformat_minor": 0
}