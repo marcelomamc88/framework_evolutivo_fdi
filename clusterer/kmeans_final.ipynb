{
 "cells": [
  {
   "cell_type": "markdown",
   "metadata": {},
   "source": [
    "# Initial"
   ]
  },
  {
   "cell_type": "code",
   "execution_count": 1,
   "metadata": {
    "execution": {
     "iopub.execute_input": "2022-02-14T21:26:27.101004Z",
     "iopub.status.busy": "2022-02-14T21:26:27.10024Z",
     "iopub.status.idle": "2022-02-14T21:27:07.561108Z",
     "shell.execute_reply": "2022-02-14T21:27:07.560314Z",
     "shell.execute_reply.started": "2022-02-14T21:26:27.100971Z"
    }
   },
   "outputs": [],
   "source": [
    "from sklearn.metrics.cluster import v_measure_score, silhouette_score\n",
    "import pandas as pd\n",
    "import numpy as np\n",
    "from sklearn.preprocessing import StandardScaler\n",
    "import time\n",
    "from sklearn.cluster import MiniBatchKMeans\n",
    "import warnings\n",
    "warnings.filterwarnings(\"ignore\")"
   ]
  },
  {
   "cell_type": "code",
   "execution_count": 2,
   "metadata": {
    "execution": {
     "iopub.execute_input": "2022-02-14T21:27:07.592284Z",
     "iopub.status.busy": "2022-02-14T21:27:07.591385Z",
     "iopub.status.idle": "2022-02-14T21:27:07.605392Z",
     "shell.execute_reply": "2022-02-14T21:27:07.60467Z",
     "shell.execute_reply.started": "2022-02-14T21:27:07.592245Z"
    },
    "jupyter": {
     "outputs_hidden": false
    },
    "pycharm": {
     "name": "#%%\n"
    }
   },
   "outputs": [],
   "source": [
    "'''\n",
    "EXTERNAL KERNEL\n",
    "'''\n",
    "google_colab = False\n",
    "kaggle = False\n",
    "\n",
    "'''\n",
    "CUDA\n",
    "'''\n",
    "cuda = False\n",
    "\n",
    "'''\n",
    "DATA REPRESENTATION\n",
    "\n",
    "1 => SINGLE READ | 2 => ADD FEATURES | 3 => WINDOW TO FEATURES\n",
    "'''\n",
    "DATA_REPRESENTATION = 2\n",
    "\n",
    "'''\n",
    "DOWNSAMPLE FACTOR\n",
    "\n",
    "1 => 10hz *original rate* | 2 => 5Hz | 5 => 2Hz | 10 => 1hz\n",
    "'''\n",
    "DOWNSAMPLE_FACTOR = 5\n",
    "\n",
    "'''\n",
    "WINDOWS LENGHT\n",
    "\n",
    "* needs divisor by datapoints target\n",
    "* considering downsample factor = 5\n",
    "\n",
    "1 => WINDOW DISABLED | 2 => 1 second | 4 => 2 seconds | 10 => 5 seconds | 20 => 10 seconds | 200 => 100 seconds *full flight*\n",
    "'''\n",
    "WINDOW_LENGHT =  1\n",
    "\n",
    "\n",
    "'''\n",
    "LIMITADOR\n",
    "\n",
    "Quantity of samples in the execution of the tests.\n",
    "'''\n",
    "LIMITADOR = 500\n",
    "\n",
    "'''\n",
    "LOSS FACTOR [0,1]\n",
    "\n",
    "Ignores outliers in calculating the stats of losses in regenerated data.\n",
    "'''\n",
    "LOSS_FACTOR = 1\n",
    "\n",
    "'''\n",
    "TRAIN_SIZE [0,1]\n",
    "\n",
    "Percentage of samples to be trained\n",
    "'''\n",
    "TRAIN_SIZE = 0.8\n",
    "\n",
    "'''\n",
    "OUTPUT_FILE_NAME\n",
    "\n",
    "File with output results\n",
    "'''\n",
    "OUTPUT_FILE_NAME = 'output_kmeans_ds_dr_' + str(DATA_REPRESENTATION) + '-ts_' + str(TRAIN_SIZE) + '-lf_' + str.replace(str(LOSS_FACTOR), '.', '') + '-limit_' + str(LIMITADOR) + '-wl_' + str(WINDOW_LENGHT) + '.txt'\n",
    "\n",
    "'''\n",
    "PATH_OUTPUTS\n",
    "\n",
    "local : ./outputs/\n",
    "google colab : /content/drive/My Drive/\n",
    "'''\n",
    "if google_colab:\n",
    "    PATH_OUTPUTS = '/content/drive/My Drive/'\n",
    "elif kaggle:    \n",
    "    PATH_OUTPUTS = ''\n",
    "else:\n",
    "    PATH_OUTPUTS = './outputs/'\n",
    "\n",
    "\n",
    "'''\n",
    "PATH_DATASET\n",
    "\n",
    "'''\n",
    "PATH_DATASET = '../dataset/original/'\n",
    "\n",
    "'''\n",
    "FLUSH FILE\n",
    "\n",
    "If output results file is ON\n",
    "'''\n",
    "FLUSH_FILE = False"
   ]
  },
  {
   "cell_type": "code",
   "execution_count": 3,
   "metadata": {
    "execution": {
     "iopub.execute_input": "2022-02-14T21:27:07.607053Z",
     "iopub.status.busy": "2022-02-14T21:27:07.606533Z",
     "iopub.status.idle": "2022-02-14T21:28:08.229783Z",
     "shell.execute_reply": "2022-02-14T21:28:08.227823Z",
     "shell.execute_reply.started": "2022-02-14T21:27:07.607023Z"
    },
    "jupyter": {
     "outputs_hidden": false
    },
    "pycharm": {
     "name": "#%%\n"
    }
   },
   "outputs": [],
   "source": [
    "if google_colab:\n",
    "    !pip install git+https://github.com/online-ml/river --upgrade\n",
    "\n",
    "    from google.colab import drive\n",
    "\n",
    "    drive.mount('/content/drive')\n",
    "    path = '/content/drive/My Drive/ACADÊMICO/MESTRADO/DISSERTAÇÃO/CHAPTERS/5 EXPERIMENTO/dataset/data_representation_1'\n",
    "    dict_ds_original = {\n",
    "        'data_ds3_normal_t1_original' : pd.read_csv(path+'/F16_DS3_normal_t1.csv', header=None),\n",
    "        'data_ds3_normal_t2_original' : pd.read_csv(path+'/F16_DS3_normal_t2.csv', header=None),\n",
    "        'data_ds3_fault1_original' : pd.read_csv(path+'/F16_DS3_fault1_leakage.csv', header=None),\n",
    "        'data_ds3_fault2_original' : pd.read_csv(path+'/F16_DS3_fault2_viscousfriction.csv', header=None),\n",
    "        'data_ds3_fault3_original' : pd.read_csv(path+'/F16_DS3_fault3_compressibility.csv', header=None),\n",
    "        'data_ds3_fault4_original' : pd.read_csv(path+'/F16_DS3_fault4_fixedposition.csv', header=None),\n",
    "    }\n",
    "elif kaggle:\n",
    "    !conda install -y gdown\n",
    "    !gdown https://drive.google.com/u/0/uc?id=1G88okIVmdcgLFlmd7rDRhHvHv98yK3UB\n",
    "    !gdown https://drive.google.com/u/0/uc?id=1fX3utfHMjwKTt7IW4D01bnm-hv88yzrJ \n",
    "    !gdown https://drive.google.com/u/0/uc?id=1yUG3R5zK2AIxtS9Q4Fk-udkKBZeYShgb\n",
    "    !gdown https://drive.google.com/u/0/uc?id=1OBRDtuqNEZ-3Z-q0helWh2xGiAxeLACH\n",
    "    !gdown https://drive.google.com/u/0/uc?id=17oDi60sWYsWHHxzj2aA9m6ARm8zQ81m_\n",
    "    !gdown https://drive.google.com/u/0/uc?id=1jKEK4s5sYJh8PHtpHeV8ABOsHjuB26RA\n",
    "\n",
    "    dict_ds_original = {\n",
    "        'data_ds3_normal_t1_original' : pd.read_csv('F16_DS3_normal_t1.csv', header=None),\n",
    "        'data_ds3_normal_t2_original' : pd.read_csv('F16_DS3_normal_t2.csv', header=None),\n",
    "        'data_ds3_fault1_original' : pd.read_csv('F16_DS3_fault1_leakage.csv', header=None),\n",
    "        'data_ds3_fault2_original' : pd.read_csv('F16_DS3_fault2_viscousfriction.csv', header=None),\n",
    "        'data_ds3_fault3_original' : pd.read_csv('F16_DS3_fault3_compressibility.csv', header=None),\n",
    "        'data_ds3_fault4_original' : pd.read_csv('F16_DS3_fault4_fixedposition.csv', header=None),\n",
    "    }\n",
    "else:\n",
    "    dict_ds_original = {\n",
    "        'data_ds3_normal_t1_original' : pd.read_csv(PATH_DATASET+'F16_DS3_normal_t1.csv', header=None),\n",
    "        'data_ds3_normal_t2_original' : pd.read_csv(PATH_DATASET+'F16_DS3_normal_t2.csv', header=None),\n",
    "        'data_ds3_fault1_original' : pd.read_csv(PATH_DATASET+'F16_DS3_fault1_leakage.csv', header=None),\n",
    "        'data_ds3_fault2_original' : pd.read_csv(PATH_DATASET+'F16_DS3_fault2_viscousfriction.csv', header=None),\n",
    "        'data_ds3_fault3_original' : pd.read_csv(PATH_DATASET+'F16_DS3_fault3_compressibility.csv', header=None),\n",
    "        'data_ds3_fault4_original' : pd.read_csv(PATH_DATASET+'F16_DS3_fault4_fixedposition.csv', header=None),\n",
    "    }"
   ]
  },
  {
   "cell_type": "markdown",
   "metadata": {},
   "source": [
    "# Dataset"
   ]
  },
  {
   "cell_type": "code",
   "execution_count": 4,
   "metadata": {
    "execution": {
     "iopub.execute_input": "2022-02-14T19:24:58.347375Z",
     "iopub.status.busy": "2022-02-14T19:24:58.346785Z",
     "iopub.status.idle": "2022-02-14T19:24:58.354661Z",
     "shell.execute_reply": "2022-02-14T19:24:58.353565Z",
     "shell.execute_reply.started": "2022-02-14T19:24:58.347334Z"
    },
    "jupyter": {
     "outputs_hidden": false
    },
    "pycharm": {
     "name": "#%%\n"
    }
   },
   "outputs": [],
   "source": [
    "dict_ds = dict_ds_original.copy()\n",
    "\n",
    "if dict_ds['data_ds3_normal_t1_original'].shape[0] % DOWNSAMPLE_FACTOR != 0 or dict_ds['data_ds3_fault1_original'].shape[0] % DOWNSAMPLE_FACTOR != 0:\n",
    "    raise Exception('Needs to be ?shape? divisor')\n",
    "\n",
    "for n, dataset_name in enumerate(dict_ds):\n",
    "    dataset = dict_ds[dataset_name].to_numpy()\n",
    "\n",
    "    downsampled = dataset[::DOWNSAMPLE_FACTOR]\n",
    "\n",
    "    x, y = downsampled.shape\n",
    "\n",
    "    # resample\n",
    "    dict_ds[dataset_name] = pd.DataFrame(downsampled.reshape((int(x/WINDOW_LENGHT),y*WINDOW_LENGHT)))\n"
   ]
  },
  {
   "cell_type": "code",
   "execution_count": 5,
   "metadata": {
    "execution": {
     "iopub.execute_input": "2022-02-14T19:25:00.926321Z",
     "iopub.status.busy": "2022-02-14T19:25:00.926031Z",
     "iopub.status.idle": "2022-02-14T19:25:01.462014Z",
     "shell.execute_reply": "2022-02-14T19:25:01.461041Z",
     "shell.execute_reply.started": "2022-02-14T19:25:00.926292Z"
    },
    "jupyter": {
     "outputs_hidden": false
    },
    "pycharm": {
     "name": "#%%\n"
    }
   },
   "outputs": [],
   "source": [
    "# ADD COLUMNS WITH DIFF PREVIOUS VALUES\n",
    "\n",
    "if (DATA_REPRESENTATION == 2):\n",
    "    frame_size = int(1000/DOWNSAMPLE_FACTOR)\n",
    "\n",
    "    for n, dataset_name in enumerate(dict_ds):\n",
    "        dataset = dict_ds[dataset_name].to_numpy()\n",
    "\n",
    "        dimension = dataset.shape[1]\n",
    "        samples = dataset.shape[0]\n",
    "\n",
    "        # GENERATE NEW DIMENSIONS\n",
    "        dataset = np.concatenate((dataset, np.zeros((samples,dimension))), axis=1)\n",
    "\n",
    "        for f in np.arange(0,int(samples/frame_size)):\n",
    "            # OBTAIN THE FRAME FLIGHT\n",
    "            frame = dataset[f*frame_size:(f+1)*frame_size, 0:dimension]\n",
    "\n",
    "            # CALCULATE DIFFERENCE\n",
    "            chunk = np.diff(frame, axis=0)\n",
    "\n",
    "            # DONT CALCULATE THE DIFFERENCE FOR EACH FIRST TIMESTEP\n",
    "            chunk = np.insert(chunk, 0, frame[0, 0:dimension], axis=0)\n",
    "\n",
    "            # UPDATE DATASET WITH NEW FRAME INTO NEW DIMENSIONS\n",
    "            dataset[f*frame_size:(f+1)*frame_size,dimension:dimension*2] = chunk\n",
    "\n",
    "        dict_ds[dataset_name] = pd.DataFrame(dataset)"
   ]
  },
  {
   "cell_type": "markdown",
   "metadata": {},
   "source": [
    "# Run"
   ]
  },
  {
   "cell_type": "code",
   "execution_count": 6,
   "metadata": {
    "execution": {
     "iopub.execute_input": "2022-02-14T21:26:15.059025Z",
     "iopub.status.busy": "2022-02-14T21:26:15.058711Z",
     "iopub.status.idle": "2022-02-14T21:26:15.078842Z",
     "shell.execute_reply": "2022-02-14T21:26:15.077645Z",
     "shell.execute_reply.started": "2022-02-14T21:26:15.058992Z"
    },
    "jupyter": {
     "outputs_hidden": false
    },
    "pycharm": {
     "name": "#%%\n"
    }
   },
   "outputs": [
    {
     "name": "stdout",
     "output_type": "stream",
     "text": [
      "kmeans 1 ['n1', 'n2', 'f2', 'f3'] 100 16\n",
      "[[-5.07458337e-02  8.68317523e-01]\n",
      " [ 4.01824935e-02  8.47852277e-01]\n",
      " [-4.95477311e-02  8.81304894e-01]\n",
      " [ 7.76332757e-04  8.77198151e-01]\n",
      " [-4.07186642e-02  8.34441203e-01]\n",
      " [ 1.96198007e-02  8.75483877e-01]\n",
      " [-7.52617283e-02  8.68133786e-01]\n",
      " [ 7.14909673e-03  8.56060454e-01]\n",
      " [-2.03453452e-02  8.81461991e-01]\n",
      " [-3.44650680e-02  9.01211831e-01]]\n",
      "kmeans 2 ['f1', 'f2', 'f3', 'f4'] 100 16\n",
      "[[-0.04741696  0.86076406]\n",
      " [ 0.01719381  0.85478537]\n",
      " [ 0.02629305  0.83193706]\n",
      " [-0.00828034  0.8688723 ]\n",
      " [-0.01669726  0.82449933]\n",
      " [-0.00878547  0.86202044]\n",
      " [-0.03455398  0.85844692]\n",
      " [-0.02726312  0.84081929]\n",
      " [-0.01464865  0.84985155]\n",
      " [-0.04551974  0.82199585]]\n",
      "kmeans 3 ['n1', 'f1', 'f2', 'f3'] 100 16\n",
      "[[ 0.00715837  0.83413108]\n",
      " [-0.00988626  0.7983028 ]\n",
      " [-0.01253003  0.86910811]\n",
      " [ 0.09184286  0.85287718]\n",
      " [-0.06538223  0.83851098]\n",
      " [-0.00864709  0.80670133]\n",
      " [ 0.0126575   0.82207482]\n",
      " [-0.03485228  0.81230508]\n",
      " [-0.08453269  0.84879107]\n",
      " [ 0.00186777  0.83270097]]\n",
      "kmeans 4 ['n2', 'f2', 'f4'] 100 16\n",
      "[[0.06826533 0.89724677]\n",
      " [0.15192822 0.9082754 ]\n",
      " [0.03443885 0.8905116 ]\n",
      " [0.07318817 0.90330028]\n",
      " [0.12676916 0.92376814]\n",
      " [0.07141997 0.89032903]\n",
      " [0.10155046 0.90477398]\n",
      " [0.07178467 0.91906543]\n",
      " [0.10645966 0.89791777]\n",
      " [0.09544472 0.93185343]]\n",
      "kmeans 5 ['n1', 'f1', 'f2', 'f4'] 100 16\n",
      "[[-0.00432857  0.8425551 ]\n",
      " [-0.12932438  0.8695302 ]\n",
      " [-0.05987183  0.85612779]\n",
      " [-0.03251333  0.82917504]\n",
      " [-0.02949481  0.81887963]\n",
      " [ 0.12246148  0.8282568 ]\n",
      " [ 0.1194264   0.85145354]\n",
      " [-0.04592493  0.81526881]\n",
      " [ 0.0643918   0.84351028]\n",
      " [ 0.01956006  0.85244278]]\n"
     ]
    }
   ],
   "source": [
    "log = None\n",
    "if FLUSH_FILE:\n",
    "    log = open(PATH_OUTPUTS+OUTPUT_FILE_NAME, \"a\", buffering=1)\n",
    "\n",
    "options = {'n1': [dict_ds['data_ds3_normal_t1_original'], 0, [0]],\n",
    "           'n2': [dict_ds['data_ds3_normal_t2_original'], 0, [0]],\n",
    "           'f1': [dict_ds['data_ds3_fault1_original'], 1, [1]],\n",
    "           'f2': [dict_ds['data_ds3_fault2_original'], 1, [2]],\n",
    "           'f3': [dict_ds['data_ds3_fault3_original'], 1, [3]],\n",
    "           'f4': [dict_ds['data_ds3_fault4_original'], 1, [4]]\n",
    "}\n",
    "\n",
    "samples = 2000\n",
    "nc = 100\n",
    "bs = 16\n",
    "n_folds = 10\n",
    "scenarios = [\n",
    "    ['n1', 'n2', 'f2', 'f3'], # scenario 1\n",
    "    ['f1', 'f2', 'f3', 'f4'], # scenario 2\n",
    "    ['n1', 'f1', 'f2', 'f3'], # scenario 3\n",
    "    ['n2', 'f2', 'f4'], # scenario 4\n",
    "    ['n1', 'f1', 'f2', 'f4'], # scenario 5\n",
    " ]\n",
    "outputs = np.zeros((n_folds, 2))\n",
    "\n",
    "s = 0\n",
    "for scenario in scenarios:\n",
    "    s = s + 1\n",
    "    print ('kmeans', s, scenario, nc, bs, file=log)\n",
    "\n",
    "    for fold in np.arange(0,n_folds):\n",
    "\n",
    "        kmeans = MiniBatchKMeans(n_clusters=nc, batch_size=bs, random_state=42)\n",
    "        ss = StandardScaler()\n",
    "        y_pred = []\n",
    "\n",
    "        # get random indexes for each dataset, but the datasets are ordered\n",
    "        idxs = np.random.randint(0,100000,samples)\n",
    "\n",
    "        data_x = options[scenario[0]][0].iloc[idxs, :]\n",
    "        data_y = options[scenario[0]][2]*samples\n",
    "        for x in np.arange(1,len(scenario)):\n",
    "            data_x = np.concatenate((data_x, options[scenario[x]][0].iloc[idxs, :]))\n",
    "            data_y = np.concatenate((data_y, options[scenario[x]][2]*samples))\n",
    "\n",
    "        data = np.concatenate((data_x, data_y.reshape(-1,1)), axis=1)\n",
    "\n",
    "        batch = np.split(data, int(len(data_x)/nc))\n",
    "\n",
    "        for x in batch:\n",
    "            x_nd = np.array(x)[:,:-1]\n",
    "\n",
    "            # standardization\n",
    "            ss.partial_fit(x_nd)\n",
    "            x_trans = ss.transform(x_nd)\n",
    "\n",
    "            # train\n",
    "            kmeans.partial_fit(x_trans)\n",
    "\n",
    "            # test\n",
    "            for pred in kmeans.predict(x_trans):\n",
    "              y_pred.append(pred)\n",
    "\n",
    "        outputs[fold][0] = silhouette_score(ss.transform(data[:,:-1]), y_pred)\n",
    "        outputs[fold][1] = v_measure_score(data_y, y_pred, beta=0) # 0 plus homogeneity | 2 completeness\n",
    "\n",
    "    print(outputs)\n",
    "\n",
    "if FLUSH_FILE:\n",
    "    log.close()"
   ]
  },
  {
   "cell_type": "code",
   "execution_count": 7,
   "metadata": {
    "pycharm": {
     "name": "#%%\n"
    }
   },
   "outputs": [],
   "source": [
    "# generate 3 scenarios\n",
    "from itertools import permutations\n",
    "\n",
    "sets = []\n",
    "\n",
    "caracteres = ['n1', 'n2', 'f1', 'f2', 'f3', 'f4']\n",
    "for l in np.arange(2,6):\n",
    "    for subset in permutations(caracteres, int(l)):\n",
    "        sets.append(subset)\n",
    "\n",
    "sets.append(tuple(caracteres))\n",
    "\n",
    "sets = np.array(sets)\n",
    "choose = sets[[np.random.randint(0, len(sets), 10)]]"
   ]
  }
 ],
 "metadata": {
  "kernelspec": {
   "display_name": "Python 3",
   "language": "python",
   "name": "python3"
  },
  "language_info": {
   "codemirror_mode": {
    "name": "ipython",
    "version": 3
   },
   "file_extension": ".py",
   "mimetype": "text/x-python",
   "name": "python",
   "nbconvert_exporter": "python",
   "pygments_lexer": "ipython3",
   "version": "3.7.6"
  }
 },
 "nbformat": 4,
 "nbformat_minor": 4
}