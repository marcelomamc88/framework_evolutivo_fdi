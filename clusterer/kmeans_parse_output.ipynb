{
 "cells": [
  {
   "cell_type": "code",
   "execution_count": 1,
   "metadata": {
    "pycharm": {
     "name": "#%%\n"
    }
   },
   "outputs": [],
   "source": [
    "from math import floor\n",
    "import numpy as np\n",
    "import pandas as pd"
   ]
  },
  {
   "cell_type": "code",
   "execution_count": 8,
   "metadata": {
    "pycharm": {
     "name": "#%%\n"
    }
   },
   "outputs": [],
   "source": [
    "cols = ['arch','silhouette', 'homogeneity', 'time']\n",
    "\n",
    "columns = {x:k for k,x in enumerate(cols)}\n",
    "\n",
    "percentual_columns = cols[2]\n",
    "numbered_columns = cols[1:3]"
   ]
  },
  {
   "cell_type": "code",
   "execution_count": 9,
   "metadata": {
    "pycharm": {
     "name": "#%%\n"
    }
   },
   "outputs": [],
   "source": [
    "'''\n",
    "NOTE THAT THE \"NORMAL 2\" PATTERN COULD BE OUT OF PATTERN. REQUIRED 2 LINES as 2x2 array. IF THIS HAPPENED, MUST BE MANUALLY CONVERTED TO THE REQUIRED PATTERN AS BELOW!\n",
    "\n",
    "REQUIRED\n",
    "[[1. 0.]\n",
    " [0. 0.]]\n",
    "\n",
    "OUT OF PATTERN\n",
    "[[1.]]\n",
    "'''\n",
    "\n",
    "with open('./outputs/output_kmeans_concatenate.txt') as f:\n",
    "    lines = f.readlines()\n",
    "\n",
    "height = 4\n",
    "times = floor(len(lines)/height)\n",
    "\n",
    "output = pd.DataFrame(np.zeros((times, len(columns))), columns=columns)\n",
    "\n",
    "for k, column_name in enumerate(columns):\n",
    "    column_init_position = columns[column_name]\n",
    "\n",
    "    for time in np.arange(0, times):\n",
    "        line_number = column_init_position+(time*height)\n",
    "        value = lines[line_number].rstrip(\"\\n\")\n",
    "\n",
    "        if (column_name in percentual_columns):\n",
    "            value = float(value)*100\n",
    "\n",
    "        if (column_name in numbered_columns):\n",
    "            value = float(value)\n",
    "\n",
    "        output.iloc[time,k] = value\n",
    "\n",
    "f.close()"
   ]
  },
  {
   "cell_type": "code",
   "execution_count": 44,
   "metadata": {
    "pycharm": {
     "name": "#%%\n"
    }
   },
   "outputs": [
    {
     "data": {
      "text/plain": "(0, 91)"
     },
     "execution_count": 44,
     "metadata": {},
     "output_type": "execute_result"
    }
   ],
   "source": [
    "q =     'F1_F1 > 60 and ' \\\n",
    "        'F2_F2 > 60 and ' \\\n",
    "        'F3_NONE > 60 and ' \\\n",
    "        'F4_NONE > 60 and ' \\\n",
    "        'N1_NONE > 30 and ' \\\n",
    "        'N2_NONE > 30 and ' \\\n",
    "        \\\n",
    "        'RET_F1_F1 > 60 and ' \\\n",
    "        'RET_F2_F2 > 60 and ' \\\n",
    "        'RET_F3_F3 > 60 and ' \\\n",
    "        'RET_F4_NONE > 60 and ' \\\n",
    "        'RET_N1_NONE > 30 and ' \\\n",
    "        'RET_N2_NONE > 30 and ' \\\n",
    "        \\\n",
    "        'RET2_F1_F1 > 60 and ' \\\n",
    "        'RET2_F2_F2 > 60 and ' \\\n",
    "        'RET2_F3_F3 > 60 and ' \\\n",
    "        'RET2_F4_F4 > 60  and ' \\\n",
    "        'RET2_N1_NONE > 30 and ' \\\n",
    "        'RET2_N2_NONE > 30 '\n",
    "\n",
    "q1 = output.query(q)\n",
    "q1.shape"
   ]
  },
  {
   "cell_type": "code",
   "execution_count": 38,
   "metadata": {
    "pycharm": {
     "name": "#%%\n"
    }
   },
   "outputs": [
    {
     "data": {
      "text/plain": "                                                   arch F1_NONE F1_F1 F1_F2  \\\n4756  HT 4039 100 info_gain 0.1 False False nb 0 [0....     0.1  98.9   0.6   \n5140  HT 4423 100 info_gain 0.1 True False nba 0 [0....     0.1  98.9   0.6   \n\n     F1_F3 F1_F4 F2_NONE F2_F1 F2_F2 F2_F3 F2_F4 F3_NONE F3_F1 F3_F2 F3_F3  \\\n4756   0.1   0.1     0.5   0.0  99.5   0.0   0.0    99.9   0.0   0.1   0.0   \n5140   0.1   0.1     0.5   0.0  99.5   0.0   0.0    99.9   0.0   0.1   0.0   \n\n     F3_F4 F4_NONE F4_F1 F4_F2 F4_F3 F4_F4 N1_NONE N1_F1 N1_F2 N1_F3 N1_F4  \\\n4756   0.0    72.6  26.9   0.5   0.0   0.0   100.0   0.0   0.0   0.0   0.0   \n5140   0.0    72.6  26.9   0.5   0.0   0.0   100.0   0.0   0.0   0.0   0.0   \n\n     N2_NONE N2_F1 N2_F2 N2_F3 N2_F4 RET_F1_NONE RET_F1_F1 RET_F1_F2  \\\n4756   100.0   0.0   0.0   0.0   0.0         1.1      97.1       0.6   \n5140   100.0   0.0   0.0   0.0   0.0         3.6      94.1       0.6   \n\n     RET_F1_F3 RET_F1_F4 RET_F2_NONE RET_F2_F1 RET_F2_F2 RET_F2_F3 RET_F2_F4  \\\n4756       0.9       0.1         0.0       0.0     100.0       0.0       0.0   \n5140       1.4       0.1         1.1       0.0      98.9       0.0       0.0   \n\n     RET_F3_NONE RET_F3_F1 RET_F3_F2 RET_F3_F3 RET_F3_F4 RET_F4_NONE  \\\n4756         0.9       0.0       0.1      99.0       0.0        94.2   \n5140         3.9       0.1       0.1      95.9       0.0        85.2   \n\n     RET_F4_F1 RET_F4_F2 RET_F4_F3 RET_F4_F4 RET_N1_NONE RET_N1_F1 RET_N1_F2  \\\n4756       0.0       0.5       5.3       0.0        74.2       0.0       0.0   \n5140       0.0       0.5      14.3       0.0        91.2       0.0       0.0   \n\n     RET_N1_F3 RET_N1_F4 RET_N2_NONE RET_N2_F1 RET_N2_F2 RET_N2_F3 RET_N2_F4  \\\n4756      25.8       0.0        77.1       0.0       0.0      22.9       0.0   \n5140       8.8       0.0        90.1       0.0       0.0       9.9       0.0   \n\n     RET2_F1_NONE RET2_F1_F1 RET2_F1_F2 RET2_F1_F3 RET2_F1_F4 RET2_F2_NONE  \\\n4756          0.1       98.9        0.6        0.1        0.1          0.5   \n5140          0.2       98.3        0.6        0.6        0.1          0.6   \n\n     RET2_F2_F1 RET2_F2_F2 RET2_F2_F3 RET2_F2_F4 RET2_F3_NONE RET2_F3_F1  \\\n4756        0.0       99.5        0.0        0.0          1.2        0.0   \n5140        0.0       98.9        0.5        0.0          0.5        0.0   \n\n     RET2_F3_F2 RET2_F3_F3 RET2_F3_F4 RET2_F4_NONE RET2_F4_F1 RET2_F4_F2  \\\n4756        0.1       98.7        0.0          0.1        0.0        0.5   \n5140        0.1       99.4        0.0          0.4        0.0        0.5   \n\n     RET2_F4_F3 RET2_F4_F4 RET2_N1_NONE RET2_N1_F1 RET2_N1_F2 RET2_N1_F3  \\\n4756        3.1       96.3         87.5        0.0        0.0       12.5   \n5140        0.1       99.0         82.4        0.0        0.0       17.6   \n\n     RET2_N1_F4 RET2_N2_NONE RET2_N2_F1 RET2_N2_F2 RET2_N2_F3 RET2_N2_F4  \n4756        0.0         84.7        0.0        0.0       15.3        0.0  \n5140        0.0         81.5        0.0        0.0       18.5        0.0  ",
      "text/html": "<div>\n<style scoped>\n    .dataframe tbody tr th:only-of-type {\n        vertical-align: middle;\n    }\n\n    .dataframe tbody tr th {\n        vertical-align: top;\n    }\n\n    .dataframe thead th {\n        text-align: right;\n    }\n</style>\n<table border=\"1\" class=\"dataframe\">\n  <thead>\n    <tr style=\"text-align: right;\">\n      <th></th>\n      <th>arch</th>\n      <th>F1_NONE</th>\n      <th>F1_F1</th>\n      <th>F1_F2</th>\n      <th>F1_F3</th>\n      <th>F1_F4</th>\n      <th>F2_NONE</th>\n      <th>F2_F1</th>\n      <th>F2_F2</th>\n      <th>F2_F3</th>\n      <th>F2_F4</th>\n      <th>F3_NONE</th>\n      <th>F3_F1</th>\n      <th>F3_F2</th>\n      <th>F3_F3</th>\n      <th>F3_F4</th>\n      <th>F4_NONE</th>\n      <th>F4_F1</th>\n      <th>F4_F2</th>\n      <th>F4_F3</th>\n      <th>F4_F4</th>\n      <th>N1_NONE</th>\n      <th>N1_F1</th>\n      <th>N1_F2</th>\n      <th>N1_F3</th>\n      <th>N1_F4</th>\n      <th>N2_NONE</th>\n      <th>N2_F1</th>\n      <th>N2_F2</th>\n      <th>N2_F3</th>\n      <th>N2_F4</th>\n      <th>RET_F1_NONE</th>\n      <th>RET_F1_F1</th>\n      <th>RET_F1_F2</th>\n      <th>RET_F1_F3</th>\n      <th>RET_F1_F4</th>\n      <th>RET_F2_NONE</th>\n      <th>RET_F2_F1</th>\n      <th>RET_F2_F2</th>\n      <th>RET_F2_F3</th>\n      <th>RET_F2_F4</th>\n      <th>RET_F3_NONE</th>\n      <th>RET_F3_F1</th>\n      <th>RET_F3_F2</th>\n      <th>RET_F3_F3</th>\n      <th>RET_F3_F4</th>\n      <th>RET_F4_NONE</th>\n      <th>RET_F4_F1</th>\n      <th>RET_F4_F2</th>\n      <th>RET_F4_F3</th>\n      <th>RET_F4_F4</th>\n      <th>RET_N1_NONE</th>\n      <th>RET_N1_F1</th>\n      <th>RET_N1_F2</th>\n      <th>RET_N1_F3</th>\n      <th>RET_N1_F4</th>\n      <th>RET_N2_NONE</th>\n      <th>RET_N2_F1</th>\n      <th>RET_N2_F2</th>\n      <th>RET_N2_F3</th>\n      <th>RET_N2_F4</th>\n      <th>RET2_F1_NONE</th>\n      <th>RET2_F1_F1</th>\n      <th>RET2_F1_F2</th>\n      <th>RET2_F1_F3</th>\n      <th>RET2_F1_F4</th>\n      <th>RET2_F2_NONE</th>\n      <th>RET2_F2_F1</th>\n      <th>RET2_F2_F2</th>\n      <th>RET2_F2_F3</th>\n      <th>RET2_F2_F4</th>\n      <th>RET2_F3_NONE</th>\n      <th>RET2_F3_F1</th>\n      <th>RET2_F3_F2</th>\n      <th>RET2_F3_F3</th>\n      <th>RET2_F3_F4</th>\n      <th>RET2_F4_NONE</th>\n      <th>RET2_F4_F1</th>\n      <th>RET2_F4_F2</th>\n      <th>RET2_F4_F3</th>\n      <th>RET2_F4_F4</th>\n      <th>RET2_N1_NONE</th>\n      <th>RET2_N1_F1</th>\n      <th>RET2_N1_F2</th>\n      <th>RET2_N1_F3</th>\n      <th>RET2_N1_F4</th>\n      <th>RET2_N2_NONE</th>\n      <th>RET2_N2_F1</th>\n      <th>RET2_N2_F2</th>\n      <th>RET2_N2_F3</th>\n      <th>RET2_N2_F4</th>\n    </tr>\n  </thead>\n  <tbody>\n    <tr>\n      <th>4756</th>\n      <td>HT 4039 100 info_gain 0.1 False False nb 0 [0....</td>\n      <td>0.1</td>\n      <td>98.9</td>\n      <td>0.6</td>\n      <td>0.1</td>\n      <td>0.1</td>\n      <td>0.5</td>\n      <td>0.0</td>\n      <td>99.5</td>\n      <td>0.0</td>\n      <td>0.0</td>\n      <td>99.9</td>\n      <td>0.0</td>\n      <td>0.1</td>\n      <td>0.0</td>\n      <td>0.0</td>\n      <td>72.6</td>\n      <td>26.9</td>\n      <td>0.5</td>\n      <td>0.0</td>\n      <td>0.0</td>\n      <td>100.0</td>\n      <td>0.0</td>\n      <td>0.0</td>\n      <td>0.0</td>\n      <td>0.0</td>\n      <td>100.0</td>\n      <td>0.0</td>\n      <td>0.0</td>\n      <td>0.0</td>\n      <td>0.0</td>\n      <td>1.1</td>\n      <td>97.1</td>\n      <td>0.6</td>\n      <td>0.9</td>\n      <td>0.1</td>\n      <td>0.0</td>\n      <td>0.0</td>\n      <td>100.0</td>\n      <td>0.0</td>\n      <td>0.0</td>\n      <td>0.9</td>\n      <td>0.0</td>\n      <td>0.1</td>\n      <td>99.0</td>\n      <td>0.0</td>\n      <td>94.2</td>\n      <td>0.0</td>\n      <td>0.5</td>\n      <td>5.3</td>\n      <td>0.0</td>\n      <td>74.2</td>\n      <td>0.0</td>\n      <td>0.0</td>\n      <td>25.8</td>\n      <td>0.0</td>\n      <td>77.1</td>\n      <td>0.0</td>\n      <td>0.0</td>\n      <td>22.9</td>\n      <td>0.0</td>\n      <td>0.1</td>\n      <td>98.9</td>\n      <td>0.6</td>\n      <td>0.1</td>\n      <td>0.1</td>\n      <td>0.5</td>\n      <td>0.0</td>\n      <td>99.5</td>\n      <td>0.0</td>\n      <td>0.0</td>\n      <td>1.2</td>\n      <td>0.0</td>\n      <td>0.1</td>\n      <td>98.7</td>\n      <td>0.0</td>\n      <td>0.1</td>\n      <td>0.0</td>\n      <td>0.5</td>\n      <td>3.1</td>\n      <td>96.3</td>\n      <td>87.5</td>\n      <td>0.0</td>\n      <td>0.0</td>\n      <td>12.5</td>\n      <td>0.0</td>\n      <td>84.7</td>\n      <td>0.0</td>\n      <td>0.0</td>\n      <td>15.3</td>\n      <td>0.0</td>\n    </tr>\n    <tr>\n      <th>5140</th>\n      <td>HT 4423 100 info_gain 0.1 True False nba 0 [0....</td>\n      <td>0.1</td>\n      <td>98.9</td>\n      <td>0.6</td>\n      <td>0.1</td>\n      <td>0.1</td>\n      <td>0.5</td>\n      <td>0.0</td>\n      <td>99.5</td>\n      <td>0.0</td>\n      <td>0.0</td>\n      <td>99.9</td>\n      <td>0.0</td>\n      <td>0.1</td>\n      <td>0.0</td>\n      <td>0.0</td>\n      <td>72.6</td>\n      <td>26.9</td>\n      <td>0.5</td>\n      <td>0.0</td>\n      <td>0.0</td>\n      <td>100.0</td>\n      <td>0.0</td>\n      <td>0.0</td>\n      <td>0.0</td>\n      <td>0.0</td>\n      <td>100.0</td>\n      <td>0.0</td>\n      <td>0.0</td>\n      <td>0.0</td>\n      <td>0.0</td>\n      <td>3.6</td>\n      <td>94.1</td>\n      <td>0.6</td>\n      <td>1.4</td>\n      <td>0.1</td>\n      <td>1.1</td>\n      <td>0.0</td>\n      <td>98.9</td>\n      <td>0.0</td>\n      <td>0.0</td>\n      <td>3.9</td>\n      <td>0.1</td>\n      <td>0.1</td>\n      <td>95.9</td>\n      <td>0.0</td>\n      <td>85.2</td>\n      <td>0.0</td>\n      <td>0.5</td>\n      <td>14.3</td>\n      <td>0.0</td>\n      <td>91.2</td>\n      <td>0.0</td>\n      <td>0.0</td>\n      <td>8.8</td>\n      <td>0.0</td>\n      <td>90.1</td>\n      <td>0.0</td>\n      <td>0.0</td>\n      <td>9.9</td>\n      <td>0.0</td>\n      <td>0.2</td>\n      <td>98.3</td>\n      <td>0.6</td>\n      <td>0.6</td>\n      <td>0.1</td>\n      <td>0.6</td>\n      <td>0.0</td>\n      <td>98.9</td>\n      <td>0.5</td>\n      <td>0.0</td>\n      <td>0.5</td>\n      <td>0.0</td>\n      <td>0.1</td>\n      <td>99.4</td>\n      <td>0.0</td>\n      <td>0.4</td>\n      <td>0.0</td>\n      <td>0.5</td>\n      <td>0.1</td>\n      <td>99.0</td>\n      <td>82.4</td>\n      <td>0.0</td>\n      <td>0.0</td>\n      <td>17.6</td>\n      <td>0.0</td>\n      <td>81.5</td>\n      <td>0.0</td>\n      <td>0.0</td>\n      <td>18.5</td>\n      <td>0.0</td>\n    </tr>\n  </tbody>\n</table>\n</div>"
     },
     "execution_count": 38,
     "metadata": {},
     "output_type": "execute_result"
    }
   ],
   "source": [
    "pd.set_option('display.max_column', None,'display.max_rows', None)\n",
    "q1.T.T\n"
   ]
  }
 ],
 "metadata": {
  "kernelspec": {
   "display_name": "Python 3",
   "language": "python",
   "name": "python3"
  },
  "language_info": {
   "codemirror_mode": {
    "name": "ipython",
    "version": 3
   },
   "file_extension": ".py",
   "mimetype": "text/x-python",
   "name": "python",
   "nbconvert_exporter": "python",
   "pygments_lexer": "ipython3",
   "version": "3.7.6"
  }
 },
 "nbformat": 4,
 "nbformat_minor": 1
}