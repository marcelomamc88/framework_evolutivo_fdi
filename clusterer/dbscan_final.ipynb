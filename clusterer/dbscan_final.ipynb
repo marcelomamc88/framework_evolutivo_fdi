{
 "cells": [
  {
   "cell_type": "markdown",
   "metadata": {},
   "source": [
    "# Initial"
   ]
  },
  {
   "cell_type": "code",
   "execution_count": 1,
   "metadata": {
    "execution": {
     "iopub.execute_input": "2022-02-14T21:26:27.101004Z",
     "iopub.status.busy": "2022-02-14T21:26:27.10024Z",
     "iopub.status.idle": "2022-02-14T21:27:07.561108Z",
     "shell.execute_reply": "2022-02-14T21:27:07.560314Z",
     "shell.execute_reply.started": "2022-02-14T21:26:27.100971Z"
    }
   },
   "outputs": [],
   "source": [
    "from sklearn.metrics.cluster import v_measure_score, silhouette_score\n",
    "import pandas as pd\n",
    "import numpy as np\n",
    "from sklearn.preprocessing import StandardScaler\n",
    "import time\n",
    "from sklearn.cluster import  DBSCAN\n",
    "from sklearn.decomposition import PCA\n",
    "import warnings\n",
    "warnings.filterwarnings(\"ignore\")"
   ]
  },
  {
   "cell_type": "code",
   "execution_count": 2,
   "metadata": {
    "execution": {
     "iopub.execute_input": "2022-02-14T21:27:07.592284Z",
     "iopub.status.busy": "2022-02-14T21:27:07.591385Z",
     "iopub.status.idle": "2022-02-14T21:27:07.605392Z",
     "shell.execute_reply": "2022-02-14T21:27:07.60467Z",
     "shell.execute_reply.started": "2022-02-14T21:27:07.592245Z"
    },
    "jupyter": {
     "outputs_hidden": false
    },
    "pycharm": {
     "name": "#%%\n"
    }
   },
   "outputs": [],
   "source": [
    "'''\n",
    "EXTERNAL KERNEL\n",
    "'''\n",
    "google_colab = False\n",
    "kaggle = False\n",
    "\n",
    "'''\n",
    "CUDA\n",
    "'''\n",
    "cuda = False\n",
    "\n",
    "'''\n",
    "DATA REPRESENTATION\n",
    "\n",
    "1 => SINGLE READ | 2 => ADD FEATURES | 3 => WINDOW TO FEATURES\n",
    "'''\n",
    "DATA_REPRESENTATION = 2\n",
    "\n",
    "'''\n",
    "DOWNSAMPLE FACTOR\n",
    "\n",
    "1 => 10hz *original rate* | 2 => 5Hz | 5 => 2Hz | 10 => 1hz\n",
    "'''\n",
    "DOWNSAMPLE_FACTOR = 5\n",
    "\n",
    "'''\n",
    "WINDOWS LENGHT\n",
    "\n",
    "* needs divisor by datapoints target\n",
    "* considering downsample factor = 5\n",
    "\n",
    "1 => WINDOW DISABLED | 2 => 1 second | 4 => 2 seconds | 10 => 5 seconds | 20 => 10 seconds | 200 => 100 seconds *full flight*\n",
    "'''\n",
    "WINDOW_LENGHT =  1\n",
    "\n",
    "\n",
    "'''\n",
    "LIMITADOR\n",
    "\n",
    "Quantity of samples in the execution of the tests.\n",
    "'''\n",
    "LIMITADOR = 500\n",
    "\n",
    "'''\n",
    "LOSS FACTOR [0,1]\n",
    "\n",
    "Ignores outliers in calculating the stats of losses in regenerated data.\n",
    "'''\n",
    "LOSS_FACTOR = 1\n",
    "\n",
    "'''\n",
    "TRAIN_SIZE [0,1]\n",
    "\n",
    "Percentage of samples to be trained\n",
    "'''\n",
    "TRAIN_SIZE = 0.8\n",
    "\n",
    "'''\n",
    "OUTPUT_FILE_NAME\n",
    "\n",
    "File with output results\n",
    "'''\n",
    "OUTPUT_FILE_NAME = 'output_dbscan_ds_dr_' + str(DATA_REPRESENTATION) + '-ts_' + str(TRAIN_SIZE) + '-lf_' + str.replace(str(LOSS_FACTOR), '.', '') + '-limit_' + str(LIMITADOR) + '-wl_' + str(WINDOW_LENGHT) + '.txt'\n",
    "\n",
    "'''\n",
    "PATH_OUTPUTS\n",
    "\n",
    "local : ./outputs/\n",
    "google colab : /content/drive/My Drive/\n",
    "'''\n",
    "if google_colab:\n",
    "    PATH_OUTPUTS = '/content/drive/My Drive/'\n",
    "elif kaggle:    \n",
    "    PATH_OUTPUTS = ''\n",
    "else:\n",
    "    PATH_OUTPUTS = './outputs/'\n",
    "\n",
    "\n",
    "'''\n",
    "PATH_DATASET\n",
    "\n",
    "'''\n",
    "PATH_DATASET = '../dataset/original/'\n",
    "\n",
    "'''\n",
    "FLUSH FILE\n",
    "\n",
    "If output results file is ON\n",
    "'''\n",
    "FLUSH_FILE = False"
   ]
  },
  {
   "cell_type": "code",
   "execution_count": 3,
   "metadata": {
    "execution": {
     "iopub.execute_input": "2022-02-14T21:27:07.607053Z",
     "iopub.status.busy": "2022-02-14T21:27:07.606533Z",
     "iopub.status.idle": "2022-02-14T21:28:08.229783Z",
     "shell.execute_reply": "2022-02-14T21:28:08.227823Z",
     "shell.execute_reply.started": "2022-02-14T21:27:07.607023Z"
    },
    "jupyter": {
     "outputs_hidden": false
    },
    "pycharm": {
     "name": "#%%\n"
    }
   },
   "outputs": [],
   "source": [
    "if google_colab:\n",
    "    !pip install git+https://github.com/online-ml/river --upgrade\n",
    "\n",
    "    from google.colab import drive\n",
    "\n",
    "    drive.mount('/content/drive')\n",
    "    path = '/content/drive/My Drive/ACADÊMICO/MESTRADO/DISSERTAÇÃO/CHAPTERS/5 EXPERIMENTO/dataset/data_representation_1'\n",
    "    dict_ds_original = {\n",
    "        'data_ds3_normal_t1_original' : pd.read_csv(path+'/F16_DS3_normal_t1.csv', header=None),\n",
    "        'data_ds3_normal_t2_original' : pd.read_csv(path+'/F16_DS3_normal_t2.csv', header=None),\n",
    "        'data_ds3_fault1_original' : pd.read_csv(path+'/F16_DS3_fault1_leakage.csv', header=None),\n",
    "        'data_ds3_fault2_original' : pd.read_csv(path+'/F16_DS3_fault2_viscousfriction.csv', header=None),\n",
    "        'data_ds3_fault3_original' : pd.read_csv(path+'/F16_DS3_fault3_compressibility.csv', header=None),\n",
    "        'data_ds3_fault4_original' : pd.read_csv(path+'/F16_DS3_fault4_fixedposition.csv', header=None),\n",
    "    }\n",
    "elif kaggle:\n",
    "    !conda install -y gdown\n",
    "    !gdown https://drive.google.com/u/0/uc?id=1G88okIVmdcgLFlmd7rDRhHvHv98yK3UB\n",
    "    !gdown https://drive.google.com/u/0/uc?id=1fX3utfHMjwKTt7IW4D01bnm-hv88yzrJ \n",
    "    !gdown https://drive.google.com/u/0/uc?id=1yUG3R5zK2AIxtS9Q4Fk-udkKBZeYShgb\n",
    "    !gdown https://drive.google.com/u/0/uc?id=1OBRDtuqNEZ-3Z-q0helWh2xGiAxeLACH\n",
    "    !gdown https://drive.google.com/u/0/uc?id=17oDi60sWYsWHHxzj2aA9m6ARm8zQ81m_\n",
    "    !gdown https://drive.google.com/u/0/uc?id=1jKEK4s5sYJh8PHtpHeV8ABOsHjuB26RA\n",
    "\n",
    "    dict_ds_original = {\n",
    "        'data_ds3_normal_t1_original' : pd.read_csv('F16_DS3_normal_t1.csv', header=None),\n",
    "        'data_ds3_normal_t2_original' : pd.read_csv('F16_DS3_normal_t2.csv', header=None),\n",
    "        'data_ds3_fault1_original' : pd.read_csv('F16_DS3_fault1_leakage.csv', header=None),\n",
    "        'data_ds3_fault2_original' : pd.read_csv('F16_DS3_fault2_viscousfriction.csv', header=None),\n",
    "        'data_ds3_fault3_original' : pd.read_csv('F16_DS3_fault3_compressibility.csv', header=None),\n",
    "        'data_ds3_fault4_original' : pd.read_csv('F16_DS3_fault4_fixedposition.csv', header=None),\n",
    "    }\n",
    "else:\n",
    "    dict_ds_original = {\n",
    "        'data_ds3_normal_t1_original' : pd.read_csv(PATH_DATASET+'F16_DS3_normal_t1.csv', header=None),\n",
    "        'data_ds3_normal_t2_original' : pd.read_csv(PATH_DATASET+'F16_DS3_normal_t2.csv', header=None),\n",
    "        'data_ds3_fault1_original' : pd.read_csv(PATH_DATASET+'F16_DS3_fault1_leakage.csv', header=None),\n",
    "        'data_ds3_fault2_original' : pd.read_csv(PATH_DATASET+'F16_DS3_fault2_viscousfriction.csv', header=None),\n",
    "        'data_ds3_fault3_original' : pd.read_csv(PATH_DATASET+'F16_DS3_fault3_compressibility.csv', header=None),\n",
    "        'data_ds3_fault4_original' : pd.read_csv(PATH_DATASET+'F16_DS3_fault4_fixedposition.csv', header=None),\n",
    "    }"
   ]
  },
  {
   "cell_type": "markdown",
   "metadata": {},
   "source": [
    "# Dataset"
   ]
  },
  {
   "cell_type": "code",
   "execution_count": 4,
   "metadata": {
    "execution": {
     "iopub.execute_input": "2022-02-14T19:24:58.347375Z",
     "iopub.status.busy": "2022-02-14T19:24:58.346785Z",
     "iopub.status.idle": "2022-02-14T19:24:58.354661Z",
     "shell.execute_reply": "2022-02-14T19:24:58.353565Z",
     "shell.execute_reply.started": "2022-02-14T19:24:58.347334Z"
    },
    "jupyter": {
     "outputs_hidden": false
    },
    "pycharm": {
     "name": "#%%\n"
    }
   },
   "outputs": [],
   "source": [
    "dict_ds = dict_ds_original.copy()\n",
    "\n",
    "if dict_ds['data_ds3_normal_t1_original'].shape[0] % DOWNSAMPLE_FACTOR != 0 or dict_ds['data_ds3_fault1_original'].shape[0] % DOWNSAMPLE_FACTOR != 0:\n",
    "    raise Exception('Needs to be ?shape? divisor')\n",
    "\n",
    "for n, dataset_name in enumerate(dict_ds):\n",
    "    dataset = dict_ds[dataset_name].to_numpy()\n",
    "\n",
    "    downsampled = dataset[::DOWNSAMPLE_FACTOR]\n",
    "\n",
    "    x, y = downsampled.shape\n",
    "\n",
    "    # resample\n",
    "    dict_ds[dataset_name] = pd.DataFrame(downsampled.reshape((int(x/WINDOW_LENGHT),y*WINDOW_LENGHT)))\n"
   ]
  },
  {
   "cell_type": "code",
   "execution_count": 5,
   "metadata": {
    "execution": {
     "iopub.execute_input": "2022-02-14T19:25:00.926321Z",
     "iopub.status.busy": "2022-02-14T19:25:00.926031Z",
     "iopub.status.idle": "2022-02-14T19:25:01.462014Z",
     "shell.execute_reply": "2022-02-14T19:25:01.461041Z",
     "shell.execute_reply.started": "2022-02-14T19:25:00.926292Z"
    },
    "jupyter": {
     "outputs_hidden": false
    },
    "pycharm": {
     "name": "#%%\n"
    }
   },
   "outputs": [],
   "source": [
    "# ADD COLUMNS WITH DIFF PREVIOUS VALUES\n",
    "\n",
    "if (DATA_REPRESENTATION == 2):\n",
    "    frame_size = int(1000/DOWNSAMPLE_FACTOR)\n",
    "\n",
    "    for n, dataset_name in enumerate(dict_ds):\n",
    "        dataset = dict_ds[dataset_name].to_numpy()\n",
    "\n",
    "        dimension = dataset.shape[1]\n",
    "        samples = dataset.shape[0]\n",
    "\n",
    "        # GENERATE NEW DIMENSIONS\n",
    "        dataset = np.concatenate((dataset, np.zeros((samples,dimension))), axis=1)\n",
    "\n",
    "        for f in np.arange(0,int(samples/frame_size)):\n",
    "            # OBTAIN THE FRAME FLIGHT\n",
    "            frame = dataset[f*frame_size:(f+1)*frame_size, 0:dimension]\n",
    "\n",
    "            # CALCULATE DIFFERENCE\n",
    "            chunk = np.diff(frame, axis=0)\n",
    "\n",
    "            # DONT CALCULATE THE DIFFERENCE FOR EACH FIRST TIMESTEP\n",
    "            chunk = np.insert(chunk, 0, frame[0, 0:dimension], axis=0)\n",
    "\n",
    "            # UPDATE DATASET WITH NEW FRAME INTO NEW DIMENSIONS\n",
    "            dataset[f*frame_size:(f+1)*frame_size,dimension:dimension*2] = chunk\n",
    "\n",
    "        dict_ds[dataset_name] = pd.DataFrame(dataset)"
   ]
  },
  {
   "cell_type": "code",
   "execution_count": 6,
   "outputs": [],
   "source": [
    "def get_scenario(scenario, dict_ds, idxs_n, idxs_f):\n",
    "    if scenario == 'n1, n2, f2, f3':\n",
    "        data_x = np.concatenate((\n",
    "            dict_ds['data_ds3_normal_t1_original'].iloc[idxs_n, :],\n",
    "            dict_ds['data_ds3_fault2_original'].iloc[idxs_f, :],\n",
    "            dict_ds['data_ds3_fault3_original'].iloc[idxs_f, :],\n",
    "            dict_ds['data_ds3_normal_t2_original'].iloc[idxs_n, :]))\n",
    "        data_y = np.concatenate((\n",
    "            [0]*samples,\n",
    "            [2]*samples,\n",
    "            [3]*samples,\n",
    "            [0]*samples))\n",
    "    elif scenario == 'f1, f2, f3, f4': # scenario 2\n",
    "        data_x = np.concatenate((\n",
    "            dict_ds['data_ds3_fault1_original'].iloc[idxs_f, :],\n",
    "            dict_ds['data_ds3_fault2_original'].iloc[idxs_f, :],\n",
    "            dict_ds['data_ds3_fault3_original'].iloc[idxs_f, :],\n",
    "            dict_ds['data_ds3_fault4_original'].iloc[idxs_f, :]))\n",
    "        data_y = np.concatenate((\n",
    "            [1]*samples,\n",
    "            [2]*samples,\n",
    "            [3]*samples,\n",
    "            [4]*samples))\n",
    "    elif scenario == 'n1, f1, f2, f3': # scenario 3\n",
    "        data_x = np.concatenate((\n",
    "            dict_ds['data_ds3_normal_t1_original'].iloc[idxs_n, :],\n",
    "            dict_ds['data_ds3_fault1_original'].iloc[idxs_f, :],\n",
    "            dict_ds['data_ds3_fault2_original'].iloc[idxs_f, :],\n",
    "            dict_ds['data_ds3_fault3_original'].iloc[idxs_f, :]))\n",
    "        data_y = np.concatenate((\n",
    "            [0]*samples,\n",
    "            [1]*samples,\n",
    "            [2]*samples,\n",
    "            [3]*samples))\n",
    "    elif scenario == 'n2, f2, f4': # scenario 4\n",
    "        data_x = np.concatenate((\n",
    "            dict_ds['data_ds3_normal_t2_original'].iloc[idxs_n, :],\n",
    "            dict_ds['data_ds3_fault2_original'].iloc[idxs_f, :],\n",
    "            dict_ds['data_ds3_fault4_original'].iloc[idxs_f, :]))\n",
    "        data_y = np.concatenate((\n",
    "            [0]*samples,\n",
    "            [2]*samples,\n",
    "            [4]*samples))\n",
    "    elif  scenario == 'n1, f1, f2, f4': # scenario 5\n",
    "        data_x = np.concatenate((\n",
    "            dict_ds['data_ds3_normal_t1_original'].iloc[idxs_n, :],\n",
    "            dict_ds['data_ds3_fault1_original'].iloc[idxs_f, :],\n",
    "            dict_ds['data_ds3_fault2_original'].iloc[idxs_f, :],\n",
    "            dict_ds['data_ds3_fault4_original'].iloc[idxs_f, :]))\n",
    "        data_y = np.concatenate((\n",
    "            [0]*samples,\n",
    "            [1]*samples,\n",
    "            [2]*samples,\n",
    "            [4]*samples))\n",
    "    else:\n",
    "        print('Scenario not found!')\n",
    "\n",
    "    return data_x, data_y"
   ],
   "metadata": {
    "collapsed": false,
    "pycharm": {
     "name": "#%%\n"
    }
   }
  },
  {
   "cell_type": "markdown",
   "metadata": {},
   "source": [
    "# Run"
   ]
  },
  {
   "cell_type": "code",
   "execution_count": 7,
   "metadata": {
    "execution": {
     "iopub.execute_input": "2022-02-14T21:26:15.059025Z",
     "iopub.status.busy": "2022-02-14T21:26:15.058711Z",
     "iopub.status.idle": "2022-02-14T21:26:15.078842Z",
     "shell.execute_reply": "2022-02-14T21:26:15.077645Z",
     "shell.execute_reply.started": "2022-02-14T21:26:15.058992Z"
    },
    "jupyter": {
     "outputs_hidden": false
    },
    "pycharm": {
     "name": "#%%\n"
    }
   },
   "outputs": [
    {
     "name": "stdout",
     "output_type": "stream",
     "text": [
      "DBSCAN 1 ['n1', 'n2', 'f2', 'f3'] auto euclidean\n",
      "[[0.33078944 0.90224893]\n",
      " [0.26353734 0.90760855]\n",
      " [0.30810225 0.90161086]\n",
      " [0.3127534  0.89988957]\n",
      " [0.31979464 0.90514703]\n",
      " [0.2748321  0.90418957]\n",
      " [0.36668693 0.91338351]\n",
      " [0.28733838 0.90608751]\n",
      " [0.35264798 0.90272767]\n",
      " [0.38312649 0.90113622]]\n",
      "DBSCAN 2 ['f1', 'f2', 'f3', 'f4'] auto euclidean\n",
      "[[0.2929942  0.90107289]\n",
      " [0.33316743 0.90059094]\n",
      " [0.27695605 0.89367565]\n",
      " [0.30727035 0.89585977]\n",
      " [0.32440899 0.90135511]\n",
      " [0.33422129 0.90583297]\n",
      " [0.3029698  0.90211592]\n",
      " [0.241151   0.90688038]\n",
      " [0.31697779 0.91957408]\n",
      " [0.27563183 0.91005007]]\n",
      "DBSCAN 3 ['n1', 'f1', 'f2', 'f3'] auto euclidean\n",
      "[[0.24934716 0.68245914]\n",
      " [0.25974832 0.68075894]\n",
      " [0.16687372 0.67953403]\n",
      " [0.34173969 0.68047376]\n",
      " [0.27400261 0.6779216 ]\n",
      " [0.25701102 0.68278799]\n",
      " [0.22574487 0.68225348]\n",
      " [0.32624575 0.68225669]\n",
      " [0.31849438 0.68685272]\n",
      " [0.2198764  0.67938885]]\n",
      "DBSCAN 4 ['n2', 'f2', 'f4'] auto euclidean\n",
      "[[0.42287476 0.91427362]\n",
      " [0.43786788 0.91021481]\n",
      " [0.4705135  0.9167778 ]\n",
      " [0.44806295 0.91096134]\n",
      " [0.4856798  0.9071077 ]\n",
      " [0.50335558 0.91517976]\n",
      " [0.51278613 0.91456784]\n",
      " [0.4053177  0.91243454]\n",
      " [0.4416159  0.90848375]\n",
      " [0.46538487 0.91679279]]\n",
      "DBSCAN 5 ['n1', 'f1', 'f2', 'f4'] auto euclidean\n",
      "[[0.34236839 0.69736551]\n",
      " [0.34714273 0.68275026]\n",
      " [0.2817692  0.69356481]\n",
      " [0.36548018 0.69626639]\n",
      " [0.39530857 0.68969842]\n",
      " [0.38262358 0.69613893]\n",
      " [0.37922999 0.68193966]\n",
      " [0.35818989 0.69505453]\n",
      " [0.31037813 0.691993  ]\n",
      " [0.39626244 0.69892353]]\n"
     ]
    }
   ],
   "source": [
    "log = None\n",
    "if FLUSH_FILE:\n",
    "    log = open(PATH_OUTPUTS+OUTPUT_FILE_NAME, \"a\", buffering=1)\n",
    "\n",
    "options = {'n1': [dict_ds['data_ds3_normal_t1_original'], 0, [0]],\n",
    "           'n2': [dict_ds['data_ds3_normal_t2_original'], 0, [0]],\n",
    "           'f1': [dict_ds['data_ds3_fault1_original'], 1, [1]],\n",
    "           'f2': [dict_ds['data_ds3_fault2_original'], 1, [2]],\n",
    "           'f3': [dict_ds['data_ds3_fault3_original'], 1, [3]],\n",
    "           'f4': [dict_ds['data_ds3_fault4_original'], 1, [4]]\n",
    "}\n",
    "\n",
    "samples = 2000\n",
    "n_folds = 10\n",
    "with_pca = False\n",
    "pca_variance = .95 # if with_pca is true\n",
    "alg = 'auto'\n",
    "metric = 'euclidean'\n",
    "scenarios = [\n",
    "    ['n1', 'n2', 'f2', 'f3'], # scenario 1\n",
    "    ['f1', 'f2', 'f3', 'f4'], # scenario 2\n",
    "    ['n1', 'f1', 'f2', 'f3'], # scenario 3\n",
    "    ['n2', 'f2', 'f4'], # scenario 4\n",
    "    ['n1', 'f1', 'f2', 'f4'], # scenario 5\n",
    "]\n",
    "outputs = np.zeros((n_folds, 2))\n",
    "\n",
    "n = 0\n",
    "for scenario in scenarios:\n",
    "    n = n + 1\n",
    "    print ('DBSCAN', n, scenario, alg, metric, file=log)\n",
    "\n",
    "    for fold in np.arange(0, n_folds):\n",
    "\n",
    "        ss = StandardScaler()\n",
    "        clf = DBSCAN(algorithm=alg, metric=metric)\n",
    "        y_pred = []\n",
    "\n",
    "        # get random indexes for each dataset, but the datasets are ordered\n",
    "        idxs = np.random.randint(0,100000,samples)\n",
    "\n",
    "        data_x = options[scenario[0]][0].iloc[idxs, :]\n",
    "        data_y = options[scenario[0]][2]*samples\n",
    "        for x in np.arange(1,len(scenario)):\n",
    "            data_x = np.concatenate((data_x, options[scenario[x]][0].iloc[idxs, :]))\n",
    "            data_y = np.concatenate((data_y, options[scenario[x]][2]*samples))\n",
    "\n",
    "        if with_pca:\n",
    "            pca = PCA(pca_variance)\n",
    "            data_x = pca.fit_transform(data_x)\n",
    "\n",
    "        data = np.concatenate((data_x, data_y.reshape(-1,1)), axis=1)\n",
    "\n",
    "        for pred in clf.fit_predict(ss.fit_transform(data_x)):\n",
    "            y_pred.append(pred)\n",
    "\n",
    "        if (len(np.unique(y_pred)) == 1):\n",
    "            outputs[fold][0] = -1\n",
    "        else:\n",
    "            outputs[fold][0] = silhouette_score(ss.transform(data_x), y_pred)\n",
    "\n",
    "        outputs[fold][1] = v_measure_score(data_y, y_pred, beta=0) # 0 plus homogeneity | 2 completeness\n",
    "\n",
    "    print(outputs)\n",
    "\n",
    "if FLUSH_FILE:\n",
    "    log.close()"
   ]
  },
  {
   "cell_type": "code",
   "execution_count": 8,
   "outputs": [
    {
     "data": {
      "text/plain": "array([-1,  0,  1,  2,  3,  4,  5,  6,  7,  8,  9, 10, 11, 12, 13, 14, 15,\n       16, 17, 18, 19, 20, 21, 22, 23, 24, 25, 26, 27, 28, 29, 30, 31, 32,\n       33, 34, 35, 36, 37, 38, 39, 40, 41, 42, 43, 44, 45, 46, 47, 48, 49,\n       50, 51, 52, 53, 54], dtype=int64)"
     },
     "execution_count": 8,
     "metadata": {},
     "output_type": "execute_result"
    }
   ],
   "source": [
    "np.unique(clf.labels_)"
   ],
   "metadata": {
    "collapsed": false,
    "pycharm": {
     "name": "#%%\n"
    }
   }
  }
 ],
 "metadata": {
  "kernelspec": {
   "display_name": "Python 3",
   "language": "python",
   "name": "python3"
  },
  "language_info": {
   "codemirror_mode": {
    "name": "ipython",
    "version": 3
   },
   "file_extension": ".py",
   "mimetype": "text/x-python",
   "name": "python",
   "nbconvert_exporter": "python",
   "pygments_lexer": "ipython3",
   "version": "3.7.6"
  }
 },
 "nbformat": 4,
 "nbformat_minor": 4
}