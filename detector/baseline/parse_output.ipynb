{
 "cells": [
  {
   "cell_type": "markdown",
   "source": [
    "- LOAD BASE FILES\n",
    "- CONVERT TO 2Hz\n",
    "- FIND BEST NETWORK"
   ],
   "metadata": {
    "collapsed": false
   }
  },
  {
   "cell_type": "code",
   "execution_count": 1,
   "outputs": [],
   "source": [
    "from math import floor\n",
    "import numpy as np\n",
    "import pandas as pd"
   ],
   "metadata": {
    "collapsed": false,
    "pycharm": {
     "name": "#%%\n"
    }
   }
  },
  {
   "cell_type": "code",
   "execution_count": 9,
   "metadata": {
    "collapsed": true
   },
   "outputs": [],
   "source": [
    "columns = {'arch':0, 'normal_1_acc':2, 'normal_2_acc':4, 'f1_acc':6, 'f2_acc':8, 'f3_acc':10, 'f4_acc':12}\n",
    "\n",
    "numbered_columns = ['normal_1_acc', 'normal_2_acc', 'f1_acc', 'f2_acc', 'f3_acc', 'f4_acc']"
   ]
  },
  {
   "cell_type": "code",
   "execution_count": 18,
   "outputs": [],
   "source": [
    "'''\n",
    "NOTE THAT THE \"NORMAL 2\" PATTERN COULD BE OUT OF PATTERN. REQUIRED 2 LINES as 2x2 array. IF THIS HAPPENED, MUST BE MANUALLY CONVERTED TO THE REQUIRED PATTERN AS BELOW!\n",
    "\n",
    "REQUIRED\n",
    "[[1. 0.]\n",
    " [0. 0.]]\n",
    "\n",
    "OUT OF PATTERN\n",
    "[[1.]]\n",
    "'''\n",
    "\n",
    "with open('./outputs/output_baseline_dr_3-ts_0.8-lf_1-limit_5000-wl_10.txt') as f:\n",
    "    lines = f.readlines()\n",
    "\n",
    "height = 13\n",
    "times = floor(len(lines)/height)\n",
    "\n",
    "output = pd.DataFrame(np.zeros((times, len(columns))), columns=columns)\n",
    "\n",
    "for k, column_name in enumerate(columns):\n",
    "    column_init_position = columns[column_name]\n",
    "\n",
    "    for time in np.arange(0, times):\n",
    "        line_number = column_init_position+(time*height)\n",
    "        value = lines[line_number].rstrip(\"\\n\")\n",
    "\n",
    "        if (column_name in numbered_columns):\n",
    "            value = float(value)\n",
    "\n",
    "        output.iloc[time,k] = value\n",
    "\n",
    "f.close()"
   ],
   "metadata": {
    "collapsed": false,
    "pycharm": {
     "name": "#%%\n"
    }
   }
  },
  {
   "cell_type": "code",
   "execution_count": 17,
   "outputs": [
    {
     "name": "stderr",
     "output_type": "stream",
     "text": [
      "C:\\Users\\MARCELO\\anaconda3\\lib\\site-packages\\ipykernel_launcher.py:3: SettingWithCopyWarning: \n",
      "A value is trying to be set on a copy of a slice from a DataFrame.\n",
      "Try using .loc[row_indexer,col_indexer] = value instead\n",
      "\n",
      "See the caveats in the documentation: https://pandas.pydata.org/pandas-docs/stable/user_guide/indexing.html#returning-a-view-versus-a-copy\n",
      "  This is separate from the ipykernel package so we can avoid doing imports until\n",
      "C:\\Users\\MARCELO\\anaconda3\\lib\\site-packages\\ipykernel_launcher.py:4: SettingWithCopyWarning: \n",
      "A value is trying to be set on a copy of a slice from a DataFrame.\n",
      "Try using .loc[row_indexer,col_indexer] = value instead\n",
      "\n",
      "See the caveats in the documentation: https://pandas.pydata.org/pandas-docs/stable/user_guide/indexing.html#returning-a-view-versus-a-copy\n",
      "  after removing the cwd from sys.path.\n"
     ]
    },
    {
     "data": {
      "text/plain": "       arch output_layer  batch_size optimizer loss_function  x_train_loss  \\\n99  [27, 3]       Tanh()        16.0      ADAM      L1Loss()      0.284561   \n\n    x_test_loss  normal_2_loss   f1_loss   f2_loss  f3_loss   f4_loss  \\\n99     0.269662       0.271106  0.318541  1.468519  0.44299  0.681296   \n\n    normal_1_acc  normal_2_acc  f1_acc  f2_acc  f3_acc  f4_acc  \\\n99         97.15         97.27    3.12   100.0   25.28   100.0   \n\n    d_trainloss_f1loss  d_normal1_normal2_acc  \n99            0.033981                  -0.12  ",
      "text/html": "<div>\n<style scoped>\n    .dataframe tbody tr th:only-of-type {\n        vertical-align: middle;\n    }\n\n    .dataframe tbody tr th {\n        vertical-align: top;\n    }\n\n    .dataframe thead th {\n        text-align: right;\n    }\n</style>\n<table border=\"1\" class=\"dataframe\">\n  <thead>\n    <tr style=\"text-align: right;\">\n      <th></th>\n      <th>arch</th>\n      <th>output_layer</th>\n      <th>batch_size</th>\n      <th>optimizer</th>\n      <th>loss_function</th>\n      <th>x_train_loss</th>\n      <th>x_test_loss</th>\n      <th>normal_2_loss</th>\n      <th>f1_loss</th>\n      <th>f2_loss</th>\n      <th>f3_loss</th>\n      <th>f4_loss</th>\n      <th>normal_1_acc</th>\n      <th>normal_2_acc</th>\n      <th>f1_acc</th>\n      <th>f2_acc</th>\n      <th>f3_acc</th>\n      <th>f4_acc</th>\n      <th>d_trainloss_f1loss</th>\n      <th>d_normal1_normal2_acc</th>\n    </tr>\n  </thead>\n  <tbody>\n    <tr>\n      <th>99</th>\n      <td>[27, 3]</td>\n      <td>Tanh()</td>\n      <td>16.0</td>\n      <td>ADAM</td>\n      <td>L1Loss()</td>\n      <td>0.284561</td>\n      <td>0.269662</td>\n      <td>0.271106</td>\n      <td>0.318541</td>\n      <td>1.468519</td>\n      <td>0.44299</td>\n      <td>0.681296</td>\n      <td>97.15</td>\n      <td>97.27</td>\n      <td>3.12</td>\n      <td>100.0</td>\n      <td>25.28</td>\n      <td>100.0</td>\n      <td>0.033981</td>\n      <td>-0.12</td>\n    </tr>\n  </tbody>\n</table>\n</div>"
     },
     "execution_count": 17,
     "metadata": {},
     "output_type": "execute_result"
    }
   ],
   "source": [
    "q1 = output.query('f1_acc > 0 and normal_1_acc > 60 and normal_2_acc > 0 and f3_acc > 20 and f4_acc > 20')\n",
    "\n",
    "q1['d_trainloss_f1loss'] = q1['f1_loss'] - q1['x_train_loss']\n",
    "q1['d_normal1_normal2_acc'] = q1['normal_1_acc'] - q1['normal_2_acc']\n",
    "\n",
    "q1"
   ],
   "metadata": {
    "collapsed": false,
    "pycharm": {
     "name": "#%%\n"
    }
   }
  }
 ],
 "metadata": {
  "kernelspec": {
   "display_name": "Python 3",
   "language": "python",
   "name": "python3"
  },
  "language_info": {
   "codemirror_mode": {
    "name": "ipython",
    "version": 2
   },
   "file_extension": ".py",
   "mimetype": "text/x-python",
   "name": "python",
   "nbconvert_exporter": "python",
   "pygments_lexer": "ipython2",
   "version": "2.7.6"
  }
 },
 "nbformat": 4,
 "nbformat_minor": 0
}