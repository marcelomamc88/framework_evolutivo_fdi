{
 "cells": [
  {
   "cell_type": "code",
   "execution_count": 1,
   "metadata": {
    "id": "iCIoMaMTBg7l"
   },
   "outputs": [
    {
     "name": "stderr",
     "output_type": "stream",
     "text": [
      "\n",
      "Bad key \"text.kerning_factor\" on line 4 in\n",
      "C:\\Users\\MARCELO\\anaconda3\\lib\\site-packages\\matplotlib\\mpl-data\\stylelib\\_classic_test_patch.mplstyle.\n",
      "You probably need to get an updated matplotlibrc file from\n",
      "https://github.com/matplotlib/matplotlib/blob/v3.1.3/matplotlibrc.template\n",
      "or from the matplotlib source distribution\n"
     ]
    }
   ],
   "source": [
    "import pandas as pd\n",
    "from collections import OrderedDict\n",
    "import torch\n",
    "import numpy as np\n",
    "from sklearn.metrics import confusion_matrix\n",
    "import matplotlib.pyplot as plt\n",
    "from torch import nn\n",
    "from sklearn.model_selection import train_test_split\n",
    "from sklearn.preprocessing import StandardScaler"
   ]
  },
  {
   "cell_type": "code",
   "execution_count": 10,
   "outputs": [],
   "source": [
    "'''\n",
    "EXTERNAL KERNEL\n",
    "'''\n",
    "google_colab = False\n",
    "kaggle = False\n",
    "\n",
    "'''\n",
    "CUDA\n",
    "'''\n",
    "cuda = False\n",
    "\n",
    "'''\n",
    "DATA REPRESENTATION\n",
    "\n",
    "1 => SINGLE READ | 2 => ADD FEATURES | 3 => WINDOW TO FEATURES\n",
    "'''\n",
    "DATA_REPRESENTATION = 2\n",
    "\n",
    "'''\n",
    "DOWNSAMPLE FACTOR\n",
    "\n",
    "1 => 10hz *original rate* | 2 => 5Hz | 5 => 2Hz | 10 => 1hz\n",
    "'''\n",
    "DOWNSAMPLE_FACTOR = 5\n",
    "\n",
    "'''\n",
    "WINDOWS LENGHT\n",
    "\n",
    "* needs divisor by datapoints target\n",
    "* considering downsample factor = 5\n",
    "\n",
    "1 => WINDOW DISABLED | 2 => 1 second | 4 => 2 seconds | 10 => 5 seconds | 20 => 10 seconds | 200 => 100 seconds *full flight*\n",
    "'''\n",
    "WINDOW_LENGHT =  1\n",
    "\n",
    "'''\n",
    "LIMITADOR\n",
    "\n",
    "Quantity of samples in the execution of the tests.\n",
    "'''\n",
    "LIMITADOR = 20000\n",
    "\n",
    "'''\n",
    "LOSS FACTOR [0,1]\n",
    "\n",
    "Ignores outliers in calculating the stats of losses in regenerated data.\n",
    "'''\n",
    "LOSS_FACTOR = 0.96\n",
    "\n",
    "'''\n",
    "TRAIN_SIZE [0,1]\n",
    "\n",
    "Percentage of samples to be trained\n",
    "'''\n",
    "TRAIN_SIZE = 0.8\n",
    "\n",
    "'''\n",
    "OUTPUT_FILE_NAME\n",
    "\n",
    "File with output results\n",
    "'''\n",
    "OUTPUT_FILE_NAME = 'output-dr_' + str(DATA_REPRESENTATION) + '-ts_' + str(TRAIN_SIZE) + '-lf_' + str.replace(str(LOSS_FACTOR), '.', '') + '-limit_' + str(LIMITADOR) + '-wl_' + str(WINDOW_LENGHT) + '.txt'\n",
    "\n",
    "'''\n",
    "PATH_OUTPUTS\n",
    "\n",
    "'''\n",
    "PATH_OUTPUTS = './outputs/'\n",
    "\n",
    "'''\n",
    "PATH_DATASET\n",
    "\n",
    "'''\n",
    "PATH_DATASET = '../../dataset/original/'\n",
    "\n",
    "'''\n",
    "FLUSH FILE\n",
    "\n",
    "If output results file is ON\n",
    "'''\n",
    "FLUSH_FILE = True"
   ],
   "metadata": {
    "collapsed": false,
    "pycharm": {
     "name": "#%%\n"
    }
   }
  },
  {
   "cell_type": "code",
   "execution_count": 3,
   "metadata": {
    "colab": {
     "base_uri": "https://localhost:8080/"
    },
    "id": "CILVSdmV43uh",
    "outputId": "ccfdfad7-dc42-41e9-9c07-d4cfe527aa98"
   },
   "outputs": [],
   "source": [
    "if google_colab:\n",
    "    from google.colab import drive\n",
    "\n",
    "    drive.mount('/content/drive')\n",
    "    path = '/content/drive/My Drive/ACADÊMICO/MESTRADO/DISSERTAÇÃO/CHAPTERS/5 EXPERIMENTO/dataset/data_representation_1'\n",
    "    dict_ds_original = {\n",
    "        'data_ds3_normal_t1_original' : pd.read_csv(path+'/F16_DS3_normal_t1.csv', header=None),\n",
    "        'data_ds3_normal_t2_original' : pd.read_csv(path+'/F16_DS3_normal_t2.csv', header=None),\n",
    "        'data_ds3_fault1_original' : pd.read_csv(path+'/F16_DS3_fault1_leakage.csv', header=None),\n",
    "        'data_ds3_fault2_original' : pd.read_csv(path+'/F16_DS3_fault2_viscousfriction.csv', header=None),\n",
    "        'data_ds3_fault3_original' : pd.read_csv(path+'/F16_DS3_fault3_compressibility.csv', header=None),\n",
    "        'data_ds3_fault4_original' : pd.read_csv(path+'/F16_DS3_fault4_fixedposition.csv', header=None),\n",
    "    }\n",
    "elif kaggle:\n",
    "    !conda install -y gdown\n",
    "    !gdown --id 1G88okIVmdcgLFlmd7rDRhHvHv98yK3UB\n",
    "    !gdown --id 1fX3utfHMjwKTt7IW4D01bnm-hv88yzrJ\n",
    "    !gdown --id 1yUG3R5zK2AIxtS9Q4Fk-udkKBZeYShgb\n",
    "    !gdown --id 1OBRDtuqNEZ-3Z-q0helWh2xGiAxeLACH\n",
    "    !gdown --id 17oDi60sWYsWHHxzj2aA9m6ARm8zQ81m_\n",
    "    !gdown --id 1jKEK4s5sYJh8PHtpHeV8ABOsHjuB26RA\n",
    "else:\n",
    "    dict_ds_original = {\n",
    "        'data_ds3_normal_t1_original' : pd.read_csv(PATH_DATASET+'F16_DS3_normal_t1.csv', header=None),\n",
    "        'data_ds3_normal_t2_original' : pd.read_csv(PATH_DATASET+'F16_DS3_normal_t2.csv', header=None),\n",
    "        'data_ds3_fault1_original' : pd.read_csv(PATH_DATASET+'F16_DS3_fault1_leakage.csv', header=None),\n",
    "        'data_ds3_fault2_original' : pd.read_csv(PATH_DATASET+'F16_DS3_fault2_viscousfriction.csv', header=None),\n",
    "        'data_ds3_fault3_original' : pd.read_csv(PATH_DATASET+'F16_DS3_fault3_compressibility.csv', header=None),\n",
    "        'data_ds3_fault4_original' : pd.read_csv(PATH_DATASET+'F16_DS3_fault4_fixedposition.csv', header=None),\n",
    "    }"
   ]
  },
  {
   "cell_type": "code",
   "execution_count": 4,
   "outputs": [],
   "source": [
    "dict_ds = dict_ds_original.copy()\n",
    "\n",
    "if dict_ds['data_ds3_normal_t1_original'].shape[0] % DOWNSAMPLE_FACTOR != 0 or dict_ds['data_ds3_fault1_original'].shape[0] % DOWNSAMPLE_FACTOR != 0:\n",
    "    raise Exception('Needs to be ?shape? divisor')\n",
    "\n",
    "for n, dataset_name in enumerate(dict_ds):\n",
    "    dataset = dict_ds[dataset_name].to_numpy()\n",
    "\n",
    "    downsampled = dataset[::DOWNSAMPLE_FACTOR]\n",
    "\n",
    "    x, y = downsampled.shape\n",
    "\n",
    "    # resample\n",
    "    dict_ds[dataset_name] = pd.DataFrame(downsampled.reshape((int(x/WINDOW_LENGHT),y*WINDOW_LENGHT)))\n"
   ],
   "metadata": {
    "collapsed": false,
    "pycharm": {
     "name": "#%%\n"
    }
   }
  },
  {
   "cell_type": "code",
   "execution_count": 5,
   "outputs": [],
   "source": [
    "# ADD COLUMNS WITH DIFF PREVIOUS VALUES\n",
    "\n",
    "if (DATA_REPRESENTATION == 2):\n",
    "    frame_size = int(1000/DOWNSAMPLE_FACTOR)\n",
    "\n",
    "    for n, dataset_name in enumerate(dict_ds):\n",
    "        dataset = dict_ds[dataset_name].to_numpy()\n",
    "\n",
    "        dimension = dataset.shape[1]\n",
    "        samples = dataset.shape[0]\n",
    "\n",
    "        # GENERATE NEW DIMENSIONS\n",
    "        dataset = np.concatenate((dataset, np.zeros((samples,dimension))), axis=1)\n",
    "\n",
    "        for f in np.arange(0,int(samples/frame_size)):\n",
    "            # OBTAIN THE FRAME FLIGHT\n",
    "            frame = dataset[f*frame_size:(f+1)*frame_size, 0:dimension]\n",
    "\n",
    "            # CALCULATE DIFFERENCE\n",
    "            chunk = np.diff(frame, axis=0)\n",
    "\n",
    "            # DONT CALCULATE THE DIFFERENCE FOR EACH FIRST TIMESTEP\n",
    "            chunk = np.insert(chunk, 0, frame[0, 0:dimension], axis=0)\n",
    "\n",
    "            # UPDATE DATASET WITH NEW FRAME INTO NEW DIMENSIONS\n",
    "            dataset[f*frame_size:(f+1)*frame_size,dimension:dimension*2] = chunk\n",
    "\n",
    "        dict_ds[dataset_name] = pd.DataFrame(dataset)\n",
    "\n"
   ],
   "metadata": {
    "collapsed": false,
    "pycharm": {
     "name": "#%%\n"
    }
   }
  },
  {
   "cell_type": "code",
   "execution_count": 6,
   "metadata": {
    "id": "l5N9KYHoBg71"
   },
   "outputs": [],
   "source": [
    "ss = StandardScaler()\n",
    "\n",
    "data_ds3_t1_normal = dict_ds['data_ds3_normal_t1_original']\n",
    "data_ds3_t2_normal = dict_ds['data_ds3_normal_t2_original']\n",
    "data_ds3_fault1 = dict_ds['data_ds3_fault1_original']\n",
    "data_ds3_fault2 = dict_ds['data_ds3_fault2_original']\n",
    "data_ds3_fault3 = dict_ds['data_ds3_fault3_original']\n",
    "data_ds3_fault4 = dict_ds['data_ds3_fault4_original']\n",
    "\n",
    "# fit values\n",
    "ss.partial_fit(data_ds3_t1_normal)\n",
    "ss.partial_fit(data_ds3_t2_normal)\n",
    "ss.partial_fit(data_ds3_fault1)\n",
    "ss.partial_fit(data_ds3_fault2)\n",
    "ss.partial_fit(data_ds3_fault3)\n",
    "ss.partial_fit(data_ds3_fault4)\n",
    "\n",
    "# transform values\n",
    "data_ds3_t1_normal = ss.transform(data_ds3_t1_normal)\n",
    "data_ds3_t2_normal = ss.transform(data_ds3_t2_normal)\n",
    "data_ds3_fault1 = ss.transform(data_ds3_fault1)\n",
    "data_ds3_fault2 = ss.transform(data_ds3_fault2)\n",
    "data_ds3_fault3 = ss.transform(data_ds3_fault3)\n",
    "data_ds3_fault4 = ss.transform(data_ds3_fault4)\n",
    "\n",
    "# append normal labels\n",
    "data_ds3_t1_normal = np.append(data_ds3_t1_normal, np.zeros((data_ds3_t1_normal.shape[0],1)), axis = 1)\n",
    "data_ds3_t2_normal = np.append(data_ds3_t2_normal, np.zeros((data_ds3_t2_normal.shape[0],1)), axis = 1)\n",
    "\n",
    "# append fault labels\n",
    "def generate_fault_label(dataset, fault_label):\n",
    "    labels = np.array([[fault_label]]*dataset.shape[0])\n",
    "\n",
    "    return labels\n",
    "\n",
    "data_ds3_fault1 = np.append(data_ds3_fault1, generate_fault_label(data_ds3_fault1, 1), axis = 1)\n",
    "data_ds3_fault2 = np.append(data_ds3_fault2, generate_fault_label(data_ds3_fault2, 2), axis = 1)\n",
    "data_ds3_fault3 = np.append(data_ds3_fault3, generate_fault_label(data_ds3_fault3, 3), axis = 1)\n",
    "data_ds3_fault4 = np.append(data_ds3_fault4, generate_fault_label(data_ds3_fault4, 4), axis = 1)"
   ]
  },
  {
   "cell_type": "code",
   "execution_count": 7,
   "metadata": {
    "id": "aCbDYmvL43u2"
   },
   "outputs": [],
   "source": [
    "dimension = data_ds3_t2_normal.shape[1]-1\n",
    "\n",
    "# FUNCTIONS AND CLASSES\n",
    "class Autoencoder(nn.Module):\n",
    "    def __init__(self, encode_l, decode_l):\n",
    "        super().__init__()\n",
    "        self.encoder = nn.Sequential(encode_l)\n",
    "        self.decoder = nn.Sequential(decode_l)\n",
    "\n",
    "    def forward(self, x):\n",
    "        return self.decoder(self.encoder(x))\n",
    "\n",
    "def run_train(net, train_loader, num_epochs, optimizer, loss_func):\n",
    "    train_loss = []\n",
    "    for epoch in range(num_epochs):\n",
    "        running_loss = 0.0\n",
    "        losses = []\n",
    "        for n, (real_samples, _) in enumerate(train_loader):\n",
    "\n",
    "            net.zero_grad()\n",
    "\n",
    "            ### forward ###\n",
    "            if cuda:\n",
    "                output = net(real_samples.type(torch.FloatTensor).cuda())\n",
    "                loss = loss_func(output, real_samples.type(torch.FloatTensor).cuda())\n",
    "            else:\n",
    "                output = net(real_samples.type(torch.FloatTensor))\n",
    "                loss = loss_func(output, real_samples.type(torch.FloatTensor))\n",
    "\n",
    "            running_loss += loss.item()\n",
    "            losses.append(loss.item)\n",
    "\n",
    "            ### backward ###\n",
    "            loss.backward()\n",
    "            optimizer.step()\n",
    "\n",
    "        step_loss = running_loss / len(train_loader)\n",
    "        train_loss.append(step_loss)\n",
    "\n",
    "        ### log ###\n",
    "        #print('epoch [{}/{}], loss:{:.4f}'.format(epoch + 1, num_epochs, loss))\n",
    "\n",
    "    return net, output, train_loss, losses\n",
    "\n",
    "def generate_ground_truth(data_test):\n",
    "    ground_truth = []\n",
    "\n",
    "    for j, x in enumerate(data_test):\n",
    "\n",
    "        if x.shape[0] == dimension: # X_test\n",
    "            ground_truth.append(0)\n",
    "        else: # % others: get column label\n",
    "            if x[-1] != 0:\n",
    "                ground_truth.append(1)\n",
    "            else:\n",
    "                ground_truth.append(0)\n",
    "\n",
    "    return ground_truth\n",
    "\n",
    "def generate_losses(data_test, net, loss_function):\n",
    "    losses = []\n",
    "    #regenerate_data = np.zeros((1, dimension))\n",
    "    for j, x in enumerate(data_test):\n",
    "\n",
    "        if x.shape[0] > dimension:\n",
    "            x = x[:-1]\n",
    "\n",
    "        real = x.reshape(1,-1).astype(np.float32)\n",
    "\n",
    "        #regenerate_data[j] = regenerate.cpu().detach().numpy()\n",
    "\n",
    "        if cuda:\n",
    "            regenerate = net(torch.from_numpy(real).cuda())\n",
    "            loss_ae = loss_function(regenerate, torch.from_numpy(real).cuda()).item()\n",
    "        else:\n",
    "            regenerate = net(torch.from_numpy(real))\n",
    "            loss_ae = loss_function(regenerate, torch.from_numpy(real)).item()\n",
    "\n",
    "        losses.append(loss_ae)\n",
    "\n",
    "    return losses\n",
    "\n",
    "def generate_y_hat(losses, loss_threshold):\n",
    "    y_hat = []\n",
    "\n",
    "    for l in losses:\n",
    "        if l < loss_threshold:\n",
    "            y_hat.append(0)\n",
    "        else:\n",
    "            y_hat.append(1)\n",
    "\n",
    "    return y_hat\n",
    "\n",
    "def tester(data_test, net, loss_function, loss_threshold = 1):\n",
    "\n",
    "    ground_truth = []\n",
    "    losses = []\n",
    "\n",
    "    for n, dataset_name in enumerate(data_test):\n",
    "        dataset = data_test[dataset_name]\n",
    "\n",
    "        ground_truth = ground_truth + generate_ground_truth(dataset)\n",
    "\n",
    "        losses = losses + generate_losses(dataset, net, loss_function)\n",
    "\n",
    "    y_hat = generate_y_hat(losses, loss_threshold)\n",
    "\n",
    "    return confusion_matrix(ground_truth, y_hat, normalize='true'), losses, ground_truth, y_hat\n",
    "\n",
    "def generate_encode_decode_layers(layers, output_layer):\n",
    "    od_encode = []\n",
    "    od_decode = []\n",
    "    # encode\n",
    "    for _, layer in enumerate(layers):\n",
    "        n = _ + 1\n",
    "\n",
    "        if (len(layers) == n):\n",
    "            break\n",
    "\n",
    "        od_encode.append(('l'+str((len(od_encode)+1)), nn.Linear(layers[_],layers[n])))\n",
    "\n",
    "        if (len(layers) != n+1):\n",
    "            od_encode.append(('l'+str((len(od_encode)+1)), nn.ReLU()))\n",
    "\n",
    "    # decode\n",
    "    layers.reverse()\n",
    "    for _, layer in enumerate(layers):\n",
    "        n = _ + 1\n",
    "\n",
    "        if (len(layers) == n):\n",
    "            break\n",
    "\n",
    "        od_decode.append(('l'+str((len(od_decode)+1)), nn.Linear(layers[_],layers[n])))\n",
    "\n",
    "        if (len(layers) != n+1):\n",
    "            od_decode.append(('l'+str((len(od_decode)+1)), nn.ReLU()))\n",
    "        else:\n",
    "            od_decode.append(('l'+str((len(od_decode)+1)), output_layer))\n",
    "\n",
    "    return OrderedDict(od_encode), OrderedDict(od_decode)\n",
    "\n",
    "def train(layers, last_layer, lr, epochs, batch_size, X_train, optim, loss_fnc, net = []):\n",
    "    encode_l, decode_l = generate_encode_decode_layers(layers, last_layer)\n",
    "\n",
    "    if (net == []):\n",
    "        net = Autoencoder(encode_l, decode_l)\n",
    "\n",
    "    if cuda:\n",
    "        net.cuda()\n",
    "\n",
    "    if (optim == 'ADAM'):\n",
    "        optimizer = torch.optim.Adam(net.parameters(), lr=lr, weight_decay=1e-5)\n",
    "    elif(optim == 'SGD'):\n",
    "        optimizer = torch.optim.SGD(net.parameters(), lr=lr)\n",
    "    elif(optim == 'RMSprop'):\n",
    "        optimizer = torch.optim.RMSprop(net.parameters(), lr=lr)\n",
    "\n",
    "    torch.manual_seed(111)\n",
    "\n",
    "    # sets\n",
    "    train_set = [\n",
    "        (X_train, X_train) for i in range(len(X_train))\n",
    "    ]\n",
    "\n",
    "    train_loader = torch.utils.data.DataLoader(\n",
    "        train_set, batch_size=batch_size, shuffle=False\n",
    "    )\n",
    "\n",
    "    # train\n",
    "    net, output, loss, losses = run_train(net, train_loader, epochs, optimizer, loss_fnc)\n",
    "\n",
    "    return net, output, loss, losses, loss_fnc\n",
    "\n",
    "def test(X_train, X_test, net, loss_function, phi = 0):\n",
    "\n",
    "    faults = {'F1': data_ds3_fault1[:LIMITADOR],\n",
    "              'F2': data_ds3_fault2[:LIMITADOR],\n",
    "              'F3': data_ds3_fault3[:LIMITADOR],\n",
    "              'F4': data_ds3_fault4[:LIMITADOR]}\n",
    "\n",
    "    datas = {'X_TRAIN':X_train,\n",
    "             'X_TEST':X_test[:LIMITADOR],\n",
    "             'NORMAL 2':data_ds3_t2_normal[:LIMITADOR]}\n",
    "\n",
    "    datas.update(faults)\n",
    "\n",
    "    for n, dataset_name in enumerate(datas):\n",
    "        print('Losses ' + dataset_name , file=log)\n",
    "\n",
    "        if (dataset_name == 'X_TRAIN'):\n",
    "            losses = generate_losses(datas[dataset_name], net, loss_function)\n",
    "            np_losses = np.sort(np.array(losses))\n",
    "            losses = np_losses[:int(len(np_losses)*LOSS_FACTOR)]\n",
    "        else:\n",
    "            losses = [1]\n",
    "\n",
    "        print(\"mu: \", np.mean(losses), file=log)\n",
    "        print(\"std: \", np.std(losses, ddof=1, dtype=np.float64), file=log)\n",
    "\n",
    "        phi_test = np.mean(losses) + np.std(losses, ddof=1, dtype=np.float64)\n",
    "\n",
    "        print(\"phi: \", phi_test, file=log)\n",
    "\n",
    "        if (dataset_name == 'X_TRAIN'):\n",
    "            if phi == 0:\n",
    "                phi = phi_test\n",
    "\n",
    "        print('******************************', file=log)\n",
    "        print('******************************', file=log)\n",
    "        print('******************************', file=log)\n",
    "\n",
    "    # CONFUSION MATRIX FOR NORMAL_2\n",
    "    cf, losses, ground_truth, y_hat_n2 = tester({'NORMAL 2':data_ds3_t2_normal[:LIMITADOR]}, net, loss_function, phi)\n",
    "\n",
    "    print('NORMAL 2', file=log)\n",
    "    print(cf, file=log)\n",
    "    print('******************************', file=log)\n",
    "    print('******************************', file=log)\n",
    "    print('******************************', file=log)\n",
    "\n",
    "    for n, fault_name in enumerate(faults):\n",
    "\n",
    "        datas = {'X_TEST': X_test[:LIMITADOR],\n",
    "                 'fault_name': faults[fault_name][:LIMITADOR]}\n",
    "\n",
    "        cf, losses, ground_truth, y_hat = tester(datas, net, loss_function, phi)\n",
    "\n",
    "        print('X_TEST x ' + fault_name, file=log)\n",
    "        print(cf, file=log)\n",
    "        print('******************************', file=log)\n",
    "        print('******************************', file=log)\n",
    "        print('******************************', file=log)\n",
    "\n",
    "    return y_hat_n2, phi\n",
    "\n",
    "class Incremental_Stats():\n",
    "\n",
    "    def __init__(self):\n",
    "        self.count = 0\n",
    "        self.mu = 0.0\n",
    "        self.var = 0.0\n",
    "\n",
    "    def add(self, x):\n",
    "        if self.count == 0:\n",
    "            new_mu = x\n",
    "            new_var = 0\n",
    "        else:\n",
    "            new_mu = (self.count * self.mu + x) / (self.count + 1)\n",
    "            new_var = ((self.count + 1) / self.count) * (((self.count * self.var) / (self.count + 1)) + (((x - new_mu)**2) / self.count))\n",
    "\n",
    "        self.count = self.count+1\n",
    "        self.mu = new_mu\n",
    "        self.var = new_var\n",
    "\n",
    "        return self.mu, self.var, self.count\n",
    "\n",
    "    def get_mean(self):\n",
    "        return self.mean\n",
    "\n",
    "    def get_variance(self):\n",
    "        return self.variance\n",
    "\n",
    "    def get_std(self):\n",
    "        return self.variance**0.5\n",
    "\n",
    "    def get_n(self):\n",
    "        return self.Elements"
   ]
  },
  {
   "cell_type": "code",
   "execution_count": 8,
   "outputs": [],
   "source": [
    "X_train, X_test, y_train, y_test = train_test_split(data_ds3_t1_normal[:, :-1], data_ds3_t1_normal[:, -1], test_size=1-TRAIN_SIZE, random_state=42)"
   ],
   "metadata": {
    "collapsed": false,
    "pycharm": {
     "name": "#%%\n"
    }
   }
  },
  {
   "cell_type": "code",
   "execution_count": null,
   "metadata": {
    "colab": {
     "base_uri": "https://localhost:8080/"
    },
    "id": "WBpHJcvJBg75",
    "outputId": "1c754107-785f-459d-ee5b-4dc524e468b7",
    "pycharm": {
     "is_executing": true
    }
   },
   "outputs": [
    {
     "name": "stdout",
     "output_type": "stream",
     "text": [
      "next\n",
      ".--\n",
      "0.14637829109344683\n",
      "0.46456087181483535\n",
      "--\n",
      "0.1378880844190717\n",
      "0.44310426690322663\n",
      "--\n",
      "0.1378880844190717\n",
      "0.44310426690322663\n"
     ]
    },
    {
     "name": "stderr",
     "output_type": "stream",
     "text": [
      "C:\\Users\\MARCELO\\anaconda3\\lib\\site-packages\\numpy\\core\\_methods.py:263: RuntimeWarning: Degrees of freedom <= 0 for slice\n",
      "  keepdims=keepdims, where=where)\n",
      "C:\\Users\\MARCELO\\anaconda3\\lib\\site-packages\\numpy\\core\\_methods.py:254: RuntimeWarning: invalid value encountered in double_scalars\n",
      "  ret = ret.dtype.type(ret / rcount)\n"
     ]
    },
    {
     "name": "stdout",
     "output_type": "stream",
     "text": [
      "***************************\n",
      "***************************\n",
      "***************************\n",
      "***************************\n",
      ".--\n",
      "0.12468641990895978\n",
      "0.4466808305448316\n",
      "--\n",
      "0.14598004795704037\n",
      "0.5000322847971544\n",
      "--\n",
      "0.141934066188056\n",
      "0.47232570066352436\n"
     ]
    },
    {
     "name": "stderr",
     "output_type": "stream",
     "text": [
      "C:\\Users\\MARCELO\\anaconda3\\lib\\site-packages\\numpy\\core\\_methods.py:263: RuntimeWarning: Degrees of freedom <= 0 for slice\n",
      "  keepdims=keepdims, where=where)\n",
      "C:\\Users\\MARCELO\\anaconda3\\lib\\site-packages\\numpy\\core\\_methods.py:254: RuntimeWarning: invalid value encountered in double_scalars\n",
      "  ret = ret.dtype.type(ret / rcount)\n"
     ]
    },
    {
     "name": "stdout",
     "output_type": "stream",
     "text": [
      "***************************\n",
      "***************************\n",
      "***************************\n",
      "***************************\n",
      ".--\n",
      "0.11493981232347303\n",
      "0.4394414952809974\n",
      "--\n",
      "0.14817176502011717\n",
      "0.5623200676633926\n",
      "--\n",
      "0.1440132991320764\n",
      "0.5040263484856445\n"
     ]
    },
    {
     "name": "stderr",
     "output_type": "stream",
     "text": [
      "C:\\Users\\MARCELO\\anaconda3\\lib\\site-packages\\numpy\\core\\_methods.py:263: RuntimeWarning: Degrees of freedom <= 0 for slice\n",
      "  keepdims=keepdims, where=where)\n",
      "C:\\Users\\MARCELO\\anaconda3\\lib\\site-packages\\numpy\\core\\_methods.py:254: RuntimeWarning: invalid value encountered in double_scalars\n",
      "  ret = ret.dtype.type(ret / rcount)\n"
     ]
    },
    {
     "name": "stdout",
     "output_type": "stream",
     "text": [
      "***************************\n",
      "***************************\n",
      "***************************\n",
      "***************************\n",
      ".--\n",
      "0.10630828548207905\n",
      "0.4343430763096469\n",
      "--\n",
      "0.10874958781152963\n",
      "0.4376739065331219\n",
      "--\n",
      "0.1351973713019397\n",
      "0.4884700035061654\n"
     ]
    },
    {
     "name": "stderr",
     "output_type": "stream",
     "text": [
      "C:\\Users\\MARCELO\\anaconda3\\lib\\site-packages\\numpy\\core\\_methods.py:263: RuntimeWarning: Degrees of freedom <= 0 for slice\n",
      "  keepdims=keepdims, where=where)\n",
      "C:\\Users\\MARCELO\\anaconda3\\lib\\site-packages\\numpy\\core\\_methods.py:254: RuntimeWarning: invalid value encountered in double_scalars\n",
      "  ret = ret.dtype.type(ret / rcount)\n"
     ]
    },
    {
     "name": "stdout",
     "output_type": "stream",
     "text": [
      "***************************\n",
      "***************************\n",
      "***************************\n",
      "***************************\n",
      ".--\n",
      "0.10219704612919465\n",
      "0.4323230246475561\n",
      "--\n",
      "0.10365557619091123\n",
      "0.4226772535789392\n",
      "--\n",
      "0.128889012279734\n",
      "0.476166614013337\n"
     ]
    },
    {
     "name": "stderr",
     "output_type": "stream",
     "text": [
      "C:\\Users\\MARCELO\\anaconda3\\lib\\site-packages\\numpy\\core\\_methods.py:263: RuntimeWarning: Degrees of freedom <= 0 for slice\n",
      "  keepdims=keepdims, where=where)\n",
      "C:\\Users\\MARCELO\\anaconda3\\lib\\site-packages\\numpy\\core\\_methods.py:254: RuntimeWarning: invalid value encountered in double_scalars\n",
      "  ret = ret.dtype.type(ret / rcount)\n"
     ]
    },
    {
     "name": "stdout",
     "output_type": "stream",
     "text": [
      "***************************\n",
      "***************************\n",
      "***************************\n",
      "***************************\n",
      ".--\n",
      "0.10002667147760641\n",
      "0.4378105915912946\n",
      "--\n",
      "0.07613516706600786\n",
      "0.34641296613367\n",
      "--\n",
      "0.12009670474411299\n",
      "0.4575035296141422\n"
     ]
    },
    {
     "name": "stderr",
     "output_type": "stream",
     "text": [
      "C:\\Users\\MARCELO\\anaconda3\\lib\\site-packages\\numpy\\core\\_methods.py:263: RuntimeWarning: Degrees of freedom <= 0 for slice\n",
      "  keepdims=keepdims, where=where)\n",
      "C:\\Users\\MARCELO\\anaconda3\\lib\\site-packages\\numpy\\core\\_methods.py:254: RuntimeWarning: invalid value encountered in double_scalars\n",
      "  ret = ret.dtype.type(ret / rcount)\n"
     ]
    },
    {
     "name": "stdout",
     "output_type": "stream",
     "text": [
      "***************************\n",
      "***************************\n",
      "***************************\n",
      "***************************\n",
      ".--\n",
      "0.09675611686125436\n",
      "0.43380936538984205\n",
      "--\n",
      "0.0702844364149496\n",
      "0.34110808703955664\n",
      "--\n",
      "0.11298066641137536\n",
      "0.44307513908681845\n"
     ]
    },
    {
     "name": "stderr",
     "output_type": "stream",
     "text": [
      "C:\\Users\\MARCELO\\anaconda3\\lib\\site-packages\\numpy\\core\\_methods.py:263: RuntimeWarning: Degrees of freedom <= 0 for slice\n",
      "  keepdims=keepdims, where=where)\n",
      "C:\\Users\\MARCELO\\anaconda3\\lib\\site-packages\\numpy\\core\\_methods.py:254: RuntimeWarning: invalid value encountered in double_scalars\n",
      "  ret = ret.dtype.type(ret / rcount)\n"
     ]
    },
    {
     "name": "stdout",
     "output_type": "stream",
     "text": [
      "***************************\n",
      "***************************\n",
      "***************************\n",
      "***************************\n",
      ".--\n",
      "0.0942444679395024\n",
      "0.4319969606096492\n",
      "--\n",
      "0.09051258665602654\n",
      "0.4197310825997531\n",
      "--\n",
      "0.11017215644195676\n",
      "0.44026217865683026\n"
     ]
    },
    {
     "name": "stderr",
     "output_type": "stream",
     "text": [
      "C:\\Users\\MARCELO\\anaconda3\\lib\\site-packages\\numpy\\core\\_methods.py:263: RuntimeWarning: Degrees of freedom <= 0 for slice\n",
      "  keepdims=keepdims, where=where)\n",
      "C:\\Users\\MARCELO\\anaconda3\\lib\\site-packages\\numpy\\core\\_methods.py:254: RuntimeWarning: invalid value encountered in double_scalars\n",
      "  ret = ret.dtype.type(ret / rcount)\n"
     ]
    },
    {
     "name": "stdout",
     "output_type": "stream",
     "text": [
      "***************************\n",
      "***************************\n",
      "***************************\n",
      "***************************\n",
      ".--\n",
      "0.09496761618395168\n",
      "0.4305862854079385\n",
      "--\n",
      "0.10824058658117429\n",
      "0.48027062454444175\n",
      "--\n",
      "0.10995753756853649\n",
      "0.44485739091881477\n"
     ]
    },
    {
     "name": "stderr",
     "output_type": "stream",
     "text": [
      "C:\\Users\\MARCELO\\anaconda3\\lib\\site-packages\\numpy\\core\\_methods.py:263: RuntimeWarning: Degrees of freedom <= 0 for slice\n",
      "  keepdims=keepdims, where=where)\n",
      "C:\\Users\\MARCELO\\anaconda3\\lib\\site-packages\\numpy\\core\\_methods.py:254: RuntimeWarning: invalid value encountered in double_scalars\n",
      "  ret = ret.dtype.type(ret / rcount)\n"
     ]
    },
    {
     "name": "stdout",
     "output_type": "stream",
     "text": [
      "***************************\n",
      "***************************\n",
      "***************************\n",
      "***************************\n",
      ".--\n",
      "0.09318646876864498\n",
      "0.4310808167211712\n",
      "--\n",
      "0.08332871359679848\n",
      "0.3993880093551001\n",
      "--\n",
      "0.10729465517136268\n",
      "0.440575595003472\n"
     ]
    },
    {
     "name": "stderr",
     "output_type": "stream",
     "text": [
      "C:\\Users\\MARCELO\\anaconda3\\lib\\site-packages\\numpy\\core\\_methods.py:263: RuntimeWarning: Degrees of freedom <= 0 for slice\n",
      "  keepdims=keepdims, where=where)\n",
      "C:\\Users\\MARCELO\\anaconda3\\lib\\site-packages\\numpy\\core\\_methods.py:254: RuntimeWarning: invalid value encountered in double_scalars\n",
      "  ret = ret.dtype.type(ret / rcount)\n"
     ]
    },
    {
     "name": "stdout",
     "output_type": "stream",
     "text": [
      "***************************\n",
      "***************************\n",
      "***************************\n",
      "***************************\n",
      ".--\n",
      "0.09225822410488682\n",
      "0.4283405909055463\n",
      "--\n",
      "0.10663246139883995\n",
      "0.4767622525705215\n",
      "--\n",
      "0.10723445573749699\n",
      "0.4439642582258013\n"
     ]
    },
    {
     "name": "stderr",
     "output_type": "stream",
     "text": [
      "C:\\Users\\MARCELO\\anaconda3\\lib\\site-packages\\numpy\\core\\_methods.py:263: RuntimeWarning: Degrees of freedom <= 0 for slice\n",
      "  keepdims=keepdims, where=where)\n",
      "C:\\Users\\MARCELO\\anaconda3\\lib\\site-packages\\numpy\\core\\_methods.py:254: RuntimeWarning: invalid value encountered in double_scalars\n",
      "  ret = ret.dtype.type(ret / rcount)\n"
     ]
    },
    {
     "name": "stdout",
     "output_type": "stream",
     "text": [
      "***************************\n",
      "***************************\n",
      "***************************\n",
      "***************************\n",
      ".--\n",
      "0.09157145738307412\n",
      "0.42720651113326524\n",
      "--\n",
      "0.11128694257047027\n",
      "0.4755265769803377\n",
      "--\n",
      "0.10757216297357809\n",
      "0.44666017502457833\n"
     ]
    },
    {
     "name": "stderr",
     "output_type": "stream",
     "text": [
      "C:\\Users\\MARCELO\\anaconda3\\lib\\site-packages\\numpy\\core\\_methods.py:263: RuntimeWarning: Degrees of freedom <= 0 for slice\n",
      "  keepdims=keepdims, where=where)\n",
      "C:\\Users\\MARCELO\\anaconda3\\lib\\site-packages\\numpy\\core\\_methods.py:254: RuntimeWarning: invalid value encountered in double_scalars\n",
      "  ret = ret.dtype.type(ret / rcount)\n"
     ]
    },
    {
     "name": "stdout",
     "output_type": "stream",
     "text": [
      "***************************\n",
      "***************************\n",
      "***************************\n",
      "***************************\n",
      ".--\n",
      "0.09088446324036664\n",
      "0.4282421007619679\n",
      "--\n",
      "0.08252273878874257\n",
      "0.3742946291167373\n",
      "--\n",
      "0.1056452841901292\n",
      "0.4415527485100254\n"
     ]
    },
    {
     "name": "stderr",
     "output_type": "stream",
     "text": [
      "C:\\Users\\MARCELO\\anaconda3\\lib\\site-packages\\numpy\\core\\_methods.py:263: RuntimeWarning: Degrees of freedom <= 0 for slice\n",
      "  keepdims=keepdims, where=where)\n",
      "C:\\Users\\MARCELO\\anaconda3\\lib\\site-packages\\numpy\\core\\_methods.py:254: RuntimeWarning: invalid value encountered in double_scalars\n",
      "  ret = ret.dtype.type(ret / rcount)\n"
     ]
    },
    {
     "name": "stdout",
     "output_type": "stream",
     "text": [
      "***************************\n",
      "***************************\n",
      "***************************\n",
      "***************************\n",
      ".--\n",
      "0.09116615409267574\n",
      "0.4274315181434038\n",
      "--\n",
      "0.1066178334178403\n",
      "0.4576694298939363\n",
      "--\n",
      "0.10571475199210857\n",
      "0.44270665317473273\n"
     ]
    },
    {
     "name": "stderr",
     "output_type": "stream",
     "text": [
      "C:\\Users\\MARCELO\\anaconda3\\lib\\site-packages\\numpy\\core\\_methods.py:263: RuntimeWarning: Degrees of freedom <= 0 for slice\n",
      "  keepdims=keepdims, where=where)\n",
      "C:\\Users\\MARCELO\\anaconda3\\lib\\site-packages\\numpy\\core\\_methods.py:254: RuntimeWarning: invalid value encountered in double_scalars\n",
      "  ret = ret.dtype.type(ret / rcount)\n"
     ]
    },
    {
     "name": "stdout",
     "output_type": "stream",
     "text": [
      "***************************\n",
      "***************************\n",
      "***************************\n",
      "***************************\n",
      ".--\n",
      "0.08894363539674022\n",
      "0.42713249931916214\n",
      "--\n",
      "0.09956522707175464\n",
      "0.4611837934613299\n",
      "--\n",
      "0.10530478366408497\n",
      "0.44394915090105913\n"
     ]
    },
    {
     "name": "stderr",
     "output_type": "stream",
     "text": [
      "C:\\Users\\MARCELO\\anaconda3\\lib\\site-packages\\numpy\\core\\_methods.py:263: RuntimeWarning: Degrees of freedom <= 0 for slice\n",
      "  keepdims=keepdims, where=where)\n",
      "C:\\Users\\MARCELO\\anaconda3\\lib\\site-packages\\numpy\\core\\_methods.py:254: RuntimeWarning: invalid value encountered in double_scalars\n",
      "  ret = ret.dtype.type(ret / rcount)\n"
     ]
    },
    {
     "name": "stdout",
     "output_type": "stream",
     "text": [
      "***************************\n",
      "***************************\n",
      "***************************\n",
      "***************************\n",
      ".--\n",
      "0.08894165181717997\n",
      "0.4287862850301573\n",
      "--\n",
      "0.09697516319714486\n",
      "0.45764911366767685\n",
      "--\n",
      "0.10478418238490121\n",
      "0.4448076695674571\n"
     ]
    },
    {
     "name": "stderr",
     "output_type": "stream",
     "text": [
      "C:\\Users\\MARCELO\\anaconda3\\lib\\site-packages\\numpy\\core\\_methods.py:263: RuntimeWarning: Degrees of freedom <= 0 for slice\n",
      "  keepdims=keepdims, where=where)\n",
      "C:\\Users\\MARCELO\\anaconda3\\lib\\site-packages\\numpy\\core\\_methods.py:254: RuntimeWarning: invalid value encountered in double_scalars\n",
      "  ret = ret.dtype.type(ret / rcount)\n"
     ]
    },
    {
     "name": "stdout",
     "output_type": "stream",
     "text": [
      "***************************\n",
      "***************************\n",
      "***************************\n",
      "***************************\n",
      ".--\n",
      "0.08938296186632781\n",
      "0.42829744205019465\n",
      "--\n",
      "0.09746982063585892\n",
      "0.4416586640149552\n",
      "--\n",
      "0.10435392581142813\n",
      "0.4446134672703282\n"
     ]
    },
    {
     "name": "stderr",
     "output_type": "stream",
     "text": [
      "C:\\Users\\MARCELO\\anaconda3\\lib\\site-packages\\numpy\\core\\_methods.py:263: RuntimeWarning: Degrees of freedom <= 0 for slice\n",
      "  keepdims=keepdims, where=where)\n",
      "C:\\Users\\MARCELO\\anaconda3\\lib\\site-packages\\numpy\\core\\_methods.py:254: RuntimeWarning: invalid value encountered in double_scalars\n",
      "  ret = ret.dtype.type(ret / rcount)\n"
     ]
    },
    {
     "name": "stdout",
     "output_type": "stream",
     "text": [
      "***************************\n",
      "***************************\n",
      "***************************\n",
      "***************************\n",
      ".--\n",
      "0.08809280143875287\n",
      "0.4294584937218251\n",
      "--\n",
      "0.08497734324727207\n",
      "0.411722522537084\n",
      "--\n",
      "0.10327744900230836\n",
      "0.4428617955225309\n"
     ]
    },
    {
     "name": "stderr",
     "output_type": "stream",
     "text": [
      "C:\\Users\\MARCELO\\anaconda3\\lib\\site-packages\\numpy\\core\\_methods.py:263: RuntimeWarning: Degrees of freedom <= 0 for slice\n",
      "  keepdims=keepdims, where=where)\n",
      "C:\\Users\\MARCELO\\anaconda3\\lib\\site-packages\\numpy\\core\\_methods.py:254: RuntimeWarning: invalid value encountered in double_scalars\n",
      "  ret = ret.dtype.type(ret / rcount)\n"
     ]
    },
    {
     "name": "stdout",
     "output_type": "stream",
     "text": [
      "***************************\n",
      "***************************\n",
      "***************************\n",
      "***************************\n",
      ".--\n",
      "0.08753366078777212\n",
      "0.42884771620918255\n",
      "--\n",
      "0.07698009511688725\n",
      "0.369202749653238\n",
      "--\n",
      "0.10189337774518092\n",
      "0.43932392142753124\n"
     ]
    },
    {
     "name": "stderr",
     "output_type": "stream",
     "text": [
      "C:\\Users\\MARCELO\\anaconda3\\lib\\site-packages\\numpy\\core\\_methods.py:263: RuntimeWarning: Degrees of freedom <= 0 for slice\n",
      "  keepdims=keepdims, where=where)\n",
      "C:\\Users\\MARCELO\\anaconda3\\lib\\site-packages\\numpy\\core\\_methods.py:254: RuntimeWarning: invalid value encountered in double_scalars\n",
      "  ret = ret.dtype.type(ret / rcount)\n"
     ]
    },
    {
     "name": "stdout",
     "output_type": "stream",
     "text": [
      "***************************\n",
      "***************************\n",
      "***************************\n",
      "***************************\n",
      ".--\n",
      "0.08805748941448432\n",
      "0.430463344078912\n",
      "--\n",
      "0.07620002018567175\n",
      "0.3590334682240444\n",
      "--\n",
      "0.10060870986720546\n",
      "0.43568938121240686\n"
     ]
    },
    {
     "name": "stderr",
     "output_type": "stream",
     "text": [
      "C:\\Users\\MARCELO\\anaconda3\\lib\\site-packages\\numpy\\core\\_methods.py:263: RuntimeWarning: Degrees of freedom <= 0 for slice\n",
      "  keepdims=keepdims, where=where)\n",
      "C:\\Users\\MARCELO\\anaconda3\\lib\\site-packages\\numpy\\core\\_methods.py:254: RuntimeWarning: invalid value encountered in double_scalars\n",
      "  ret = ret.dtype.type(ret / rcount)\n"
     ]
    },
    {
     "name": "stdout",
     "output_type": "stream",
     "text": [
      "***************************\n",
      "***************************\n",
      "***************************\n",
      "***************************\n",
      ".--\n",
      "0.087438564324378\n",
      "0.4301147192972336\n",
      "--\n",
      "0.08409473171643912\n",
      "0.42566404647043316\n",
      "--\n",
      "0.09982232995526422\n",
      "0.43522149513228037\n"
     ]
    },
    {
     "name": "stderr",
     "output_type": "stream",
     "text": [
      "C:\\Users\\MARCELO\\anaconda3\\lib\\site-packages\\numpy\\core\\_methods.py:263: RuntimeWarning: Degrees of freedom <= 0 for slice\n",
      "  keepdims=keepdims, where=where)\n",
      "C:\\Users\\MARCELO\\anaconda3\\lib\\site-packages\\numpy\\core\\_methods.py:254: RuntimeWarning: invalid value encountered in double_scalars\n",
      "  ret = ret.dtype.type(ret / rcount)\n"
     ]
    },
    {
     "name": "stdout",
     "output_type": "stream",
     "text": [
      "***************************\n",
      "***************************\n",
      "***************************\n",
      "***************************\n",
      ".--\n",
      "0.08709181721178821\n",
      "0.4276492449223162\n",
      "--\n",
      "0.08703431881265715\n",
      "0.4459601019420912\n",
      "--\n",
      "0.09924105672150935\n",
      "0.4357131461772404\n"
     ]
    },
    {
     "name": "stderr",
     "output_type": "stream",
     "text": [
      "C:\\Users\\MARCELO\\anaconda3\\lib\\site-packages\\numpy\\core\\_methods.py:263: RuntimeWarning: Degrees of freedom <= 0 for slice\n",
      "  keepdims=keepdims, where=where)\n",
      "C:\\Users\\MARCELO\\anaconda3\\lib\\site-packages\\numpy\\core\\_methods.py:254: RuntimeWarning: invalid value encountered in double_scalars\n",
      "  ret = ret.dtype.type(ret / rcount)\n"
     ]
    },
    {
     "name": "stdout",
     "output_type": "stream",
     "text": [
      "***************************\n",
      "***************************\n",
      "***************************\n",
      "***************************\n",
      ".--\n",
      "0.0866088539292913\n",
      "0.42660952167156074\n",
      "--\n",
      "0.09780108613381162\n",
      "0.4731425855742754\n",
      "--\n",
      "0.09917844930465293\n",
      "0.4373961641616003\n"
     ]
    },
    {
     "name": "stderr",
     "output_type": "stream",
     "text": [
      "C:\\Users\\MARCELO\\anaconda3\\lib\\site-packages\\numpy\\core\\_methods.py:263: RuntimeWarning: Degrees of freedom <= 0 for slice\n",
      "  keepdims=keepdims, where=where)\n",
      "C:\\Users\\MARCELO\\anaconda3\\lib\\site-packages\\numpy\\core\\_methods.py:254: RuntimeWarning: invalid value encountered in double_scalars\n",
      "  ret = ret.dtype.type(ret / rcount)\n"
     ]
    },
    {
     "name": "stdout",
     "output_type": "stream",
     "text": [
      "***************************\n",
      "***************************\n",
      "***************************\n",
      "***************************\n",
      ".--\n",
      "0.08885253981993042\n",
      "0.42664907743969843\n",
      "--\n",
      "0.08117768838163465\n",
      "0.4071855590459781\n",
      "--\n",
      "0.09842841759952717\n",
      "0.43618602922814737\n"
     ]
    },
    {
     "name": "stderr",
     "output_type": "stream",
     "text": [
      "C:\\Users\\MARCELO\\anaconda3\\lib\\site-packages\\numpy\\core\\_methods.py:263: RuntimeWarning: Degrees of freedom <= 0 for slice\n",
      "  keepdims=keepdims, where=where)\n",
      "C:\\Users\\MARCELO\\anaconda3\\lib\\site-packages\\numpy\\core\\_methods.py:254: RuntimeWarning: invalid value encountered in double_scalars\n",
      "  ret = ret.dtype.type(ret / rcount)\n"
     ]
    },
    {
     "name": "stdout",
     "output_type": "stream",
     "text": [
      "***************************\n",
      "***************************\n",
      "***************************\n",
      "***************************\n",
      ".--\n",
      "0.08722645050975229\n",
      "0.4273052838508248\n",
      "--\n",
      "0.08587342337565497\n",
      "0.4098998564554113\n",
      "--\n",
      "0.09792621783057227\n",
      "0.43516426126824503\n"
     ]
    },
    {
     "name": "stderr",
     "output_type": "stream",
     "text": [
      "C:\\Users\\MARCELO\\anaconda3\\lib\\site-packages\\numpy\\core\\_methods.py:263: RuntimeWarning: Degrees of freedom <= 0 for slice\n",
      "  keepdims=keepdims, where=where)\n",
      "C:\\Users\\MARCELO\\anaconda3\\lib\\site-packages\\numpy\\core\\_methods.py:254: RuntimeWarning: invalid value encountered in double_scalars\n",
      "  ret = ret.dtype.type(ret / rcount)\n"
     ]
    },
    {
     "name": "stdout",
     "output_type": "stream",
     "text": [
      "***************************\n",
      "***************************\n",
      "***************************\n",
      "***************************\n",
      ".--\n",
      "0.0860064126253694\n",
      "0.4271928080317928\n",
      "--\n",
      "0.10433567919791677\n",
      "0.46649003212404605\n",
      "--\n",
      "0.09817273557547014\n",
      "0.4364028782133962\n"
     ]
    },
    {
     "name": "stderr",
     "output_type": "stream",
     "text": [
      "C:\\Users\\MARCELO\\anaconda3\\lib\\site-packages\\numpy\\core\\_methods.py:263: RuntimeWarning: Degrees of freedom <= 0 for slice\n",
      "  keepdims=keepdims, where=where)\n",
      "C:\\Users\\MARCELO\\anaconda3\\lib\\site-packages\\numpy\\core\\_methods.py:254: RuntimeWarning: invalid value encountered in double_scalars\n",
      "  ret = ret.dtype.type(ret / rcount)\n"
     ]
    },
    {
     "name": "stdout",
     "output_type": "stream",
     "text": [
      "***************************\n",
      "***************************\n",
      "***************************\n",
      "***************************\n",
      ".--\n",
      "0.0858084553406742\n",
      "0.42741687834525505\n",
      "--\n",
      "0.07178329865424894\n",
      "0.37413245859950234\n",
      "--\n",
      "0.09719534902283232\n",
      "0.4342783778806323\n"
     ]
    },
    {
     "name": "stderr",
     "output_type": "stream",
     "text": [
      "C:\\Users\\MARCELO\\anaconda3\\lib\\site-packages\\numpy\\core\\_methods.py:263: RuntimeWarning: Degrees of freedom <= 0 for slice\n",
      "  keepdims=keepdims, where=where)\n",
      "C:\\Users\\MARCELO\\anaconda3\\lib\\site-packages\\numpy\\core\\_methods.py:254: RuntimeWarning: invalid value encountered in double_scalars\n",
      "  ret = ret.dtype.type(ret / rcount)\n"
     ]
    },
    {
     "name": "stdout",
     "output_type": "stream",
     "text": [
      "***************************\n",
      "***************************\n",
      "***************************\n",
      "***************************\n",
      ".--\n",
      "0.08635280931895088\n",
      "0.42800221697577423\n",
      "--\n",
      "0.08654817124502734\n",
      "0.42180433980577514\n",
      "--\n",
      "0.096815092673625\n",
      "0.4338362128574058\n"
     ]
    },
    {
     "name": "stderr",
     "output_type": "stream",
     "text": [
      "C:\\Users\\MARCELO\\anaconda3\\lib\\site-packages\\numpy\\core\\_methods.py:263: RuntimeWarning: Degrees of freedom <= 0 for slice\n",
      "  keepdims=keepdims, where=where)\n",
      "C:\\Users\\MARCELO\\anaconda3\\lib\\site-packages\\numpy\\core\\_methods.py:254: RuntimeWarning: invalid value encountered in double_scalars\n",
      "  ret = ret.dtype.type(ret / rcount)\n"
     ]
    },
    {
     "name": "stdout",
     "output_type": "stream",
     "text": [
      "***************************\n",
      "***************************\n",
      "***************************\n",
      "***************************\n",
      ".--\n",
      "0.08658997589507554\n",
      "0.42867787240979216\n",
      "--\n",
      "0.06750971540343016\n",
      "0.36303303732027514\n",
      "--\n",
      "0.09580456242292862\n",
      "0.4316159104806781\n"
     ]
    },
    {
     "name": "stderr",
     "output_type": "stream",
     "text": [
      "C:\\Users\\MARCELO\\anaconda3\\lib\\site-packages\\numpy\\core\\_methods.py:263: RuntimeWarning: Degrees of freedom <= 0 for slice\n",
      "  keepdims=keepdims, where=where)\n",
      "C:\\Users\\MARCELO\\anaconda3\\lib\\site-packages\\numpy\\core\\_methods.py:254: RuntimeWarning: invalid value encountered in double_scalars\n",
      "  ret = ret.dtype.type(ret / rcount)\n"
     ]
    },
    {
     "name": "stdout",
     "output_type": "stream",
     "text": [
      "***************************\n",
      "***************************\n",
      "***************************\n",
      "***************************\n",
      ".--\n",
      "0.08551961774044968\n",
      "0.4255262551960521\n",
      "--\n",
      "0.0914747776009608\n",
      "0.4435481538131457\n",
      "--\n",
      "0.09566023626219637\n",
      "0.43201208414002423\n"
     ]
    },
    {
     "name": "stderr",
     "output_type": "stream",
     "text": [
      "C:\\Users\\MARCELO\\anaconda3\\lib\\site-packages\\numpy\\core\\_methods.py:263: RuntimeWarning: Degrees of freedom <= 0 for slice\n",
      "  keepdims=keepdims, where=where)\n",
      "C:\\Users\\MARCELO\\anaconda3\\lib\\site-packages\\numpy\\core\\_methods.py:254: RuntimeWarning: invalid value encountered in double_scalars\n",
      "  ret = ret.dtype.type(ret / rcount)\n"
     ]
    },
    {
     "name": "stdout",
     "output_type": "stream",
     "text": [
      "***************************\n",
      "***************************\n",
      "***************************\n",
      "***************************\n",
      ".--\n",
      "0.08514170907106583\n",
      "0.4272656798880706\n",
      "--\n",
      "0.09694756896141916\n",
      "0.4730550795213511\n",
      "--\n",
      "0.09570176312346161\n",
      "0.4333884999054995\n"
     ]
    },
    {
     "name": "stderr",
     "output_type": "stream",
     "text": [
      "C:\\Users\\MARCELO\\anaconda3\\lib\\site-packages\\numpy\\core\\_methods.py:263: RuntimeWarning: Degrees of freedom <= 0 for slice\n",
      "  keepdims=keepdims, where=where)\n",
      "C:\\Users\\MARCELO\\anaconda3\\lib\\site-packages\\numpy\\core\\_methods.py:254: RuntimeWarning: invalid value encountered in double_scalars\n",
      "  ret = ret.dtype.type(ret / rcount)\n"
     ]
    },
    {
     "name": "stdout",
     "output_type": "stream",
     "text": [
      "***************************\n",
      "***************************\n",
      "***************************\n",
      "***************************\n",
      ".--\n",
      "0.0855149423894909\n",
      "0.4265717804444718\n",
      "--\n",
      "0.06870225347694942\n",
      "0.3586861819098221\n",
      "--\n",
      "0.09485802844700811\n",
      "0.43127082669670835\n"
     ]
    },
    {
     "name": "stderr",
     "output_type": "stream",
     "text": [
      "C:\\Users\\MARCELO\\anaconda3\\lib\\site-packages\\numpy\\core\\_methods.py:263: RuntimeWarning: Degrees of freedom <= 0 for slice\n",
      "  keepdims=keepdims, where=where)\n",
      "C:\\Users\\MARCELO\\anaconda3\\lib\\site-packages\\numpy\\core\\_methods.py:254: RuntimeWarning: invalid value encountered in double_scalars\n",
      "  ret = ret.dtype.type(ret / rcount)\n"
     ]
    },
    {
     "name": "stdout",
     "output_type": "stream",
     "text": [
      "***************************\n",
      "***************************\n",
      "***************************\n",
      "***************************\n",
      ".--\n",
      "0.08476007058752051\n",
      "0.4267125493195173\n",
      "--\n",
      "0.06801248671370558\n",
      "0.34122031550598325\n",
      "--\n",
      "0.09404452718236257\n",
      "0.42884045408440036\n"
     ]
    },
    {
     "name": "stderr",
     "output_type": "stream",
     "text": [
      "C:\\Users\\MARCELO\\anaconda3\\lib\\site-packages\\numpy\\core\\_methods.py:263: RuntimeWarning: Degrees of freedom <= 0 for slice\n",
      "  keepdims=keepdims, where=where)\n",
      "C:\\Users\\MARCELO\\anaconda3\\lib\\site-packages\\numpy\\core\\_methods.py:254: RuntimeWarning: invalid value encountered in double_scalars\n",
      "  ret = ret.dtype.type(ret / rcount)\n"
     ]
    },
    {
     "name": "stdout",
     "output_type": "stream",
     "text": [
      "***************************\n",
      "***************************\n",
      "***************************\n",
      "***************************\n",
      ".--\n",
      "0.08453846151169192\n",
      "0.42665754885306567\n",
      "--\n",
      "0.07573658506642096\n",
      "0.4448238374899811\n",
      "--\n",
      "0.0935060582965996\n",
      "0.42932342710456955\n"
     ]
    },
    {
     "name": "stderr",
     "output_type": "stream",
     "text": [
      "C:\\Users\\MARCELO\\anaconda3\\lib\\site-packages\\numpy\\core\\_methods.py:263: RuntimeWarning: Degrees of freedom <= 0 for slice\n",
      "  keepdims=keepdims, where=where)\n",
      "C:\\Users\\MARCELO\\anaconda3\\lib\\site-packages\\numpy\\core\\_methods.py:254: RuntimeWarning: invalid value encountered in double_scalars\n",
      "  ret = ret.dtype.type(ret / rcount)\n"
     ]
    },
    {
     "name": "stdout",
     "output_type": "stream",
     "text": [
      "***************************\n",
      "***************************\n",
      "***************************\n",
      "***************************\n",
      ".--\n",
      "0.08469588039068428\n",
      "0.42622912012302344\n",
      "--\n",
      "0.0834364085458219\n",
      "0.44589365525506647\n",
      "--\n",
      "0.09321835401800595\n",
      "0.4298024069260957\n"
     ]
    },
    {
     "name": "stderr",
     "output_type": "stream",
     "text": [
      "C:\\Users\\MARCELO\\anaconda3\\lib\\site-packages\\numpy\\core\\_methods.py:263: RuntimeWarning: Degrees of freedom <= 0 for slice\n",
      "  keepdims=keepdims, where=where)\n",
      "C:\\Users\\MARCELO\\anaconda3\\lib\\site-packages\\numpy\\core\\_methods.py:254: RuntimeWarning: invalid value encountered in double_scalars\n",
      "  ret = ret.dtype.type(ret / rcount)\n"
     ]
    },
    {
     "name": "stdout",
     "output_type": "stream",
     "text": [
      "***************************\n",
      "***************************\n",
      "***************************\n",
      "***************************\n",
      ".--\n",
      "0.08446421847934349\n",
      "0.42703139762620723\n",
      "--\n",
      "0.07114988606050611\n",
      "0.3782812968953553\n",
      "--\n",
      "0.09260534101918651\n",
      "0.42846560212985624\n"
     ]
    },
    {
     "name": "stderr",
     "output_type": "stream",
     "text": [
      "C:\\Users\\MARCELO\\anaconda3\\lib\\site-packages\\numpy\\core\\_methods.py:263: RuntimeWarning: Degrees of freedom <= 0 for slice\n",
      "  keepdims=keepdims, where=where)\n",
      "C:\\Users\\MARCELO\\anaconda3\\lib\\site-packages\\numpy\\core\\_methods.py:254: RuntimeWarning: invalid value encountered in double_scalars\n",
      "  ret = ret.dtype.type(ret / rcount)\n"
     ]
    },
    {
     "name": "stdout",
     "output_type": "stream",
     "text": [
      "***************************\n",
      "***************************\n",
      "***************************\n",
      "***************************\n",
      ".--\n",
      "0.084059858129937\n",
      "0.4250177617963298\n",
      "--\n",
      "0.09848328366293573\n",
      "0.46098177899021076\n",
      "--\n",
      "0.09276420433388242\n",
      "0.4293711897941213\n"
     ]
    },
    {
     "name": "stderr",
     "output_type": "stream",
     "text": [
      "C:\\Users\\MARCELO\\anaconda3\\lib\\site-packages\\numpy\\core\\_methods.py:263: RuntimeWarning: Degrees of freedom <= 0 for slice\n",
      "  keepdims=keepdims, where=where)\n",
      "C:\\Users\\MARCELO\\anaconda3\\lib\\site-packages\\numpy\\core\\_methods.py:254: RuntimeWarning: invalid value encountered in double_scalars\n",
      "  ret = ret.dtype.type(ret / rcount)\n"
     ]
    },
    {
     "name": "stdout",
     "output_type": "stream",
     "text": [
      "***************************\n",
      "***************************\n",
      "***************************\n",
      "***************************\n",
      ".--\n",
      "0.08410241290710352\n",
      "0.4252940189845719\n",
      "--\n",
      "0.0848195483526215\n",
      "0.4271316734018194\n",
      "--\n",
      "0.09255513443963871\n",
      "0.42930869512560516\n"
     ]
    },
    {
     "name": "stderr",
     "output_type": "stream",
     "text": [
      "C:\\Users\\MARCELO\\anaconda3\\lib\\site-packages\\numpy\\core\\_methods.py:263: RuntimeWarning: Degrees of freedom <= 0 for slice\n",
      "  keepdims=keepdims, where=where)\n",
      "C:\\Users\\MARCELO\\anaconda3\\lib\\site-packages\\numpy\\core\\_methods.py:254: RuntimeWarning: invalid value encountered in double_scalars\n",
      "  ret = ret.dtype.type(ret / rcount)\n"
     ]
    },
    {
     "name": "stdout",
     "output_type": "stream",
     "text": [
      "***************************\n",
      "***************************\n",
      "***************************\n",
      "***************************\n",
      ".--\n",
      "0.08482317484195745\n",
      "0.42717610811048856\n",
      "--\n",
      "0.0732686011409387\n",
      "0.3813291832782803\n",
      "--\n",
      "0.09206060794480025\n",
      "0.42815209051830594\n"
     ]
    },
    {
     "name": "stderr",
     "output_type": "stream",
     "text": [
      "C:\\Users\\MARCELO\\anaconda3\\lib\\site-packages\\numpy\\core\\_methods.py:263: RuntimeWarning: Degrees of freedom <= 0 for slice\n",
      "  keepdims=keepdims, where=where)\n",
      "C:\\Users\\MARCELO\\anaconda3\\lib\\site-packages\\numpy\\core\\_methods.py:254: RuntimeWarning: invalid value encountered in double_scalars\n",
      "  ret = ret.dtype.type(ret / rcount)\n"
     ]
    },
    {
     "name": "stdout",
     "output_type": "stream",
     "text": [
      "***************************\n",
      "***************************\n",
      "***************************\n",
      "***************************\n",
      ".--\n",
      "0.08458008106285544\n",
      "0.42602375525907693\n",
      "--\n",
      "0.09811637096758932\n",
      "0.4822471867821973\n",
      "--\n",
      "0.09221200202036998\n",
      "0.4295818042170739\n"
     ]
    },
    {
     "name": "stderr",
     "output_type": "stream",
     "text": [
      "C:\\Users\\MARCELO\\anaconda3\\lib\\site-packages\\numpy\\core\\_methods.py:263: RuntimeWarning: Degrees of freedom <= 0 for slice\n",
      "  keepdims=keepdims, where=where)\n",
      "C:\\Users\\MARCELO\\anaconda3\\lib\\site-packages\\numpy\\core\\_methods.py:254: RuntimeWarning: invalid value encountered in double_scalars\n",
      "  ret = ret.dtype.type(ret / rcount)\n"
     ]
    },
    {
     "name": "stdout",
     "output_type": "stream",
     "text": [
      "***************************\n",
      "***************************\n",
      "***************************\n",
      "***************************\n",
      ".--\n",
      "0.08393057713532956\n",
      "0.42480514009200643\n",
      "--\n",
      "0.08676543974713423\n",
      "0.434898136495911\n",
      "--\n",
      "0.09207915903809594\n",
      "0.4297077101599446\n"
     ]
    },
    {
     "name": "stderr",
     "output_type": "stream",
     "text": [
      "C:\\Users\\MARCELO\\anaconda3\\lib\\site-packages\\numpy\\core\\_methods.py:263: RuntimeWarning: Degrees of freedom <= 0 for slice\n",
      "  keepdims=keepdims, where=where)\n",
      "C:\\Users\\MARCELO\\anaconda3\\lib\\site-packages\\numpy\\core\\_methods.py:254: RuntimeWarning: invalid value encountered in double_scalars\n",
      "  ret = ret.dtype.type(ret / rcount)\n"
     ]
    },
    {
     "name": "stdout",
     "output_type": "stream",
     "text": [
      "***************************\n",
      "***************************\n",
      "***************************\n",
      "***************************\n",
      ".--\n",
      "0.08420273061896862\n",
      "0.42712379821921753\n",
      "--\n",
      "0.07907495479309\n",
      "0.39986720850510116\n",
      "--\n",
      "0.09176953512750056\n",
      "0.42902147097125076\n"
     ]
    },
    {
     "name": "stderr",
     "output_type": "stream",
     "text": [
      "C:\\Users\\MARCELO\\anaconda3\\lib\\site-packages\\numpy\\core\\_methods.py:263: RuntimeWarning: Degrees of freedom <= 0 for slice\n",
      "  keepdims=keepdims, where=where)\n",
      "C:\\Users\\MARCELO\\anaconda3\\lib\\site-packages\\numpy\\core\\_methods.py:254: RuntimeWarning: invalid value encountered in double_scalars\n",
      "  ret = ret.dtype.type(ret / rcount)\n"
     ]
    },
    {
     "name": "stdout",
     "output_type": "stream",
     "text": [
      "***************************\n",
      "***************************\n",
      "***************************\n",
      "***************************\n",
      ".--\n",
      "0.08395447138623664\n",
      "0.42606857763900513\n",
      "--\n",
      "0.08019217709032819\n",
      "0.38288222092606483\n",
      "--\n",
      "0.09150029424291516\n",
      "0.4280045095977095\n"
     ]
    },
    {
     "name": "stderr",
     "output_type": "stream",
     "text": [
      "C:\\Users\\MARCELO\\anaconda3\\lib\\site-packages\\numpy\\core\\_methods.py:263: RuntimeWarning: Degrees of freedom <= 0 for slice\n",
      "  keepdims=keepdims, where=where)\n",
      "C:\\Users\\MARCELO\\anaconda3\\lib\\site-packages\\numpy\\core\\_methods.py:254: RuntimeWarning: invalid value encountered in double_scalars\n",
      "  ret = ret.dtype.type(ret / rcount)\n"
     ]
    },
    {
     "name": "stdout",
     "output_type": "stream",
     "text": [
      "***************************\n",
      "***************************\n",
      "***************************\n",
      "***************************\n",
      ".--\n",
      "0.08486189738957586\n",
      "0.42595892929994494\n",
      "--\n",
      "0.0727256476660259\n",
      "0.3889043353437527\n",
      "--\n",
      "0.09107359772980404\n",
      "0.4271607393946734\n"
     ]
    },
    {
     "name": "stderr",
     "output_type": "stream",
     "text": [
      "C:\\Users\\MARCELO\\anaconda3\\lib\\site-packages\\numpy\\core\\_methods.py:263: RuntimeWarning: Degrees of freedom <= 0 for slice\n",
      "  keepdims=keepdims, where=where)\n",
      "C:\\Users\\MARCELO\\anaconda3\\lib\\site-packages\\numpy\\core\\_methods.py:254: RuntimeWarning: invalid value encountered in double_scalars\n",
      "  ret = ret.dtype.type(ret / rcount)\n"
     ]
    },
    {
     "name": "stdout",
     "output_type": "stream",
     "text": [
      "***************************\n",
      "***************************\n",
      "***************************\n",
      "***************************\n",
      ".--\n",
      "0.08492953766905056\n",
      "0.4266940053742926\n",
      "--\n",
      "0.10285182176460513\n",
      "0.48205750419405446\n",
      "--\n",
      "0.0913353360416885\n",
      "0.4284546103030228\n"
     ]
    },
    {
     "name": "stderr",
     "output_type": "stream",
     "text": [
      "C:\\Users\\MARCELO\\anaconda3\\lib\\site-packages\\numpy\\core\\_methods.py:263: RuntimeWarning: Degrees of freedom <= 0 for slice\n",
      "  keepdims=keepdims, where=where)\n",
      "C:\\Users\\MARCELO\\anaconda3\\lib\\site-packages\\numpy\\core\\_methods.py:254: RuntimeWarning: invalid value encountered in double_scalars\n",
      "  ret = ret.dtype.type(ret / rcount)\n"
     ]
    },
    {
     "name": "stdout",
     "output_type": "stream",
     "text": [
      "***************************\n",
      "***************************\n",
      "***************************\n",
      "***************************\n",
      ".--\n",
      "0.08405504255423633\n",
      "0.4266561897348052\n",
      "--\n",
      "0.07816660785349086\n",
      "0.42165920810215385\n",
      "--\n",
      "0.09104905934194508\n",
      "0.4283078205356981\n"
     ]
    },
    {
     "name": "stderr",
     "output_type": "stream",
     "text": [
      "C:\\Users\\MARCELO\\anaconda3\\lib\\site-packages\\numpy\\core\\_methods.py:263: RuntimeWarning: Degrees of freedom <= 0 for slice\n",
      "  keepdims=keepdims, where=where)\n",
      "C:\\Users\\MARCELO\\anaconda3\\lib\\site-packages\\numpy\\core\\_methods.py:254: RuntimeWarning: invalid value encountered in double_scalars\n",
      "  ret = ret.dtype.type(ret / rcount)\n"
     ]
    },
    {
     "name": "stdout",
     "output_type": "stream",
     "text": [
      "***************************\n",
      "***************************\n",
      "***************************\n",
      "***************************\n",
      ".--\n",
      "0.08462637753379305\n",
      "0.4254660245547946\n",
      "--\n",
      "0.08916610772931018\n",
      "0.44630239334561306\n",
      "--\n",
      "0.09100899654167625\n",
      "0.4286936996425945\n"
     ]
    },
    {
     "name": "stderr",
     "output_type": "stream",
     "text": [
      "C:\\Users\\MARCELO\\anaconda3\\lib\\site-packages\\numpy\\core\\_methods.py:263: RuntimeWarning: Degrees of freedom <= 0 for slice\n",
      "  keepdims=keepdims, where=where)\n",
      "C:\\Users\\MARCELO\\anaconda3\\lib\\site-packages\\numpy\\core\\_methods.py:254: RuntimeWarning: invalid value encountered in double_scalars\n",
      "  ret = ret.dtype.type(ret / rcount)\n"
     ]
    },
    {
     "name": "stdout",
     "output_type": "stream",
     "text": [
      "***************************\n",
      "***************************\n",
      "***************************\n",
      "***************************\n",
      ".--\n",
      "0.08356858254662802\n",
      "0.424948235885852\n",
      "--\n",
      "0.10572908695577644\n",
      "0.5095719611879715\n",
      "--\n",
      "0.09131566509197\n",
      "0.43053254832988486\n"
     ]
    },
    {
     "name": "stderr",
     "output_type": "stream",
     "text": [
      "C:\\Users\\MARCELO\\anaconda3\\lib\\site-packages\\numpy\\core\\_methods.py:263: RuntimeWarning: Degrees of freedom <= 0 for slice\n",
      "  keepdims=keepdims, where=where)\n",
      "C:\\Users\\MARCELO\\anaconda3\\lib\\site-packages\\numpy\\core\\_methods.py:254: RuntimeWarning: invalid value encountered in double_scalars\n",
      "  ret = ret.dtype.type(ret / rcount)\n"
     ]
    },
    {
     "name": "stdout",
     "output_type": "stream",
     "text": [
      "***************************\n",
      "***************************\n",
      "***************************\n",
      "***************************\n",
      ".--\n",
      "0.08370992794748357\n",
      "0.42544453243303026\n",
      "--\n",
      "0.09568628107523545\n",
      "0.4755215164264049\n",
      "--\n",
      "0.09140486133652644\n",
      "0.43149269486124503\n"
     ]
    },
    {
     "name": "stderr",
     "output_type": "stream",
     "text": [
      "C:\\Users\\MARCELO\\anaconda3\\lib\\site-packages\\numpy\\core\\_methods.py:263: RuntimeWarning: Degrees of freedom <= 0 for slice\n",
      "  keepdims=keepdims, where=where)\n",
      "C:\\Users\\MARCELO\\anaconda3\\lib\\site-packages\\numpy\\core\\_methods.py:254: RuntimeWarning: invalid value encountered in double_scalars\n",
      "  ret = ret.dtype.type(ret / rcount)\n"
     ]
    },
    {
     "name": "stdout",
     "output_type": "stream",
     "text": [
      "***************************\n",
      "***************************\n",
      "***************************\n",
      "***************************\n",
      ".--\n",
      "0.08345034821959658\n",
      "0.425116515977459\n",
      "--\n",
      "0.09020018666679971\n",
      "0.44949852173572463\n",
      "--\n",
      "0.09138076784313191\n",
      "0.4318555301904421\n"
     ]
    },
    {
     "name": "stderr",
     "output_type": "stream",
     "text": [
      "C:\\Users\\MARCELO\\anaconda3\\lib\\site-packages\\numpy\\core\\_methods.py:263: RuntimeWarning: Degrees of freedom <= 0 for slice\n",
      "  keepdims=keepdims, where=where)\n",
      "C:\\Users\\MARCELO\\anaconda3\\lib\\site-packages\\numpy\\core\\_methods.py:254: RuntimeWarning: invalid value encountered in double_scalars\n",
      "  ret = ret.dtype.type(ret / rcount)\n"
     ]
    },
    {
     "name": "stdout",
     "output_type": "stream",
     "text": [
      "***************************\n",
      "***************************\n",
      "***************************\n",
      "***************************\n",
      ".--\n",
      "0.08352450114606795\n",
      "0.42539100457428947\n",
      "--\n",
      "0.06300082469254266\n",
      "0.3545796742251022\n",
      "--\n",
      "0.09082429836959094\n",
      "0.4304887650013244\n"
     ]
    },
    {
     "name": "stderr",
     "output_type": "stream",
     "text": [
      "C:\\Users\\MARCELO\\anaconda3\\lib\\site-packages\\numpy\\core\\_methods.py:263: RuntimeWarning: Degrees of freedom <= 0 for slice\n",
      "  keepdims=keepdims, where=where)\n",
      "C:\\Users\\MARCELO\\anaconda3\\lib\\site-packages\\numpy\\core\\_methods.py:254: RuntimeWarning: invalid value encountered in double_scalars\n",
      "  ret = ret.dtype.type(ret / rcount)\n"
     ]
    },
    {
     "name": "stdout",
     "output_type": "stream",
     "text": [
      "***************************\n",
      "***************************\n",
      "***************************\n",
      "***************************\n",
      ".--\n",
      "0.08436215569788894\n",
      "0.4248578417764212\n",
      "--\n",
      "0.06563886161940172\n",
      "0.31961133375928286\n",
      "--\n",
      "0.09033996304747192\n",
      "0.42863870361391415\n"
     ]
    },
    {
     "name": "stderr",
     "output_type": "stream",
     "text": [
      "C:\\Users\\MARCELO\\anaconda3\\lib\\site-packages\\numpy\\core\\_methods.py:263: RuntimeWarning: Degrees of freedom <= 0 for slice\n",
      "  keepdims=keepdims, where=where)\n",
      "C:\\Users\\MARCELO\\anaconda3\\lib\\site-packages\\numpy\\core\\_methods.py:254: RuntimeWarning: invalid value encountered in double_scalars\n",
      "  ret = ret.dtype.type(ret / rcount)\n"
     ]
    },
    {
     "name": "stdout",
     "output_type": "stream",
     "text": [
      "***************************\n",
      "***************************\n",
      "***************************\n",
      "***************************\n",
      ".--\n",
      "0.08335705516607009\n",
      "0.4248573234499939\n",
      "--\n",
      "0.08084266918129288\n",
      "0.4122629404038686\n",
      "--\n",
      "0.09016076882358175\n",
      "0.4283337218371203\n"
     ]
    },
    {
     "name": "stderr",
     "output_type": "stream",
     "text": [
      "C:\\Users\\MARCELO\\anaconda3\\lib\\site-packages\\numpy\\core\\_methods.py:263: RuntimeWarning: Degrees of freedom <= 0 for slice\n",
      "  keepdims=keepdims, where=where)\n",
      "C:\\Users\\MARCELO\\anaconda3\\lib\\site-packages\\numpy\\core\\_methods.py:254: RuntimeWarning: invalid value encountered in double_scalars\n",
      "  ret = ret.dtype.type(ret / rcount)\n"
     ]
    },
    {
     "name": "stdout",
     "output_type": "stream",
     "text": [
      "***************************\n",
      "***************************\n",
      "***************************\n",
      "***************************\n",
      ".--\n",
      "0.08344929292381696\n",
      "0.4248002941327563\n",
      "--\n",
      "0.09124480481119826\n",
      "0.44926934314566647\n",
      "--\n",
      "0.09018084356409317\n",
      "0.4287263822365415\n"
     ]
    },
    {
     "name": "stderr",
     "output_type": "stream",
     "text": [
      "C:\\Users\\MARCELO\\anaconda3\\lib\\site-packages\\numpy\\core\\_methods.py:263: RuntimeWarning: Degrees of freedom <= 0 for slice\n",
      "  keepdims=keepdims, where=where)\n",
      "C:\\Users\\MARCELO\\anaconda3\\lib\\site-packages\\numpy\\core\\_methods.py:254: RuntimeWarning: invalid value encountered in double_scalars\n",
      "  ret = ret.dtype.type(ret / rcount)\n"
     ]
    },
    {
     "name": "stdout",
     "output_type": "stream",
     "text": [
      "***************************\n",
      "***************************\n",
      "***************************\n",
      "***************************\n",
      ".--\n",
      "0.08265710979911253\n",
      "0.42513687623851787\n",
      "--\n",
      "0.08283681576256641\n",
      "0.4120226155158791\n",
      "--\n",
      "0.09004731578588358\n",
      "0.428426006219588\n"
     ]
    },
    {
     "name": "stderr",
     "output_type": "stream",
     "text": [
      "C:\\Users\\MARCELO\\anaconda3\\lib\\site-packages\\numpy\\core\\_methods.py:263: RuntimeWarning: Degrees of freedom <= 0 for slice\n",
      "  keepdims=keepdims, where=where)\n",
      "C:\\Users\\MARCELO\\anaconda3\\lib\\site-packages\\numpy\\core\\_methods.py:254: RuntimeWarning: invalid value encountered in double_scalars\n",
      "  ret = ret.dtype.type(ret / rcount)\n"
     ]
    },
    {
     "name": "stdout",
     "output_type": "stream",
     "text": [
      "***************************\n",
      "***************************\n",
      "***************************\n",
      "***************************\n",
      ".--\n",
      "0.08344177665364017\n",
      "0.4261570941772131\n",
      "--\n",
      "0.09527816806151532\n",
      "0.4736839239806762\n",
      "--\n",
      "0.09014072386223415\n",
      "0.4292719342184827\n"
     ]
    },
    {
     "name": "stderr",
     "output_type": "stream",
     "text": [
      "C:\\Users\\MARCELO\\anaconda3\\lib\\site-packages\\numpy\\core\\_methods.py:263: RuntimeWarning: Degrees of freedom <= 0 for slice\n",
      "  keepdims=keepdims, where=where)\n",
      "C:\\Users\\MARCELO\\anaconda3\\lib\\site-packages\\numpy\\core\\_methods.py:254: RuntimeWarning: invalid value encountered in double_scalars\n",
      "  ret = ret.dtype.type(ret / rcount)\n"
     ]
    },
    {
     "name": "stdout",
     "output_type": "stream",
     "text": [
      "***************************\n",
      "***************************\n",
      "***************************\n",
      "***************************\n",
      ".--\n",
      "0.0828412016749838\n",
      "0.42436164261186293\n",
      "--\n",
      "0.06594484747201204\n",
      "0.35093538704567034\n",
      "--\n",
      "0.08971623480275658\n",
      "0.4280304266907982\n"
     ]
    },
    {
     "name": "stderr",
     "output_type": "stream",
     "text": [
      "C:\\Users\\MARCELO\\anaconda3\\lib\\site-packages\\numpy\\core\\_methods.py:263: RuntimeWarning: Degrees of freedom <= 0 for slice\n",
      "  keepdims=keepdims, where=where)\n",
      "C:\\Users\\MARCELO\\anaconda3\\lib\\site-packages\\numpy\\core\\_methods.py:254: RuntimeWarning: invalid value encountered in double_scalars\n",
      "  ret = ret.dtype.type(ret / rcount)\n"
     ]
    },
    {
     "name": "stdout",
     "output_type": "stream",
     "text": [
      "***************************\n",
      "***************************\n",
      "***************************\n",
      "***************************\n",
      ".--\n",
      "0.08309402410865005\n",
      "0.4246321627864952\n",
      "--\n",
      "0.09017758327210322\n",
      "0.4534759338989436\n",
      "--\n",
      "0.08972418908671083\n",
      "0.4284778191345622\n"
     ]
    },
    {
     "name": "stderr",
     "output_type": "stream",
     "text": [
      "C:\\Users\\MARCELO\\anaconda3\\lib\\site-packages\\numpy\\core\\_methods.py:263: RuntimeWarning: Degrees of freedom <= 0 for slice\n",
      "  keepdims=keepdims, where=where)\n",
      "C:\\Users\\MARCELO\\anaconda3\\lib\\site-packages\\numpy\\core\\_methods.py:254: RuntimeWarning: invalid value encountered in double_scalars\n",
      "  ret = ret.dtype.type(ret / rcount)\n"
     ]
    },
    {
     "name": "stdout",
     "output_type": "stream",
     "text": [
      "***************************\n",
      "***************************\n",
      "***************************\n",
      "***************************\n",
      ".--\n",
      "0.08309589499854418\n",
      "0.4249549646393102\n",
      "--\n",
      "0.06138080169074237\n",
      "0.3327216922622914\n",
      "--\n",
      "0.089243792690169\n",
      "0.4270472036552423\n"
     ]
    },
    {
     "name": "stderr",
     "output_type": "stream",
     "text": [
      "C:\\Users\\MARCELO\\anaconda3\\lib\\site-packages\\numpy\\core\\_methods.py:263: RuntimeWarning: Degrees of freedom <= 0 for slice\n",
      "  keepdims=keepdims, where=where)\n",
      "C:\\Users\\MARCELO\\anaconda3\\lib\\site-packages\\numpy\\core\\_methods.py:254: RuntimeWarning: invalid value encountered in double_scalars\n",
      "  ret = ret.dtype.type(ret / rcount)\n"
     ]
    },
    {
     "name": "stdout",
     "output_type": "stream",
     "text": [
      "***************************\n",
      "***************************\n",
      "***************************\n",
      "***************************\n",
      ".--\n",
      "0.0835148071462835\n",
      "0.424910139297989\n",
      "--\n",
      "0.10045232969662174\n",
      "0.47858642635806503\n",
      "--\n",
      "0.08943060164027654\n",
      "0.42795501654168194\n"
     ]
    },
    {
     "name": "stderr",
     "output_type": "stream",
     "text": [
      "C:\\Users\\MARCELO\\anaconda3\\lib\\site-packages\\numpy\\core\\_methods.py:263: RuntimeWarning: Degrees of freedom <= 0 for slice\n",
      "  keepdims=keepdims, where=where)\n",
      "C:\\Users\\MARCELO\\anaconda3\\lib\\site-packages\\numpy\\core\\_methods.py:254: RuntimeWarning: invalid value encountered in double_scalars\n",
      "  ret = ret.dtype.type(ret / rcount)\n"
     ]
    },
    {
     "name": "stdout",
     "output_type": "stream",
     "text": [
      "***************************\n",
      "***************************\n",
      "***************************\n",
      "***************************\n",
      ".--\n",
      "0.08321993955175114\n",
      "0.42460761740764336\n",
      "--\n",
      "0.09603263813210651\n",
      "0.44254887939165916\n",
      "--\n",
      "0.08953883174669998\n",
      "0.4281953459183918\n"
     ]
    },
    {
     "name": "stderr",
     "output_type": "stream",
     "text": [
      "C:\\Users\\MARCELO\\anaconda3\\lib\\site-packages\\numpy\\core\\_methods.py:263: RuntimeWarning: Degrees of freedom <= 0 for slice\n",
      "  keepdims=keepdims, where=where)\n",
      "C:\\Users\\MARCELO\\anaconda3\\lib\\site-packages\\numpy\\core\\_methods.py:254: RuntimeWarning: invalid value encountered in double_scalars\n",
      "  ret = ret.dtype.type(ret / rcount)\n"
     ]
    },
    {
     "name": "stdout",
     "output_type": "stream",
     "text": [
      "***************************\n",
      "***************************\n",
      "***************************\n",
      "***************************\n",
      ".--\n",
      "0.08452692135095358\n",
      "0.4266294875375714\n",
      "--\n",
      "0.07611882391083054\n",
      "0.3814348836301408\n",
      "--\n",
      "0.08932238000741176\n",
      "0.42748231749545595\n"
     ]
    },
    {
     "name": "stderr",
     "output_type": "stream",
     "text": [
      "C:\\Users\\MARCELO\\anaconda3\\lib\\site-packages\\numpy\\core\\_methods.py:263: RuntimeWarning: Degrees of freedom <= 0 for slice\n",
      "  keepdims=keepdims, where=where)\n",
      "C:\\Users\\MARCELO\\anaconda3\\lib\\site-packages\\numpy\\core\\_methods.py:254: RuntimeWarning: invalid value encountered in double_scalars\n",
      "  ret = ret.dtype.type(ret / rcount)\n"
     ]
    },
    {
     "name": "stdout",
     "output_type": "stream",
     "text": [
      "***************************\n",
      "***************************\n",
      "***************************\n",
      "***************************\n",
      ".--\n",
      "0.08275560961964867\n",
      "0.42454776905016023\n",
      "--\n",
      "0.08527726529096254\n",
      "0.40738268173285214\n",
      "--\n",
      "0.08925817183730939\n",
      "0.4271678732686456\n"
     ]
    },
    {
     "name": "stderr",
     "output_type": "stream",
     "text": [
      "C:\\Users\\MARCELO\\anaconda3\\lib\\site-packages\\numpy\\core\\_methods.py:263: RuntimeWarning: Degrees of freedom <= 0 for slice\n",
      "  keepdims=keepdims, where=where)\n",
      "C:\\Users\\MARCELO\\anaconda3\\lib\\site-packages\\numpy\\core\\_methods.py:254: RuntimeWarning: invalid value encountered in double_scalars\n",
      "  ret = ret.dtype.type(ret / rcount)\n"
     ]
    },
    {
     "name": "stdout",
     "output_type": "stream",
     "text": [
      "***************************\n",
      "***************************\n",
      "***************************\n",
      "***************************\n",
      ".--\n",
      "0.08252095521799897\n",
      "0.42387377285340033\n",
      "--\n",
      "0.10061232133104932\n",
      "0.5040835822078666\n",
      "--\n",
      "0.08943558042314907\n",
      "0.42847357835377037\n"
     ]
    },
    {
     "name": "stderr",
     "output_type": "stream",
     "text": [
      "C:\\Users\\MARCELO\\anaconda3\\lib\\site-packages\\numpy\\core\\_methods.py:263: RuntimeWarning: Degrees of freedom <= 0 for slice\n",
      "  keepdims=keepdims, where=where)\n",
      "C:\\Users\\MARCELO\\anaconda3\\lib\\site-packages\\numpy\\core\\_methods.py:254: RuntimeWarning: invalid value encountered in double_scalars\n",
      "  ret = ret.dtype.type(ret / rcount)\n"
     ]
    },
    {
     "name": "stdout",
     "output_type": "stream",
     "text": [
      "***************************\n",
      "***************************\n",
      "***************************\n",
      "***************************\n",
      ".--\n",
      "0.08218713045674263\n",
      "0.42390583467734055\n",
      "--\n",
      "0.08108467629435472\n",
      "0.4257748280577327\n",
      "--\n",
      "0.08930710497501378\n",
      "0.4284301651690792\n"
     ]
    },
    {
     "name": "stderr",
     "output_type": "stream",
     "text": [
      "C:\\Users\\MARCELO\\anaconda3\\lib\\site-packages\\numpy\\core\\_methods.py:263: RuntimeWarning: Degrees of freedom <= 0 for slice\n",
      "  keepdims=keepdims, where=where)\n",
      "C:\\Users\\MARCELO\\anaconda3\\lib\\site-packages\\numpy\\core\\_methods.py:254: RuntimeWarning: invalid value encountered in double_scalars\n",
      "  ret = ret.dtype.type(ret / rcount)\n"
     ]
    },
    {
     "name": "stdout",
     "output_type": "stream",
     "text": [
      "***************************\n",
      "***************************\n",
      "***************************\n",
      "***************************\n",
      ".--\n",
      "0.082436715113029\n",
      "0.42424665728833233\n",
      "--\n",
      "0.09486449088319204\n",
      "0.4684594803296887\n",
      "--\n",
      "0.08939130779180436\n",
      "0.4290612057396581\n"
     ]
    },
    {
     "name": "stderr",
     "output_type": "stream",
     "text": [
      "C:\\Users\\MARCELO\\anaconda3\\lib\\site-packages\\numpy\\core\\_methods.py:263: RuntimeWarning: Degrees of freedom <= 0 for slice\n",
      "  keepdims=keepdims, where=where)\n",
      "C:\\Users\\MARCELO\\anaconda3\\lib\\site-packages\\numpy\\core\\_methods.py:254: RuntimeWarning: invalid value encountered in double_scalars\n",
      "  ret = ret.dtype.type(ret / rcount)\n"
     ]
    },
    {
     "name": "stdout",
     "output_type": "stream",
     "text": [
      "***************************\n",
      "***************************\n",
      "***************************\n",
      "***************************\n",
      ".--\n",
      "0.082405194564965\n",
      "0.4240567271588877\n",
      "--\n",
      "0.07312167440983466\n",
      "0.38707527442032397\n",
      "--\n",
      "0.08914847744281974\n",
      "0.4284667194288011\n"
     ]
    },
    {
     "name": "stderr",
     "output_type": "stream",
     "text": [
      "C:\\Users\\MARCELO\\anaconda3\\lib\\site-packages\\numpy\\core\\_methods.py:263: RuntimeWarning: Degrees of freedom <= 0 for slice\n",
      "  keepdims=keepdims, where=where)\n",
      "C:\\Users\\MARCELO\\anaconda3\\lib\\site-packages\\numpy\\core\\_methods.py:254: RuntimeWarning: invalid value encountered in double_scalars\n",
      "  ret = ret.dtype.type(ret / rcount)\n"
     ]
    },
    {
     "name": "stdout",
     "output_type": "stream",
     "text": [
      "***************************\n",
      "***************************\n",
      "***************************\n",
      "***************************\n",
      ".--\n",
      "0.08293795951719383\n",
      "0.42433105464718185\n",
      "--\n",
      "0.08477968347165733\n",
      "0.43027777598443057\n",
      "--\n",
      "0.08908423047265558\n",
      "0.42849055413326154\n"
     ]
    },
    {
     "name": "stderr",
     "output_type": "stream",
     "text": [
      "C:\\Users\\MARCELO\\anaconda3\\lib\\site-packages\\numpy\\core\\_methods.py:263: RuntimeWarning: Degrees of freedom <= 0 for slice\n",
      "  keepdims=keepdims, where=where)\n",
      "C:\\Users\\MARCELO\\anaconda3\\lib\\site-packages\\numpy\\core\\_methods.py:254: RuntimeWarning: invalid value encountered in double_scalars\n",
      "  ret = ret.dtype.type(ret / rcount)\n"
     ]
    },
    {
     "name": "stdout",
     "output_type": "stream",
     "text": [
      "***************************\n",
      "***************************\n",
      "***************************\n",
      "***************************\n",
      ".--\n",
      "0.08234276387978025\n",
      "0.42413919681232687\n",
      "--\n",
      "0.08228115044138394\n",
      "0.4215910115464287\n",
      "--\n",
      "0.08898563510988353\n",
      "0.42838911786406075\n"
     ]
    },
    {
     "name": "stderr",
     "output_type": "stream",
     "text": [
      "C:\\Users\\MARCELO\\anaconda3\\lib\\site-packages\\numpy\\core\\_methods.py:263: RuntimeWarning: Degrees of freedom <= 0 for slice\n",
      "  keepdims=keepdims, where=where)\n",
      "C:\\Users\\MARCELO\\anaconda3\\lib\\site-packages\\numpy\\core\\_methods.py:254: RuntimeWarning: invalid value encountered in double_scalars\n",
      "  ret = ret.dtype.type(ret / rcount)\n"
     ]
    },
    {
     "name": "stdout",
     "output_type": "stream",
     "text": [
      "***************************\n",
      "***************************\n",
      "***************************\n",
      "***************************\n",
      ".--\n",
      "0.082665991992051\n",
      "0.4239983108076561\n",
      "--\n",
      "0.11010250018071384\n",
      "0.5308371938323111\n",
      "--\n",
      "0.08928730461089539\n",
      "0.4300271852046002\n"
     ]
    },
    {
     "name": "stderr",
     "output_type": "stream",
     "text": [
      "C:\\Users\\MARCELO\\anaconda3\\lib\\site-packages\\numpy\\core\\_methods.py:263: RuntimeWarning: Degrees of freedom <= 0 for slice\n",
      "  keepdims=keepdims, where=where)\n",
      "C:\\Users\\MARCELO\\anaconda3\\lib\\site-packages\\numpy\\core\\_methods.py:254: RuntimeWarning: invalid value encountered in double_scalars\n",
      "  ret = ret.dtype.type(ret / rcount)\n"
     ]
    },
    {
     "name": "stdout",
     "output_type": "stream",
     "text": [
      "***************************\n",
      "***************************\n",
      "***************************\n",
      "***************************\n",
      ".--\n",
      "0.0824579254839482\n",
      "0.423396888092531\n",
      "--\n",
      "0.07729431426443625\n",
      "0.43541496026727916\n",
      "--\n",
      "0.08911838925390302\n",
      "0.43010275669538517\n"
     ]
    },
    {
     "name": "stderr",
     "output_type": "stream",
     "text": [
      "C:\\Users\\MARCELO\\anaconda3\\lib\\site-packages\\numpy\\core\\_methods.py:263: RuntimeWarning: Degrees of freedom <= 0 for slice\n",
      "  keepdims=keepdims, where=where)\n",
      "C:\\Users\\MARCELO\\anaconda3\\lib\\site-packages\\numpy\\core\\_methods.py:254: RuntimeWarning: invalid value encountered in double_scalars\n",
      "  ret = ret.dtype.type(ret / rcount)\n"
     ]
    },
    {
     "name": "stdout",
     "output_type": "stream",
     "text": [
      "***************************\n",
      "***************************\n",
      "***************************\n",
      "***************************\n",
      ".--\n",
      "0.08257904934907047\n",
      "0.4234121497220381\n",
      "--\n",
      "0.10096896549896336\n",
      "0.5087089515828175\n",
      "--\n",
      "0.08928298059063997\n",
      "0.43129070814431025\n"
     ]
    },
    {
     "name": "stderr",
     "output_type": "stream",
     "text": [
      "C:\\Users\\MARCELO\\anaconda3\\lib\\site-packages\\numpy\\core\\_methods.py:263: RuntimeWarning: Degrees of freedom <= 0 for slice\n",
      "  keepdims=keepdims, where=where)\n",
      "C:\\Users\\MARCELO\\anaconda3\\lib\\site-packages\\numpy\\core\\_methods.py:254: RuntimeWarning: invalid value encountered in double_scalars\n",
      "  ret = ret.dtype.type(ret / rcount)\n"
     ]
    },
    {
     "name": "stdout",
     "output_type": "stream",
     "text": [
      "***************************\n",
      "***************************\n",
      "***************************\n",
      "***************************\n",
      ".--\n",
      "0.08220288598002419\n",
      "0.42357006925715807\n",
      "--\n",
      "0.071352752804989\n",
      "0.36242912095489954\n",
      "--\n",
      "0.08903736103193241\n",
      "0.43042477348226016\n"
     ]
    },
    {
     "name": "stderr",
     "output_type": "stream",
     "text": [
      "C:\\Users\\MARCELO\\anaconda3\\lib\\site-packages\\numpy\\core\\_methods.py:263: RuntimeWarning: Degrees of freedom <= 0 for slice\n",
      "  keepdims=keepdims, where=where)\n",
      "C:\\Users\\MARCELO\\anaconda3\\lib\\site-packages\\numpy\\core\\_methods.py:254: RuntimeWarning: invalid value encountered in double_scalars\n",
      "  ret = ret.dtype.type(ret / rcount)\n"
     ]
    },
    {
     "name": "stdout",
     "output_type": "stream",
     "text": [
      "***************************\n",
      "***************************\n",
      "***************************\n",
      "***************************\n",
      ".--\n",
      "0.0821063491167216\n",
      "0.4235675166468542\n",
      "--\n",
      "0.08375551774399355\n",
      "0.4488140317536898\n",
      "--\n",
      "0.08896598477128459\n",
      "0.4306757855766138\n"
     ]
    },
    {
     "name": "stderr",
     "output_type": "stream",
     "text": [
      "C:\\Users\\MARCELO\\anaconda3\\lib\\site-packages\\numpy\\core\\_methods.py:263: RuntimeWarning: Degrees of freedom <= 0 for slice\n",
      "  keepdims=keepdims, where=where)\n",
      "C:\\Users\\MARCELO\\anaconda3\\lib\\site-packages\\numpy\\core\\_methods.py:254: RuntimeWarning: invalid value encountered in double_scalars\n",
      "  ret = ret.dtype.type(ret / rcount)\n"
     ]
    },
    {
     "name": "stdout",
     "output_type": "stream",
     "text": [
      "***************************\n",
      "***************************\n",
      "***************************\n",
      "***************************\n",
      ".--\n",
      "0.08217364964730223\n",
      "0.4238090480918219\n",
      "--\n",
      "0.09656900561507792\n",
      "0.4651767353568228\n",
      "--\n",
      "0.08906735838253517\n",
      "0.43115150067011787\n"
     ]
    },
    {
     "name": "stderr",
     "output_type": "stream",
     "text": [
      "C:\\Users\\MARCELO\\anaconda3\\lib\\site-packages\\numpy\\core\\_methods.py:263: RuntimeWarning: Degrees of freedom <= 0 for slice\n",
      "  keepdims=keepdims, where=where)\n",
      "C:\\Users\\MARCELO\\anaconda3\\lib\\site-packages\\numpy\\core\\_methods.py:254: RuntimeWarning: invalid value encountered in double_scalars\n",
      "  ret = ret.dtype.type(ret / rcount)\n"
     ]
    },
    {
     "name": "stdout",
     "output_type": "stream",
     "text": [
      "***************************\n",
      "***************************\n",
      "***************************\n",
      "***************************\n",
      ".--\n",
      "0.08205984678899728\n",
      "0.4240078809021072\n",
      "--\n",
      "0.0595942627415061\n",
      "0.3785778650517632\n",
      "--\n",
      "0.08867955449252163\n",
      "0.4305123294477961\n"
     ]
    },
    {
     "name": "stderr",
     "output_type": "stream",
     "text": [
      "C:\\Users\\MARCELO\\anaconda3\\lib\\site-packages\\numpy\\core\\_methods.py:263: RuntimeWarning: Degrees of freedom <= 0 for slice\n",
      "  keepdims=keepdims, where=where)\n",
      "C:\\Users\\MARCELO\\anaconda3\\lib\\site-packages\\numpy\\core\\_methods.py:254: RuntimeWarning: invalid value encountered in double_scalars\n",
      "  ret = ret.dtype.type(ret / rcount)\n"
     ]
    },
    {
     "name": "stdout",
     "output_type": "stream",
     "text": [
      "***************************\n",
      "***************************\n",
      "***************************\n",
      "***************************\n",
      ".--\n",
      "0.08228978727164697\n",
      "0.4234597288696495\n",
      "--\n",
      "0.07276062301313505\n",
      "0.41762848479369324\n",
      "--\n",
      "0.08847281512265946\n",
      "0.4303486191666688\n"
     ]
    },
    {
     "name": "stderr",
     "output_type": "stream",
     "text": [
      "C:\\Users\\MARCELO\\anaconda3\\lib\\site-packages\\numpy\\core\\_methods.py:263: RuntimeWarning: Degrees of freedom <= 0 for slice\n",
      "  keepdims=keepdims, where=where)\n",
      "C:\\Users\\MARCELO\\anaconda3\\lib\\site-packages\\numpy\\core\\_methods.py:254: RuntimeWarning: invalid value encountered in double_scalars\n",
      "  ret = ret.dtype.type(ret / rcount)\n"
     ]
    },
    {
     "name": "stdout",
     "output_type": "stream",
     "text": [
      "***************************\n",
      "***************************\n",
      "***************************\n",
      "***************************\n",
      ".--\n",
      "0.08221514559011443\n",
      "0.4245755074171389\n",
      "--\n",
      "0.0841458803334972\n",
      "0.43189765131746327\n",
      "--\n",
      "0.08841734159972149\n",
      "0.4303660109299443\n"
     ]
    },
    {
     "name": "stderr",
     "output_type": "stream",
     "text": [
      "C:\\Users\\MARCELO\\anaconda3\\lib\\site-packages\\numpy\\core\\_methods.py:263: RuntimeWarning: Degrees of freedom <= 0 for slice\n",
      "  keepdims=keepdims, where=where)\n",
      "C:\\Users\\MARCELO\\anaconda3\\lib\\site-packages\\numpy\\core\\_methods.py:254: RuntimeWarning: invalid value encountered in double_scalars\n",
      "  ret = ret.dtype.type(ret / rcount)\n"
     ]
    },
    {
     "name": "stdout",
     "output_type": "stream",
     "text": [
      "***************************\n",
      "***************************\n",
      "***************************\n",
      "***************************\n",
      ".--\n",
      "0.08228316117955223\n",
      "0.42409190212596587\n",
      "--\n",
      "0.07886176127474755\n",
      "0.4022163821892357\n",
      "--\n",
      "0.08829638488674713\n",
      "0.43002014315757947\n"
     ]
    },
    {
     "name": "stderr",
     "output_type": "stream",
     "text": [
      "C:\\Users\\MARCELO\\anaconda3\\lib\\site-packages\\numpy\\core\\_methods.py:263: RuntimeWarning: Degrees of freedom <= 0 for slice\n",
      "  keepdims=keepdims, where=where)\n",
      "C:\\Users\\MARCELO\\anaconda3\\lib\\site-packages\\numpy\\core\\_methods.py:254: RuntimeWarning: invalid value encountered in double_scalars\n",
      "  ret = ret.dtype.type(ret / rcount)\n"
     ]
    },
    {
     "name": "stdout",
     "output_type": "stream",
     "text": [
      "***************************\n",
      "***************************\n",
      "***************************\n",
      "***************************\n",
      ".--\n",
      "0.08233028998758608\n",
      "0.4230088509302383\n",
      "--\n",
      "0.09413770495273638\n",
      "0.4546481817124771\n",
      "--\n",
      "0.088369401387572\n",
      "0.4303341839059348\n"
     ]
    },
    {
     "name": "stderr",
     "output_type": "stream",
     "text": [
      "C:\\Users\\MARCELO\\anaconda3\\lib\\site-packages\\numpy\\core\\_methods.py:263: RuntimeWarning: Degrees of freedom <= 0 for slice\n",
      "  keepdims=keepdims, where=where)\n",
      "C:\\Users\\MARCELO\\anaconda3\\lib\\site-packages\\numpy\\core\\_methods.py:254: RuntimeWarning: invalid value encountered in double_scalars\n",
      "  ret = ret.dtype.type(ret / rcount)\n"
     ]
    },
    {
     "name": "stdout",
     "output_type": "stream",
     "text": [
      "***************************\n",
      "***************************\n",
      "***************************\n",
      "***************************\n",
      ".--\n",
      "0.08221967614196425\n",
      "0.42366705451370507\n",
      "--\n",
      "0.09413068860420026\n",
      "0.44795089728711135\n",
      "--\n",
      "0.08844052839024642\n",
      "0.4305536645837822\n"
     ]
    },
    {
     "name": "stderr",
     "output_type": "stream",
     "text": [
      "C:\\Users\\MARCELO\\anaconda3\\lib\\site-packages\\numpy\\core\\_methods.py:263: RuntimeWarning: Degrees of freedom <= 0 for slice\n",
      "  keepdims=keepdims, where=where)\n",
      "C:\\Users\\MARCELO\\anaconda3\\lib\\site-packages\\numpy\\core\\_methods.py:254: RuntimeWarning: invalid value encountered in double_scalars\n",
      "  ret = ret.dtype.type(ret / rcount)\n"
     ]
    },
    {
     "name": "stdout",
     "output_type": "stream",
     "text": [
      "***************************\n",
      "***************************\n",
      "***************************\n",
      "***************************\n",
      ".--\n",
      "0.08201200969801802\n",
      "0.4237925989162648\n",
      "--\n",
      "0.06768546570104081\n",
      "0.3384740409184417\n",
      "--\n",
      "0.08818741786964636\n",
      "0.4295540494716382\n"
     ]
    },
    {
     "name": "stderr",
     "output_type": "stream",
     "text": [
      "C:\\Users\\MARCELO\\anaconda3\\lib\\site-packages\\numpy\\core\\_methods.py:263: RuntimeWarning: Degrees of freedom <= 0 for slice\n",
      "  keepdims=keepdims, where=where)\n",
      "C:\\Users\\MARCELO\\anaconda3\\lib\\site-packages\\numpy\\core\\_methods.py:254: RuntimeWarning: invalid value encountered in double_scalars\n",
      "  ret = ret.dtype.type(ret / rcount)\n"
     ]
    },
    {
     "name": "stdout",
     "output_type": "stream",
     "text": [
      "***************************\n",
      "***************************\n",
      "***************************\n",
      "***************************\n",
      ".--\n",
      "0.08224305059224814\n",
      "0.42575521031905494\n",
      "--\n",
      "0.07394575638126116\n",
      "0.43136514598175\n",
      "--\n",
      "0.08801583158665376\n",
      "0.4295761162299002\n"
     ]
    },
    {
     "name": "stderr",
     "output_type": "stream",
     "text": [
      "C:\\Users\\MARCELO\\anaconda3\\lib\\site-packages\\numpy\\core\\_methods.py:263: RuntimeWarning: Degrees of freedom <= 0 for slice\n",
      "  keepdims=keepdims, where=where)\n",
      "C:\\Users\\MARCELO\\anaconda3\\lib\\site-packages\\numpy\\core\\_methods.py:254: RuntimeWarning: invalid value encountered in double_scalars\n",
      "  ret = ret.dtype.type(ret / rcount)\n"
     ]
    },
    {
     "name": "stdout",
     "output_type": "stream",
     "text": [
      "***************************\n",
      "***************************\n",
      "***************************\n",
      "***************************\n",
      ".--\n",
      "0.08269229170157956\n",
      "0.42561307017527983\n",
      "--\n",
      "0.06413724168052432\n",
      "0.3475441196484204\n",
      "--\n",
      "0.08773156265919983\n",
      "0.42869801313822187\n"
     ]
    },
    {
     "name": "stderr",
     "output_type": "stream",
     "text": [
      "C:\\Users\\MARCELO\\anaconda3\\lib\\site-packages\\numpy\\core\\_methods.py:263: RuntimeWarning: Degrees of freedom <= 0 for slice\n",
      "  keepdims=keepdims, where=where)\n",
      "C:\\Users\\MARCELO\\anaconda3\\lib\\site-packages\\numpy\\core\\_methods.py:254: RuntimeWarning: invalid value encountered in double_scalars\n",
      "  ret = ret.dtype.type(ret / rcount)\n"
     ]
    },
    {
     "name": "stdout",
     "output_type": "stream",
     "text": [
      "***************************\n",
      "***************************\n",
      "***************************\n",
      "***************************\n",
      ".--\n",
      "0.08180094485832443\n",
      "0.4230270876128843\n",
      "--\n",
      "0.09816513712215237\n",
      "0.49128406406344577\n",
      "--\n",
      "0.0878543105940581\n",
      "0.4294855169719673\n"
     ]
    },
    {
     "name": "stderr",
     "output_type": "stream",
     "text": [
      "C:\\Users\\MARCELO\\anaconda3\\lib\\site-packages\\numpy\\core\\_methods.py:263: RuntimeWarning: Degrees of freedom <= 0 for slice\n",
      "  keepdims=keepdims, where=where)\n",
      "C:\\Users\\MARCELO\\anaconda3\\lib\\site-packages\\numpy\\core\\_methods.py:254: RuntimeWarning: invalid value encountered in double_scalars\n",
      "  ret = ret.dtype.type(ret / rcount)\n"
     ]
    },
    {
     "name": "stdout",
     "output_type": "stream",
     "text": [
      "***************************\n",
      "***************************\n",
      "***************************\n",
      "***************************\n",
      ".--\n",
      "0.08146436687524612\n",
      "0.42212393555879524\n",
      "--\n",
      "0.08532221652264707\n",
      "0.4423140109453747\n",
      "--\n",
      "0.08782486763973937\n",
      "0.42963432662603984\n"
     ]
    },
    {
     "name": "stderr",
     "output_type": "stream",
     "text": [
      "C:\\Users\\MARCELO\\anaconda3\\lib\\site-packages\\numpy\\core\\_methods.py:263: RuntimeWarning: Degrees of freedom <= 0 for slice\n",
      "  keepdims=keepdims, where=where)\n",
      "C:\\Users\\MARCELO\\anaconda3\\lib\\site-packages\\numpy\\core\\_methods.py:254: RuntimeWarning: invalid value encountered in double_scalars\n",
      "  ret = ret.dtype.type(ret / rcount)\n"
     ]
    },
    {
     "name": "stdout",
     "output_type": "stream",
     "text": [
      "***************************\n",
      "***************************\n",
      "***************************\n",
      "***************************\n",
      ".--\n",
      "0.08165121256754193\n",
      "0.42116833335539355\n",
      "--\n",
      "0.09313270951271989\n",
      "0.4641064658664478\n",
      "--\n",
      "0.08788587731644029\n",
      "0.430043754992562\n"
     ]
    },
    {
     "name": "stderr",
     "output_type": "stream",
     "text": [
      "C:\\Users\\MARCELO\\anaconda3\\lib\\site-packages\\numpy\\core\\_methods.py:263: RuntimeWarning: Degrees of freedom <= 0 for slice\n",
      "  keepdims=keepdims, where=where)\n",
      "C:\\Users\\MARCELO\\anaconda3\\lib\\site-packages\\numpy\\core\\_methods.py:254: RuntimeWarning: invalid value encountered in double_scalars\n",
      "  ret = ret.dtype.type(ret / rcount)\n"
     ]
    },
    {
     "name": "stdout",
     "output_type": "stream",
     "text": [
      "***************************\n",
      "***************************\n",
      "***************************\n",
      "***************************\n",
      ".--\n",
      "0.08227682559372786\n",
      "0.4211300621464165\n",
      "--\n",
      "0.08539337721164339\n",
      "0.414026760173204\n",
      "--\n",
      "0.08785755345161306\n",
      "0.4298629094566552\n"
     ]
    },
    {
     "name": "stderr",
     "output_type": "stream",
     "text": [
      "C:\\Users\\MARCELO\\anaconda3\\lib\\site-packages\\numpy\\core\\_methods.py:263: RuntimeWarning: Degrees of freedom <= 0 for slice\n",
      "  keepdims=keepdims, where=where)\n",
      "C:\\Users\\MARCELO\\anaconda3\\lib\\site-packages\\numpy\\core\\_methods.py:254: RuntimeWarning: invalid value encountered in double_scalars\n",
      "  ret = ret.dtype.type(ret / rcount)\n"
     ]
    },
    {
     "name": "stdout",
     "output_type": "stream",
     "text": [
      "***************************\n",
      "***************************\n",
      "***************************\n",
      "***************************\n",
      ".--\n",
      "0.08129559016679883\n",
      "0.4206094116342936\n",
      "--\n",
      "0.07009677084116266\n",
      "0.3770831357932875\n",
      "--\n",
      "0.08765799409643946\n",
      "0.4293081390619452\n"
     ]
    },
    {
     "name": "stderr",
     "output_type": "stream",
     "text": [
      "C:\\Users\\MARCELO\\anaconda3\\lib\\site-packages\\numpy\\core\\_methods.py:263: RuntimeWarning: Degrees of freedom <= 0 for slice\n",
      "  keepdims=keepdims, where=where)\n",
      "C:\\Users\\MARCELO\\anaconda3\\lib\\site-packages\\numpy\\core\\_methods.py:254: RuntimeWarning: invalid value encountered in double_scalars\n",
      "  ret = ret.dtype.type(ret / rcount)\n"
     ]
    },
    {
     "name": "stdout",
     "output_type": "stream",
     "text": [
      "***************************\n",
      "***************************\n",
      "***************************\n",
      "***************************\n",
      ".--\n",
      "0.08129809461710587\n",
      "0.4206157765475942\n",
      "--\n",
      "0.08099898182530887\n",
      "0.4251429393957516\n",
      "--\n",
      "0.08758400507120467\n",
      "0.42926030883439653\n"
     ]
    },
    {
     "name": "stderr",
     "output_type": "stream",
     "text": [
      "C:\\Users\\MARCELO\\anaconda3\\lib\\site-packages\\numpy\\core\\_methods.py:263: RuntimeWarning: Degrees of freedom <= 0 for slice\n",
      "  keepdims=keepdims, where=where)\n",
      "C:\\Users\\MARCELO\\anaconda3\\lib\\site-packages\\numpy\\core\\_methods.py:254: RuntimeWarning: invalid value encountered in double_scalars\n",
      "  ret = ret.dtype.type(ret / rcount)\n"
     ]
    },
    {
     "name": "stdout",
     "output_type": "stream",
     "text": [
      "***************************\n",
      "***************************\n",
      "***************************\n",
      "***************************\n",
      ".--\n",
      "0.08129458413586448\n",
      "0.42080053584933047\n",
      "--\n",
      "0.07373087077937089\n",
      "0.3372069442659529\n",
      "--\n",
      "0.08743177282623947\n",
      "0.4283572118682248\n"
     ]
    },
    {
     "name": "stderr",
     "output_type": "stream",
     "text": [
      "C:\\Users\\MARCELO\\anaconda3\\lib\\site-packages\\numpy\\core\\_methods.py:263: RuntimeWarning: Degrees of freedom <= 0 for slice\n",
      "  keepdims=keepdims, where=where)\n",
      "C:\\Users\\MARCELO\\anaconda3\\lib\\site-packages\\numpy\\core\\_methods.py:254: RuntimeWarning: invalid value encountered in double_scalars\n",
      "  ret = ret.dtype.type(ret / rcount)\n"
     ]
    },
    {
     "name": "stdout",
     "output_type": "stream",
     "text": [
      "***************************\n",
      "***************************\n",
      "***************************\n",
      "***************************\n",
      ".--\n",
      "0.08088639536612674\n",
      "0.42095137664750043\n",
      "--\n",
      "0.09495456598687452\n",
      "0.4928597333079171\n",
      "--\n",
      "0.08751354231711593\n",
      "0.42910809186603144\n"
     ]
    },
    {
     "name": "stderr",
     "output_type": "stream",
     "text": [
      "C:\\Users\\MARCELO\\anaconda3\\lib\\site-packages\\numpy\\core\\_methods.py:263: RuntimeWarning: Degrees of freedom <= 0 for slice\n",
      "  keepdims=keepdims, where=where)\n",
      "C:\\Users\\MARCELO\\anaconda3\\lib\\site-packages\\numpy\\core\\_methods.py:254: RuntimeWarning: invalid value encountered in double_scalars\n",
      "  ret = ret.dtype.type(ret / rcount)\n"
     ]
    },
    {
     "name": "stdout",
     "output_type": "stream",
     "text": [
      "***************************\n",
      "***************************\n",
      "***************************\n",
      "***************************\n",
      ".--\n",
      "0.08121984928172363\n",
      "0.42004468347521295\n",
      "--\n",
      "0.08204586890130304\n",
      "0.4325751361702199\n",
      "--\n",
      "0.08745475012984913\n",
      "0.42914354750625566\n"
     ]
    },
    {
     "name": "stderr",
     "output_type": "stream",
     "text": [
      "C:\\Users\\MARCELO\\anaconda3\\lib\\site-packages\\numpy\\core\\_methods.py:263: RuntimeWarning: Degrees of freedom <= 0 for slice\n",
      "  keepdims=keepdims, where=where)\n",
      "C:\\Users\\MARCELO\\anaconda3\\lib\\site-packages\\numpy\\core\\_methods.py:254: RuntimeWarning: invalid value encountered in double_scalars\n",
      "  ret = ret.dtype.type(ret / rcount)\n"
     ]
    },
    {
     "name": "stdout",
     "output_type": "stream",
     "text": [
      "***************************\n",
      "***************************\n",
      "***************************\n",
      "***************************\n",
      ".--\n",
      "0.08129131779548415\n",
      "0.42132174072534073\n",
      "--\n",
      "0.06298631483665668\n",
      "0.3432505111714751\n",
      "--\n",
      "0.08719444762673006\n",
      "0.42832633056702923\n"
     ]
    },
    {
     "name": "stderr",
     "output_type": "stream",
     "text": [
      "C:\\Users\\MARCELO\\anaconda3\\lib\\site-packages\\numpy\\core\\_methods.py:263: RuntimeWarning: Degrees of freedom <= 0 for slice\n",
      "  keepdims=keepdims, where=where)\n",
      "C:\\Users\\MARCELO\\anaconda3\\lib\\site-packages\\numpy\\core\\_methods.py:254: RuntimeWarning: invalid value encountered in double_scalars\n",
      "  ret = ret.dtype.type(ret / rcount)\n"
     ]
    },
    {
     "name": "stdout",
     "output_type": "stream",
     "text": [
      "***************************\n",
      "***************************\n",
      "***************************\n",
      "***************************\n",
      ".--\n",
      "0.08161887837959471\n",
      "0.42155783857652757\n",
      "--\n",
      "0.07056831573875388\n",
      "0.3630016691789165\n",
      "--\n",
      "0.08701943571211979\n",
      "0.4276924041067957\n"
     ]
    },
    {
     "name": "stderr",
     "output_type": "stream",
     "text": [
      "C:\\Users\\MARCELO\\anaconda3\\lib\\site-packages\\numpy\\core\\_methods.py:263: RuntimeWarning: Degrees of freedom <= 0 for slice\n",
      "  keepdims=keepdims, where=where)\n",
      "C:\\Users\\MARCELO\\anaconda3\\lib\\site-packages\\numpy\\core\\_methods.py:254: RuntimeWarning: invalid value encountered in double_scalars\n",
      "  ret = ret.dtype.type(ret / rcount)\n"
     ]
    },
    {
     "name": "stdout",
     "output_type": "stream",
     "text": [
      "***************************\n",
      "***************************\n",
      "***************************\n",
      "***************************\n",
      ".--\n",
      "0.0810811885504259\n",
      "0.42165411685122883\n",
      "--\n",
      "0.05993461210408714\n",
      "0.3307080032552806\n",
      "--\n",
      "0.08673730213286944\n",
      "0.426803268648824\n"
     ]
    },
    {
     "name": "stderr",
     "output_type": "stream",
     "text": [
      "C:\\Users\\MARCELO\\anaconda3\\lib\\site-packages\\numpy\\core\\_methods.py:263: RuntimeWarning: Degrees of freedom <= 0 for slice\n",
      "  keepdims=keepdims, where=where)\n",
      "C:\\Users\\MARCELO\\anaconda3\\lib\\site-packages\\numpy\\core\\_methods.py:254: RuntimeWarning: invalid value encountered in double_scalars\n",
      "  ret = ret.dtype.type(ret / rcount)\n"
     ]
    },
    {
     "name": "stdout",
     "output_type": "stream",
     "text": [
      "***************************\n",
      "***************************\n",
      "***************************\n",
      "***************************\n",
      ".--\n",
      "0.08081182616186076\n",
      "0.4201373038541346\n",
      "--\n",
      "0.07974558021954727\n",
      "0.41906308327511177\n",
      "--\n",
      "0.0866652225255156\n",
      "0.42672265139499654\n"
     ]
    },
    {
     "name": "stderr",
     "output_type": "stream",
     "text": [
      "C:\\Users\\MARCELO\\anaconda3\\lib\\site-packages\\numpy\\core\\_methods.py:263: RuntimeWarning: Degrees of freedom <= 0 for slice\n",
      "  keepdims=keepdims, where=where)\n",
      "C:\\Users\\MARCELO\\anaconda3\\lib\\site-packages\\numpy\\core\\_methods.py:254: RuntimeWarning: invalid value encountered in double_scalars\n",
      "  ret = ret.dtype.type(ret / rcount)\n"
     ]
    },
    {
     "name": "stdout",
     "output_type": "stream",
     "text": [
      "***************************\n",
      "***************************\n",
      "***************************\n",
      "***************************\n",
      ".--\n",
      "0.0807815294862319\n",
      "0.4205633709461797\n",
      "--\n",
      "0.10114781142293941\n",
      "0.5043977403873152\n",
      "--\n",
      "0.08681300404487707\n",
      "0.42758596777109575\n"
     ]
    },
    {
     "name": "stderr",
     "output_type": "stream",
     "text": [
      "C:\\Users\\MARCELO\\anaconda3\\lib\\site-packages\\numpy\\core\\_methods.py:263: RuntimeWarning: Degrees of freedom <= 0 for slice\n",
      "  keepdims=keepdims, where=where)\n",
      "C:\\Users\\MARCELO\\anaconda3\\lib\\site-packages\\numpy\\core\\_methods.py:254: RuntimeWarning: invalid value encountered in double_scalars\n",
      "  ret = ret.dtype.type(ret / rcount)\n"
     ]
    },
    {
     "name": "stdout",
     "output_type": "stream",
     "text": [
      "***************************\n",
      "***************************\n",
      "***************************\n",
      "***************************\n",
      ".--\n",
      "0.08102614732648605\n",
      "0.42050779918077\n",
      "--\n",
      "0.08433563032199164\n",
      "0.4067684286068165\n",
      "--\n",
      "0.08678798006787823\n",
      "0.42737887357316745\n"
     ]
    },
    {
     "name": "stderr",
     "output_type": "stream",
     "text": [
      "C:\\Users\\MARCELO\\anaconda3\\lib\\site-packages\\numpy\\core\\_methods.py:263: RuntimeWarning: Degrees of freedom <= 0 for slice\n",
      "  keepdims=keepdims, where=where)\n",
      "C:\\Users\\MARCELO\\anaconda3\\lib\\site-packages\\numpy\\core\\_methods.py:254: RuntimeWarning: invalid value encountered in double_scalars\n",
      "  ret = ret.dtype.type(ret / rcount)\n"
     ]
    },
    {
     "name": "stdout",
     "output_type": "stream",
     "text": [
      "***************************\n",
      "***************************\n",
      "***************************\n",
      "***************************\n",
      ".--\n",
      "0.08132710477020333\n",
      "0.42232600054352515\n",
      "--\n",
      "0.08099101736349985\n",
      "0.4435418294137235\n",
      "--\n",
      "0.08673001044083445\n",
      "0.42754161772905397\n"
     ]
    },
    {
     "name": "stderr",
     "output_type": "stream",
     "text": [
      "C:\\Users\\MARCELO\\anaconda3\\lib\\site-packages\\numpy\\core\\_methods.py:263: RuntimeWarning: Degrees of freedom <= 0 for slice\n",
      "  keepdims=keepdims, where=where)\n",
      "C:\\Users\\MARCELO\\anaconda3\\lib\\site-packages\\numpy\\core\\_methods.py:254: RuntimeWarning: invalid value encountered in double_scalars\n",
      "  ret = ret.dtype.type(ret / rcount)\n"
     ]
    },
    {
     "name": "stdout",
     "output_type": "stream",
     "text": [
      "***************************\n",
      "***************************\n",
      "***************************\n",
      "***************************\n",
      ".--\n",
      "0.0811257014788215\n",
      "0.420148873113989\n",
      "--\n",
      "0.0683894366954919\n",
      "0.38139018256282875\n",
      "--\n",
      "0.08654842060177165\n",
      "0.42711128677466687\n"
     ]
    },
    {
     "name": "stderr",
     "output_type": "stream",
     "text": [
      "C:\\Users\\MARCELO\\anaconda3\\lib\\site-packages\\numpy\\core\\_methods.py:263: RuntimeWarning: Degrees of freedom <= 0 for slice\n",
      "  keepdims=keepdims, where=where)\n",
      "C:\\Users\\MARCELO\\anaconda3\\lib\\site-packages\\numpy\\core\\_methods.py:254: RuntimeWarning: invalid value encountered in double_scalars\n",
      "  ret = ret.dtype.type(ret / rcount)\n"
     ]
    },
    {
     "name": "stdout",
     "output_type": "stream",
     "text": [
      "***************************\n",
      "***************************\n",
      "***************************\n",
      "***************************\n",
      ".--\n",
      "0.08134049533609423\n",
      "0.42064510402386807\n",
      "--\n",
      "0.07292165671102703\n",
      "0.3926556198660791\n",
      "--\n",
      "0.08641482487735258\n",
      "0.42678732625950727\n"
     ]
    },
    {
     "name": "stderr",
     "output_type": "stream",
     "text": [
      "C:\\Users\\MARCELO\\anaconda3\\lib\\site-packages\\numpy\\core\\_methods.py:263: RuntimeWarning: Degrees of freedom <= 0 for slice\n",
      "  keepdims=keepdims, where=where)\n",
      "C:\\Users\\MARCELO\\anaconda3\\lib\\site-packages\\numpy\\core\\_methods.py:254: RuntimeWarning: invalid value encountered in double_scalars\n",
      "  ret = ret.dtype.type(ret / rcount)\n"
     ]
    },
    {
     "name": "stdout",
     "output_type": "stream",
     "text": [
      "***************************\n",
      "***************************\n",
      "***************************\n",
      "***************************\n",
      ".--\n",
      "0.08061917214869835\n",
      "0.4200375966922279\n",
      "--\n",
      "0.08723541035933886\n",
      "0.4398529707413011\n",
      "--\n",
      "0.08642279172669226\n",
      "0.4269139083467089\n"
     ]
    },
    {
     "name": "stderr",
     "output_type": "stream",
     "text": [
      "C:\\Users\\MARCELO\\anaconda3\\lib\\site-packages\\numpy\\core\\_methods.py:263: RuntimeWarning: Degrees of freedom <= 0 for slice\n",
      "  keepdims=keepdims, where=where)\n",
      "C:\\Users\\MARCELO\\anaconda3\\lib\\site-packages\\numpy\\core\\_methods.py:254: RuntimeWarning: invalid value encountered in double_scalars\n",
      "  ret = ret.dtype.type(ret / rcount)\n"
     ]
    },
    {
     "name": "stdout",
     "output_type": "stream",
     "text": [
      "***************************\n",
      "***************************\n",
      "***************************\n",
      "***************************\n",
      ".--\n",
      "0.08128403488754864\n",
      "0.4198451266936168\n",
      "--\n",
      "0.07058473297371529\n",
      "0.3908632668487975\n",
      "--\n",
      "0.08627050270022132\n",
      "0.4265828492696891\n"
     ]
    },
    {
     "name": "stderr",
     "output_type": "stream",
     "text": [
      "C:\\Users\\MARCELO\\anaconda3\\lib\\site-packages\\numpy\\core\\_methods.py:263: RuntimeWarning: Degrees of freedom <= 0 for slice\n",
      "  keepdims=keepdims, where=where)\n",
      "C:\\Users\\MARCELO\\anaconda3\\lib\\site-packages\\numpy\\core\\_methods.py:254: RuntimeWarning: invalid value encountered in double_scalars\n",
      "  ret = ret.dtype.type(ret / rcount)\n"
     ]
    },
    {
     "name": "stdout",
     "output_type": "stream",
     "text": [
      "***************************\n",
      "***************************\n",
      "***************************\n",
      "***************************\n",
      ".--\n",
      "0.08137972130270242\n",
      "0.4203077824113444\n",
      "--\n",
      "0.08538495118753053\n",
      "0.4336607866671932\n",
      "--\n",
      "0.08626206887629094\n",
      "0.42664872232453493\n"
     ]
    },
    {
     "name": "stderr",
     "output_type": "stream",
     "text": [
      "C:\\Users\\MARCELO\\anaconda3\\lib\\site-packages\\numpy\\core\\_methods.py:263: RuntimeWarning: Degrees of freedom <= 0 for slice\n",
      "  keepdims=keepdims, where=where)\n",
      "C:\\Users\\MARCELO\\anaconda3\\lib\\site-packages\\numpy\\core\\_methods.py:254: RuntimeWarning: invalid value encountered in double_scalars\n",
      "  ret = ret.dtype.type(ret / rcount)\n"
     ]
    },
    {
     "name": "stdout",
     "output_type": "stream",
     "text": [
      "***************************\n",
      "***************************\n",
      "***************************\n",
      "***************************\n",
      ".--\n",
      "0.08088303563750782\n",
      "0.42090074895007884\n",
      "--\n",
      "0.07375728557363619\n",
      "0.3765922963582312\n",
      "--\n",
      "0.0861440992224923\n",
      "0.4262041026976159\n"
     ]
    },
    {
     "name": "stderr",
     "output_type": "stream",
     "text": [
      "C:\\Users\\MARCELO\\anaconda3\\lib\\site-packages\\numpy\\core\\_methods.py:263: RuntimeWarning: Degrees of freedom <= 0 for slice\n",
      "  keepdims=keepdims, where=where)\n",
      "C:\\Users\\MARCELO\\anaconda3\\lib\\site-packages\\numpy\\core\\_methods.py:254: RuntimeWarning: invalid value encountered in double_scalars\n",
      "  ret = ret.dtype.type(ret / rcount)\n"
     ]
    },
    {
     "name": "stdout",
     "output_type": "stream",
     "text": [
      "***************************\n",
      "***************************\n",
      "***************************\n",
      "***************************\n",
      ".--\n",
      "0.0807537152075731\n",
      "0.4201538686507396\n",
      "--\n",
      "0.08510715461231302\n",
      "0.43849215826068433\n",
      "--\n",
      "0.08613440815136914\n",
      "0.42631848915349824\n"
     ]
    },
    {
     "name": "stderr",
     "output_type": "stream",
     "text": [
      "C:\\Users\\MARCELO\\anaconda3\\lib\\site-packages\\numpy\\core\\_methods.py:263: RuntimeWarning: Degrees of freedom <= 0 for slice\n",
      "  keepdims=keepdims, where=where)\n",
      "C:\\Users\\MARCELO\\anaconda3\\lib\\site-packages\\numpy\\core\\_methods.py:254: RuntimeWarning: invalid value encountered in double_scalars\n",
      "  ret = ret.dtype.type(ret / rcount)\n"
     ]
    },
    {
     "name": "stdout",
     "output_type": "stream",
     "text": [
      "***************************\n",
      "***************************\n",
      "***************************\n",
      "***************************\n",
      ".--\n",
      "0.08067912830832615\n",
      "0.4201260454773111\n",
      "--\n",
      "0.09582155112107284\n",
      "0.4537017421564944\n",
      "--\n",
      "0.08622410391960714\n",
      "0.426578877885439\n"
     ]
    },
    {
     "name": "stderr",
     "output_type": "stream",
     "text": [
      "C:\\Users\\MARCELO\\anaconda3\\lib\\site-packages\\numpy\\core\\_methods.py:263: RuntimeWarning: Degrees of freedom <= 0 for slice\n",
      "  keepdims=keepdims, where=where)\n",
      "C:\\Users\\MARCELO\\anaconda3\\lib\\site-packages\\numpy\\core\\_methods.py:254: RuntimeWarning: invalid value encountered in double_scalars\n",
      "  ret = ret.dtype.type(ret / rcount)\n"
     ]
    },
    {
     "name": "stdout",
     "output_type": "stream",
     "text": [
      "***************************\n",
      "***************************\n",
      "***************************\n",
      "***************************\n",
      ".--\n",
      "0.08098707737083007\n",
      "0.4208663787527526\n",
      "--\n",
      "0.07191336179058999\n",
      "0.35272495488443656\n",
      "--\n",
      "0.08609281270741431\n",
      "0.42596036220301176\n"
     ]
    },
    {
     "name": "stderr",
     "output_type": "stream",
     "text": [
      "C:\\Users\\MARCELO\\anaconda3\\lib\\site-packages\\numpy\\core\\_methods.py:263: RuntimeWarning: Degrees of freedom <= 0 for slice\n",
      "  keepdims=keepdims, where=where)\n",
      "C:\\Users\\MARCELO\\anaconda3\\lib\\site-packages\\numpy\\core\\_methods.py:254: RuntimeWarning: invalid value encountered in double_scalars\n",
      "  ret = ret.dtype.type(ret / rcount)\n"
     ]
    },
    {
     "name": "stdout",
     "output_type": "stream",
     "text": [
      "***************************\n",
      "***************************\n",
      "***************************\n",
      "***************************\n",
      ".--\n",
      "0.08085432466040705\n",
      "0.42175037373186725\n",
      "--\n",
      "0.09291495965828653\n",
      "0.45384789980560747\n",
      "--\n",
      "0.08615483222514952\n",
      "0.42622040144368933\n"
     ]
    },
    {
     "name": "stderr",
     "output_type": "stream",
     "text": [
      "C:\\Users\\MARCELO\\anaconda3\\lib\\site-packages\\numpy\\core\\_methods.py:263: RuntimeWarning: Degrees of freedom <= 0 for slice\n",
      "  keepdims=keepdims, where=where)\n",
      "C:\\Users\\MARCELO\\anaconda3\\lib\\site-packages\\numpy\\core\\_methods.py:254: RuntimeWarning: invalid value encountered in double_scalars\n",
      "  ret = ret.dtype.type(ret / rcount)\n"
     ]
    },
    {
     "name": "stdout",
     "output_type": "stream",
     "text": [
      "***************************\n",
      "***************************\n",
      "***************************\n",
      "***************************\n",
      ".--\n",
      "0.08154353667637042\n",
      "0.42249101584778986\n",
      "--\n",
      "0.048756786626763644\n",
      "0.32792553703449484\n",
      "--\n",
      "0.08581791289543433\n",
      "0.4254497815699387\n"
     ]
    },
    {
     "name": "stderr",
     "output_type": "stream",
     "text": [
      "C:\\Users\\MARCELO\\anaconda3\\lib\\site-packages\\numpy\\core\\_methods.py:263: RuntimeWarning: Degrees of freedom <= 0 for slice\n",
      "  keepdims=keepdims, where=where)\n",
      "C:\\Users\\MARCELO\\anaconda3\\lib\\site-packages\\numpy\\core\\_methods.py:254: RuntimeWarning: invalid value encountered in double_scalars\n",
      "  ret = ret.dtype.type(ret / rcount)\n"
     ]
    },
    {
     "name": "stdout",
     "output_type": "stream",
     "text": [
      "***************************\n",
      "***************************\n",
      "***************************\n",
      "***************************\n",
      ".--\n",
      "0.08111867614723936\n",
      "0.42048281067202375\n",
      "--\n",
      "0.0816888141904492\n",
      "0.4298310408288205\n",
      "--\n",
      "0.08578104594271124\n",
      "0.4254873387084233\n"
     ]
    },
    {
     "name": "stderr",
     "output_type": "stream",
     "text": [
      "C:\\Users\\MARCELO\\anaconda3\\lib\\site-packages\\numpy\\core\\_methods.py:263: RuntimeWarning: Degrees of freedom <= 0 for slice\n",
      "  keepdims=keepdims, where=where)\n",
      "C:\\Users\\MARCELO\\anaconda3\\lib\\site-packages\\numpy\\core\\_methods.py:254: RuntimeWarning: invalid value encountered in double_scalars\n",
      "  ret = ret.dtype.type(ret / rcount)\n"
     ]
    },
    {
     "name": "stdout",
     "output_type": "stream",
     "text": [
      "***************************\n",
      "***************************\n",
      "***************************\n",
      "***************************\n",
      ".--\n",
      "0.0818110593722805\n",
      "0.420401582467005\n",
      "--\n",
      "0.08625568944052793\n",
      "0.44871825842433105\n",
      "--\n",
      "0.08578524632764768\n",
      "0.4256963932603075\n"
     ]
    },
    {
     "name": "stderr",
     "output_type": "stream",
     "text": [
      "C:\\Users\\MARCELO\\anaconda3\\lib\\site-packages\\numpy\\core\\_methods.py:263: RuntimeWarning: Degrees of freedom <= 0 for slice\n",
      "  keepdims=keepdims, where=where)\n",
      "C:\\Users\\MARCELO\\anaconda3\\lib\\site-packages\\numpy\\core\\_methods.py:254: RuntimeWarning: invalid value encountered in double_scalars\n",
      "  ret = ret.dtype.type(ret / rcount)\n"
     ]
    },
    {
     "name": "stdout",
     "output_type": "stream",
     "text": [
      "***************************\n",
      "***************************\n",
      "***************************\n",
      "***************************\n",
      ".--\n",
      "0.08047827451327935\n",
      "0.42065512647490794\n",
      "--\n",
      "0.06510621773870662\n",
      "0.37915009534493693\n",
      "--\n",
      "0.08560385134002539\n",
      "0.4253131246765986\n"
     ]
    },
    {
     "name": "stderr",
     "output_type": "stream",
     "text": [
      "C:\\Users\\MARCELO\\anaconda3\\lib\\site-packages\\numpy\\core\\_methods.py:263: RuntimeWarning: Degrees of freedom <= 0 for slice\n",
      "  keepdims=keepdims, where=where)\n",
      "C:\\Users\\MARCELO\\anaconda3\\lib\\site-packages\\numpy\\core\\_methods.py:254: RuntimeWarning: invalid value encountered in double_scalars\n",
      "  ret = ret.dtype.type(ret / rcount)\n"
     ]
    },
    {
     "name": "stdout",
     "output_type": "stream",
     "text": [
      "***************************\n",
      "***************************\n",
      "***************************\n",
      "***************************\n",
      ".--\n",
      "0.08030229789319047\n",
      "0.4204793027598359\n",
      "--\n",
      "0.061629122423939406\n",
      "0.31988522043353673\n",
      "--\n",
      "0.08539537543640725\n",
      "0.42451400649383164\n"
     ]
    },
    {
     "name": "stderr",
     "output_type": "stream",
     "text": [
      "C:\\Users\\MARCELO\\anaconda3\\lib\\site-packages\\numpy\\core\\_methods.py:263: RuntimeWarning: Degrees of freedom <= 0 for slice\n",
      "  keepdims=keepdims, where=where)\n",
      "C:\\Users\\MARCELO\\anaconda3\\lib\\site-packages\\numpy\\core\\_methods.py:254: RuntimeWarning: invalid value encountered in double_scalars\n",
      "  ret = ret.dtype.type(ret / rcount)\n"
     ]
    },
    {
     "name": "stdout",
     "output_type": "stream",
     "text": [
      "***************************\n",
      "***************************\n",
      "***************************\n",
      "***************************\n",
      ".--\n",
      "0.08086531272216639\n",
      "0.419819957902174\n",
      "--\n",
      "0.09716673901944888\n",
      "0.4838887424236787\n",
      "--\n",
      "0.08549685270867485\n",
      "0.4250603232841249\n"
     ]
    },
    {
     "name": "stderr",
     "output_type": "stream",
     "text": [
      "C:\\Users\\MARCELO\\anaconda3\\lib\\site-packages\\numpy\\core\\_methods.py:263: RuntimeWarning: Degrees of freedom <= 0 for slice\n",
      "  keepdims=keepdims, where=where)\n",
      "C:\\Users\\MARCELO\\anaconda3\\lib\\site-packages\\numpy\\core\\_methods.py:254: RuntimeWarning: invalid value encountered in double_scalars\n",
      "  ret = ret.dtype.type(ret / rcount)\n"
     ]
    },
    {
     "name": "stdout",
     "output_type": "stream",
     "text": [
      "***************************\n",
      "***************************\n",
      "***************************\n",
      "***************************\n",
      ".--\n",
      "0.08054802688559398\n",
      "0.42162371536714155\n",
      "--\n",
      "0.05748293546936475\n",
      "0.33161419693743804\n",
      "--\n",
      "0.08525741751859528\n",
      "0.42435555744734216\n"
     ]
    },
    {
     "name": "stderr",
     "output_type": "stream",
     "text": [
      "C:\\Users\\MARCELO\\anaconda3\\lib\\site-packages\\numpy\\core\\_methods.py:263: RuntimeWarning: Degrees of freedom <= 0 for slice\n",
      "  keepdims=keepdims, where=where)\n",
      "C:\\Users\\MARCELO\\anaconda3\\lib\\site-packages\\numpy\\core\\_methods.py:254: RuntimeWarning: invalid value encountered in double_scalars\n",
      "  ret = ret.dtype.type(ret / rcount)\n"
     ]
    },
    {
     "name": "stdout",
     "output_type": "stream",
     "text": [
      "***************************\n",
      "***************************\n",
      "***************************\n",
      "***************************\n",
      ".--\n",
      "0.08047984280022016\n",
      "0.4204497904108219\n",
      "--\n",
      "0.07341980226861779\n",
      "0.4055714591870869\n",
      "--\n",
      "0.08515709874529039\n",
      "0.42419960832067605\n"
     ]
    },
    {
     "name": "stderr",
     "output_type": "stream",
     "text": [
      "C:\\Users\\MARCELO\\anaconda3\\lib\\site-packages\\numpy\\core\\_methods.py:263: RuntimeWarning: Degrees of freedom <= 0 for slice\n",
      "  keepdims=keepdims, where=where)\n",
      "C:\\Users\\MARCELO\\anaconda3\\lib\\site-packages\\numpy\\core\\_methods.py:254: RuntimeWarning: invalid value encountered in double_scalars\n",
      "  ret = ret.dtype.type(ret / rcount)\n"
     ]
    },
    {
     "name": "stdout",
     "output_type": "stream",
     "text": [
      "***************************\n",
      "***************************\n",
      "***************************\n",
      "***************************\n",
      ".--\n",
      "0.08123070275528961\n",
      "0.42028752081512666\n",
      "--\n",
      "0.06683345421194099\n",
      "0.3585137481588272\n",
      "--\n",
      "0.08500311853912779\n",
      "0.42369207928867175\n"
     ]
    },
    {
     "name": "stderr",
     "output_type": "stream",
     "text": [
      "C:\\Users\\MARCELO\\anaconda3\\lib\\site-packages\\numpy\\core\\_methods.py:263: RuntimeWarning: Degrees of freedom <= 0 for slice\n",
      "  keepdims=keepdims, where=where)\n",
      "C:\\Users\\MARCELO\\anaconda3\\lib\\site-packages\\numpy\\core\\_methods.py:254: RuntimeWarning: invalid value encountered in double_scalars\n",
      "  ret = ret.dtype.type(ret / rcount)\n"
     ]
    },
    {
     "name": "stdout",
     "output_type": "stream",
     "text": [
      "***************************\n",
      "***************************\n",
      "***************************\n",
      "***************************\n",
      "."
     ]
    }
   ],
   "source": [
    "architectures = [[54, 32, 9]]\n",
    "last_layers = [nn.Tanh()]\n",
    "batch_sizes = [32]\n",
    "optims = ['RMSprop']\n",
    "losses_fnc = [nn.L1Loss()]\n",
    "\n",
    "'''last_layers = [nn.Sigmoid(), nn.Tanh()]\n",
    "batch_sizes = [32]\n",
    "optims = ['ADAM', 'SGD', 'RMSprop']\n",
    "losses_fnc = [nn.BCEWithLogitsLoss(), nn.MSELoss() ,nn.L1Loss(), nn.BCELoss(), nn.SmoothL1Loss(), nn.PoissonNLLLoss()]'''\n",
    "\n",
    "EPOCHS = 1\n",
    "block_sizes = [1000]\n",
    "\n",
    "for block_size in block_sizes:\n",
    "    for optim in optims:\n",
    "        for batch_size in batch_sizes:\n",
    "            for last_layer in last_layers:\n",
    "                for architecture in architectures:\n",
    "                    for loss_fnc in losses_fnc:\n",
    "                        print('next')\n",
    "\n",
    "                        log = None\n",
    "                        if FLUSH_FILE:\n",
    "                            log = open(PATH_OUTPUTS+OUTPUT_FILE_NAME, \"a\", buffering=1)\n",
    "\n",
    "                        #BCE só SIGMOID\n",
    "                        if (type(loss_fnc) == type(nn.BCELoss()) and\n",
    "                            type(last_layer) != type(nn.Sigmoid())):\n",
    "                          continue\n",
    "\n",
    "                        print('*****************************************', file=log)\n",
    "                        print('****************************************', file=log)\n",
    "                        print('************ HYPERPARAMETERS ************', file=log)\n",
    "                        print('****LIMITADOR********************** ', LIMITADOR, file=log)\n",
    "                        print('****LOSS FACTOR******************** ', LOSS_FACTOR, file=log)\n",
    "                        print(architecture, file=log)\n",
    "                        print(last_layer, file=log)\n",
    "                        print(batch_size, file=log)\n",
    "                        print(optim, file=log)\n",
    "                        print(loss_fnc, file=log)\n",
    "                        print('*****************************************', file=log)\n",
    "                        print('*****************************************', file=log)\n",
    "                        block_train = int(X_train.shape[0] / block_size)\n",
    "                        net = []\n",
    "                        count = 0\n",
    "                        agg_loss = []\n",
    "                        for n in np.arange(0, block_train):\n",
    "                            print('.', end=\"\")\n",
    "                            count = count+1\n",
    "\n",
    "                            if block_size*(n+1) < X_train.shape[0]:\n",
    "                                data = X_train[block_size * n : block_size*(n+1)]\n",
    "                            else:\n",
    "                                data = X_train[block_size * n:]\n",
    "\n",
    "                            net, output, loss, losses, loss_function = train(layers=architecture.copy(), last_layer=last_layer, lr=1e-3, epochs=EPOCHS, batch_size=batch_size, X_train=data, optim=optim, loss_fnc=loss_fnc, net=net)\n",
    "\n",
    "                            losses_geral_step = generate_losses(data_test=X_train, net=net, loss_function=loss_fnc)\n",
    "                            print('--')\n",
    "                            print(np.mean(losses_geral_step))\n",
    "                            print(np.std(losses_geral_step, ddof=1, dtype=np.float64))\n",
    "\n",
    "                            losses_batch_step = generate_losses(data_test=data, net=net, loss_function=loss_fnc)\n",
    "                            print('--')\n",
    "                            print(np.mean(losses_batch_step))\n",
    "                            print(np.std(losses_batch_step, ddof=1, dtype=np.float64))\n",
    "                            agg_loss = np.concatenate((agg_loss, losses_batch_step), axis = 0)\n",
    "                            phi_batch_step = np.mean(losses_batch_step) + np.std(losses_batch_step, ddof=1, dtype=np.float64)\n",
    "\n",
    "                            print('--')\n",
    "                            print(np.mean(agg_loss))\n",
    "                            print(np.std(agg_loss, ddof=1, dtype=np.float64))\n",
    "\n",
    "                            _, _ = test(X_train, X_test, net, loss_function, phi_batch_step)\n",
    "\n",
    "                            print('***************************')\n",
    "                            print('***************************')\n",
    "                            print('***************************')\n",
    "                            print('***************************')\n",
    "\n",
    "                        phi = np.mean(losses_batch_step) + np.std(losses_batch_step, ddof=1, dtype=np.float64)\n",
    "                        y_hat_n2, phi = test(X_train, X_test, net, loss_function, phi)\n",
    "\n",
    "                        if FLUSH_FILE:\n",
    "                            log.close()"
   ]
  },
  {
   "cell_type": "code",
   "execution_count": null,
   "outputs": [],
   "source": [
    "y_hat_n2, phi = test(X_train, X_test, net, loss_function)\n",
    "\n",
    "np.nanstd"
   ],
   "metadata": {
    "collapsed": false,
    "pycharm": {
     "name": "#%%\n"
    }
   }
  },
  {
   "cell_type": "code",
   "execution_count": null,
   "outputs": [],
   "source": [
    "cf, losses, ground_truth, y_hat = tester({'normal_1': data_ds3_t2_normal}, net, loss_function, loss_threshold = .6919097)\n",
    "\n",
    "losses = generate_losses(X_train, net, loss_function)\n",
    "np_losses = np.sort(np.array(losses))"
   ],
   "metadata": {
    "collapsed": false,
    "pycharm": {
     "name": "#%%\n"
    }
   }
  },
  {
   "cell_type": "code",
   "execution_count": null,
   "outputs": [],
   "source": [
    "losses = np_losses[:int(len(np_losses)*1)]\n",
    "print(np.mean(losses))\n",
    "print(np.std(losses, ddof=1, dtype=np.float64))\n",
    "print(np.median(losses))"
   ],
   "metadata": {
    "collapsed": false,
    "pycharm": {
     "name": "#%%\n"
    }
   }
  },
  {
   "cell_type": "code",
   "execution_count": null,
   "outputs": [],
   "source": [
    "from scipy import stats, signal"
   ],
   "metadata": {
    "collapsed": false,
    "pycharm": {
     "name": "#%%\n"
    }
   }
  },
  {
   "cell_type": "code",
   "execution_count": null,
   "outputs": [],
   "source": [
    "real = X_train[15]"
   ],
   "metadata": {
    "collapsed": false,
    "pycharm": {
     "name": "#%%\n"
    }
   }
  },
  {
   "cell_type": "code",
   "execution_count": null,
   "outputs": [],
   "source": [
    "np.random.seed(42)\n",
    "x = np.random.normal(size=1000)\n",
    "plt.hist(losses, density=True, bins=200)  # `density=False` would make counts\n",
    "plt.ylabel('Probability')\n",
    "plt.xlabel('Data');"
   ],
   "metadata": {
    "collapsed": false,
    "pycharm": {
     "name": "#%%\n"
    }
   }
  },
  {
   "cell_type": "code",
   "execution_count": null,
   "outputs": [],
   "source": [
    "shapiro_test = stats.shapiro(losses)\n",
    "print(shapiro_test.statistic)\n",
    "print(shapiro_test.pvalue)"
   ],
   "metadata": {
    "collapsed": false,
    "pycharm": {
     "name": "#%%\n"
    }
   }
  },
  {
   "cell_type": "code",
   "execution_count": null,
   "outputs": [],
   "source": [
    "\n",
    "\n",
    "\n",
    "\n",
    "'''def incremental_stats(x):\n",
    "\n",
    "    global K, Elements, Ex, Ex2\n",
    "    if Elements == 0:\n",
    "        K = x\n",
    "    Elements += 1\n",
    "    Ex += x - K\n",
    "    Ex2 += (x - K) * (x - K)\n",
    "\n",
    "    if (Elements>1):\n",
    "        mean = K + Ex / Elements\n",
    "        variance = (Ex2 - (Ex * Ex) / Elements) / (Elements - 1)\n",
    "\n",
    "        return mean, variance\n",
    "\n",
    "    return x, 0'''\n",
    "\n",
    "inc_stats = Incremental_Stats()\n",
    "\n",
    "print(inc_stats.add(2))\n",
    "print(inc_stats.add(4))\n",
    "print(inc_stats.add(6))\n",
    "print(inc_stats.add(8))\n",
    "print(inc_stats.add(10))\n",
    "\n",
    "inc_stats = Incremental_Stats()\n",
    "print(inc_stats.add(2))\n",
    "print(inc_stats.add(4))\n",
    "\n",
    "a = [2,4,6,8,10]\n",
    "np.std(a, ddof=1)\n"
   ],
   "metadata": {
    "collapsed": false,
    "pycharm": {
     "name": "#%%\n"
    }
   }
  },
  {
   "cell_type": "code",
   "execution_count": null,
   "outputs": [],
   "source": [
    "regenerate = net(torch.from_numpy(real.reshape(1,-1).astype(np.float32))).cpu().detach().numpy().reshape(-1,1)"
   ],
   "metadata": {
    "collapsed": false,
    "pycharm": {
     "name": "#%%\n"
    }
   }
  },
  {
   "cell_type": "code",
   "execution_count": null,
   "outputs": [],
   "source": [
    "plt.plot(real, 'b')\n",
    "plt.plot(regenerate, 'r')\n",
    "plt.fill_between(np.arange(27), regenerate.reshape(1,-1)[0], real.reshape(1,-1)[0], color='lightcoral')\n",
    "plt.legend(labels=[\"Input\", \"Reconstruction\", \"Error\"])\n",
    "plt.show()"
   ],
   "metadata": {
    "collapsed": false,
    "pycharm": {
     "name": "#%%\n"
    }
   }
  },
  {
   "cell_type": "code",
   "execution_count": null,
   "outputs": [],
   "source": [
    "erros = (regenerate.reshape(1,-1)[0] - real.reshape(1,-1)[0])**2"
   ],
   "metadata": {
    "collapsed": false,
    "pycharm": {
     "name": "#%%\n"
    }
   }
  },
  {
   "cell_type": "code",
   "execution_count": null,
   "outputs": [],
   "source": [
    "sum(erros)"
   ],
   "metadata": {
    "collapsed": false,
    "pycharm": {
     "name": "#%%\n"
    }
   }
  },
  {
   "cell_type": "markdown",
   "source": [
    "## PHASE 2"
   ],
   "metadata": {
    "collapsed": false,
    "pycharm": {
     "name": "#%% md\n"
    }
   }
  },
  {
   "cell_type": "code",
   "execution_count": null,
   "outputs": [],
   "source": [
    "log = None\n",
    "y_hat_n2, phi = test(X_train[:1000], X_test, net, loss_function)"
   ],
   "metadata": {
    "collapsed": false,
    "pycharm": {
     "name": "#%%\n"
    }
   }
  },
  {
   "cell_type": "code",
   "execution_count": null,
   "outputs": [],
   "source": [
    "y_hat_n2 = np.array(X_train[:1000])"
   ],
   "metadata": {
    "collapsed": false,
    "pycharm": {
     "name": "#%%\n"
    }
   }
  },
  {
   "cell_type": "code",
   "execution_count": null,
   "outputs": [],
   "source": [
    "eq0 = np.where(y_hat_n2 == 0)[0] #ok\n",
    "eq1 = np.where(y_hat_n2 == 1)[0] #incorrect\n",
    "\n",
    "print('ok', len(eq0)/len(X_train[:1000]), '%')\n",
    "print('incorrect', len(eq1)/len(X_train[:1000]), '%')"
   ],
   "metadata": {
    "collapsed": false,
    "pycharm": {
     "name": "#%%\n"
    }
   }
  },
  {
   "cell_type": "code",
   "execution_count": null,
   "outputs": [],
   "source": [
    "log = open(path+'/output_retrain.txt', \"a\", buffering=1)\n",
    "\n",
    "X_train, X_test, y_train, y_test = train_test_split(data_ds3_t2_normal[eq1, :-1], data_ds3_t2_normal[eq1, :-1], test_size=0.2, random_state=42)\n",
    "\n",
    "architectures = [[dimension,128,9]]\n",
    "last_layers = [nn.Sigmoid()]\n",
    "batch_sizes = [32]\n",
    "optims = ['ADAM']\n",
    "losses_fnc = [nn.BCEWithLogitsLoss()]\n",
    "\n",
    "for architecture in architectures:\n",
    "    for optim in optims:\n",
    "        for batch_size in batch_sizes:\n",
    "            for last_layer in last_layers:\n",
    "                for loss_fnc in losses_fnc:\n",
    "\n",
    "                    #BCE só SIGMOID\n",
    "                    if (type(loss_fnc) == type(nn.BCELoss()) and\n",
    "                            type(last_layer) != type(nn.Sigmoid())):\n",
    "                        continue\n",
    "\n",
    "                    print('*****************************************', file=log)\n",
    "                    print('****************************************', file=log)\n",
    "                    print('************ HYPERPARAMETERS ************', file=log)\n",
    "                    print('*****************************************', file=log)\n",
    "                    print('*****************************************', file=log)\n",
    "                    print(architecture, file=log)\n",
    "                    print(last_layer, file=log)\n",
    "                    print(batch_size, file=log)\n",
    "                    print(optim, file=log)\n",
    "                    print(loss_fnc, file=log)\n",
    "                    print('*****************************************', file=log)\n",
    "                    print('*****************************************', file=log)\n",
    "\n",
    "                    net, output, loss, losses, loss_function = train(layers=architecture.copy(), last_layer=last_layer, lr=1e-3, epochs=1, batch_size=batch_size, X_train=X_train, optim=optim, loss_fnc=loss_fnc, net=net)\n",
    "\n",
    "                    _, phi = test(np.concatenate((X_train, data_ds3_t1_normal[:,:-1])), data_ds3_t1_normal, net, loss_function)\n",
    "\n",
    "log.close()"
   ],
   "metadata": {
    "collapsed": false,
    "pycharm": {
     "name": "#%%\n"
    }
   }
  },
  {
   "cell_type": "code",
   "execution_count": null,
   "outputs": [],
   "source": [
    "log = open(path+'/output_retrain.txt', \"a\", buffering=1)\n",
    "_, phi = test(X_train, data_ds3_t1_normal, net, loss_function) #x_train, x_test, net, loss_fnc ### X_TRAIN precisa conter os dados históricos\n",
    "log.close()"
   ],
   "metadata": {
    "collapsed": false,
    "pycharm": {
     "name": "#%%\n"
    }
   }
  },
  {
   "cell_type": "code",
   "execution_count": null,
   "outputs": [],
   "source": [
    "cf, losses, ground_truth, y_hat = tester({'normal_1': data_ds3_t2_normal}, net, loss_function, loss_threshold = .6919097)\n",
    "\n",
    "y_hat = np.array(y_hat)\n",
    "\n",
    "eq0 = np.where(y_hat == 0)[0] #ok\n",
    "eq1 = np.where(y_hat == 1)[0] #incorrect\n",
    "\n",
    "print('normal', len(eq0)/len(y_hat), '%')\n",
    "print('anomaly', len(eq1)/len(y_hat), '%')"
   ],
   "metadata": {
    "collapsed": false,
    "pycharm": {
     "name": "#%%\n"
    }
   }
  },
  {
   "cell_type": "markdown",
   "metadata": {
    "collapsed": false,
    "id": "Gqgs-kDf43u_",
    "pycharm": {
     "name": "#%% md\n"
    }
   },
   "source": []
  }
 ],
 "metadata": {
  "accelerator": "GPU",
  "colab": {
   "background_execution": "on",
   "collapsed_sections": [],
   "machine_shape": "hm",
   "name": "autoencoder.ipynb",
   "provenance": []
  },
  "kernelspec": {
   "display_name": "Python 3",
   "language": "python",
   "name": "python3"
  },
  "language_info": {
   "codemirror_mode": {
    "name": "ipython",
    "version": 2
   },
   "file_extension": ".py",
   "mimetype": "text/x-python",
   "name": "python",
   "nbconvert_exporter": "python",
   "pygments_lexer": "ipython2",
   "version": "2.7.6"
  }
 },
 "nbformat": 4,
 "nbformat_minor": 0
}