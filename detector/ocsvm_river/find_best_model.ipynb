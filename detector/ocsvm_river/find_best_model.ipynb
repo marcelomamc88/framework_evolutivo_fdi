{
 "cells": [
  {
   "cell_type": "code",
   "execution_count": 2,
   "outputs": [],
   "source": [
    "import pandas as pd\n",
    "import numpy as np\n",
    "from sklearn.preprocessing import StandardScaler\n",
    "from sklearn.model_selection import train_test_split\n",
    "from sklearn import linear_model\n",
    "from river import anomaly, preprocessing, compose, ensemble, neighbors, datasets\n",
    "from river.utils import numpy2dict"
   ],
   "metadata": {
    "collapsed": false,
    "pycharm": {
     "name": "#%%\n"
    }
   }
  },
  {
   "cell_type": "code",
   "execution_count": 53,
   "outputs": [],
   "source": [
    "'''\n",
    "EXTERNAL KERNEL\n",
    "'''\n",
    "google_colab = False\n",
    "kaggle = False\n",
    "\n",
    "'''\n",
    "CUDA\n",
    "'''\n",
    "cuda = False\n",
    "\n",
    "'''\n",
    "DATA REPRESENTATION\n",
    "\n",
    "1 => SINGLE READ | 2 => ADD FEATURES | 3 => WINDOW TO FEATURES\n",
    "'''\n",
    "DATA_REPRESENTATION = 1\n",
    "\n",
    "'''\n",
    "DOWNSAMPLE FACTOR\n",
    "\n",
    "1 => 10hz *original rate* | 2 => 5Hz | 5 => 2Hz | 10 => 1hz\n",
    "'''\n",
    "DOWNSAMPLE_FACTOR = 5\n",
    "\n",
    "'''\n",
    "WINDOWS LENGHT\n",
    "\n",
    "* needs divisor by datapoints target\n",
    "* considering downsample factor = 5\n",
    "\n",
    "1 => WINDOW DISABLED | 2 => 1 second | 4 => 2 seconds | 10 => 5 seconds | 20 => 10 seconds | 200 => 100 seconds *full flight*\n",
    "'''\n",
    "WINDOW_LENGHT =  1\n",
    "\n",
    "'''\n",
    "LIMITADOR\n",
    "\n",
    "Quantity of samples in the execution of the tests.\n",
    "'''\n",
    "LIMITADOR = 20000\n",
    "\n",
    "'''\n",
    "LOSS FACTOR [0,1]\n",
    "\n",
    "Ignores outliers in calculating the stats of losses in regenerated data.\n",
    "'''\n",
    "LOSS_FACTOR = 1\n",
    "\n",
    "'''\n",
    "TRAIN_SIZE [0,1]\n",
    "\n",
    "Percentage of samples to be trained\n",
    "'''\n",
    "TRAIN_SIZE = 0.8\n",
    "\n",
    "'''\n",
    "OUTPUT_FILE_NAME\n",
    "\n",
    "File with output results\n",
    "'''\n",
    "OUTPUT_FILE_NAME = 'output_sgdocsvm_dr_' + str(DATA_REPRESENTATION) + '-ts_' + str(TRAIN_SIZE) + '-lf_' + str.replace(str(LOSS_FACTOR), '.', '') + '-limit_' + str(LIMITADOR) + '-wl_' + str(WINDOW_LENGHT) + '.txt'\n",
    "\n",
    "'''\n",
    "PATH_OUTPUTS\n",
    "\n",
    "'''\n",
    "PATH_OUTPUTS = './outputs/'\n",
    "\n",
    "'''\n",
    "PATH_DATASET\n",
    "\n",
    "'''\n",
    "PATH_DATASET = '../../dataset/original/'\n",
    "\n",
    "'''\n",
    "FLUSH FILE\n",
    "\n",
    "If output results file is ON\n",
    "'''\n",
    "FLUSH_FILE = False"
   ],
   "metadata": {
    "collapsed": false,
    "pycharm": {
     "name": "#%%\n"
    }
   }
  },
  {
   "cell_type": "code",
   "execution_count": 54,
   "outputs": [],
   "source": [
    "if google_colab:\n",
    "    from google.colab import drive\n",
    "\n",
    "    drive.mount('/content/drive')\n",
    "    path = '/content/drive/My Drive/ACADÊMICO/MESTRADO/DISSERTAÇÃO/CHAPTERS/5 EXPERIMENTO/dataset/data_representation_1'\n",
    "    dict_ds_original = {\n",
    "        'data_ds3_normal_t1_original' : pd.read_csv(path+'/F16_DS3_normal_t1.csv', header=None),\n",
    "        'data_ds3_normal_t2_original' : pd.read_csv(path+'/F16_DS3_normal_t2.csv', header=None),\n",
    "        'data_ds3_fault1_original' : pd.read_csv(path+'/F16_DS3_fault1_leakage.csv', header=None),\n",
    "        'data_ds3_fault2_original' : pd.read_csv(path+'/F16_DS3_fault2_viscousfriction.csv', header=None),\n",
    "        'data_ds3_fault3_original' : pd.read_csv(path+'/F16_DS3_fault3_compressibility.csv', header=None),\n",
    "        'data_ds3_fault4_original' : pd.read_csv(path+'/F16_DS3_fault4_fixedposition.csv', header=None),\n",
    "    }\n",
    "elif kaggle:\n",
    "    !conda install -y gdown\n",
    "    !gdown --id 1G88okIVmdcgLFlmd7rDRhHvHv98yK3UB\n",
    "    !gdown --id 1fX3utfHMjwKTt7IW4D01bnm-hv88yzrJ\n",
    "    !gdown --id 1yUG3R5zK2AIxtS9Q4Fk-udkKBZeYShgb\n",
    "    !gdown --id 1OBRDtuqNEZ-3Z-q0helWh2xGiAxeLACH\n",
    "    !gdown --id 17oDi60sWYsWHHxzj2aA9m6ARm8zQ81m_\n",
    "    !gdown --id 1jKEK4s5sYJh8PHtpHeV8ABOsHjuB26RA\n",
    "else:\n",
    "    dict_ds_original = {\n",
    "        'data_ds3_normal_t1_original' : pd.read_csv(PATH_DATASET+'F16_DS3_normal_t1.csv', header=None),\n",
    "        'data_ds3_normal_t2_original' : pd.read_csv(PATH_DATASET+'F16_DS3_normal_t2.csv', header=None),\n",
    "        'data_ds3_fault1_original' : pd.read_csv(PATH_DATASET+'F16_DS3_fault1_leakage.csv', header=None),\n",
    "        'data_ds3_fault2_original' : pd.read_csv(PATH_DATASET+'F16_DS3_fault2_viscousfriction.csv', header=None),\n",
    "        'data_ds3_fault3_original' : pd.read_csv(PATH_DATASET+'F16_DS3_fault3_compressibility.csv', header=None),\n",
    "        'data_ds3_fault4_original' : pd.read_csv(PATH_DATASET+'F16_DS3_fault4_fixedposition.csv', header=None),\n",
    "    }"
   ],
   "metadata": {
    "collapsed": false,
    "pycharm": {
     "name": "#%%\n"
    }
   }
  },
  {
   "cell_type": "code",
   "execution_count": 55,
   "outputs": [],
   "source": [
    "dict_ds = dict_ds_original.copy()\n",
    "\n",
    "if dict_ds['data_ds3_normal_t1_original'].shape[0] % DOWNSAMPLE_FACTOR != 0 or dict_ds['data_ds3_fault1_original'].shape[0] % DOWNSAMPLE_FACTOR != 0:\n",
    "    raise Exception('Needs to be ?shape? divisor')\n",
    "\n",
    "for n, dataset_name in enumerate(dict_ds):\n",
    "    dataset = dict_ds[dataset_name].to_numpy()\n",
    "\n",
    "    downsampled = dataset[::DOWNSAMPLE_FACTOR]\n",
    "\n",
    "    x, y = downsampled.shape\n",
    "\n",
    "    # resample\n",
    "    dict_ds[dataset_name] = pd.DataFrame(downsampled.reshape((int(x/WINDOW_LENGHT),y*WINDOW_LENGHT)))\n"
   ],
   "metadata": {
    "collapsed": false,
    "pycharm": {
     "name": "#%%\n"
    }
   }
  },
  {
   "cell_type": "code",
   "execution_count": 56,
   "outputs": [],
   "source": [
    "# ADD COLUMNS WITH DIFF PREVIOUS VALUES\n",
    "\n",
    "if (DATA_REPRESENTATION == 2):\n",
    "    frame_size = int(1000/DOWNSAMPLE_FACTOR)\n",
    "\n",
    "    for n, dataset_name in enumerate(dict_ds):\n",
    "        dataset = dict_ds[dataset_name].to_numpy()\n",
    "\n",
    "        dimension = dataset.shape[1]\n",
    "        samples = dataset.shape[0]\n",
    "\n",
    "        # GENERATE NEW DIMENSIONS\n",
    "        dataset = np.concatenate((dataset, np.zeros((samples,dimension))), axis=1)\n",
    "\n",
    "        for f in np.arange(0,int(samples/frame_size)):\n",
    "            # OBTAIN THE FRAME FLIGHT\n",
    "            frame = dataset[f*frame_size:(f+1)*frame_size, 0:dimension]\n",
    "\n",
    "            # CALCULATE DIFFERENCE\n",
    "            chunk = np.diff(frame, axis=0)\n",
    "\n",
    "            # DONT CALCULATE THE DIFFERENCE FOR EACH FIRST TIMESTEP\n",
    "            chunk = np.insert(chunk, 0, frame[0, 0:dimension], axis=0)\n",
    "\n",
    "            # UPDATE DATASET WITH NEW FRAME INTO NEW DIMENSIONS\n",
    "            dataset[f*frame_size:(f+1)*frame_size,dimension:dimension*2] = chunk\n",
    "\n",
    "        dict_ds[dataset_name] = pd.DataFrame(dataset)\n",
    "\n"
   ],
   "metadata": {
    "collapsed": false,
    "pycharm": {
     "name": "#%%\n"
    }
   }
  },
  {
   "cell_type": "code",
   "execution_count": 57,
   "outputs": [],
   "source": [
    "ss = StandardScaler()\n",
    "\n",
    "data_ds3_t1_normal = dict_ds['data_ds3_normal_t1_original']\n",
    "data_ds3_t2_normal = dict_ds['data_ds3_normal_t2_original']\n",
    "data_ds3_fault1 = dict_ds['data_ds3_fault1_original']\n",
    "data_ds3_fault2 = dict_ds['data_ds3_fault2_original']\n",
    "data_ds3_fault3 = dict_ds['data_ds3_fault3_original']\n",
    "data_ds3_fault4 = dict_ds['data_ds3_fault4_original']\n",
    "\n",
    "# fit values\n",
    "ss.partial_fit(data_ds3_t1_normal)\n",
    "ss.partial_fit(data_ds3_t2_normal)\n",
    "ss.partial_fit(data_ds3_fault1)\n",
    "ss.partial_fit(data_ds3_fault2)\n",
    "ss.partial_fit(data_ds3_fault3)\n",
    "ss.partial_fit(data_ds3_fault4)\n",
    "\n",
    "# transform values\n",
    "data_ds3_t1_normal = ss.transform(data_ds3_t1_normal)\n",
    "data_ds3_t2_normal = ss.transform(data_ds3_t2_normal)\n",
    "data_ds3_fault1 = ss.transform(data_ds3_fault1)\n",
    "data_ds3_fault2 = ss.transform(data_ds3_fault2)\n",
    "data_ds3_fault3 = ss.transform(data_ds3_fault3)\n",
    "data_ds3_fault4 = ss.transform(data_ds3_fault4)\n",
    "\n",
    "# append normal labels\n",
    "data_ds3_t1_normal = np.append(data_ds3_t1_normal, np.zeros((data_ds3_t1_normal.shape[0],1)), axis = 1)\n",
    "data_ds3_t2_normal = np.append(data_ds3_t2_normal, np.zeros((data_ds3_t2_normal.shape[0],1)), axis = 1)\n",
    "\n",
    "# append fault labels\n",
    "def generate_fault_label(dataset, fault_label):\n",
    "    labels = np.array([[fault_label]]*dataset.shape[0])\n",
    "\n",
    "    return labels\n",
    "\n",
    "data_ds3_fault1 = np.append(data_ds3_fault1, generate_fault_label(data_ds3_fault1, 1), axis = 1)\n",
    "data_ds3_fault2 = np.append(data_ds3_fault2, generate_fault_label(data_ds3_fault2, 2), axis = 1)\n",
    "data_ds3_fault3 = np.append(data_ds3_fault3, generate_fault_label(data_ds3_fault3, 3), axis = 1)\n",
    "data_ds3_fault4 = np.append(data_ds3_fault4, generate_fault_label(data_ds3_fault4, 4), axis = 1)"
   ],
   "metadata": {
    "collapsed": false,
    "pycharm": {
     "name": "#%%\n"
    }
   }
  },
  {
   "cell_type": "code",
   "execution_count": 58,
   "outputs": [],
   "source": [
    "def verify_inliers(scores, threshold):\n",
    "    inliers_detected = 0\n",
    "\n",
    "    for score in scores:\n",
    "        if (score <= threshold): #low score - normal observation\n",
    "            inliers_detected = inliers_detected+1\n",
    "\n",
    "    print((inliers_detected/len(scores))*100, file=log)\n",
    "\n",
    "def verify_outliers(scores, threshold):\n",
    "    outliers_detected = 0\n",
    "\n",
    "    for score in scores:\n",
    "        if (score > threshold): #high score - outlier observation\n",
    "            outliers_detected = outliers_detected+1\n",
    "\n",
    "    print((outliers_detected/len(scores))*100, file=log)\n",
    "\n",
    "def calculate_score(clf, datas):\n",
    "    scores = []\n",
    "\n",
    "    for k, x in enumerate(datas):\n",
    "        scores.append(clf.score_one(numpy2dict(x)))\n",
    "\n",
    "    return scores\n",
    "\n",
    "ocsvm_river_p = {\n",
    "    'nu': [0],\n",
    "    'threshold': [0.5, 0.4, 0.3, 0.2, 0.1, 0.6, 0.7, 0.8, 0.9, 1],\n",
    "\n",
    "}"
   ],
   "metadata": {
    "collapsed": false,
    "pycharm": {
     "name": "#%%\n"
    }
   }
  },
  {
   "cell_type": "code",
   "execution_count": 59,
   "outputs": [],
   "source": [
    "X_train, X_test, y_train, y_test = train_test_split(data_ds3_t1_normal[:, :-1], data_ds3_t1_normal[:, -1], test_size=1-TRAIN_SIZE, random_state=42)"
   ],
   "metadata": {
    "collapsed": false,
    "pycharm": {
     "name": "#%%\n"
    }
   }
  },
  {
   "cell_type": "code",
   "execution_count": 67,
   "metadata": {
    "collapsed": true
   },
   "outputs": [
    {
     "name": "stdout",
     "output_type": "stream",
     "text": [
      ".OneClassSVM 0 0.5\n",
      "X_TEST\n",
      "33308 36000\n",
      "92.52222222222221\n",
      "NORMAL_2\n",
      "19055 20000\n",
      "95.275\n",
      "F1\n",
      "28.95\n",
      "F2\n",
      "1.49\n",
      "F3\n",
      "1.7950000000000002\n",
      "F4\n",
      "1.505\n",
      "OneClassSVM 0 0.4\n",
      "X_TEST\n",
      "31342 36000\n",
      "87.06111111111112\n",
      "NORMAL_2\n",
      "18173 20000\n",
      "90.865\n",
      "F1\n",
      "65.375\n",
      "F2\n",
      "1.49\n",
      "F3\n",
      "1.9\n",
      "F4\n",
      "1.51\n",
      "OneClassSVM 0 0.3\n",
      "X_TEST\n",
      "23039 36000\n",
      "63.99722222222223\n",
      "NORMAL_2\n",
      "15136 20000\n",
      "75.68\n",
      "F1\n",
      "86.055\n",
      "F2\n",
      "1.4949999999999999\n",
      "F3\n",
      "2.375\n",
      "F4\n",
      "1.775\n",
      "OneClassSVM 0 0.2\n",
      "X_TEST\n",
      "4053 36000\n",
      "11.258333333333333\n",
      "NORMAL_2\n",
      "4818 20000\n",
      "24.09\n",
      "F1\n",
      "91.57\n",
      "F2\n",
      "1.4949999999999999\n",
      "F3\n",
      "4.165\n",
      "F4\n",
      "2.915\n",
      "OneClassSVM 0 0.1\n",
      "X_TEST\n",
      "2044 36000\n",
      "5.677777777777778\n",
      "NORMAL_2\n",
      "1963 20000\n",
      "9.815\n",
      "F1\n",
      "94.69999999999999\n",
      "F2\n",
      "1.5\n",
      "F3\n",
      "7.969999999999999\n",
      "F4\n",
      "5.395\n",
      "OneClassSVM 0 0.6\n",
      "X_TEST\n",
      "34563 36000\n",
      "96.00833333333333\n",
      "NORMAL_2\n",
      "19510 20000\n",
      "97.55\n",
      "F1\n",
      "16.85\n",
      "F2\n",
      "1.49\n",
      "F3\n",
      "1.685\n",
      "F4\n",
      "1.5\n",
      "OneClassSVM 0 0.7\n",
      "X_TEST\n",
      "35128 36000\n",
      "97.57777777777777\n",
      "NORMAL_2\n",
      "19619 20000\n",
      "98.095\n",
      "F1\n",
      "10.27\n",
      "F2\n",
      "1.49\n",
      "F3\n",
      "1.585\n",
      "F4\n",
      "1.5\n",
      "OneClassSVM 0 0.8\n",
      "X_TEST\n",
      "35321 36000\n",
      "98.1138888888889\n",
      "NORMAL_2\n",
      "19645 20000\n",
      "98.225\n",
      "F1\n",
      "7.2700000000000005\n",
      "F2\n",
      "1.49\n",
      "F3\n",
      "1.485\n",
      "F4\n",
      "1.5\n",
      "OneClassSVM 0 0.9\n",
      "X_TEST\n",
      "35386 36000\n",
      "98.29444444444444\n",
      "NORMAL_2\n",
      "19675 20000\n",
      "98.375\n",
      "F1\n",
      "5.325\n",
      "F2\n",
      "1.0\n",
      "F3\n",
      "1.485\n",
      "F4\n",
      "1.5\n",
      "OneClassSVM 0 1\n",
      "X_TEST\n",
      "35391 36000\n",
      "98.30833333333334\n",
      "NORMAL_2\n",
      "19679 20000\n",
      "98.395\n",
      "F1\n",
      "3.73\n",
      "F2\n",
      "1.0\n",
      "F3\n",
      "1.385\n",
      "F4\n",
      "1.01\n"
     ]
    }
   ],
   "source": [
    "log = None\n",
    "if FLUSH_FILE:\n",
    "    log = open(PATH_OUTPUTS+OUTPUT_FILE_NAME, \"a\", buffering=1)\n",
    "\n",
    "hst = []\n",
    "for nu in ocsvm_river_p['nu']:\n",
    "    print('.', end='')\n",
    "    clf = anomaly.OneClassSVM(nu=nu)\n",
    "\n",
    "    for x in X_train:\n",
    "        clf.learn_one(numpy2dict(x))\n",
    "\n",
    "    for t in ocsvm_river_p['threshold']:\n",
    "        print(clf, nu, t, file=log)\n",
    "\n",
    "        print('X_TEST', file=log)\n",
    "        verify_inliers(calculate_score(clf, X_test), t)\n",
    "        print('NORMAL_2', file=log)\n",
    "        verify_inliers(calculate_score(clf, data_ds3_t2_normal[:LIMITADOR, :-1]), t)\n",
    "        print('F1', file=log)\n",
    "        verify_outliers(calculate_score(clf, data_ds3_fault1[:LIMITADOR, :-1]), t)\n",
    "        print('F2', file=log)\n",
    "        verify_outliers(calculate_score(clf, data_ds3_fault2[:LIMITADOR, :-1]), t)\n",
    "        print('F3', file=log)\n",
    "        verify_outliers(calculate_score(clf, data_ds3_fault3[:LIMITADOR, :-1]), t)\n",
    "        print('F4', file=log)\n",
    "        verify_outliers(calculate_score(clf, data_ds3_fault4[:LIMITADOR, :-1]), t)\n",
    "\n",
    "if FLUSH_FILE:\n",
    "    log.close()"
   ]
  },
  {
   "cell_type": "code",
   "execution_count": 61,
   "outputs": [
    {
     "name": "stdout",
     "output_type": "stream",
     "text": [
      "0.3477089912185524\n",
      "0.5241899919893402\n"
     ]
    }
   ],
   "source": [
    "scores = calculate_score(clf, X_test)\n",
    "scores_np = np.array(scores)\n",
    "\n",
    "print(np.mean(scores_np))\n",
    "print(np.std(scores_np, ddof=1))"
   ],
   "metadata": {
    "collapsed": false,
    "pycharm": {
     "name": "#%%\n"
    }
   }
  },
  {
   "cell_type": "code",
   "execution_count": 62,
   "outputs": [
    {
     "name": "stdout",
     "output_type": "stream",
     "text": [
      "0.5131354875516229\n",
      "0.6982624170706523\n"
     ]
    }
   ],
   "source": [
    "scores1 = calculate_score(clf, data_ds3_fault1)\n",
    "scores_np_1 = np.array(scores1)\n",
    "\n",
    "print(np.mean(scores_np_1))\n",
    "print(np.std(scores_np_1, ddof=1))"
   ],
   "metadata": {
    "collapsed": false,
    "pycharm": {
     "name": "#%%\n"
    }
   }
  },
  {
   "cell_type": "code",
   "execution_count": 63,
   "outputs": [
    {
     "name": "stdout",
     "output_type": "stream",
     "text": [
      "-1.470196985372892\n",
      "0.8943082724282202\n"
     ]
    }
   ],
   "source": [
    "scores2 = calculate_score(clf, data_ds3_fault2)\n",
    "scores_np_2 = np.array(scores2)\n",
    "\n",
    "print(np.mean(scores_np_2))\n",
    "print(np.std(scores_np_2, ddof=1))"
   ],
   "metadata": {
    "collapsed": false,
    "pycharm": {
     "name": "#%%\n"
    }
   }
  },
  {
   "cell_type": "code",
   "execution_count": 64,
   "outputs": [
    {
     "name": "stdout",
     "output_type": "stream",
     "text": [
      "-0.048763771243762466\n",
      "0.49472522536601876\n"
     ]
    }
   ],
   "source": [
    "scores3 = calculate_score(clf, data_ds3_fault3)\n",
    "scores_np_3 = np.array(scores3)\n",
    "\n",
    "print(np.mean(scores_np_3))\n",
    "print(np.std(scores_np_3, ddof=1))"
   ],
   "metadata": {
    "collapsed": false,
    "pycharm": {
     "name": "#%%\n"
    }
   }
  },
  {
   "cell_type": "code",
   "execution_count": 65,
   "outputs": [
    {
     "name": "stdout",
     "output_type": "stream",
     "text": [
      "-0.15687723758574412\n",
      "0.7409306674752314\n"
     ]
    }
   ],
   "source": [
    "scores4 = calculate_score(clf, data_ds3_fault4)\n",
    "scores_np_4 = np.array(scores4)\n",
    "\n",
    "print(np.mean(scores_np_4))\n",
    "print(np.std(scores_np_4, ddof=1))"
   ],
   "metadata": {
    "collapsed": false,
    "pycharm": {
     "name": "#%%\n"
    }
   }
  },
  {
   "cell_type": "code",
   "execution_count": 45,
   "outputs": [
    {
     "data": {
      "text/plain": "<Figure size 432x288 with 1 Axes>",
      "image/png": "[encoded data removed]"
     },
     "metadata": {
      "needs_background": "light"
     },
     "output_type": "display_data"
    }
   ],
   "source": [
    "import matplotlib.pyplot as plt\n",
    "np.random.seed(42)\n",
    "x = np.random.normal(size=1000)\n",
    "plt.hist(scores4, density=True, bins=100)  # `density=False` would make counts\n",
    "plt.ylabel('Probability')\n",
    "plt.xlabel('Data');"
   ],
   "metadata": {
    "collapsed": false,
    "pycharm": {
     "name": "#%%\n"
    }
   }
  }
 ],
 "metadata": {
  "kernelspec": {
   "display_name": "Python 3",
   "language": "python",
   "name": "python3"
  },
  "language_info": {
   "codemirror_mode": {
    "name": "ipython",
    "version": 2
   },
   "file_extension": ".py",
   "mimetype": "text/x-python",
   "name": "python",
   "nbconvert_exporter": "python",
   "pygments_lexer": "ipython2",
   "version": "2.7.6"
  }
 },
 "nbformat": 4,
 "nbformat_minor": 0
}