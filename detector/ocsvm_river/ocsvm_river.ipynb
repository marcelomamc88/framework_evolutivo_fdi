{
 "cells": [
  {
   "cell_type": "code",
   "execution_count": 1,
   "metadata": {
    "collapsed": true
   },
   "outputs": [
    {
     "ename": "AttributeError",
     "evalue": "module 'river.anomaly' has no attribute 'QuantileThresholder'",
     "output_type": "error",
     "traceback": [
      "\u001B[1;31m---------------------------------------------------------------------------\u001B[0m",
      "\u001B[1;31mAttributeError\u001B[0m                            Traceback (most recent call last)",
      "\u001B[1;32m<ipython-input-1-23196b8523e6>\u001B[0m in \u001B[0;36m<module>\u001B[1;34m\u001B[0m\n\u001B[0;32m      5\u001B[0m \u001B[1;32mfrom\u001B[0m \u001B[0mriver\u001B[0m \u001B[1;32mimport\u001B[0m \u001B[0mpreprocessing\u001B[0m\u001B[1;33m\u001B[0m\u001B[1;33m\u001B[0m\u001B[0m\n\u001B[0;32m      6\u001B[0m \u001B[1;33m\u001B[0m\u001B[0m\n\u001B[1;32m----> 7\u001B[1;33m model = anomaly.QuantileThresholder(\n\u001B[0m\u001B[0;32m      8\u001B[0m             \u001B[0manomaly\u001B[0m\u001B[1;33m.\u001B[0m\u001B[0mOneClassSVM\u001B[0m\u001B[1;33m(\u001B[0m\u001B[0mnu\u001B[0m\u001B[1;33m=\u001B[0m\u001B[1;36m0.2\u001B[0m\u001B[1;33m)\u001B[0m\u001B[1;33m,\u001B[0m\u001B[1;33m\u001B[0m\u001B[1;33m\u001B[0m\u001B[0m\n\u001B[0;32m      9\u001B[0m             \u001B[0mq\u001B[0m\u001B[1;33m=\u001B[0m\u001B[1;36m0.995\u001B[0m\u001B[1;33m\u001B[0m\u001B[1;33m\u001B[0m\u001B[0m\n",
      "\u001B[1;31mAttributeError\u001B[0m: module 'river.anomaly' has no attribute 'QuantileThresholder'"
     ]
    }
   ],
   "source": [
    "from river import anomaly\n",
    "from river import compose\n",
    "from river import datasets\n",
    "from river import metrics\n",
    "from river import preprocessing\n",
    "\n",
    "model = anomaly.QuantileThresholder(\n",
    "            anomaly.OneClassSVM(nu=0.2),\n",
    "            q=0.995\n",
    " )\n",
    "\n",
    "auc = metrics.ROCAUC()\n",
    "\n",
    "for x, y in datasets.CreditCard().take(2500):\n",
    "     score = model.score_one(x)\n",
    "     model = model.learn_one(x)\n",
    "     auc = auc.update(y, score)\n",
    "\n",
    "auc\n"
   ]
  }
 ],
 "metadata": {
  "kernelspec": {
   "display_name": "Python 3",
   "language": "python",
   "name": "python3"
  },
  "language_info": {
   "codemirror_mode": {
    "name": "ipython",
    "version": 2
   },
   "file_extension": ".py",
   "mimetype": "text/x-python",
   "name": "python",
   "nbconvert_exporter": "python",
   "pygments_lexer": "ipython2",
   "version": "2.7.6"
  }
 },
 "nbformat": 4,
 "nbformat_minor": 0
}