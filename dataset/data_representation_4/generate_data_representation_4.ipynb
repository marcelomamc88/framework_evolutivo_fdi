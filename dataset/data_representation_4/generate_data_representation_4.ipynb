{
 "cells": [
  {
   "cell_type": "markdown",
   "metadata": {
    "collapsed": true,
    "pycharm": {
     "name": "#%% md\n"
    }
   },
   "source": [
    "This code convert original data representation in new data representation as follow:\n",
    "\n",
    "Original: samples => current values\n",
    "\n",
    "This Representation: samples => all values of the flight\n",
    "\n",
    "E.G.\n",
    "\n",
    "ORIGINAL (flight = 3 timestamps)\n",
    "T0 = 2 4 5 1 4\n",
    "T1 = 1 2 0 2 1\n",
    "T2 = 2 3 4 0 2\n",
    "\n",
    "NEW REPRESENTATION\n",
    "S0 = 2 4 5 1 4 1 2 0 2 1 2 3 4 0 2"
   ]
  },
  {
   "cell_type": "code",
   "execution_count": 2,
   "outputs": [],
   "source": [
    "import numpy as np\n",
    "import pandas as pd"
   ],
   "metadata": {
    "collapsed": false,
    "pycharm": {
     "name": "#%%\n"
    }
   }
  },
  {
   "cell_type": "code",
   "execution_count": 3,
   "outputs": [],
   "source": [
    "# DOWNSAMPLE TO 1Hz\n",
    "# DATASET 1 - ALTITUDE MANEUVER\n",
    "\n",
    "prefix = 'F16_DS3'\n",
    "\n",
    "dict_ds = {\n",
    "    #prefix+'_normal' : pd.read_csv('../../dataset/data_representation_1/F16_DS1_normal.csv', header=None),\n",
    "    #prefix+'_fault1_leakage' : pd.read_csv('../../dataset/data_representation_1/F16_DS1_fault1_leakage.csv', header=None),\n",
    "    #prefix+'_fault2_viscousfriction' : pd.read_csv('../../dataset/data_representation_1/F16_DS1_fault2_viscousfriction.csv', header=None),\n",
    "    #prefix+'_fault3_compressibility' : pd.read_csv('../../dataset/data_representation_1/F16_DS1_fault3_compressibility.csv', header=None),\n",
    "    #prefix+'_fault4_fixedposition' : pd.read_csv('../../dataset/data_representation_1/F16_DS1_fault4_fixedposition.csv', header=None),\n",
    "\n",
    "    # DATASET 2 - ROLL MANEUVER + TORQUE SURFACE\n",
    "    #'F16_DS2_normal' : pd.read_csv('../../dataset/data_representation_1/F16_DS2_normal.csv', header=None),\n",
    "    #'F16_DS2_fault1_leakage' : pd.read_csv('../../dataset/data_representation_1/F16_DS2_fault1_leakage.csv', header=None),\n",
    "    #'F16_DS2_fault2_viscousfriction' : pd.read_csv('../../dataset/data_representation_1/F16_DS2_fault2_viscousfriction.csv', header=None),\n",
    "    #'F16_DS2_fault3_compressibility' : pd.read_csv('../../dataset/data_representation_1/F16_DS2_fault3_compressibility.csv', header=None),\n",
    "    #'F16_DS2_fault4_fixedposition' : pd.read_csv('../../dataset/data_representation_1/F16_DS2_fault4_fixedposition.csv', header=None)\n",
    "\n",
    "    #prefix+'_normal_t1' : pd.read_csv('../data_representation_1/F16_DS3_normal_t1.csv', header=None),\n",
    "    #prefix+'_normal_t2' : pd.read_csv('../data_representation_1/F16_DS3_normal_t2.csv', header=None),\n",
    "    #prefix+'_fault1_leakage' : pd.read_csv('../data_representation_1/F16_DS3_fault1_leakage.csv', header=None),\n",
    "    #prefix+'_fault2_viscousfriction' : pd.read_csv('../data_representation_1/F16_DS3_fault2_viscousfriction.csv', header=None),\n",
    "    #prefix+'_fault3_compressibility' : pd.read_csv('../data_representation_1/F16_DS3_fault3_compressibility.csv', header=None),\n",
    "    prefix+'_fault4_fixedposition' : pd.read_csv('../data_representation_1/F16_DS3_fault4_fixedposition.csv', header=None),\n",
    "}"
   ],
   "metadata": {
    "collapsed": false,
    "pycharm": {
     "name": "#%%\n"
    }
   }
  },
  {
   "cell_type": "code",
   "execution_count": 4,
   "outputs": [],
   "source": [
    "features = 27\n",
    "\n",
    "for n, dataset_name in enumerate(dict_ds):\n",
    "    dataset = dict_ds[dataset_name]\n",
    "\n",
    "    flights = 500\n",
    "    if dataset_name.find(\"normal\") != -1:\n",
    "        flights = 900\n",
    "\n",
    "    downsampled = np.zeros((flights,100*features))\n",
    "\n",
    "    for f in np.arange(0, flights):\n",
    "        flight = dataset.iloc[1000*f:1000*(f+1)].to_numpy()\n",
    "\n",
    "        for c in np.arange(0, 100):\n",
    "\n",
    "            chunk_np = flight[c*10]\n",
    "\n",
    "            downsampled[f,c*features:(c+1)*features] = chunk_np\n",
    "\n",
    "    dict_ds[dataset_name] = pd.DataFrame(downsampled)\n",
    "    dict_ds[dataset_name].to_csv((str(dataset_name) + \".csv\"), header=False, index=False)"
   ],
   "metadata": {
    "collapsed": false,
    "pycharm": {
     "name": "#%%\n"
    }
   }
  }
 ],
 "metadata": {
  "kernelspec": {
   "display_name": "Python 3",
   "language": "python",
   "name": "python3"
  },
  "language_info": {
   "codemirror_mode": {
    "name": "ipython",
    "version": 2
   },
   "file_extension": ".py",
   "mimetype": "text/x-python",
   "name": "python",
   "nbconvert_exporter": "python",
   "pygments_lexer": "ipython2",
   "version": "2.7.6"
  }
 },
 "nbformat": 4,
 "nbformat_minor": 0
}