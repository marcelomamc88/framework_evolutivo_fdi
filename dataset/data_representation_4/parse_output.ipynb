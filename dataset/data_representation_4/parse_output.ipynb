{
 "cells": [
  {
   "cell_type": "code",
   "execution_count": 1,
   "outputs": [],
   "source": [
    "from math import floor\n",
    "import numpy as np\n",
    "import pandas as pd"
   ],
   "metadata": {
    "collapsed": false,
    "pycharm": {
     "name": "#%%\n"
    }
   }
  },
  {
   "cell_type": "code",
   "execution_count": 2,
   "metadata": {
    "collapsed": true
   },
   "outputs": [],
   "source": [
    "columns = {'arch':5, 'output_layer':6, 'batch_size':7, 'optimizer':8, 'loss_function':9,\n",
    "           'x_train_loss':15, 'x_test_loss':22, 'normal_2_loss':29, 'f1_loss':36, 'f2_loss':43, 'f3_loss':50, 'f4_loss':57,\n",
    "           'normal_2_acc':62, 'f1_acc':69, 'f2_acc':75, 'f3_acc':81, 'f4_acc':87}\n",
    "\n",
    "numbered_columns = ['x_train_loss', 'x_test_loss', 'normal_2_loss', 'f1_loss', 'f2_loss', 'f3_loss', 'f4_loss', 'normal_2_acc', 'f1_acc', 'f2_acc', 'f3_acc', 'f4_acc']\n",
    "\n",
    "percentual_columns = ['normal_2_acc', 'f1_acc', 'f2_acc', 'f3_acc', 'f4_acc']"
   ]
  },
  {
   "cell_type": "code",
   "execution_count": 3,
   "outputs": [],
   "source": [
    "with open('output.txt') as f:\n",
    "    lines = f.readlines()\n",
    "\n",
    "height = 91\n",
    "times = floor(len(lines)/height)\n",
    "\n",
    "output = pd.DataFrame(np.zeros((times, len(columns))), columns=columns)\n",
    "\n",
    "for k, column_name in enumerate(columns):\n",
    "    column_init_position = columns[column_name]\n",
    "\n",
    "    for time in np.arange(0, times):\n",
    "        without_newline = lines[column_init_position+(time*height)].rstrip(\"\\n\")\n",
    "        without_phi = without_newline.replace('phi:', '')\n",
    "        value = without_phi.strip()\n",
    "\n",
    "        if (column_name == 'normal_2_acc'):\n",
    "            value = value.replace('[', '')\n",
    "            value = value.replace(']', '')\n",
    "            str_arr = value.split()\n",
    "            value = str_arr[0]\n",
    "        elif (column_name == 'f1_acc' or column_name == 'f2_acc' or column_name == 'f3_acc' or column_name == 'f4_acc'):\n",
    "            value = value.replace('[', '')\n",
    "            value = value.replace(']', '')\n",
    "            str_arr = value.split()\n",
    "            value = str_arr[1]\n",
    "\n",
    "        if (column_name in numbered_columns):\n",
    "            value = float(value)\n",
    "\n",
    "        if (column_name == 'batch_size'):\n",
    "            value = int(value)\n",
    "\n",
    "        if (column_name in percentual_columns):\n",
    "            value = value*100\n",
    "\n",
    "        output.iloc[time,k] = value\n",
    "\n",
    "f.close()"
   ],
   "metadata": {
    "collapsed": false,
    "pycharm": {
     "name": "#%%\n"
    }
   }
  }
 ],
 "metadata": {
  "kernelspec": {
   "display_name": "Python 3",
   "language": "python",
   "name": "python3"
  },
  "language_info": {
   "codemirror_mode": {
    "name": "ipython",
    "version": 2
   },
   "file_extension": ".py",
   "mimetype": "text/x-python",
   "name": "python",
   "nbconvert_exporter": "python",
   "pygments_lexer": "ipython2",
   "version": "2.7.6"
  }
 },
 "nbformat": 4,
 "nbformat_minor": 0
}