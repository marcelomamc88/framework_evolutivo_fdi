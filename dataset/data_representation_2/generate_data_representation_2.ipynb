{
 "cells": [
  {
   "cell_type": "markdown",
   "metadata": {
    "collapsed": true,
    "pycharm": {
     "name": "#%% md\n"
    }
   },
   "source": [
    "This code convert original data representation in new data representation as follow:\n",
    "\n",
    "Original: samples => current values\n",
    "\n",
    "This Representation: samples => current value concatenated with the difference between current values and previous one\n",
    "\n",
    "E.G.\n",
    "\n",
    "ORIGINAL\n",
    "T0 = 2 4 5 1 4\n",
    "T1 = 1 2 0 2 1\n",
    "T2 = 2 3 4 0 2\n",
    "\n",
    "NEW REPRESENTATION\n",
    "T0 = 2  2  4  4  5  5  1  1  4  4\n",
    "T1 = 1 -1  2 -2  0 -5  2  1  1 -3\n",
    "T2 = 2  1  3  1  4  4  0 -2  2  1"
   ]
  },
  {
   "cell_type": "code",
   "execution_count": 1,
   "outputs": [],
   "source": [
    "import numpy as np\n",
    "import pandas as pd"
   ],
   "metadata": {
    "collapsed": false,
    "pycharm": {
     "name": "#%%\n"
    }
   }
  },
  {
   "cell_type": "code",
   "execution_count": 67,
   "outputs": [],
   "source": [
    "# ORIGINAL DATA\n",
    "columns = ['w', 'q_chamber1_cilinda', 'q_chamber1_cilindb', 'q_chamber2_cilinda', 'q_chamber2_cilindb', 'q_pressureline_leftailc1', 'q_pressureline_leftailc2', 'q_tank_leftailc1', 'q_tank_leftailc2', 'f_cilinda', 'f_cilindb', 'x_cilinda', 'x_cilindb', 'p_chamber1_cilinda', 'p_chamber1_cilindb', 'p_chamber2_cilinda', 'p_chamber2_cilindb', 'p_pressureline_leftailc1', 'p_pressureline_leftailc2', 'p_tank_leftailc1', 'p_tank_leftailc2', 't', 'v_cilinda', 'v_cilindb', 'y_servo_valve']\n",
    "\n",
    "# New column names to difference data\n",
    "d_columns = [\"d_\"+c for c in columns]\n",
    "\n",
    "# DATASET 1 - ALTITUDE MANEUVER\n",
    "data_ds1_normal_original = pd.read_csv('../../dataset/data_representation_1/F16_DS1_normal.csv', names=columns)"
   ],
   "metadata": {
    "collapsed": false,
    "pycharm": {
     "name": "#%%\n"
    }
   }
  },
  {
   "cell_type": "code",
   "execution_count": null,
   "outputs": [],
   "source": [
    "data_ds1_fault1_original = pd.read_csv('../../dataset/data_representation_1/F16_DS1_fault1_leakage.csv', names=columns)\n",
    "data_ds1_fault2_original = pd.read_csv('../../dataset/data_representation_1/F16_DS1_fault2_viscousfriction.csv', names=columns)\n",
    "data_ds1_fault3_original = pd.read_csv('../../dataset/data_representation_1/F16_DS1_fault3_compressibility.csv', names=columns)\n",
    "data_ds1_fault4_original = pd.read_csv('../../dataset/data_representation_1/F16_DS1_fault4_fixedposition.csv', names=columns)\n",
    "\n",
    "# DATASET 2 - ROLL MANEUVER + TORQUE SURFACE\n",
    "data_ds2_normal_original = pd.read_csv('../../dataset/data_representation_1/F16_DS2_normal.csv', names=columns)\n",
    "data_ds2_fault1_original = pd.read_csv('../../dataset/data_representation_1/F16_DS2_fault1_leakage.csv', names=columns)\n",
    "data_ds2_fault2_original = pd.read_csv('../../dataset/data_representation_1/F16_DS2_fault2_viscousfriction.csv', names=columns)\n",
    "data_ds2_fault3_original = pd.read_csv('../../dataset/data_representation_1/F16_DS2_fault3_compressibility.csv', names=columns)\n",
    "data_ds2_fault4_original = pd.read_csv('../../dataset/data_representation_1/F16_DS2_fault4_fixedposition.csv', names=columns)"
   ],
   "metadata": {
    "collapsed": false,
    "pycharm": {
     "name": "#%%\n"
    }
   }
  },
  {
   "cell_type": "code",
   "execution_count": 74,
   "outputs": [],
   "source": [
    "datasets = {'F16_DS1_normal': data_ds1_normal_original,\n",
    "            'F16_DS1_fault1_leakage': data_ds1_fault1_original,\n",
    "            'F16_DS1_fault2_viscousfriction': data_ds1_fault2_original,\n",
    "            'F16_DS1_fault3_compressibility': data_ds1_fault3_original,\n",
    "            'F16_DS1_fault4_fixedposition': data_ds1_fault4_original,\n",
    "            'F16_DS2_normal': data_ds2_normal_original,\n",
    "            'F16_DS2_fault1_leakage': data_ds2_fault1_original,\n",
    "            'F16_DS2_fault2_viscousfriction': data_ds2_fault2_original,\n",
    "            'F16_DS2_fault3_compressibility': data_ds2_fault3_original,\n",
    "            'F16_DS2_fault4_fixedposition': data_ds2_fault4_original}\n",
    "\n",
    "for k in datasets:\n",
    "\n",
    "    v = datasets[k]\n",
    "\n",
    "    # Create zeroed columns\n",
    "    new_features = pd.DataFrame(np.zeros(v.shape), columns=d_columns)\n",
    "\n",
    "    # Concatenate original columns with new columns\n",
    "    ds = pd.concat([v, new_features], axis=1)\n",
    "\n",
    "    for n, _ in v.iterrows():\n",
    "        if n % 1400 == 0: # don't calculate the diff to the first register (new flight register)\n",
    "            d = ds.iloc[n, :25] # copy values\n",
    "        else:\n",
    "            d = ds.iloc[n, :25] - ds.iloc[n-1, :25] # calculate the diff T(n) - T(n-1)\n",
    "\n",
    "        d.index = d_columns\n",
    "        ds.loc[n, d_columns] = list(d)\n",
    "\n",
    "    ds.to_csv((str(k) + \".csv\"), header=False, index=False)"
   ],
   "metadata": {
    "collapsed": false,
    "pycharm": {
     "name": "#%%\n"
    }
   }
  }
 ],
 "metadata": {
  "kernelspec": {
   "display_name": "Python 3",
   "language": "python",
   "name": "python3"
  },
  "language_info": {
   "codemirror_mode": {
    "name": "ipython",
    "version": 2
   },
   "file_extension": ".py",
   "mimetype": "text/x-python",
   "name": "python",
   "nbconvert_exporter": "python",
   "pygments_lexer": "ipython2",
   "version": "2.7.6"
  }
 },
 "nbformat": 4,
 "nbformat_minor": 0
}