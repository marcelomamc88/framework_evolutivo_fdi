{
 "cells": [
  {
   "cell_type": "code",
   "execution_count": 2,
   "outputs": [],
   "source": [
    "import numpy as np\n",
    "import pandas as pd\n",
    "\n",
    "o_columns = ['w', 'q_chamber1_cilinda', 'q_chamber1_cilindb', 'q_chamber2_cilinda', 'q_chamber2_cilindb', 'q_pressureline_leftailc1', 'q_pressureline_leftailc2', 'q_tank_leftailc1', 'q_tank_leftailc2', 'f_cilinda', 'f_cilindb', 'x_cilinda', 'x_cilindb', 'p_chamber1_cilinda', 'p_chamber1_cilindb', 'p_chamber2_cilinda', 'p_chamber2_cilindb', 'p_pressureline_leftailc1', 'p_pressureline_leftailc2', 'p_tank_leftailc1', 'p_tank_leftailc2', 't', 'v_cilinda', 'v_cilindb', 'y_servo_valve']"
   ],
   "metadata": {
    "collapsed": false,
    "pycharm": {
     "name": "#%%\n"
    }
   }
  },
  {
   "cell_type": "code",
   "execution_count": 3,
   "outputs": [],
   "source": [
    "# DOWNSAMPLE TO 1Hz\n",
    "# DATASET 1 - ALTITUDE MANEUVER\n",
    "\n",
    "prefix = 'F16_DS3'\n",
    "path = '../F16_DS3_ALTITUDE'\n",
    "\n",
    "dict_ds = {\n",
    "    #prefix+'_normal_t1' : pd.read_csv(path + '/F16_DS3_normal_t1_increase.csv', header=None, names=o_columns),\n",
    "    #prefix+'_normal_t2' : pd.read_csv(path + '/F16_DS3_normal_t1_decrease.csv', header=None, names=o_columns),\n",
    "    #prefix+'_fault1_leakage' : pd.read_csv(path + '/F16_DS3_fault1_leakage.csv', header=None, names=o_columns),\n",
    "    #prefix+'_fault2_viscousfriction' : pd.read_csv(path + '/F16_DS3_fault2_viscousfriction.csv', header=None, names=o_columns),\n",
    "    #prefix+'_fault3_compressibility' : pd.read_csv(path + '/F16_DS3_fault3_compressibility.csv', header=None, names=o_columns),\n",
    "    prefix+'_fault4_fixedposition' : pd.read_csv(path + '/F16_DS3_fault4_fixedposition.csv', header=None, names=o_columns),\n",
    "    #prefix+'_fault1_leakage_teste' : pd.read_csv(path + '/F16_DS3_fault1_leakage_teste.csv', header=None, names=o_columns),\n",
    "}"
   ],
   "metadata": {
    "collapsed": false,
    "pycharm": {
     "name": "#%%\n"
    }
   }
  },
  {
   "cell_type": "code",
   "execution_count": 4,
   "outputs": [],
   "source": [
    "for n, dataset_name in enumerate(dict_ds):\n",
    "    dataset = dict_ds[dataset_name]\n",
    "\n",
    "    dataset['d_p_chambers_cilinda'] = dataset['p_chamber1_cilinda'] - dataset['p_chamber2_cilinda']\n",
    "    dataset['d_p_chambers_cilindb'] = dataset['p_chamber1_cilindb'] - dataset['p_chamber2_cilindb']\n",
    "\n",
    "    dataset.to_csv((str(dataset_name) + \".csv\"), header=False, index=False)"
   ],
   "metadata": {
    "collapsed": false,
    "pycharm": {
     "name": "#%%\n"
    }
   }
  }
 ],
 "metadata": {
  "kernelspec": {
   "display_name": "Python 3",
   "language": "python",
   "name": "python3"
  },
  "language_info": {
   "codemirror_mode": {
    "name": "ipython",
    "version": 2
   },
   "file_extension": ".py",
   "mimetype": "text/x-python",
   "name": "python",
   "nbconvert_exporter": "python",
   "pygments_lexer": "ipython2",
   "version": "2.7.6"
  }
 },
 "nbformat": 4,
 "nbformat_minor": 0
}