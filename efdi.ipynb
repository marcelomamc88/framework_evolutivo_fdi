{
 "cells": [
  {
   "cell_type": "markdown",
   "source": [
    "# EVOLUTIVE FDI (EFDI)"
   ],
   "metadata": {
    "collapsed": false
   }
  },
  {
   "cell_type": "code",
   "execution_count": 31,
   "outputs": [],
   "source": [
    "from sklearn.preprocessing import LabelEncoder, MinMaxScaler as sk_minmax\n",
    "from sklearn.model_selection import train_test_split\n",
    "import numpy as np\n",
    "import pandas as pd\n",
    "from collections import OrderedDict\n",
    "from pprint import pprint\n",
    "from river import anomaly, preprocessing, compose, ensemble, neighbors, datasets\n",
    "from river.utils import numpy2dict"
   ],
   "metadata": {
    "collapsed": false,
    "pycharm": {
     "name": "#%%\n"
    }
   }
  },
  {
   "cell_type": "code",
   "execution_count": 32,
   "outputs": [],
   "source": [
    "# Carregando o CSV para DataFrame\n",
    "dataset_original = pd.read_csv(datasets.ImageSegments().path)\n",
    "\n",
    "#Realizando o LabelEncoder da variável dependente\n",
    "dataset_original['categorical_label'] = LabelEncoder().fit_transform(dataset_original['category'])\n",
    "dataset = dataset_original.copy()\n",
    "\n",
    "dataset.pop('category')\n",
    "\n",
    "data = {}\n",
    "for k, prefix in enumerate(['FF', 'F1', 'F2', 'F3', 'F4', 'F5', 'F6']):\n",
    "    data[prefix] = dataset[dataset['categorical_label'] == k].iloc[:, :-1].to_numpy()\n",
    "    data[prefix+'_train'] = data[prefix][0:99]\n",
    "    data[prefix+'_test']  = data[prefix][99:330]"
   ],
   "metadata": {
    "collapsed": false,
    "pycharm": {
     "name": "#%%\n"
    }
   }
  },
  {
   "cell_type": "markdown",
   "source": [
    "## INITIAL PHASE\n",
    "\n",
    "- Initialize DETECTOR algorithm with some Fault Free Samples\n",
    "- Initialize CLASSIFIER algorithm with some Fault Mode samples (max 2)\n",
    "- Initialize CLUSTERER algorithm"
   ],
   "metadata": {
    "collapsed": false,
    "pycharm": {
     "name": "#%% md\n"
    }
   }
  },
  {
   "cell_type": "markdown",
   "source": [
    "### Initialize DETECTOR"
   ],
   "metadata": {
    "collapsed": false,
    "pycharm": {
     "name": "#%% md\n"
    }
   }
  },
  {
   "cell_type": "code",
   "execution_count": 4,
   "outputs": [],
   "source": [
    "# OFFLINE PHASE\n",
    "\n",
    "# Hiperparameter\n",
    "threshold = 0.5\n",
    "\n",
    "# Starting MinMax Scaler\n",
    "minmax_scaler = sk_minmax()\n",
    "\n",
    "# Starting the Model\n",
    "model = compose.Pipeline(\n",
    "    anomaly.HalfSpaceTrees(seed=42)\n",
    ")\n",
    "\n",
    "# INITIAL OFFLINE PHASE\n",
    "for x in data['FF_train']:\n",
    "    x_scaled = minmax_scaler.partial_fit(x.reshape(1, x.shape[0])).transform(x.reshape(1, x.shape[0]))\n",
    "    model.learn_one(numpy2dict(x_scaled))"
   ],
   "metadata": {
    "collapsed": false,
    "pycharm": {
     "name": "#%%\n"
    }
   }
  },
  {
   "cell_type": "markdown",
   "source": [
    "### Initialize Classifier"
   ],
   "metadata": {
    "collapsed": false,
    "pycharm": {
     "name": "#%% md\n"
    }
   }
  },
  {
   "cell_type": "code",
   "execution_count": 5,
   "outputs": [],
   "source": [
    "# OFF LINE PHASE\n",
    "classifier = ensemble.BaggingClassifier(\n",
    "    model=(\n",
    "            preprocessing.MinMaxScaler() |\n",
    "            neighbors.KNNADWINClassifier()\n",
    "    )\n",
    ")\n",
    "\n",
    "# Training the classifier with some known classes\n",
    "# Some Fault Mode (1,2,3,4) samples were chosen to initialize the classifier\n",
    "for k in np.arange(1,5):\n",
    "    for x in data['F'+str(k)+'_train']:\n",
    "        classifier.predict_one(numpy2dict(x))\n",
    "        classifier = classifier.learn_one(numpy2dict(x), k)"
   ],
   "metadata": {
    "collapsed": false,
    "pycharm": {
     "name": "#%%\n"
    }
   }
  },
  {
   "cell_type": "markdown",
   "source": [
    "## DETECTOR PHASE"
   ],
   "metadata": {
    "collapsed": false
   }
  },
  {
   "cell_type": "markdown",
   "source": [
    "### SGD One Class SVM (Sk Learn)"
   ],
   "metadata": {
    "collapsed": false
   }
  },
  {
   "cell_type": "code",
   "execution_count": 47,
   "outputs": [
    {
     "name": "stdout",
     "output_type": "stream",
     "text": [
      "'45.45% samples has been identified as FAULT FREE'\n",
      "'61.67% samples has been identified as ANOMALY'\n"
     ]
    }
   ],
   "source": [
    "from sklearn import linear_model\n",
    "from sklearn.preprocessing import *\n",
    "#X = np.array([[-2, -2], [-1, -1], [1, 1], [2, 2]])\n",
    "model_sgd = linear_model.SGDOneClassSVM(random_state=42)\n",
    "#clf.fit(X)\n",
    "#print(clf.predict([[10000, 1000]]))\n",
    "minmax_scaler = MinMaxScaler()\n",
    "\n",
    "for x in np.concatenate((data['FF'],data['FF'],data['FF'],data['FF'])):\n",
    "    x_scaled = minmax_scaler.partial_fit(x.reshape(1, x.shape[0])).transform(x.reshape(1, x.shape[0]))\n",
    "    model_sgd.fit(x_scaled)\n",
    "\n",
    "# DETECTOR ONLINE PHASE\n",
    "# Validation with 70% Fault Free\n",
    "x_val = data['FF_test']\n",
    "inliers = 0\n",
    "\n",
    "for x in x_val:\n",
    "    x_scaled = minmax_scaler.transform(x.reshape(1, x.shape[0]))\n",
    "\n",
    "    score = model_sgd.predict(x_scaled)\n",
    "\n",
    "    if (score == 1): #1 inlier\n",
    "        inliers = inliers+1\n",
    "\n",
    "pprint(f'{inliers/len(x_val)*100:.2f}% samples has been identified as FAULT FREE')\n",
    "\n",
    "# Test with all fault modes\n",
    "x_test = np.concatenate(([data['F'+str(x)] for x in np.arange(1,7)]))\n",
    "outliers = 0\n",
    "outliers_map = []\n",
    "\n",
    "for x in x_test:\n",
    "    x_scaled = minmax_scaler.transform(x.reshape(1, x.shape[0]))\n",
    "    score = model_sgd.predict(x_scaled)\n",
    "\n",
    "    if (score == -1): #-1 outlier\n",
    "        outliers = outliers+1\n",
    "        outliers_map.append(np.array(x).tolist())\n",
    "\n",
    "    # if anomaly -> revert scaler -> send to Classifier Phase\n",
    "\n",
    "pprint(f'{outliers/len(x_test)*100:.2f}% samples has been identified as ANOMALY')"
   ],
   "metadata": {
    "collapsed": false,
    "pycharm": {
     "name": "#%%\n"
    }
   }
  },
  {
   "cell_type": "markdown",
   "source": [
    "### HalfSpaceTree (RIVER)"
   ],
   "metadata": {
    "collapsed": false
   }
  },
  {
   "cell_type": "code",
   "source": [
    "# DETECTOR ONLINE PHASE\n",
    "\n",
    "# Validation with 70% Fault Free\n",
    "x_val = data['FF_test']\n",
    "# Test with all fault modes\n",
    "x_test = np.concatenate(([data['F'+str(x)] for x in np.arange(1,7)]))\n",
    "inliers = 0\n",
    "outliers = 0\n",
    "outliers_map = []\n",
    "\n",
    "for x in x_val:\n",
    "    x_scaled = minmax_scaler.transform(x.reshape(1, x.shape[0]))\n",
    "\n",
    "    score = model.score_one(numpy2dict(x_scaled[0]))\n",
    "\n",
    "    if (score <= threshold): #low score - normal observation\n",
    "        inliers = inliers+1\n",
    "\n",
    "pprint(f'{inliers/len(x_val)*100:.2f}% samples has been identified as FAULT FREE')\n",
    "\n",
    "\n",
    "for x in x_test:\n",
    "    x_scaled = minmax_scaler.transform(x.reshape(1, x.shape[0]))\n",
    "    score = model.score_one(numpy2dict(x_scaled[0]))\n",
    "\n",
    "    if (score > threshold): #high score - outlier observation\n",
    "        outliers = outliers+1\n",
    "        outliers_map.append(np.array(x).tolist())\n",
    "\n",
    "    # if anomaly -> revert scaler -> send to Classifier Phase\n",
    "\n",
    "pprint(f'{outliers/len(x_test)*100:.2f}% samples has been identified as ANOMALY')"
   ],
   "metadata": {
    "collapsed": false,
    "pycharm": {
     "name": "#%%\n"
    }
   },
   "execution_count": 113,
   "outputs": [
    {
     "name": "stdout",
     "output_type": "stream",
     "text": [
      "'0.00% samples has been identified as FAULT FREE'\n",
      "'85.91% samples has been identified as ANOMALY'\n"
     ]
    }
   ]
  },
  {
   "cell_type": "markdown",
   "source": [
    "### HalfSpace Tree (Sk Flow)"
   ],
   "metadata": {
    "collapsed": false
   }
  },
  {
   "cell_type": "code",
   "execution_count": 20,
   "outputs": [],
   "source": [
    "from skmultiflow.data import AnomalySineGenerator\n",
    "stream = AnomalySineGenerator(random_state=1, n_samples=1000, n_anomalies=10)\n",
    "n_samples = 0\n",
    "X_ = np.empty([1, 2])\n",
    "Y_ = np.empty([1])\n",
    "while n_samples < 1000 and stream.has_more_samples():\n",
    "    X, y = stream.next_sample()\n",
    "    X_ = np.concatenate((X_, X))\n",
    "    Y_ = np.concatenate((Y_, y))\n",
    "    n_samples += 1"
   ],
   "metadata": {
    "collapsed": false,
    "pycharm": {
     "name": "#%%\n"
    }
   }
  },
  {
   "cell_type": "code",
   "execution_count": 27,
   "outputs": [],
   "source": [
    "X_df = pd.DataFrame(X_)\n",
    "X_df['y'] = Y_\n",
    "\n",
    "normal = X_df[X_df['y'] == 0].iloc[:,:-1].to_numpy()\n",
    "anormal = X_df[X_df['y'] == 1].iloc[:,:-1].to_numpy()"
   ],
   "metadata": {
    "collapsed": false,
    "pycharm": {
     "name": "#%%\n"
    }
   }
  },
  {
   "cell_type": "code",
   "execution_count": 29,
   "outputs": [
    {
     "name": "stdout",
     "output_type": "stream",
     "text": [
      "HalfSpaceTrees(anomaly_threshold=0.5, depth=15, n_estimators=3,\n",
      "               random_state=None, size_limit=10, window_size=10)\n",
      "0.0\n",
      "1.0\n",
      "HalfSpaceTrees(anomaly_threshold=0.5, depth=20, n_estimators=3,\n",
      "               random_state=None, size_limit=10, window_size=10)\n",
      "0.0\n",
      "1.0\n",
      "HalfSpaceTrees(anomaly_threshold=0.5, depth=25, n_estimators=3,\n",
      "               random_state=None, size_limit=10, window_size=10)\n"
     ]
    },
    {
     "ename": "KeyboardInterrupt",
     "evalue": "",
     "output_type": "error",
     "traceback": [
      "\u001B[1;31m---------------------------------------------------------------------------\u001B[0m",
      "\u001B[1;31mKeyboardInterrupt\u001B[0m                         Traceback (most recent call last)",
      "\u001B[1;32m<ipython-input-29-718516319398>\u001B[0m in \u001B[0;36m<module>\u001B[1;34m\u001B[0m\n\u001B[0;32m     38\u001B[0m         \u001B[1;32mfor\u001B[0m \u001B[0ms\u001B[0m \u001B[1;32min\u001B[0m \u001B[0msize\u001B[0m\u001B[1;33m:\u001B[0m\u001B[1;33m\u001B[0m\u001B[1;33m\u001B[0m\u001B[0m\n\u001B[0;32m     39\u001B[0m             \u001B[1;32mfor\u001B[0m \u001B[0md\u001B[0m \u001B[1;32min\u001B[0m \u001B[0mdepth\u001B[0m\u001B[1;33m:\u001B[0m\u001B[1;33m\u001B[0m\u001B[1;33m\u001B[0m\u001B[0m\n\u001B[1;32m---> 40\u001B[1;33m                 \u001B[0mhst\u001B[0m\u001B[1;33m(\u001B[0m\u001B[0mHalfSpaceTrees\u001B[0m\u001B[1;33m(\u001B[0m\u001B[0mn_estimators\u001B[0m\u001B[1;33m=\u001B[0m\u001B[0me\u001B[0m\u001B[1;33m,\u001B[0m \u001B[0mwindow_size\u001B[0m\u001B[1;33m=\u001B[0m\u001B[0mw\u001B[0m\u001B[1;33m,\u001B[0m \u001B[0msize_limit\u001B[0m\u001B[1;33m=\u001B[0m\u001B[0ms\u001B[0m\u001B[1;33m,\u001B[0m \u001B[0mdepth\u001B[0m\u001B[1;33m=\u001B[0m\u001B[0md\u001B[0m\u001B[1;33m)\u001B[0m\u001B[1;33m,\u001B[0m \u001B[0mnormal\u001B[0m\u001B[1;33m,\u001B[0m \u001B[0manormal\u001B[0m\u001B[1;33m)\u001B[0m\u001B[1;33m\u001B[0m\u001B[1;33m\u001B[0m\u001B[0m\n\u001B[0m\u001B[0;32m     41\u001B[0m \u001B[1;33m\u001B[0m\u001B[0m\n\u001B[0;32m     42\u001B[0m \u001B[1;33m\u001B[0m\u001B[0m\n",
      "\u001B[1;32m<ipython-input-29-718516319398>\u001B[0m in \u001B[0;36mhst\u001B[1;34m(hst_sf, data_NORMAL, data_ANORMAL)\u001B[0m\n\u001B[0;32m      6\u001B[0m     \u001B[1;32mfor\u001B[0m \u001B[0mx\u001B[0m \u001B[1;32min\u001B[0m \u001B[0mdata_NORMAL\u001B[0m\u001B[1;33m:\u001B[0m\u001B[1;33m\u001B[0m\u001B[1;33m\u001B[0m\u001B[0m\n\u001B[0;32m      7\u001B[0m         \u001B[0mhst_sf\u001B[0m\u001B[1;33m.\u001B[0m\u001B[0mpredict\u001B[0m\u001B[1;33m(\u001B[0m\u001B[0mx\u001B[0m\u001B[1;33m.\u001B[0m\u001B[0mreshape\u001B[0m\u001B[1;33m(\u001B[0m\u001B[1;36m1\u001B[0m\u001B[1;33m,\u001B[0m \u001B[1;36m2\u001B[0m\u001B[1;33m)\u001B[0m\u001B[1;33m)\u001B[0m\u001B[1;33m\u001B[0m\u001B[1;33m\u001B[0m\u001B[0m\n\u001B[1;32m----> 8\u001B[1;33m         \u001B[0mhst_sf\u001B[0m\u001B[1;33m.\u001B[0m\u001B[0mpartial_fit\u001B[0m\u001B[1;33m(\u001B[0m\u001B[0mx\u001B[0m\u001B[1;33m.\u001B[0m\u001B[0mreshape\u001B[0m\u001B[1;33m(\u001B[0m\u001B[1;36m1\u001B[0m\u001B[1;33m,\u001B[0m \u001B[1;36m2\u001B[0m\u001B[1;33m)\u001B[0m\u001B[1;33m)\u001B[0m\u001B[1;33m\u001B[0m\u001B[1;33m\u001B[0m\u001B[0m\n\u001B[0m\u001B[0;32m      9\u001B[0m \u001B[1;33m\u001B[0m\u001B[0m\n\u001B[0;32m     10\u001B[0m     \u001B[0minliers\u001B[0m \u001B[1;33m=\u001B[0m \u001B[1;36m0\u001B[0m\u001B[1;33m\u001B[0m\u001B[1;33m\u001B[0m\u001B[0m\n",
      "\u001B[1;32m~\\anaconda3\\lib\\site-packages\\skmultiflow\\anomaly_detection\\half_space_trees.py\u001B[0m in \u001B[0;36mpartial_fit\u001B[1;34m(self, X, y, classes, sample_weight)\u001B[0m\n\u001B[0;32m    140\u001B[0m \u001B[1;33m\u001B[0m\u001B[0m\n\u001B[0;32m    141\u001B[0m         \u001B[1;32mfor\u001B[0m \u001B[0mi\u001B[0m \u001B[1;32min\u001B[0m \u001B[0mrange\u001B[0m\u001B[1;33m(\u001B[0m\u001B[0mrow_cnt\u001B[0m\u001B[1;33m)\u001B[0m\u001B[1;33m:\u001B[0m\u001B[1;33m\u001B[0m\u001B[1;33m\u001B[0m\u001B[0m\n\u001B[1;32m--> 142\u001B[1;33m             \u001B[0mself\u001B[0m\u001B[1;33m.\u001B[0m\u001B[0m_partial_fit\u001B[0m\u001B[1;33m(\u001B[0m\u001B[0mX\u001B[0m\u001B[1;33m[\u001B[0m\u001B[0mi\u001B[0m\u001B[1;33m]\u001B[0m\u001B[1;33m)\u001B[0m\u001B[1;33m\u001B[0m\u001B[1;33m\u001B[0m\u001B[0m\n\u001B[0m\u001B[0;32m    143\u001B[0m \u001B[1;33m\u001B[0m\u001B[0m\n\u001B[0;32m    144\u001B[0m         \u001B[1;32mreturn\u001B[0m \u001B[0mself\u001B[0m\u001B[1;33m\u001B[0m\u001B[1;33m\u001B[0m\u001B[0m\n",
      "\u001B[1;32m~\\anaconda3\\lib\\site-packages\\skmultiflow\\anomaly_detection\\half_space_trees.py\u001B[0m in \u001B[0;36m_partial_fit\u001B[1;34m(self, X)\u001B[0m\n\u001B[0;32m    167\u001B[0m \u001B[1;33m\u001B[0m\u001B[0m\n\u001B[0;32m    168\u001B[0m         \u001B[1;32mif\u001B[0m \u001B[1;33m(\u001B[0m\u001B[0mself\u001B[0m\u001B[1;33m.\u001B[0m\u001B[0msamples_seen\u001B[0m \u001B[1;33m%\u001B[0m \u001B[0mself\u001B[0m\u001B[1;33m.\u001B[0m\u001B[0mwindow_size\u001B[0m\u001B[1;33m)\u001B[0m \u001B[1;33m==\u001B[0m \u001B[1;36m0\u001B[0m\u001B[1;33m:\u001B[0m\u001B[1;33m\u001B[0m\u001B[1;33m\u001B[0m\u001B[0m\n\u001B[1;32m--> 169\u001B[1;33m             \u001B[0mself\u001B[0m\u001B[1;33m.\u001B[0m\u001B[0mupdate_models\u001B[0m\u001B[1;33m(\u001B[0m\u001B[1;33m)\u001B[0m\u001B[1;33m\u001B[0m\u001B[1;33m\u001B[0m\u001B[0m\n\u001B[0m\u001B[0;32m    170\u001B[0m \u001B[1;33m\u001B[0m\u001B[0m\n\u001B[0;32m    171\u001B[0m         \u001B[0mself\u001B[0m\u001B[1;33m.\u001B[0m\u001B[0msamples_seen\u001B[0m \u001B[1;33m+=\u001B[0m \u001B[1;36m1\u001B[0m\u001B[1;33m\u001B[0m\u001B[1;33m\u001B[0m\u001B[0m\n",
      "\u001B[1;32m~\\anaconda3\\lib\\site-packages\\skmultiflow\\anomaly_detection\\half_space_trees.py\u001B[0m in \u001B[0;36mupdate_models\u001B[1;34m(self)\u001B[0m\n\u001B[0;32m    284\u001B[0m         \u001B[1;32mfor\u001B[0m \u001B[0mi\u001B[0m \u001B[1;32min\u001B[0m \u001B[0mrange\u001B[0m\u001B[1;33m(\u001B[0m\u001B[0mself\u001B[0m\u001B[1;33m.\u001B[0m\u001B[0mn_estimators\u001B[0m\u001B[1;33m)\u001B[0m\u001B[1;33m:\u001B[0m\u001B[1;33m\u001B[0m\u001B[1;33m\u001B[0m\u001B[0m\n\u001B[0;32m    285\u001B[0m             \u001B[0mtree\u001B[0m \u001B[1;33m=\u001B[0m \u001B[0mself\u001B[0m\u001B[1;33m.\u001B[0m\u001B[0mensemble\u001B[0m\u001B[1;33m[\u001B[0m\u001B[0mi\u001B[0m\u001B[1;33m]\u001B[0m\u001B[1;33m\u001B[0m\u001B[1;33m\u001B[0m\u001B[0m\n\u001B[1;32m--> 286\u001B[1;33m             \u001B[0mtree\u001B[0m\u001B[1;33m.\u001B[0m\u001B[0mupdate_model\u001B[0m\u001B[1;33m(\u001B[0m\u001B[0mtree\u001B[0m\u001B[1;33m.\u001B[0m\u001B[0mroot\u001B[0m\u001B[1;33m)\u001B[0m\u001B[1;33m\u001B[0m\u001B[1;33m\u001B[0m\u001B[0m\n\u001B[0m\u001B[0;32m    287\u001B[0m \u001B[1;33m\u001B[0m\u001B[0m\n\u001B[0;32m    288\u001B[0m     \u001B[1;32mdef\u001B[0m \u001B[0mset_is_learning_phase_on\u001B[0m\u001B[1;33m(\u001B[0m\u001B[0mself\u001B[0m\u001B[1;33m,\u001B[0m \u001B[0mboolean\u001B[0m\u001B[1;33m)\u001B[0m\u001B[1;33m:\u001B[0m\u001B[1;33m\u001B[0m\u001B[1;33m\u001B[0m\u001B[0m\n",
      "\u001B[1;32m~\\anaconda3\\lib\\site-packages\\skmultiflow\\anomaly_detection\\half_space_trees.py\u001B[0m in \u001B[0;36mupdate_model\u001B[1;34m(self, node)\u001B[0m\n\u001B[0;32m    525\u001B[0m                 \u001B[0mnode\u001B[0m\u001B[1;33m.\u001B[0m\u001B[0mleft_mass\u001B[0m \u001B[1;33m=\u001B[0m \u001B[1;36m0\u001B[0m\u001B[1;33m\u001B[0m\u001B[1;33m\u001B[0m\u001B[0m\n\u001B[0;32m    526\u001B[0m \u001B[1;33m\u001B[0m\u001B[0m\n\u001B[1;32m--> 527\u001B[1;33m             \u001B[0mself\u001B[0m\u001B[1;33m.\u001B[0m\u001B[0mupdate_model\u001B[0m\u001B[1;33m(\u001B[0m\u001B[0mnode\u001B[0m\u001B[1;33m.\u001B[0m\u001B[0mleft\u001B[0m\u001B[1;33m)\u001B[0m\u001B[1;33m\u001B[0m\u001B[1;33m\u001B[0m\u001B[0m\n\u001B[0m\u001B[0;32m    528\u001B[0m             \u001B[0mself\u001B[0m\u001B[1;33m.\u001B[0m\u001B[0mupdate_model\u001B[0m\u001B[1;33m(\u001B[0m\u001B[0mnode\u001B[0m\u001B[1;33m.\u001B[0m\u001B[0mright\u001B[0m\u001B[1;33m)\u001B[0m\u001B[1;33m\u001B[0m\u001B[1;33m\u001B[0m\u001B[0m\n\u001B[0;32m    529\u001B[0m         \u001B[1;32mreturn\u001B[0m\u001B[1;33m\u001B[0m\u001B[1;33m\u001B[0m\u001B[0m\n",
      "\u001B[1;32m~\\anaconda3\\lib\\site-packages\\skmultiflow\\anomaly_detection\\half_space_trees.py\u001B[0m in \u001B[0;36mupdate_model\u001B[1;34m(self, node)\u001B[0m\n\u001B[0;32m    526\u001B[0m \u001B[1;33m\u001B[0m\u001B[0m\n\u001B[0;32m    527\u001B[0m             \u001B[0mself\u001B[0m\u001B[1;33m.\u001B[0m\u001B[0mupdate_model\u001B[0m\u001B[1;33m(\u001B[0m\u001B[0mnode\u001B[0m\u001B[1;33m.\u001B[0m\u001B[0mleft\u001B[0m\u001B[1;33m)\u001B[0m\u001B[1;33m\u001B[0m\u001B[1;33m\u001B[0m\u001B[0m\n\u001B[1;32m--> 528\u001B[1;33m             \u001B[0mself\u001B[0m\u001B[1;33m.\u001B[0m\u001B[0mupdate_model\u001B[0m\u001B[1;33m(\u001B[0m\u001B[0mnode\u001B[0m\u001B[1;33m.\u001B[0m\u001B[0mright\u001B[0m\u001B[1;33m)\u001B[0m\u001B[1;33m\u001B[0m\u001B[1;33m\u001B[0m\u001B[0m\n\u001B[0m\u001B[0;32m    529\u001B[0m         \u001B[1;32mreturn\u001B[0m\u001B[1;33m\u001B[0m\u001B[1;33m\u001B[0m\u001B[0m\n\u001B[0;32m    530\u001B[0m \u001B[1;33m\u001B[0m\u001B[0m\n",
      "\u001B[1;32m~\\anaconda3\\lib\\site-packages\\skmultiflow\\anomaly_detection\\half_space_trees.py\u001B[0m in \u001B[0;36mupdate_model\u001B[1;34m(self, node)\u001B[0m\n\u001B[0;32m    525\u001B[0m                 \u001B[0mnode\u001B[0m\u001B[1;33m.\u001B[0m\u001B[0mleft_mass\u001B[0m \u001B[1;33m=\u001B[0m \u001B[1;36m0\u001B[0m\u001B[1;33m\u001B[0m\u001B[1;33m\u001B[0m\u001B[0m\n\u001B[0;32m    526\u001B[0m \u001B[1;33m\u001B[0m\u001B[0m\n\u001B[1;32m--> 527\u001B[1;33m             \u001B[0mself\u001B[0m\u001B[1;33m.\u001B[0m\u001B[0mupdate_model\u001B[0m\u001B[1;33m(\u001B[0m\u001B[0mnode\u001B[0m\u001B[1;33m.\u001B[0m\u001B[0mleft\u001B[0m\u001B[1;33m)\u001B[0m\u001B[1;33m\u001B[0m\u001B[1;33m\u001B[0m\u001B[0m\n\u001B[0m\u001B[0;32m    528\u001B[0m             \u001B[0mself\u001B[0m\u001B[1;33m.\u001B[0m\u001B[0mupdate_model\u001B[0m\u001B[1;33m(\u001B[0m\u001B[0mnode\u001B[0m\u001B[1;33m.\u001B[0m\u001B[0mright\u001B[0m\u001B[1;33m)\u001B[0m\u001B[1;33m\u001B[0m\u001B[1;33m\u001B[0m\u001B[0m\n\u001B[0;32m    529\u001B[0m         \u001B[1;32mreturn\u001B[0m\u001B[1;33m\u001B[0m\u001B[1;33m\u001B[0m\u001B[0m\n",
      "\u001B[1;32m~\\anaconda3\\lib\\site-packages\\skmultiflow\\anomaly_detection\\half_space_trees.py\u001B[0m in \u001B[0;36mupdate_model\u001B[1;34m(self, node)\u001B[0m\n\u001B[0;32m    525\u001B[0m                 \u001B[0mnode\u001B[0m\u001B[1;33m.\u001B[0m\u001B[0mleft_mass\u001B[0m \u001B[1;33m=\u001B[0m \u001B[1;36m0\u001B[0m\u001B[1;33m\u001B[0m\u001B[1;33m\u001B[0m\u001B[0m\n\u001B[0;32m    526\u001B[0m \u001B[1;33m\u001B[0m\u001B[0m\n\u001B[1;32m--> 527\u001B[1;33m             \u001B[0mself\u001B[0m\u001B[1;33m.\u001B[0m\u001B[0mupdate_model\u001B[0m\u001B[1;33m(\u001B[0m\u001B[0mnode\u001B[0m\u001B[1;33m.\u001B[0m\u001B[0mleft\u001B[0m\u001B[1;33m)\u001B[0m\u001B[1;33m\u001B[0m\u001B[1;33m\u001B[0m\u001B[0m\n\u001B[0m\u001B[0;32m    528\u001B[0m             \u001B[0mself\u001B[0m\u001B[1;33m.\u001B[0m\u001B[0mupdate_model\u001B[0m\u001B[1;33m(\u001B[0m\u001B[0mnode\u001B[0m\u001B[1;33m.\u001B[0m\u001B[0mright\u001B[0m\u001B[1;33m)\u001B[0m\u001B[1;33m\u001B[0m\u001B[1;33m\u001B[0m\u001B[0m\n\u001B[0;32m    529\u001B[0m         \u001B[1;32mreturn\u001B[0m\u001B[1;33m\u001B[0m\u001B[1;33m\u001B[0m\u001B[0m\n",
      "\u001B[1;32m~\\anaconda3\\lib\\site-packages\\skmultiflow\\anomaly_detection\\half_space_trees.py\u001B[0m in \u001B[0;36mupdate_model\u001B[1;34m(self, node)\u001B[0m\n\u001B[0;32m    525\u001B[0m                 \u001B[0mnode\u001B[0m\u001B[1;33m.\u001B[0m\u001B[0mleft_mass\u001B[0m \u001B[1;33m=\u001B[0m \u001B[1;36m0\u001B[0m\u001B[1;33m\u001B[0m\u001B[1;33m\u001B[0m\u001B[0m\n\u001B[0;32m    526\u001B[0m \u001B[1;33m\u001B[0m\u001B[0m\n\u001B[1;32m--> 527\u001B[1;33m             \u001B[0mself\u001B[0m\u001B[1;33m.\u001B[0m\u001B[0mupdate_model\u001B[0m\u001B[1;33m(\u001B[0m\u001B[0mnode\u001B[0m\u001B[1;33m.\u001B[0m\u001B[0mleft\u001B[0m\u001B[1;33m)\u001B[0m\u001B[1;33m\u001B[0m\u001B[1;33m\u001B[0m\u001B[0m\n\u001B[0m\u001B[0;32m    528\u001B[0m             \u001B[0mself\u001B[0m\u001B[1;33m.\u001B[0m\u001B[0mupdate_model\u001B[0m\u001B[1;33m(\u001B[0m\u001B[0mnode\u001B[0m\u001B[1;33m.\u001B[0m\u001B[0mright\u001B[0m\u001B[1;33m)\u001B[0m\u001B[1;33m\u001B[0m\u001B[1;33m\u001B[0m\u001B[0m\n\u001B[0;32m    529\u001B[0m         \u001B[1;32mreturn\u001B[0m\u001B[1;33m\u001B[0m\u001B[1;33m\u001B[0m\u001B[0m\n",
      "\u001B[1;32m~\\anaconda3\\lib\\site-packages\\skmultiflow\\anomaly_detection\\half_space_trees.py\u001B[0m in \u001B[0;36mupdate_model\u001B[1;34m(self, node)\u001B[0m\n\u001B[0;32m    526\u001B[0m \u001B[1;33m\u001B[0m\u001B[0m\n\u001B[0;32m    527\u001B[0m             \u001B[0mself\u001B[0m\u001B[1;33m.\u001B[0m\u001B[0mupdate_model\u001B[0m\u001B[1;33m(\u001B[0m\u001B[0mnode\u001B[0m\u001B[1;33m.\u001B[0m\u001B[0mleft\u001B[0m\u001B[1;33m)\u001B[0m\u001B[1;33m\u001B[0m\u001B[1;33m\u001B[0m\u001B[0m\n\u001B[1;32m--> 528\u001B[1;33m             \u001B[0mself\u001B[0m\u001B[1;33m.\u001B[0m\u001B[0mupdate_model\u001B[0m\u001B[1;33m(\u001B[0m\u001B[0mnode\u001B[0m\u001B[1;33m.\u001B[0m\u001B[0mright\u001B[0m\u001B[1;33m)\u001B[0m\u001B[1;33m\u001B[0m\u001B[1;33m\u001B[0m\u001B[0m\n\u001B[0m\u001B[0;32m    529\u001B[0m         \u001B[1;32mreturn\u001B[0m\u001B[1;33m\u001B[0m\u001B[1;33m\u001B[0m\u001B[0m\n\u001B[0;32m    530\u001B[0m \u001B[1;33m\u001B[0m\u001B[0m\n",
      "\u001B[1;32m~\\anaconda3\\lib\\site-packages\\skmultiflow\\anomaly_detection\\half_space_trees.py\u001B[0m in \u001B[0;36mupdate_model\u001B[1;34m(self, node)\u001B[0m\n\u001B[0;32m    526\u001B[0m \u001B[1;33m\u001B[0m\u001B[0m\n\u001B[0;32m    527\u001B[0m             \u001B[0mself\u001B[0m\u001B[1;33m.\u001B[0m\u001B[0mupdate_model\u001B[0m\u001B[1;33m(\u001B[0m\u001B[0mnode\u001B[0m\u001B[1;33m.\u001B[0m\u001B[0mleft\u001B[0m\u001B[1;33m)\u001B[0m\u001B[1;33m\u001B[0m\u001B[1;33m\u001B[0m\u001B[0m\n\u001B[1;32m--> 528\u001B[1;33m             \u001B[0mself\u001B[0m\u001B[1;33m.\u001B[0m\u001B[0mupdate_model\u001B[0m\u001B[1;33m(\u001B[0m\u001B[0mnode\u001B[0m\u001B[1;33m.\u001B[0m\u001B[0mright\u001B[0m\u001B[1;33m)\u001B[0m\u001B[1;33m\u001B[0m\u001B[1;33m\u001B[0m\u001B[0m\n\u001B[0m\u001B[0;32m    529\u001B[0m         \u001B[1;32mreturn\u001B[0m\u001B[1;33m\u001B[0m\u001B[1;33m\u001B[0m\u001B[0m\n\u001B[0;32m    530\u001B[0m \u001B[1;33m\u001B[0m\u001B[0m\n",
      "\u001B[1;32m~\\anaconda3\\lib\\site-packages\\skmultiflow\\anomaly_detection\\half_space_trees.py\u001B[0m in \u001B[0;36mupdate_model\u001B[1;34m(self, node)\u001B[0m\n\u001B[0;32m    526\u001B[0m \u001B[1;33m\u001B[0m\u001B[0m\n\u001B[0;32m    527\u001B[0m             \u001B[0mself\u001B[0m\u001B[1;33m.\u001B[0m\u001B[0mupdate_model\u001B[0m\u001B[1;33m(\u001B[0m\u001B[0mnode\u001B[0m\u001B[1;33m.\u001B[0m\u001B[0mleft\u001B[0m\u001B[1;33m)\u001B[0m\u001B[1;33m\u001B[0m\u001B[1;33m\u001B[0m\u001B[0m\n\u001B[1;32m--> 528\u001B[1;33m             \u001B[0mself\u001B[0m\u001B[1;33m.\u001B[0m\u001B[0mupdate_model\u001B[0m\u001B[1;33m(\u001B[0m\u001B[0mnode\u001B[0m\u001B[1;33m.\u001B[0m\u001B[0mright\u001B[0m\u001B[1;33m)\u001B[0m\u001B[1;33m\u001B[0m\u001B[1;33m\u001B[0m\u001B[0m\n\u001B[0m\u001B[0;32m    529\u001B[0m         \u001B[1;32mreturn\u001B[0m\u001B[1;33m\u001B[0m\u001B[1;33m\u001B[0m\u001B[0m\n\u001B[0;32m    530\u001B[0m \u001B[1;33m\u001B[0m\u001B[0m\n",
      "\u001B[1;32m~\\anaconda3\\lib\\site-packages\\skmultiflow\\anomaly_detection\\half_space_trees.py\u001B[0m in \u001B[0;36mupdate_model\u001B[1;34m(self, node)\u001B[0m\n\u001B[0;32m    526\u001B[0m \u001B[1;33m\u001B[0m\u001B[0m\n\u001B[0;32m    527\u001B[0m             \u001B[0mself\u001B[0m\u001B[1;33m.\u001B[0m\u001B[0mupdate_model\u001B[0m\u001B[1;33m(\u001B[0m\u001B[0mnode\u001B[0m\u001B[1;33m.\u001B[0m\u001B[0mleft\u001B[0m\u001B[1;33m)\u001B[0m\u001B[1;33m\u001B[0m\u001B[1;33m\u001B[0m\u001B[0m\n\u001B[1;32m--> 528\u001B[1;33m             \u001B[0mself\u001B[0m\u001B[1;33m.\u001B[0m\u001B[0mupdate_model\u001B[0m\u001B[1;33m(\u001B[0m\u001B[0mnode\u001B[0m\u001B[1;33m.\u001B[0m\u001B[0mright\u001B[0m\u001B[1;33m)\u001B[0m\u001B[1;33m\u001B[0m\u001B[1;33m\u001B[0m\u001B[0m\n\u001B[0m\u001B[0;32m    529\u001B[0m         \u001B[1;32mreturn\u001B[0m\u001B[1;33m\u001B[0m\u001B[1;33m\u001B[0m\u001B[0m\n\u001B[0;32m    530\u001B[0m \u001B[1;33m\u001B[0m\u001B[0m\n",
      "\u001B[1;32m~\\anaconda3\\lib\\site-packages\\skmultiflow\\anomaly_detection\\half_space_trees.py\u001B[0m in \u001B[0;36mupdate_model\u001B[1;34m(self, node)\u001B[0m\n\u001B[0;32m    525\u001B[0m                 \u001B[0mnode\u001B[0m\u001B[1;33m.\u001B[0m\u001B[0mleft_mass\u001B[0m \u001B[1;33m=\u001B[0m \u001B[1;36m0\u001B[0m\u001B[1;33m\u001B[0m\u001B[1;33m\u001B[0m\u001B[0m\n\u001B[0;32m    526\u001B[0m \u001B[1;33m\u001B[0m\u001B[0m\n\u001B[1;32m--> 527\u001B[1;33m             \u001B[0mself\u001B[0m\u001B[1;33m.\u001B[0m\u001B[0mupdate_model\u001B[0m\u001B[1;33m(\u001B[0m\u001B[0mnode\u001B[0m\u001B[1;33m.\u001B[0m\u001B[0mleft\u001B[0m\u001B[1;33m)\u001B[0m\u001B[1;33m\u001B[0m\u001B[1;33m\u001B[0m\u001B[0m\n\u001B[0m\u001B[0;32m    528\u001B[0m             \u001B[0mself\u001B[0m\u001B[1;33m.\u001B[0m\u001B[0mupdate_model\u001B[0m\u001B[1;33m(\u001B[0m\u001B[0mnode\u001B[0m\u001B[1;33m.\u001B[0m\u001B[0mright\u001B[0m\u001B[1;33m)\u001B[0m\u001B[1;33m\u001B[0m\u001B[1;33m\u001B[0m\u001B[0m\n\u001B[0;32m    529\u001B[0m         \u001B[1;32mreturn\u001B[0m\u001B[1;33m\u001B[0m\u001B[1;33m\u001B[0m\u001B[0m\n",
      "\u001B[1;32m~\\anaconda3\\lib\\site-packages\\skmultiflow\\anomaly_detection\\half_space_trees.py\u001B[0m in \u001B[0;36mupdate_model\u001B[1;34m(self, node)\u001B[0m\n\u001B[0;32m    526\u001B[0m \u001B[1;33m\u001B[0m\u001B[0m\n\u001B[0;32m    527\u001B[0m             \u001B[0mself\u001B[0m\u001B[1;33m.\u001B[0m\u001B[0mupdate_model\u001B[0m\u001B[1;33m(\u001B[0m\u001B[0mnode\u001B[0m\u001B[1;33m.\u001B[0m\u001B[0mleft\u001B[0m\u001B[1;33m)\u001B[0m\u001B[1;33m\u001B[0m\u001B[1;33m\u001B[0m\u001B[0m\n\u001B[1;32m--> 528\u001B[1;33m             \u001B[0mself\u001B[0m\u001B[1;33m.\u001B[0m\u001B[0mupdate_model\u001B[0m\u001B[1;33m(\u001B[0m\u001B[0mnode\u001B[0m\u001B[1;33m.\u001B[0m\u001B[0mright\u001B[0m\u001B[1;33m)\u001B[0m\u001B[1;33m\u001B[0m\u001B[1;33m\u001B[0m\u001B[0m\n\u001B[0m\u001B[0;32m    529\u001B[0m         \u001B[1;32mreturn\u001B[0m\u001B[1;33m\u001B[0m\u001B[1;33m\u001B[0m\u001B[0m\n\u001B[0;32m    530\u001B[0m \u001B[1;33m\u001B[0m\u001B[0m\n",
      "\u001B[1;32m~\\anaconda3\\lib\\site-packages\\skmultiflow\\anomaly_detection\\half_space_trees.py\u001B[0m in \u001B[0;36mupdate_model\u001B[1;34m(self, node)\u001B[0m\n\u001B[0;32m    526\u001B[0m \u001B[1;33m\u001B[0m\u001B[0m\n\u001B[0;32m    527\u001B[0m             \u001B[0mself\u001B[0m\u001B[1;33m.\u001B[0m\u001B[0mupdate_model\u001B[0m\u001B[1;33m(\u001B[0m\u001B[0mnode\u001B[0m\u001B[1;33m.\u001B[0m\u001B[0mleft\u001B[0m\u001B[1;33m)\u001B[0m\u001B[1;33m\u001B[0m\u001B[1;33m\u001B[0m\u001B[0m\n\u001B[1;32m--> 528\u001B[1;33m             \u001B[0mself\u001B[0m\u001B[1;33m.\u001B[0m\u001B[0mupdate_model\u001B[0m\u001B[1;33m(\u001B[0m\u001B[0mnode\u001B[0m\u001B[1;33m.\u001B[0m\u001B[0mright\u001B[0m\u001B[1;33m)\u001B[0m\u001B[1;33m\u001B[0m\u001B[1;33m\u001B[0m\u001B[0m\n\u001B[0m\u001B[0;32m    529\u001B[0m         \u001B[1;32mreturn\u001B[0m\u001B[1;33m\u001B[0m\u001B[1;33m\u001B[0m\u001B[0m\n\u001B[0;32m    530\u001B[0m \u001B[1;33m\u001B[0m\u001B[0m\n",
      "\u001B[1;32m~\\anaconda3\\lib\\site-packages\\skmultiflow\\anomaly_detection\\half_space_trees.py\u001B[0m in \u001B[0;36mupdate_model\u001B[1;34m(self, node)\u001B[0m\n\u001B[0;32m    526\u001B[0m \u001B[1;33m\u001B[0m\u001B[0m\n\u001B[0;32m    527\u001B[0m             \u001B[0mself\u001B[0m\u001B[1;33m.\u001B[0m\u001B[0mupdate_model\u001B[0m\u001B[1;33m(\u001B[0m\u001B[0mnode\u001B[0m\u001B[1;33m.\u001B[0m\u001B[0mleft\u001B[0m\u001B[1;33m)\u001B[0m\u001B[1;33m\u001B[0m\u001B[1;33m\u001B[0m\u001B[0m\n\u001B[1;32m--> 528\u001B[1;33m             \u001B[0mself\u001B[0m\u001B[1;33m.\u001B[0m\u001B[0mupdate_model\u001B[0m\u001B[1;33m(\u001B[0m\u001B[0mnode\u001B[0m\u001B[1;33m.\u001B[0m\u001B[0mright\u001B[0m\u001B[1;33m)\u001B[0m\u001B[1;33m\u001B[0m\u001B[1;33m\u001B[0m\u001B[0m\n\u001B[0m\u001B[0;32m    529\u001B[0m         \u001B[1;32mreturn\u001B[0m\u001B[1;33m\u001B[0m\u001B[1;33m\u001B[0m\u001B[0m\n\u001B[0;32m    530\u001B[0m \u001B[1;33m\u001B[0m\u001B[0m\n",
      "\u001B[1;32m~\\anaconda3\\lib\\site-packages\\skmultiflow\\anomaly_detection\\half_space_trees.py\u001B[0m in \u001B[0;36mupdate_model\u001B[1;34m(self, node)\u001B[0m\n\u001B[0;32m    525\u001B[0m                 \u001B[0mnode\u001B[0m\u001B[1;33m.\u001B[0m\u001B[0mleft_mass\u001B[0m \u001B[1;33m=\u001B[0m \u001B[1;36m0\u001B[0m\u001B[1;33m\u001B[0m\u001B[1;33m\u001B[0m\u001B[0m\n\u001B[0;32m    526\u001B[0m \u001B[1;33m\u001B[0m\u001B[0m\n\u001B[1;32m--> 527\u001B[1;33m             \u001B[0mself\u001B[0m\u001B[1;33m.\u001B[0m\u001B[0mupdate_model\u001B[0m\u001B[1;33m(\u001B[0m\u001B[0mnode\u001B[0m\u001B[1;33m.\u001B[0m\u001B[0mleft\u001B[0m\u001B[1;33m)\u001B[0m\u001B[1;33m\u001B[0m\u001B[1;33m\u001B[0m\u001B[0m\n\u001B[0m\u001B[0;32m    528\u001B[0m             \u001B[0mself\u001B[0m\u001B[1;33m.\u001B[0m\u001B[0mupdate_model\u001B[0m\u001B[1;33m(\u001B[0m\u001B[0mnode\u001B[0m\u001B[1;33m.\u001B[0m\u001B[0mright\u001B[0m\u001B[1;33m)\u001B[0m\u001B[1;33m\u001B[0m\u001B[1;33m\u001B[0m\u001B[0m\n\u001B[0;32m    529\u001B[0m         \u001B[1;32mreturn\u001B[0m\u001B[1;33m\u001B[0m\u001B[1;33m\u001B[0m\u001B[0m\n",
      "\u001B[1;32m~\\anaconda3\\lib\\site-packages\\skmultiflow\\anomaly_detection\\half_space_trees.py\u001B[0m in \u001B[0;36mupdate_model\u001B[1;34m(self, node)\u001B[0m\n\u001B[0;32m    525\u001B[0m                 \u001B[0mnode\u001B[0m\u001B[1;33m.\u001B[0m\u001B[0mleft_mass\u001B[0m \u001B[1;33m=\u001B[0m \u001B[1;36m0\u001B[0m\u001B[1;33m\u001B[0m\u001B[1;33m\u001B[0m\u001B[0m\n\u001B[0;32m    526\u001B[0m \u001B[1;33m\u001B[0m\u001B[0m\n\u001B[1;32m--> 527\u001B[1;33m             \u001B[0mself\u001B[0m\u001B[1;33m.\u001B[0m\u001B[0mupdate_model\u001B[0m\u001B[1;33m(\u001B[0m\u001B[0mnode\u001B[0m\u001B[1;33m.\u001B[0m\u001B[0mleft\u001B[0m\u001B[1;33m)\u001B[0m\u001B[1;33m\u001B[0m\u001B[1;33m\u001B[0m\u001B[0m\n\u001B[0m\u001B[0;32m    528\u001B[0m             \u001B[0mself\u001B[0m\u001B[1;33m.\u001B[0m\u001B[0mupdate_model\u001B[0m\u001B[1;33m(\u001B[0m\u001B[0mnode\u001B[0m\u001B[1;33m.\u001B[0m\u001B[0mright\u001B[0m\u001B[1;33m)\u001B[0m\u001B[1;33m\u001B[0m\u001B[1;33m\u001B[0m\u001B[0m\n\u001B[0;32m    529\u001B[0m         \u001B[1;32mreturn\u001B[0m\u001B[1;33m\u001B[0m\u001B[1;33m\u001B[0m\u001B[0m\n",
      "\u001B[1;32m~\\anaconda3\\lib\\site-packages\\skmultiflow\\anomaly_detection\\half_space_trees.py\u001B[0m in \u001B[0;36mupdate_model\u001B[1;34m(self, node)\u001B[0m\n\u001B[0;32m    525\u001B[0m                 \u001B[0mnode\u001B[0m\u001B[1;33m.\u001B[0m\u001B[0mleft_mass\u001B[0m \u001B[1;33m=\u001B[0m \u001B[1;36m0\u001B[0m\u001B[1;33m\u001B[0m\u001B[1;33m\u001B[0m\u001B[0m\n\u001B[0;32m    526\u001B[0m \u001B[1;33m\u001B[0m\u001B[0m\n\u001B[1;32m--> 527\u001B[1;33m             \u001B[0mself\u001B[0m\u001B[1;33m.\u001B[0m\u001B[0mupdate_model\u001B[0m\u001B[1;33m(\u001B[0m\u001B[0mnode\u001B[0m\u001B[1;33m.\u001B[0m\u001B[0mleft\u001B[0m\u001B[1;33m)\u001B[0m\u001B[1;33m\u001B[0m\u001B[1;33m\u001B[0m\u001B[0m\n\u001B[0m\u001B[0;32m    528\u001B[0m             \u001B[0mself\u001B[0m\u001B[1;33m.\u001B[0m\u001B[0mupdate_model\u001B[0m\u001B[1;33m(\u001B[0m\u001B[0mnode\u001B[0m\u001B[1;33m.\u001B[0m\u001B[0mright\u001B[0m\u001B[1;33m)\u001B[0m\u001B[1;33m\u001B[0m\u001B[1;33m\u001B[0m\u001B[0m\n\u001B[0;32m    529\u001B[0m         \u001B[1;32mreturn\u001B[0m\u001B[1;33m\u001B[0m\u001B[1;33m\u001B[0m\u001B[0m\n",
      "\u001B[1;32m~\\anaconda3\\lib\\site-packages\\skmultiflow\\anomaly_detection\\half_space_trees.py\u001B[0m in \u001B[0;36mupdate_model\u001B[1;34m(self, node)\u001B[0m\n\u001B[0;32m    509\u001B[0m             \u001B[1;32mreturn\u001B[0m\u001B[1;33m\u001B[0m\u001B[1;33m\u001B[0m\u001B[0m\n\u001B[0;32m    510\u001B[0m \u001B[1;33m\u001B[0m\u001B[0m\n\u001B[1;32m--> 511\u001B[1;33m     \u001B[1;32mdef\u001B[0m \u001B[0mupdate_model\u001B[0m\u001B[1;33m(\u001B[0m\u001B[0mself\u001B[0m\u001B[1;33m,\u001B[0m \u001B[0mnode\u001B[0m\u001B[1;33m)\u001B[0m\u001B[1;33m:\u001B[0m\u001B[1;33m\u001B[0m\u001B[1;33m\u001B[0m\u001B[0m\n\u001B[0m\u001B[0;32m    512\u001B[0m         \"\"\"\n\u001B[0;32m    513\u001B[0m         \u001B[0mUpdates\u001B[0m \u001B[0mmodel\u001B[0m \u001B[0mto\u001B[0m \u001B[0madapt\u001B[0m \u001B[0mto\u001B[0m \u001B[0mnew\u001B[0m \u001B[0mdata\u001B[0m\u001B[1;33m.\u001B[0m\u001B[1;33m\u001B[0m\u001B[1;33m\u001B[0m\u001B[0m\n",
      "\u001B[1;31mKeyboardInterrupt\u001B[0m: "
     ]
    }
   ],
   "source": [
    "from skmultiflow.anomaly_detection import HalfSpaceTrees\n",
    "\n",
    "def hst(hst_sf, data_NORMAL, data_ANORMAL):\n",
    "    print(hst_sf)\n",
    "    # INITIAL OFFLINE PHASE\n",
    "    for x in data_NORMAL:\n",
    "        hst_sf.predict(x.reshape(1, 2))\n",
    "        hst_sf.partial_fit(x.reshape(1, 2))\n",
    "\n",
    "    inliers = 0\n",
    "    for x in data_NORMAL:\n",
    "        x = x.reshape(1, 2)\n",
    "        y_hat = hst_sf.predict(x)[0]\n",
    "        if y_hat == 0:\n",
    "            inliers = inliers+1\n",
    "\n",
    "    print(inliers/len(data_NORMAL))\n",
    "\n",
    "    outliers = 0\n",
    "    c = 0\n",
    "    for x in np.concatenate((data_ANORMAL, data_NORMAL[0:50])):\n",
    "        c = c+1\n",
    "        x = x.reshape(1, 2)\n",
    "        y_hat = hst_sf.predict(x)[0]\n",
    "        if y_hat == 1:\n",
    "            outliers = outliers+1\n",
    "            #print(hst_sf.predict_proba(x))\n",
    "\n",
    "    print(outliers/c)\n",
    "\n",
    "estimators = [3, 5, 10, 20, 30, 40, 50, 60]\n",
    "window = [10, 25, 50, 75, 100, 150]\n",
    "size = [10, 20, 30, 40, 50, 60]\n",
    "depth = [15, 20, 25, 30, 35, 40, 50]\n",
    "\n",
    "for e in estimators:\n",
    "    for w in window:\n",
    "        for s in size:\n",
    "            for d in depth:\n",
    "                hst(HalfSpaceTrees(n_estimators=e, window_size=w, size_limit=s, depth=d), normal, anormal)\n",
    "\n"
   ],
   "metadata": {
    "collapsed": false,
    "pycharm": {
     "name": "#%%\n"
    }
   }
  },
  {
   "cell_type": "code",
   "execution_count": 10,
   "outputs": [
    {
     "name": "stdout",
     "output_type": "stream",
     "text": [
      "1000 samples analyzed.\n",
      "Half-Space Trees correctly detected 157 out of 220 anomalies\n"
     ]
    }
   ],
   "source": [
    "# Imports\n",
    "from skmultiflow.data import AnomalySineGenerator\n",
    "from skmultiflow.anomaly_detection import HalfSpaceTrees\n",
    "# Setup a data stream\n",
    "stream = AnomalySineGenerator(random_state=1, n_samples=1000, n_anomalies=250)\n",
    "# Setup Half-Space Trees estimator\n",
    "half_space_trees = HalfSpaceTrees(random_state=1)\n",
    "# Setup variables to control loop and track performance\n",
    "max_samples = 1000\n",
    "n_samples = 0\n",
    "true_positives = 0\n",
    "detected_anomalies = 0\n",
    "# Train the estimator(s) with the samples provided by the data stream\n",
    "while n_samples < max_samples and stream.has_more_samples():\n",
    "    X, y = stream.next_sample()\n",
    "    y_pred = half_space_trees.predict(X)\n",
    "    if y[0] == 1:\n",
    "        true_positives += 1\n",
    "        if y_pred[0] == 1:\n",
    "            detected_anomalies += 1\n",
    "    half_space_trees.partial_fit(X, y)\n",
    "    n_samples += 1\n",
    "print('{} samples analyzed.'.format(n_samples))\n",
    "print('Half-Space Trees correctly detected {} out of {} anomalies'.\n",
    "      format(detected_anomalies, true_positives))"
   ],
   "metadata": {
    "collapsed": false,
    "pycharm": {
     "name": "#%%\n"
    }
   }
  },
  {
   "cell_type": "code",
   "execution_count": 15,
   "outputs": [
    {
     "name": "stdout",
     "output_type": "stream",
     "text": [
      "[[0.5 0.5]]\n",
      "'0.00% samples has been identified as FAULT FREE'\n"
     ]
    },
    {
     "ename": "ValueError",
     "evalue": "The truth value of an array with more than one element is ambiguous. Use a.any() or a.all()",
     "output_type": "error",
     "traceback": [
      "\u001B[1;31m---------------------------------------------------------------------------\u001B[0m",
      "\u001B[1;31mValueError\u001B[0m                                Traceback (most recent call last)",
      "\u001B[1;32m<ipython-input-15-ec9cb865ca79>\u001B[0m in \u001B[0;36m<module>\u001B[1;34m\u001B[0m\n\u001B[0;32m     34\u001B[0m     \u001B[0mscore\u001B[0m \u001B[1;33m=\u001B[0m \u001B[0mhst_sf\u001B[0m\u001B[1;33m.\u001B[0m\u001B[0mpredict_proba\u001B[0m\u001B[1;33m(\u001B[0m\u001B[0mx_scaled\u001B[0m\u001B[1;33m[\u001B[0m\u001B[1;36m0\u001B[0m\u001B[1;33m]\u001B[0m\u001B[1;33m)\u001B[0m\u001B[1;33m\u001B[0m\u001B[1;33m\u001B[0m\u001B[0m\n\u001B[0;32m     35\u001B[0m \u001B[1;33m\u001B[0m\u001B[0m\n\u001B[1;32m---> 36\u001B[1;33m     \u001B[1;32mif\u001B[0m \u001B[1;33m(\u001B[0m\u001B[0mscore\u001B[0m \u001B[1;33m>\u001B[0m \u001B[0mthreshold\u001B[0m\u001B[1;33m)\u001B[0m\u001B[1;33m:\u001B[0m \u001B[1;31m#high score - outlier observation\u001B[0m\u001B[1;33m\u001B[0m\u001B[1;33m\u001B[0m\u001B[0m\n\u001B[0m\u001B[0;32m     37\u001B[0m         \u001B[0moutliers\u001B[0m \u001B[1;33m=\u001B[0m \u001B[0moutliers\u001B[0m\u001B[1;33m+\u001B[0m\u001B[1;36m1\u001B[0m\u001B[1;33m\u001B[0m\u001B[1;33m\u001B[0m\u001B[0m\n\u001B[0;32m     38\u001B[0m         \u001B[0moutliers_map\u001B[0m\u001B[1;33m.\u001B[0m\u001B[0mappend\u001B[0m\u001B[1;33m(\u001B[0m\u001B[0mnp\u001B[0m\u001B[1;33m.\u001B[0m\u001B[0marray\u001B[0m\u001B[1;33m(\u001B[0m\u001B[0mx\u001B[0m\u001B[1;33m)\u001B[0m\u001B[1;33m.\u001B[0m\u001B[0mtolist\u001B[0m\u001B[1;33m(\u001B[0m\u001B[1;33m)\u001B[0m\u001B[1;33m)\u001B[0m\u001B[1;33m\u001B[0m\u001B[1;33m\u001B[0m\u001B[0m\n",
      "\u001B[1;31mValueError\u001B[0m: The truth value of an array with more than one element is ambiguous. Use a.any() or a.all()"
     ]
    }
   ],
   "source": [
    "\n",
    "\n",
    "for x in x_val:\n",
    "    x_scaled = minmax_scaler.transform(x.reshape(1, x.shape[0]))\n",
    "\n",
    "    score = hst_sf.predict_proba(x_scaled[0])\n",
    "    print(score)\n",
    "    break\n",
    "    #if (score <= threshold): #low score - normal observation\n",
    "    #    inliers = inliers+1\n",
    "\n",
    "pprint(f'{inliers/len(x_val)*100:.2f}% samples has been identified as FAULT FREE')\n",
    "\n",
    "\n",
    "for x in x_test:\n",
    "    x_scaled = minmax_scaler.transform(x.reshape(1, x.shape[0]))\n",
    "    score = hst_sf.predict_proba(x_scaled[0])\n",
    "\n",
    "    if (score > threshold): #high score - outlier observation\n",
    "        outliers = outliers+1\n",
    "        outliers_map.append(np.array(x).tolist())\n",
    "\n",
    "    # if anomaly -> revert scaler -> send to Classifier Phase\n",
    "\n",
    "pprint(f'{outliers/len(x_test)*100:.2f}% samples has been identified as ANOMALY')\n"
   ],
   "metadata": {
    "collapsed": false,
    "pycharm": {
     "name": "#%%\n"
    }
   }
  },
  {
   "cell_type": "markdown",
   "source": [
    "### MLP Classifier (Sk Learn) with Gausian Noise\n"
   ],
   "metadata": {
    "collapsed": false,
    "pycharm": {
     "name": "#%% md\n"
    }
   }
  },
  {
   "cell_type": "code",
   "execution_count": 587,
   "outputs": [],
   "source": [
    "from sklearn.neural_network import MLPClassifier\n",
    "\n",
    "def mlp_train(train, validation, test, max_iter, activation, hidden_layer_sizes, solver, alpha, learning_rate, threshold=0.7):\n",
    "    model_str = str(activation) + ';'+str(hidden_layer_sizes) + ';'+str(solver) + ';' + str(alpha) + ';'+str(learning_rate)\n",
    "\n",
    "    scaler = StandardScaler()\n",
    "\n",
    "    y_train = [0] * len(train)\n",
    "\n",
    "    X_noise = np.random.normal(0,1, train.shape[0] * train.shape[1]).reshape(train.shape[0], train.shape[1])\n",
    "    y_noise = [-1] * len(train)\n",
    "\n",
    "    clf = MLPClassifier(random_state=42, max_iter=max_iter, activation=activation, hidden_layer_sizes=hidden_layer_sizes, solver=solver, alpha=alpha, learning_rate=learning_rate)\n",
    "\n",
    "    clf.partial_fit(np.concatenate((scaler.partial_fit(train[:1]).transform(train[:1]), X_noise[:1])), np.concatenate((y_train[:1], y_noise[:1])), classes=np.array([-1,0]))\n",
    "\n",
    "    for k, x in enumerate(train):\n",
    "        scaled = scaler.partial_fit(train[k:k+1]).transform(train[k:k+1])\n",
    "        clf.partial_fit(np.concatenate((scaled, X_noise[k:k+1])), np.concatenate((y_train[k:k+1], y_noise[k:k+1])))\n",
    "\n",
    "    inliers = 0\n",
    "    for k, x in enumerate(validation):\n",
    "        if (clf.predict(scaler.transform(x.reshape(1, x.shape[0]))) == 0):\n",
    "            inliers = inliers+1\n",
    "\n",
    "    outliers = 0\n",
    "    for k, x in enumerate(test):\n",
    "        y_hat = clf.predict(scaler.transform(x.reshape(1, x.shape[0])))\n",
    "        if (y_hat == -1):\n",
    "            outliers = outliers+1\n",
    "        else:\n",
    "            y_hat_proba = clf.predict_proba(scaler.transform(x.reshape(1, x.shape[0])))\n",
    "            confidence = y_hat_proba[0][1] # because y_hat => inliner is greater than outlier\n",
    "            if (confidence <= threshold): # predict as inliers but with low confidence => is outlier!\n",
    "                outliers = outliers+1\n",
    "            else:\n",
    "                pass # inlier ++\n",
    "\n",
    "    print(model_str + ';' + str(inliers / len(validation)) + ';' + str(outliers / len(test)))\n",
    "\n",
    "    return clf, scaler\n"
   ],
   "metadata": {
    "collapsed": false,
    "pycharm": {
     "name": "#%%\n"
    }
   }
  },
  {
   "cell_type": "code",
   "execution_count": 588,
   "outputs": [
    {
     "name": "stdout",
     "output_type": "stream",
     "text": [
      "logistic;(100, 50, 100);sgd;0.05;invscaling;1.0;1.0\n"
     ]
    }
   ],
   "source": [
    "from sklearn.model_selection import GridSearchCV\n",
    "\n",
    "train = data['FF_train']\n",
    "validation = data['FF_test']\n",
    "test = np.concatenate((data['F1'], data['F2']))\n",
    "\n",
    "parameter_space = {\n",
    "    'hidden_layer_sizes': [(500, 200, 100), (50,50,50), (50,100,50), (100,)],\n",
    "    'activation': ['logistic', 'identity', 'tanh', 'relu'],\n",
    "    'solver': ['sgd', 'adam', 'lbfgs'],\n",
    "    'alpha': [0.0001, 0.05],\n",
    "    'learning_rate': ['constant','adaptive', 'invscaling'],\n",
    "}\n",
    "# melhores 50,10,50 | logistic | sgd | 0.05 | invscaling\n",
    "parameter_space = {\n",
    "    'hidden_layer_sizes': [(100,50,100)],\n",
    "    'activation': ['logistic'],\n",
    "    'solver': ['sgd'],\n",
    "    'alpha': [0.05],\n",
    "    'learning_rate': ['invscaling'],\n",
    "}\n",
    "\n",
    "for hls in parameter_space['hidden_layer_sizes']:\n",
    "    for act in parameter_space['activation']:\n",
    "        for s in parameter_space['solver']:\n",
    "            for a in parameter_space['alpha']:\n",
    "                for lr in parameter_space['learning_rate']:\n",
    "                    clf, scaler = mlp_train(train, validation, test, max_iter=1000, hidden_layer_sizes=hls, activation=act, solver=s, alpha=a, learning_rate=lr, threshold=0.8)"
   ],
   "metadata": {
    "collapsed": false,
    "pycharm": {
     "name": "#%%\n"
    }
   }
  },
  {
   "cell_type": "code",
   "execution_count": 589,
   "outputs": [],
   "source": [
    "ff = pd.DataFrame(data['FF'])\n",
    "ff['y'] = [0] * len(ff)\n",
    "\n",
    "f = pd.DataFrame(np.concatenate((data['F1'],data['F2'],data['F3'],data['F4'],data['F5'],data['F6'])))\n",
    "f['y'] = [-1] * len(f)\n",
    "\n",
    "all_data = np.concatenate((ff.to_numpy(), f.to_numpy()))\n",
    "np.random.shuffle(all_data)"
   ],
   "metadata": {
    "collapsed": false,
    "pycharm": {
     "name": "#%%\n"
    }
   }
  },
  {
   "cell_type": "code",
   "execution_count": 602,
   "outputs": [
    {
     "data": {
      "text/plain": "0.14285714285714285"
     },
     "execution_count": 602,
     "metadata": {},
     "output_type": "execute_result"
    }
   ],
   "source": [
    "from sklearn.metrics import accuracy_score\n",
    "\n",
    "ground_truth = all_data[:, -1]\n",
    "predicts = []\n",
    "\n",
    "for x in all_data[:, :-1]:\n",
    "    y_hat = clf.predict(scaler.transform(x.reshape(1, x.shape[0])))\n",
    "    if (y_hat == 0):\n",
    "        predicts.append(0)\n",
    "    else:\n",
    "        # ALGO AQUI ESTAH ERRADO! DEBUGAR!\n",
    "        y_hat_proba = clf.predict_proba(scaler.transform(x.reshape(1, x.shape[0])))\n",
    "        confidence = y_hat_proba[0][1] # because y_hat => inliner is greater than outlier\n",
    "        if (confidence >= 0.4): # predict as inliers but with low confidence => is outlier!\n",
    "            predicts.append(-1)\n",
    "        else:\n",
    "            predicts.append(0)\n",
    "\n",
    "accuracy_score(ground_truth, predicts)"
   ],
   "metadata": {
    "collapsed": false,
    "pycharm": {
     "name": "#%%\n"
    }
   }
  },
  {
   "cell_type": "code",
   "execution_count": 599,
   "outputs": [
    {
     "data": {
      "text/plain": "<matplotlib.axes._subplots.AxesSubplot at 0x277703cdc48>"
     },
     "execution_count": 599,
     "metadata": {},
     "output_type": "execute_result"
    },
    {
     "data": {
      "text/plain": "<Figure size 432x288 with 2 Axes>",
      "image/png": "[encoded data removed]"
     },
     "metadata": {
      "needs_background": "light"
     },
     "output_type": "display_data"
    }
   ],
   "source": [
    "from sklearn.metrics import confusion_matrix\n",
    "cf_matrix = confusion_matrix(ground_truth, predicts)\n",
    "import seaborn as sns\n",
    "sns.heatmap(cf_matrix/np.sum(cf_matrix), annot=True,\n",
    "            fmt='.2%', cmap='Blues')"
   ],
   "metadata": {
    "collapsed": false,
    "pycharm": {
     "name": "#%%\n"
    }
   }
  },
  {
   "cell_type": "markdown",
   "source": [
    "### OneClass SVM | IF | LOF (SkLearn)\n",
    "\n",
    "- Supervised algorithms as an Baseline\n",
    "- Could be compared with the previous indicators\n",
    "- Good results"
   ],
   "metadata": {
    "collapsed": false
   }
  },
  {
   "cell_type": "code",
   "execution_count": 7,
   "outputs": [
    {
     "name": "stdout",
     "output_type": "stream",
     "text": [
      "OneClassSVM(gamma='auto')\n",
      "'Identificou 2.1645021645021645% de amostras normais corretamente'\n",
      "'Identificou 100.0% de amostras de falhas corretamente'\n",
      "********\n",
      "IsolationForest(random_state=0)\n",
      "'Identificou 75.32467532467533% de amostras normais corretamente'\n",
      "'Identificou 100.0% de amostras de falhas corretamente'\n",
      "********\n",
      "LocalOutlierFactor(n_neighbors=2, novelty=True)\n",
      "'Identificou 87.87878787878788% de amostras normais corretamente'\n",
      "'Identificou 93.73737373737374% de amostras de falhas corretamente'\n",
      "********\n"
     ]
    }
   ],
   "source": [
    "from sklearn.svm import OneClassSVM\n",
    "from sklearn.ensemble import IsolationForest\n",
    "from sklearn.neighbors import LocalOutlierFactor\n",
    "\n",
    "def verify(model, inliers, outliers):\n",
    "    print(model)\n",
    "    inliers_detected = 0\n",
    "    for k, x in enumerate(inliers):\n",
    "        if (x == 1):\n",
    "            inliers_detected = inliers_detected+1\n",
    "\n",
    "    pprint('Identificou ' + str(inliers_detected/len(inliers)*100) + '% de amostras normais corretamente')\n",
    "\n",
    "    outliers_detected = 0\n",
    "    for k, x in enumerate(outliers):\n",
    "        if (x == -1):\n",
    "            outliers_detected = outliers_detected+1\n",
    "\n",
    "    pprint('Identificou ' + str(outliers_detected/len(outliers)*100) + '% de amostras de falhas corretamente')\n",
    "    print('********')\n",
    "\n",
    "clfs = [\n",
    "    OneClassSVM(gamma='auto').fit(data['FF_train']),\n",
    "    IsolationForest(random_state=0).fit(data['FF_train']),\n",
    "    LocalOutlierFactor(n_neighbors=2, novelty=True).fit(data['FF_train']),\n",
    "]\n",
    "\n",
    "for k, clf in enumerate(clfs):\n",
    "    verify(clf, clf.predict(data['FF_test']), clf.predict(np.concatenate(([data['F'+str(x)] for x in np.arange(1,7)]))))\n"
   ],
   "metadata": {
    "collapsed": false,
    "pycharm": {
     "name": "#%%\n"
    }
   }
  },
  {
   "cell_type": "markdown",
   "source": [
    "### Send to Classifier\n",
    "\n",
    "- Get all samples classified as ANOMALY and send to CLASSIFIER PHASE"
   ],
   "metadata": {
    "collapsed": false
   }
  },
  {
   "cell_type": "code",
   "execution_count": 16,
   "outputs": [
    {
     "name": "stdout",
     "output_type": "stream",
     "text": [
      "1500\n"
     ]
    }
   ],
   "source": [
    "pprint(len(outliers_map))"
   ],
   "metadata": {
    "collapsed": false,
    "pycharm": {
     "name": "#%%\n"
    }
   }
  },
  {
   "cell_type": "markdown",
   "source": [
    "## CLASSIFIER PHASE"
   ],
   "metadata": {
    "collapsed": false
   }
  },
  {
   "cell_type": "markdown",
   "source": [
    "### KNN ADWIN_CLASSIFIER (RIVER)\n"
   ],
   "metadata": {
    "collapsed": false
   }
  },
  {
   "cell_type": "code",
   "execution_count": 177,
   "outputs": [
    {
     "name": "stdout",
     "output_type": "stream",
     "text": [
      "as know 62.77% : as unknown 37.23%\n"
     ]
    }
   ],
   "source": [
    "# Evaluation\n",
    "# qty UNK -> K (misclassified)\n",
    "# qty UNK -> UNK (ok)\n",
    "# UNK -> UNK send to Clusterer Phase\n",
    "# At this point, the framework only known F1 Fault Mode. The another classes must be classified as Unknown and send to Clusterer Phase.\n",
    "\n",
    "threshold = 0.95\n",
    "classified_as_known = 0\n",
    "DATASET_3 = []\n",
    "\n",
    "new_class = data['F6_test']\n",
    "\n",
    "# Testando o classificador com a nova classe (PATH)\n",
    "for idx, x in enumerate(new_class):\n",
    "    y_pred_proba = classifier.predict_proba_one(numpy2dict(x))\n",
    "\n",
    "    max_proba = max(y_pred_proba.items(), key = lambda k : k[1])\n",
    "    if (max_proba[1] < threshold): #indecisao\n",
    "        DATASET_3.append(idx)\n",
    "    else: #certeza\n",
    "        classified_as_known = classified_as_known + 1\n",
    "\n",
    "print('as know {:.2f}% : as unknown {:.2f}%'.format(classified_as_known/len(new_class)*100, len(DATASET_3)/len(new_class)*100))"
   ],
   "metadata": {
    "collapsed": false,
    "pycharm": {
     "name": "#%%\n"
    }
   }
  },
  {
   "cell_type": "markdown",
   "source": [
    "### SCIKIT_MULTIFLOW KNN (SkFlow)\n"
   ],
   "metadata": {
    "collapsed": false
   }
  },
  {
   "cell_type": "code",
   "execution_count": 134,
   "outputs": [],
   "source": [
    "from skmultiflow.lazy import KNNClassifier\n",
    "\n",
    "classifier_knn_sk_mult = KNNClassifier()\n",
    "\n",
    "# Treinando o classificador com as classes conhecidas\n",
    "for x in data['F3_test']:\n",
    "    classifier_knn_sk_mult = classifier_knn_sk_mult.partial_fit(x.reshape(1, x.shape[0]), [3])\n",
    "\n",
    "for x in data['F2_test']:\n",
    "    classifier_knn_sk_mult = classifier_knn_sk_mult.partial_fit(x.reshape(1, x.shape[0]), [2])\n",
    "\n",
    "for x in data['F4_test']:\n",
    "    classifier_knn_sk_mult = classifier_knn_sk_mult.partial_fit(x.reshape(1, x.shape[0]), [4])\n",
    "\n",
    "classifier_knn_sk_mult.predict_proba(data['FF_test'][59].reshape(1, x.shape[0]))"
   ],
   "metadata": {
    "collapsed": false,
    "pycharm": {
     "name": "#%%\n"
    }
   }
  },
  {
   "cell_type": "markdown",
   "source": [
    "## CLUSTERER"
   ],
   "metadata": {
    "collapsed": false
   }
  },
  {
   "cell_type": "markdown",
   "source": [
    "### 1 Cluster"
   ],
   "metadata": {
    "collapsed": false
   }
  },
  {
   "cell_type": "code",
   "execution_count": 33,
   "outputs": [],
   "source": [
    "from sklearn.decomposition import PCA, IncrementalPCA\n",
    "from sklearn.preprocessing import StandardScaler\n",
    "\n",
    "# precisa ser INCREMENTAL PCA\n",
    "# precisa ser INCREMENTAL StandardScaler\n",
    "\n",
    "pca = PCA(.95)\n",
    "\n",
    "S2_1_cluster_pca = pd.DataFrame(pca.fit_transform(S2_1_DATASET_3).tolist())\n",
    "\n",
    "S2_1_cluster_pca_ss = StandardScaler().fit_transform(S2_1_cluster_pca.to_numpy())"
   ],
   "metadata": {
    "collapsed": false,
    "pycharm": {
     "name": "#%%\n"
    }
   }
  },
  {
   "cell_type": "markdown",
   "source": [
    "#### Incremental DBSTREAM\n"
   ],
   "metadata": {
    "collapsed": false
   }
  },
  {
   "cell_type": "code",
   "execution_count": 16,
   "outputs": [
    {
     "name": "stdout",
     "output_type": "stream",
     "text": [
      "9\n"
     ]
    }
   ],
   "source": [
    "from river import cluster\n",
    "\n",
    "y_pred_dbstream = []\n",
    "dbstream = cluster.DBSTREAM(clustering_threshold = 2)\n",
    "\n",
    "for x in S2_1_cluster_pca_ss:\n",
    "    dbstream.learn_one(numpy2dict(x))\n",
    "    y_pred_dbstream.append(dbstream.predict_one(numpy2dict(x)))\n",
    "\n",
    "res =  [(el, y_pred_dbstream.count(el)) for el in y_pred_dbstream]\n",
    "y_pred_dbstream_grouped = list(OrderedDict(res).items())\n",
    "print(dbstream.n_clusters)"
   ],
   "metadata": {
    "collapsed": false,
    "pycharm": {
     "name": "#%%\n"
    }
   }
  },
  {
   "cell_type": "markdown",
   "source": [
    "#### DenStream"
   ],
   "metadata": {
    "collapsed": false
   }
  },
  {
   "cell_type": "code",
   "execution_count": 17,
   "outputs": [
    {
     "name": "stdout",
     "output_type": "stream",
     "text": [
      "1\n"
     ]
    }
   ],
   "source": [
    "denstream = cluster.DenStream()\n",
    "\n",
    "y_pred_denstream = []\n",
    "for x in S2_1_cluster_pca_ss:\n",
    "    denstream.learn_one(numpy2dict(x))\n",
    "\n",
    "for x in S2_1_cluster_pca_ss:\n",
    "    y_pred_denstream.append(denstream.predict_one(numpy2dict(x)))\n",
    "\n",
    "print(denstream.n_clusters)"
   ],
   "metadata": {
    "collapsed": false,
    "pycharm": {
     "name": "#%%\n"
    }
   }
  },
  {
   "cell_type": "markdown",
   "source": [
    "#### DBSCAN"
   ],
   "metadata": {
    "collapsed": false
   }
  },
  {
   "cell_type": "code",
   "execution_count": 18,
   "outputs": [
    {
     "name": "stdout",
     "output_type": "stream",
     "text": [
      "Qtd Labels DBSCAN offline: 6\n"
     ]
    }
   ],
   "source": [
    "from sklearn.cluster import DBSCAN\n",
    "\n",
    "dbscan = DBSCAN(metric='manhattan').fit(S2_1_cluster_pca_ss)\n",
    "\n",
    "dbscan_labels_list = dbscan.labels_.reshape(1, dbscan.labels_.shape[0]).tolist()[0]\n",
    "\n",
    "res =  [(el, dbscan_labels_list.count(el)) for el in dbscan_labels_list]\n",
    "y_pred_dbscan_grouped = list(OrderedDict(res).items())\n",
    "\n",
    "print('Qtd Labels DBSCAN offline: ' + str(len(np.unique(dbscan.labels_))))"
   ],
   "metadata": {
    "collapsed": false,
    "pycharm": {
     "name": "#%%\n"
    }
   }
  },
  {
   "cell_type": "markdown",
   "source": [
    "#### TEDA Cloud"
   ],
   "metadata": {
    "collapsed": false
   }
  },
  {
   "cell_type": "code",
   "execution_count": 19,
   "outputs": [],
   "source": [
    "import numpy as np\n",
    "import math\n",
    "from numpy import linalg as LA\n",
    "from scipy.spatial import distance\n",
    "\n",
    "\n",
    "#### CLOUD ####\n",
    "class Cloud:\n",
    "\n",
    "    def __init__(self, sample=[], name='Default Class'):\n",
    "        self.name = name\n",
    "        self.var = 0\n",
    "        self.n = 0\n",
    "        self.covmat = []\n",
    "\n",
    "        if (len(sample) > 0):\n",
    "            self.mean = sample\n",
    "            self.n = 1\n",
    "            self.covmat = np.zeros((sample.shape[0], sample.shape[0]))\n",
    "\n",
    "    def updateCloud(self, mu=[], var=0, n=0, covmat=[]):\n",
    "        self.mean = mu\n",
    "        self.var = var\n",
    "        self.n = n\n",
    "        self.covmat = covmat\n",
    "\n",
    "    def addPoint(self, sample=[]):\n",
    "        if (self.n == 0):\n",
    "            self.n = 1\n",
    "            self.mean = sample\n",
    "            self.var = 0\n",
    "            self.covmat = np.zeros((self.mean.shape[0], self.mean.shape[0]))\n",
    "        else:\n",
    "            self.n = self.n + 1\n",
    "            self.mean = self.calculate_mean(sample, self.n)\n",
    "            self.var = self.calculate_variance(sample, self.n, self.mean)\n",
    "            self.covmat = self.calculate_variance_matrix(sample, self.n, self.mean)\n",
    "\n",
    "\n",
    "    def calculateZeta(self, sample=[], similarity_measure='euclidean'):\n",
    "        if self.n == 0:\n",
    "            zeta = math.inf\n",
    "            return zeta\n",
    "\n",
    "        n_ = self.n + 1\n",
    "        mean_ = self.calculate_mean(sample, n_)\n",
    "        var_ = self.calculate_variance(sample, n_, mean_)\n",
    "        covmat_ = self.calculate_variance_matrix(sample, n_, mean_)\n",
    "\n",
    "\n",
    "        if (similarity_measure.lower() == 'euclidean'):\n",
    "            ksi = np.maximum(self.calculate_eccentricity(sample, self.n, mean_, var_), 0.0001)\n",
    "        else:\n",
    "            ksi = np.maximum(self.calculate_eccentricity(sample, n_, mean_, var_, covmat_, 'mahalanobis'), 0.0001)\n",
    "\n",
    "        zeta = ksi / 2\n",
    "        return zeta\n",
    "\n",
    "    def calculate_mean(self, sample, n):\n",
    "        return ((n - 1) / n) * self.mean + (1 / n) * sample\n",
    "\n",
    "    def calculate_variance(self, sample, n, mean):\n",
    "        return ((n - 1) / n) * self.var + (1 / (n)) * LA.norm(sample - mean) ** 2\n",
    "\n",
    "    def calculate_variance_matrix(self, sample, n, mean):\n",
    "        a = (n - 1) / n\n",
    "        b = a * self.covmat\n",
    "        c = [sample - mean]\n",
    "        d = np.transpose(c)\n",
    "        e = (1 / n) * d    ##TALVEZ SEJA 1 / (n-1)\n",
    "\n",
    "        f = b + e * c\n",
    "\n",
    "        return f\n",
    "\n",
    "    def calculate_eccentricity(self, sample, n, mean, variance, covmat = [], similarity_measure = 'euclidean'):\n",
    "\n",
    "        a = 1 / n\n",
    "\n",
    "        if (similarity_measure == 'euclidean'):\n",
    "            b = [mean - sample]\n",
    "            c = np.transpose(b)\n",
    "            d = n * variance\n",
    "            e = np.dot(b, c)\n",
    "            f = e / d\n",
    "\n",
    "            r = distance.euclidean(sample, mean)\n",
    "\n",
    "            ksi = a + f\n",
    "        else: # mahalanobis_formula => (sample - mean).T * covmat*-1 * (sample - mean)\n",
    "\n",
    "            d_mahalanobis = np.zeros((1,1), dtype=float) + distance.mahalanobis(mean, sample, LA.pinv(covmat))**2\n",
    "\n",
    "            h = n * len(mean) #nao entendi para que isso - parece a ponderacao do n elementos pela qtd de dimensoes\n",
    "            m = d_mahalanobis / h\n",
    "\n",
    "            ksi = a + m\n",
    "\n",
    "        return ksi\n",
    "\n",
    "###########################################################################\n",
    "###########################################################################\n",
    "################################ AUTOCLOUD ################################\n",
    "###########################################################################\n",
    "###########################################################################\n",
    "class AutoCloud:\n",
    "\n",
    "    def __init__(self, m = 2, similarity_measure = 'euclidean', auto_merge = True, display = False):\n",
    "        self.k = 0\n",
    "        self.cloudList = []\n",
    "        self.predictions = {}\n",
    "        self.predictions_by_sample = {}\n",
    "        self.initialize_intersection_list()\n",
    "        self.initialize_intersection_matrix()\n",
    "        self.contMerge = 0\n",
    "        self.dimension = 0\n",
    "        self.similarityMeasure = similarity_measure\n",
    "        self.autoMerge = auto_merge\n",
    "        self.m = m\n",
    "        self.display = display\n",
    "\n",
    "    def run(self, sample = [], label = None):\n",
    "\n",
    "        if (self.dimension == 0):\n",
    "            self.dimension = sample.shape[0]\n",
    "        else:\n",
    "            if (self.dimension != sample.shape[0]):\n",
    "                raise Exception('The dimension of the current data sample is different from the points read so far.')\n",
    "\n",
    "        if (label != None): #para supervisionado - aqui temos também o Y (label) da amostra\n",
    "\n",
    "            while (len(self.cloudList) < label): #cria a qtd de classes\n",
    "                self.create_cloud(sample)\n",
    "\n",
    "            self.cloudList[label - 1].addPoint(sample)\n",
    "            self.k = self.k + 1\n",
    "\n",
    "            self.initialize_intersection_list()\n",
    "            self.membershipList = [0] * len(self.cloudList)\n",
    "            self.membershipList[label - 1] = 1\n",
    "            self.intersectionList[label - 1] = 1\n",
    "            self.initialize_intersection_matrix()\n",
    "\n",
    "            return label, self.membershipList\n",
    "\n",
    "        else:\n",
    "            self.k = self.k + 1\n",
    "            self.initialize_intersection_list()\n",
    "\n",
    "            if (self.k == 1):\n",
    "                self.cloudList.append(Cloud(sample = sample, name = 'Class 1'))\n",
    "                self.initialize_intersection_list()\n",
    "                self.initialize_intersection_matrix()\n",
    "                self.membershipList = [1]\n",
    "            elif (self.k == 2):\n",
    "                self.cloudList[0].addPoint(sample)\n",
    "                self.membershipList = [1]\n",
    "            elif (self.k >= 3):\n",
    "                createCloud = True\n",
    "                tauList = np.zeros((len(self.cloudList), 1))\n",
    "\n",
    "                for i_cloud, cloud in enumerate(self.cloudList):\n",
    "                    zeta = cloud.calculateZeta(sample, self.similarityMeasure) #??eccentricity | ?? norm_eccentricity\n",
    "                    tau = 1 - zeta #??typicality\n",
    "                    tauList[i_cloud] = tau\n",
    "\n",
    "                    if (self.calculate_sample_belongs_to_cloud(zeta, cloud.n)):\n",
    "                        cloud.addPoint(sample)\n",
    "                        self.intersectionList[i_cloud] = 1\n",
    "                        createCloud = False\n",
    "                    else:\n",
    "                        self.intersectionList[i_cloud] = 0\n",
    "\n",
    "                self.membershipList = tauList / sum(tauList)\n",
    "\n",
    "                ### NEW CLOUD ###\n",
    "                if (createCloud == True):\n",
    "                    self.create_cloud(sample)\n",
    "\n",
    "        amax = np.amax(self.membershipList)\n",
    "        where = np.where(self.membershipList == amax)\n",
    "        y_label = where[0][0]+1\n",
    "\n",
    "        if (self.autoMerge):\n",
    "            self.mergeClouds()\n",
    "\n",
    "        return y_label, self.membershipList\n",
    "\n",
    "    def mergeClouds(self):\n",
    "        i = 0\n",
    "\n",
    "        i_end = len(self.cloudList) - 1\n",
    "        while (i < i_end):\n",
    "\n",
    "            merge = False\n",
    "\n",
    "            j_end = np.arange(i + 1, len(self.cloudList)).reshape(-1)\n",
    "            for j in j_end:\n",
    "                if (self.intersectionList[i] == 1 and self.intersectionList[j] == 1):\n",
    "                    self.intersectionMatrix[i,j] = self.intersectionMatrix[i,j] + 1\n",
    "\n",
    "                ### recover information about clouds to be merged ###\n",
    "                n_i = self.cloudList[i].n\n",
    "                n_j = self.cloudList[j].n\n",
    "                mean_i = self.cloudList[i].mean\n",
    "                mean_j = self.cloudList[j].mean\n",
    "                var_i = self.cloudList[i].var\n",
    "                var_j = self.cloudList[j].var\n",
    "                covmat_i = self.cloudList[i].covmat\n",
    "                covmat_j = self.cloudList[j].covmat\n",
    "                nint = self.intersectionMatrix[i,j]\n",
    "\n",
    "                if (nint > (n_i - nint) or nint > (n_j - nint)):\n",
    "                    ### merge\n",
    "                    if (self.display):\n",
    "                        print('Merging clouds ' + str(i+1) + ' and ' + str(j+1) + ' at instant ' + str(self.k))\n",
    "                    ### calculate state of new cloud\n",
    "                    n = n_i + n_j - nint\n",
    "                    mean = ((n_i * mean_i) + (n_j * mean_j)) / (n_i + n_j)\n",
    "                    var = ((n_i - 1) * var_i + (n_j - 1) * var_j) / (n_i + n_j - 2)\n",
    "                    covmat = ((n_i - 1) * covmat_i + (n_j - 1) * covmat_j) / (n_i + n_j - 2)\n",
    "                    ### create new cloud cloud ###\n",
    "                    newCloud = Cloud()\n",
    "                    newCloud.updateCloud(mean, var, n, covmat)\n",
    "                    newCloud.name = 'Class ' + str(i+1) + '/' + str(j+1)\n",
    "\n",
    "                    ### update intersection list ###\n",
    "                    v_il1 = self.intersectionList[0: i]\n",
    "                    v_il2 = np.array([1])\n",
    "                    v_il3 = self.intersectionList[i + 1: j]\n",
    "                    v_il4 = self.intersectionList[j + 1: np.size(self.intersectionList)]\n",
    "                    self.intersectionList = np.concatenate((v_il1, v_il2, v_il3, v_il4), axis=None)\n",
    "\n",
    "                    ## update cloud list ###\n",
    "                    if (self.display):\n",
    "                        print(\"Cloud (label) : \" + str(i))\n",
    "                    v_c1 = self.cloudList[0: i]\n",
    "                    v_c2 = np.array([newCloud])\n",
    "                    v_c3 = self.cloudList[i + 1: j]\n",
    "                    v_c4 = self.cloudList[j + 1: np.size(self.cloudList)]\n",
    "                    self.cloudList = np.concatenate((v_c1, v_c2, v_c3, v_c4), axis=None)\n",
    "\n",
    "                    ### update intersection matrix ###\n",
    "                    A = self.intersectionMatrix\n",
    "\n",
    "                    #remover linha\n",
    "                    vb1_0 = A[0: i, :]\n",
    "                    vb2 = np.zeros((1, len(A)))\n",
    "                    vb3 = A[i + 1: j, :]\n",
    "                    vb4 = A[j + 1: len(A), :]\n",
    "                    B = np.concatenate(([vb1_0, vb2, vb3, vb4]))\n",
    "\n",
    "                    #remover coluna\n",
    "                    vb1_1 = B[:, 0: i]\n",
    "                    vb2 = np.zeros((len(B), 1))\n",
    "                    vb3 = B[:, i + 1: j]\n",
    "                    vb4 = B[:, j + 1: len(A)] ### acho que deveria ser LEN de B\n",
    "                    B = np.concatenate(([vb1_1, vb2, vb3, vb4]), axis=1)\n",
    "\n",
    "                    # calc nova coluna\n",
    "                    col = (A[:, i] + A[:, j]) * (A[:, i] * A[:, j] != 0)\n",
    "                    C = np.concatenate((col[0: j], col[j + 1: np.size(col)]))\n",
    "\n",
    "                    # calc nova linha\n",
    "                    lin = (A[i, :] + A[j, :]) * (A[i, :] * A[j, :] != 0)\n",
    "                    L = np.concatenate((lin[0: j], lin[j + 1: np.size(lin)]))\n",
    "\n",
    "                    #atualizar coluna\n",
    "                    B[:,i] = C\n",
    "\n",
    "                    #atualizar linha\n",
    "                    B[i,:] = L\n",
    "\n",
    "                    vb1_2 = A[[i], i+1 : j]\n",
    "                    vb2 = A[i+1 : j, [j]]\n",
    "                    vb3 = np.transpose(vb2)\n",
    "\n",
    "                    B[[i], i+1 : j] = vb1_2 + vb3\n",
    "\n",
    "                    self.intersectionMatrix = B\n",
    "\n",
    "                    merge = True\n",
    "                    self.contMerge = self.contMerge + 1\n",
    "                    break\n",
    "\n",
    "            if (merge == True):\n",
    "                i = 1\n",
    "            else:\n",
    "                i = i + 1\n",
    "\n",
    "\n",
    "    def initialize_intersection_matrix(self):\n",
    "        if (len(self.cloudList) == 0):\n",
    "            self.intersectionMatrix = np.zeros((1, 1))\n",
    "        else:\n",
    "            self.intersectionMatrix = np.zeros((len(self.cloudList), len(self.cloudList)))\n",
    "\n",
    "    def initialize_intersection_list(self):\n",
    "        if (len(self.cloudList) == 0):\n",
    "            self.intersectionList = []\n",
    "        else:\n",
    "            self.intersectionList = [0] * len(self.cloudList)\n",
    "\n",
    "\n",
    "    def calculateThreshold(self, s=None):\n",
    "        if (self.similarityMeasure.lower() == 'euclidean'):\n",
    "            th = (self.m ** 2 + 1) / (2 * (s))\n",
    "        else:\n",
    "            if (self.similarityMeasure.lower() == 'mahalanobis'):\n",
    "                th = (self.m ** 2 + self.dimension) / (2 * (s) * self.dimension)\n",
    "\n",
    "        threshold = th\n",
    "        return threshold\n",
    "\n",
    "    def create_cloud(self, sample):\n",
    "        cloud_number = len(self.cloudList) + 1\n",
    "        if (self.display):\n",
    "            print('Creating cloud ' + str(cloud_number) + ' at instant ' + str(self.k))\n",
    "\n",
    "        self.cloudList = np.append(self.cloudList, [Cloud(sample, 'Class ' + str(cloud_number))], axis=0)\n",
    "        self.intersectionList.append(1)\n",
    "        self.expand_intersection_matrix_with_zeros()\n",
    "\n",
    "    def calculate_sample_belongs_to_cloud(self, zeta, cloud_n):\n",
    "        return (zeta < math.inf and zeta <= self.calculateThreshold(cloud_n))\n",
    "\n",
    "    def expand_intersection_matrix_with_zeros(self):\n",
    "        self.intersectionMatrix = np.pad(self.intersectionMatrix, ((0, 1), (0, 1)), mode='constant', constant_values=0)"
   ],
   "metadata": {
    "collapsed": false,
    "pycharm": {
     "name": "#%%\n"
    }
   }
  },
  {
   "cell_type": "code",
   "execution_count": 2,
   "outputs": [
    {
     "ename": "NameError",
     "evalue": "name 'AutoCloud' is not defined",
     "output_type": "error",
     "traceback": [
      "\u001B[1;31m---------------------------------------------------------------------------\u001B[0m",
      "\u001B[1;31mNameError\u001B[0m                                 Traceback (most recent call last)",
      "\u001B[1;32m<ipython-input-2-7652a1d113df>\u001B[0m in \u001B[0;36m<module>\u001B[1;34m\u001B[0m\n\u001B[1;32m----> 1\u001B[1;33m \u001B[0mclusterer\u001B[0m \u001B[1;33m=\u001B[0m \u001B[0mAutoCloud\u001B[0m\u001B[1;33m(\u001B[0m\u001B[1;36m2\u001B[0m\u001B[1;33m,\u001B[0m \u001B[1;34m'mahalanobis'\u001B[0m\u001B[1;33m)\u001B[0m\u001B[1;33m\u001B[0m\u001B[1;33m\u001B[0m\u001B[0m\n\u001B[0m\u001B[0;32m      2\u001B[0m \u001B[1;33m\u001B[0m\u001B[0m\n\u001B[0;32m      3\u001B[0m \u001B[0moutput\u001B[0m \u001B[1;33m=\u001B[0m \u001B[1;33m[\u001B[0m\u001B[1;36m0\u001B[0m\u001B[1;33m]\u001B[0m \u001B[1;33m*\u001B[0m \u001B[1;33m(\u001B[0m\u001B[0mS2_1_cluster_pca_ss\u001B[0m\u001B[1;33m.\u001B[0m\u001B[0mshape\u001B[0m\u001B[1;33m[\u001B[0m\u001B[1;36m0\u001B[0m\u001B[1;33m]\u001B[0m\u001B[1;33m)\u001B[0m\u001B[1;33m\u001B[0m\u001B[1;33m\u001B[0m\u001B[0m\n\u001B[0;32m      4\u001B[0m \u001B[1;33m\u001B[0m\u001B[0m\n\u001B[0;32m      5\u001B[0m \u001B[1;32mfor\u001B[0m \u001B[0mk\u001B[0m\u001B[1;33m,\u001B[0m \u001B[0msample\u001B[0m \u001B[1;32min\u001B[0m \u001B[0mpd\u001B[0m\u001B[1;33m.\u001B[0m\u001B[0mDataFrame\u001B[0m\u001B[1;33m(\u001B[0m\u001B[0mS2_1_cluster_pca_ss\u001B[0m\u001B[1;33m)\u001B[0m\u001B[1;33m.\u001B[0m\u001B[0miterrows\u001B[0m\u001B[1;33m(\u001B[0m\u001B[1;33m)\u001B[0m\u001B[1;33m:\u001B[0m\u001B[1;33m\u001B[0m\u001B[1;33m\u001B[0m\u001B[0m\n",
      "\u001B[1;31mNameError\u001B[0m: name 'AutoCloud' is not defined"
     ]
    }
   ],
   "source": [
    "clusterer = AutoCloud(2, 'mahalanobis')\n",
    "\n",
    "output = [0] * (S2_1_cluster_pca_ss.shape[0])\n",
    "\n",
    "for k, sample in pd.DataFrame(S2_1_cluster_pca_ss).iterrows():\n",
    "    y, _ = clusterer.run(sample)\n",
    "    output.append(y)\n",
    "\n",
    "print(len(np.unique(output)))"
   ],
   "metadata": {
    "collapsed": false,
    "pycharm": {
     "name": "#%%\n"
    }
   }
  },
  {
   "cell_type": "markdown",
   "source": [
    "### 2 Clusters\n",
    "\n",
    "- Cluster class 1 , 4 (foliage, path)"
   ],
   "metadata": {
    "collapsed": false,
    "pycharm": {
     "name": "#%% md\n"
    }
   }
  },
  {
   "cell_type": "code",
   "source": [
    "pca = PCA(.95)\n",
    "\n",
    "S2_1_4_cluster_pca = pd.DataFrame(pca.fit_transform(pd.concat([S2_1_DATASET_3,S1_1[S1_1['categorical_label'] == 1].iloc[0:94, :-1]])).tolist())\n",
    "\n",
    "S2_1_4_cluster_pca_ss = StandardScaler().fit_transform(S2_1_4_cluster_pca.to_numpy())"
   ],
   "metadata": {
    "collapsed": false,
    "pycharm": {
     "name": "#%%\n"
    }
   },
   "execution_count": null,
   "outputs": []
  },
  {
   "cell_type": "markdown",
   "source": [
    "#### DBSTREAM"
   ],
   "metadata": {
    "collapsed": false,
    "pycharm": {
     "name": "#%% md\n"
    }
   }
  },
  {
   "cell_type": "code",
   "source": [
    "from river import cluster\n",
    "\n",
    "y_pred_dbstream = []\n",
    "dbstream_1_4 = cluster.DBSTREAM(clustering_threshold = 2)\n",
    "\n",
    "for x in S2_1_4_cluster_pca_ss:\n",
    "    dbstream_1_4.learn_one(numpy2dict(x))\n",
    "    y_pred_dbstream.append(dbstream_1_4.predict_one(numpy2dict(x)))\n",
    "\n",
    "print(dbstream_1_4.n_clusters)"
   ],
   "metadata": {
    "collapsed": false,
    "pycharm": {
     "name": "#%%\n"
    }
   },
   "execution_count": null,
   "outputs": []
  },
  {
   "cell_type": "markdown",
   "source": [
    "#### DenStream"
   ],
   "metadata": {
    "collapsed": false,
    "pycharm": {
     "name": "#%% md\n"
    }
   }
  },
  {
   "cell_type": "code",
   "source": [
    "denstream_1_4 = cluster.DenStream()\n",
    "\n",
    "y_pred_denstream = []\n",
    "for x in S2_1_4_cluster_pca_ss:\n",
    "    denstream_1_4.learn_one(numpy2dict(x))\n",
    "\n",
    "for x in S2_1_4_cluster_pca_ss:\n",
    "    y_pred_denstream.append(denstream_1_4.predict_one(numpy2dict(x)))\n",
    "\n",
    "print(denstream_1_4.n_clusters)"
   ],
   "metadata": {
    "collapsed": false,
    "pycharm": {
     "name": "#%%\n"
    }
   },
   "execution_count": null,
   "outputs": []
  },
  {
   "cell_type": "markdown",
   "source": [
    "#### DBSCAN"
   ],
   "metadata": {
    "collapsed": false,
    "pycharm": {
     "name": "#%% md\n"
    }
   }
  },
  {
   "cell_type": "code",
   "source": [
    "from sklearn.cluster import DBSCAN\n",
    "\n",
    "dbscan_1_4 = DBSCAN(metric='chebyshev').fit(S2_1_4_cluster_pca_ss)\n",
    "\n",
    "print('Qtd Labels DBSCAN offline: ' + str(len(np.unique(dbscan_1_4.labels_))))\n",
    "print(dbscan_1_4.labels_)"
   ],
   "metadata": {
    "collapsed": false,
    "pycharm": {
     "name": "#%%\n"
    }
   },
   "execution_count": null,
   "outputs": []
  },
  {
   "cell_type": "markdown",
   "source": [
    "#### TEDA Cloud"
   ],
   "metadata": {
    "collapsed": false,
    "pycharm": {
     "name": "#%% md\n"
    }
   }
  },
  {
   "cell_type": "code",
   "source": [
    "autocloud_1_4 = AutoCloud(2, 'mahalanobis')\n",
    "\n",
    "output = [0] * (S2_1_4_cluster_pca_ss.shape[0])\n",
    "\n",
    "for k, sample in pd.DataFrame(S2_1_4_cluster_pca_ss).iterrows():\n",
    "    y, _ = autocloud_1_4.run(sample)\n",
    "    output.append(y)\n",
    "\n",
    "print(len(np.unique(output)))"
   ],
   "metadata": {
    "collapsed": false,
    "pycharm": {
     "name": "#%%\n"
    }
   },
   "execution_count": null,
   "outputs": []
  },
  {
   "cell_type": "markdown",
   "source": [
    "### INCREMENTAL CLASSIFIER"
   ],
   "metadata": {
    "collapsed": false,
    "pycharm": {
     "name": "#%% md\n"
    }
   }
  },
  {
   "cell_type": "markdown",
   "source": [
    "#### clusterer DBSTREAM -> CLASSIFIER"
   ],
   "metadata": {
    "collapsed": false,
    "pycharm": {
     "name": "#%% md\n"
    }
   }
  },
  {
   "cell_type": "code",
   "execution_count": 0,
   "outputs": [],
   "source": [
    "## COPIEI O CONTEUDO DO ENDPOINT KNOWN E VOU FAZER NA MÃO\n",
    "## POIS NAO TERIA COMO REVERTER O PCA, POIS NÃO TENHO A\n",
    "## REFERENCIA NO ARQUIVO _INIT_.PY\n",
    "\n",
    "slice_factor = 0.2\n",
    "\n",
    "# parameters\n",
    "cluster = 3\n",
    "_class = 35\n",
    "\n",
    "# obter centro cluster 0\n",
    "# obter samples do cluster 0\n",
    "# calcular os __slice_factor__ mais proximos\n",
    "# identificar que sao os samples no vetor original pré PCA e SS (posso utilizar o DB como apoio)\n",
    "# enviar os samples para o CLASSIFICADOR"
   ],
   "metadata": {
    "collapsed": false,
    "pycharm": {
     "name": "#%%\n"
    }
   }
  },
  {
   "cell_type": "code",
   "source": [
    "#obter centro do cluster X\n",
    "cluster_center = dbstream.centers[cluster]"
   ],
   "metadata": {
    "collapsed": false,
    "pycharm": {
     "name": "#%%\n"
    }
   },
   "execution_count": null,
   "outputs": []
  },
  {
   "cell_type": "code",
   "source": [
    "from scipy.spatial import distance\n",
    "from river.utils import dict2numpy\n",
    "import math\n",
    "\n",
    "# pegar as keys dos samples para o cluster selecionado\n",
    "cluster_key_samples = [key for key, value in enumerate(y_pred_dbstream) if value == cluster]\n",
    "\n",
    "# pegar os samples para o cluster selecionado\n",
    "cluster_samples = S2_1_cluster_pca_ss[cluster_key_samples]\n",
    "\n",
    "# calcular distancias para cada sample\n",
    "distances = []\n",
    "for sample in cluster_samples:\n",
    "    distances.append(distance.euclidean(dict2numpy(cluster_center), sample))\n",
    "\n",
    "distances_unsorted = distances.copy()\n",
    "distances.sort()\n",
    "\n",
    "qty_distances_retrieve = math.ceil(len(distances) * slice_factor)\n",
    "distances_retrieve = distances[: qty_distances_retrieve]\n",
    "\n",
    "closest_samples_keys = [idx for idx, element in enumerate(distances_unsorted) if element in distances_retrieve]\n",
    "\n",
    "#x = [cluster_samples[k] for k in closest_samples_keys]\n",
    "\n",
    "#cluster_key_samples[[closest_samples_keys]]\n",
    "cluster_key_samples_closest = [cluster_key_samples[v] for k, v in enumerate(closest_samples_keys)]\n",
    "\n",
    "S2_1_DATASET_3_numpy =  S2_1_DATASET_3.to_numpy()[cluster_key_samples_closest]\n",
    "\n",
    "# treinando INCREMENTALMENTE o classificador\n",
    "\n",
    "for k, x in enumerate(S2_1_DATASET_3_numpy):\n",
    "    classifier.learn_one(numpy2dict(x), _class)"
   ],
   "metadata": {
    "collapsed": false,
    "pycharm": {
     "name": "#%%\n"
    }
   },
   "execution_count": null,
   "outputs": []
  },
  {
   "cell_type": "markdown",
   "source": [
    "#### predict (S2_2)"
   ],
   "metadata": {
    "collapsed": false,
    "pycharm": {
     "name": "#%% md\n"
    }
   }
  },
  {
   "cell_type": "code",
   "source": [
    "y_pred = []\n",
    "for k, x in S2_2.iloc[:, :-1].iterrows():\n",
    "    y_pred.append(classifier.predict_one(numpy2dict(x.to_numpy())))"
   ],
   "metadata": {
    "collapsed": false,
    "pycharm": {
     "name": "#%%\n"
    }
   },
   "execution_count": null,
   "outputs": []
  },
  {
   "cell_type": "code",
   "source": [
    "res =  [(el, y_pred.count(el)) for el in y_pred]\n",
    "predicts_grouped = list(OrderedDict(res).items())\n",
    "\n",
    "for k, x in enumerate(predicts_grouped):\n",
    "    if x[0] == 35:\n",
    "        print('Acc DBSTREAM: ' + str(x[1] / S2_2.shape[0] * 100) + '%')"
   ],
   "metadata": {
    "collapsed": false,
    "pycharm": {
     "name": "#%%\n"
    }
   },
   "execution_count": null,
   "outputs": []
  },
  {
   "cell_type": "markdown",
   "source": [
    "#### clusterer DBSCAN -> CLASSIFIER"
   ],
   "metadata": {
    "collapsed": false,
    "pycharm": {
     "name": "#%% md\n"
    }
   }
  },
  {
   "cell_type": "code",
   "source": [
    "cluster = 1\n",
    "_class = 35\n",
    "\n",
    "cluster_key_samples_match = [k for k, v in enumerate(dbscan.labels_) if v == cluster]\n",
    "\n",
    "S2_1_cluster_send_classifier = S2_1_DATASET_3.iloc[cluster_key_samples_match]\n",
    "\n",
    "# treinando INCREMENTALMENTE o classificador\n",
    "\n",
    "for k, x in S2_1_cluster_send_classifier.iterrows():\n",
    "    classifier.learn_one(numpy2dict(x.to_numpy()), _class)"
   ],
   "metadata": {
    "collapsed": false,
    "pycharm": {
     "name": "#%%\n"
    }
   },
   "execution_count": null,
   "outputs": []
  },
  {
   "cell_type": "markdown",
   "source": [
    "#### predict (S2_2)"
   ],
   "metadata": {
    "collapsed": false,
    "pycharm": {
     "name": "#%% md\n"
    }
   }
  },
  {
   "cell_type": "code",
   "source": [
    "y_pred = []\n",
    "for k, x in S2_2.iloc[:, :-1].iterrows():\n",
    "    y_pred.append(classifier.predict_one(numpy2dict(x.to_numpy())))"
   ],
   "metadata": {
    "collapsed": false,
    "pycharm": {
     "name": "#%%\n"
    }
   },
   "execution_count": null,
   "outputs": []
  },
  {
   "cell_type": "code",
   "source": [
    "res =  [(el, y_pred.count(el)) for el in y_pred]\n",
    "predicts_grouped = list(OrderedDict(res).items())\n",
    "\n",
    "for k, x in enumerate(predicts_grouped):\n",
    "    if x[0] == 35:\n",
    "        print('Acc KNN RIVER: ' + str(x[1] / S2_2.shape[0] * 100) + '%')"
   ],
   "metadata": {
    "collapsed": false,
    "pycharm": {
     "name": "#%%\n"
    }
   },
   "execution_count": null,
   "outputs": []
  },
  {
   "cell_type": "markdown",
   "source": [
    "#### DBSCAN -> KNN (SkFlow)"
   ],
   "metadata": {
    "collapsed": false,
    "pycharm": {
     "name": "#%% md\n"
    }
   }
  },
  {
   "cell_type": "code",
   "source": [
    "cluster = 1\n",
    "_class = 35\n",
    "\n",
    "cluster_key_samples_match = [k for k, v in enumerate(dbscan.labels_) if v == cluster]\n",
    "\n",
    "S2_1_cluster_send_classifier = S2_1_DATASET_3.iloc[cluster_key_samples_match]\n",
    "\n",
    "# treinando INCREMENTALMENTE o classificador\n",
    "\n",
    "for k, x in S2_1_cluster_send_classifier.iterrows():\n",
    "    classifier_knn_sk_mult.partial_fit(x.to_numpy().reshape(1, x.shape[0]), [_class])"
   ],
   "metadata": {
    "collapsed": false,
    "pycharm": {
     "name": "#%%\n"
    }
   },
   "execution_count": null,
   "outputs": []
  },
  {
   "cell_type": "markdown",
   "source": [
    "#### predict (S2_2)"
   ],
   "metadata": {
    "collapsed": false,
    "pycharm": {
     "name": "#%% md\n"
    }
   }
  },
  {
   "cell_type": "code",
   "execution_count": null,
   "outputs": [],
   "source": [
    "y_pred = []\n",
    "for k, x in S2_2.iloc[:, :-1].iterrows():\n",
    "    y_pred.append(classifier_knn_sk_mult.predict(x.to_numpy().reshape(1,x.shape[0]))[0])"
   ],
   "metadata": {
    "collapsed": false,
    "pycharm": {
     "name": "#%%\n"
    }
   }
  },
  {
   "cell_type": "code",
   "execution_count": 30,
   "outputs": [],
   "source": [
    "res =  [(el, y_pred.count(el)) for el in y_pred]\n",
    "predicts_grouped = list(OrderedDict(res).items())\n",
    "\n",
    "for k, x in enumerate(predicts_grouped):\n",
    "    if x[0] == 35:\n",
    "        print('Acc KNN SCIKIT MULTILEARN: ' + str(x[1] / S2_2.shape[0] * 100) + '%')"
   ],
   "metadata": {
    "collapsed": false,
    "pycharm": {
     "name": "#%%\n"
    }
   }
  },
  {
   "cell_type": "markdown",
   "source": [
    "# MISCELANEOUS"
   ],
   "metadata": {
    "collapsed": false
   }
  },
  {
   "cell_type": "markdown",
   "source": [
    "## MinMax Sklearn"
   ],
   "metadata": {
    "collapsed": false
   }
  },
  {
   "cell_type": "code",
   "execution_count": 41,
   "outputs": [
    {
     "name": "stdout",
     "output_type": "stream",
     "text": [
      "array([[0., 0.]])\n",
      "array([[0., 0.]])\n",
      "array([[0., 0.]])\n",
      "array([[0. , 0.5]])\n",
      "array([[0. , 0.5]])\n",
      "array([[0., 1.]])\n",
      "array([[1., 1.]])\n",
      "array([[0.5 , 0.25]])\n"
     ]
    }
   ],
   "source": [
    "# MinMax Scikit Learning\n",
    "# FUNCIONOU PERFEITO\n",
    "\n",
    "from sklearn.preprocessing import MinMaxScaler\n",
    "\n",
    "data = np.array([\n",
    "                [[0.0, 10]],\n",
    "                [[0.0, 5]],\n",
    "                [[0.0, 0]],\n",
    "                [[0.0, 5]],\n",
    "                [[0.0, 5]],\n",
    "                [[0.0, 20]],\n",
    "                [[10, 20]],\n",
    "                [[5, 5]]\n",
    "])\n",
    "\n",
    "sk_scaler = MinMaxScaler()\n",
    "\n",
    "for k, v in enumerate(data):\n",
    "    pprint(sk_scaler.partial_fit(v).transform(v))"
   ],
   "metadata": {
    "collapsed": false,
    "pycharm": {
     "name": "#%%\n"
    }
   }
  },
  {
   "cell_type": "markdown",
   "source": [
    "## MiniSom"
   ],
   "metadata": {
    "collapsed": false
   }
  },
  {
   "cell_type": "code",
   "execution_count": 106,
   "outputs": [
    {
     "name": "stdout",
     "output_type": "stream",
     "text": [
      " [ 500 / 500 ] 100% - 0:00:00 left \n",
      " quantization error: 0.5258640679038361\n"
     ]
    },
    {
     "data": {
      "text/plain": "<Figure size 432x288 with 1 Axes>",
      "image/png": "[encoded data removed]"
     },
     "metadata": {
      "needs_background": "light"
     },
     "output_type": "display_data"
    }
   ],
   "source": [
    "from minisom import MiniSom\n",
    "from sklearn.preprocessing import StandardScaler\n",
    "from sklearn.decomposition import PCA\n",
    "\n",
    "data = pd.read_csv('https://archive.ics.uci.edu/ml/machine-learning-databases/00236/seeds_dataset.txt',\n",
    "                   names=['area', 'perimeter', 'compactness', 'length_kernel', 'width_kernel',\n",
    "                          'asymmetry_coefficient', 'length_kernel_groove', 'target'], usecols=[0, 5],\n",
    "                   sep='\\t+', engine='python')\n",
    "\n",
    "#data normalization\n",
    "data = (data - np.mean(data, axis=0)) / np.std(data, axis=0)\n",
    "data = data.values\n",
    "\n",
    "# Initialization and training\n",
    "som_shape = (1, 7)\n",
    "som = MiniSom(som_shape[0], som_shape[1], data.shape[1], sigma=.9, learning_rate=.7,\n",
    "              neighborhood_function='gaussian', random_seed=10)\n",
    "\n",
    "som.train(data, 500, verbose=True)\n",
    "\n",
    "# each neuron represents a cluster\n",
    "winner_coordinates = np.array([som.winner(x) for x in data]).T\n",
    "# with np.ravel_multi_index we convert the bidimensional\n",
    "# coordinates to a monodimensional index\n",
    "cluster_index = np.ravel_multi_index(winner_coordinates, som_shape)\n",
    "\n",
    "import matplotlib.pyplot as plt\n",
    "%matplotlib inline\n",
    "\n",
    "# plotting the clusters using the first 2 dimentions of the data\n",
    "for c in np.unique(cluster_index):\n",
    "    plt.scatter(data[cluster_index == c, 0],\n",
    "                data[cluster_index == c, 1], label='cluster='+str(c), alpha=.7)\n",
    "\n",
    "# plotting centroids\n",
    "for centroid in som.get_weights():\n",
    "    plt.scatter(centroid[:, 0], centroid[:, 1], marker='x',\n",
    "                s=80, linewidths=35, color='k', label='centroid')\n",
    "plt.legend();"
   ],
   "metadata": {
    "collapsed": false,
    "pycharm": {
     "name": "#%%\n"
    }
   }
  },
  {
   "cell_type": "markdown",
   "source": [
    "## Incremental Keras"
   ],
   "metadata": {
    "collapsed": false,
    "pycharm": {
     "name": "#%% md\n"
    }
   }
  },
  {
   "cell_type": "code",
   "execution_count": 36,
   "outputs": [
    {
     "name": "stdout",
     "output_type": "stream",
     "text": [
      "WARNING:tensorflow:Model was constructed with shape (None, 1, 3) for input KerasTensor(type_spec=TensorSpec(shape=(None, 1, 3), dtype=tf.float32, name='dense_76_input'), name='dense_76_input', description=\"created by layer 'dense_76_input'\"), but it was called on an input with incompatible shape (1, 3).\n",
      "WARNING:tensorflow:Model was constructed with shape (None, 1, 3) for input KerasTensor(type_spec=TensorSpec(shape=(None, 1, 3), dtype=tf.float32, name='dense_76_input'), name='dense_76_input', description=\"created by layer 'dense_76_input'\"), but it was called on an input with incompatible shape (1, 3).\n",
      "17.952987670898438\n",
      "35.842342376708984\n",
      "59.87112045288086\n",
      "88.55343627929688\n",
      "121.11795806884766\n",
      "157.06439208984375\n",
      "195.6961212158203\n",
      "236.0131378173828\n",
      "277.6917724609375\n",
      "320.3891296386719\n",
      "362.8694763183594\n",
      "404.095947265625\n",
      "442.9117736816406\n",
      "479.2541809082031\n",
      "512.1069946289062\n",
      "540.3278198242188\n",
      "562.7633056640625\n",
      "579.2692260742188\n",
      "588.6337280273438\n",
      "590.7573852539062\n",
      "584.737060546875\n",
      "569.5340576171875\n",
      "544.9938354492188\n",
      "510.9955139160156\n",
      "467.9759521484375\n",
      "414.0168762207031\n",
      "353.3458557128906\n",
      "289.5167236328125\n",
      "225.5348663330078\n",
      "165.92942810058594\n",
      "115.7493667602539\n",
      "79.99675750732422\n",
      "61.72977828979492\n",
      "61.62876892089844\n",
      "76.36980438232422\n",
      "99.11041259765625\n",
      "118.8701171875\n",
      "127.34871673583984\n",
      "121.0826416015625\n",
      "102.12276458740234\n",
      "74.23090362548828\n",
      "44.45100402832031\n",
      "19.73870849609375\n",
      "5.25208854675293\n",
      "3.1033124923706055\n",
      "11.825630187988281\n",
      "26.866989135742188\n",
      "42.16249084472656\n",
      "52.242401123046875\n",
      "53.96109390258789\n",
      "47.212772369384766\n",
      "34.61989974975586\n",
      "20.502893447875977\n",
      "9.430286407470703\n",
      "4.600553512573242\n",
      "6.486696720123291\n",
      "12.48471450805664\n",
      "18.192848205566406\n",
      "19.90567970275879\n",
      "16.704986572265625\n",
      "10.709712028503418\n",
      "5.485270977020264\n",
      "3.771256685256958\n",
      "5.887024402618408\n",
      "9.708267211914062\n",
      "12.180462837219238\n",
      "11.341353416442871\n",
      "7.515749454498291\n",
      "3.003217935562134\n",
      "0.5116649270057678\n",
      "1.277999758720398\n",
      "4.1358418464660645\n",
      "6.434672832489014\n",
      "6.258377552032471\n",
      "3.9556057453155518\n",
      "1.5804039239883423\n",
      "0.9075331687927246\n",
      "1.922195553779602\n",
      "3.0858747959136963\n",
      "2.994584321975708\n",
      "1.7435613870620728\n",
      "0.6823434233665466\n",
      "0.8844854235649109\n",
      "1.9504178762435913\n",
      "2.4841575622558594\n",
      "1.7466492652893066\n",
      "0.5016611814498901\n",
      "0.03666479513049126\n",
      "0.6228435635566711\n",
      "1.31199049949646\n",
      "1.2242265939712524\n",
      "0.6032691597938538\n",
      "0.32014504075050354\n",
      "0.6086577773094177\n",
      "0.821449339389801\n",
      "0.5020182728767395\n",
      "0.0911635160446167\n",
      "0.18757380545139313\n",
      "0.5881341695785522\n",
      "0.6378793120384216\n",
      "0.2728891670703888\n",
      "0.057218585163354874\n",
      "0.22310025990009308\n",
      "0.35754838585853577\n",
      "0.20467758178710938\n",
      "0.08114895969629288\n",
      "0.20258329808712006\n",
      "0.27820220589637756\n",
      "0.11996567994356155\n",
      "0.01408113818615675\n",
      "0.13410352170467377\n",
      "0.2074957638978958\n",
      "0.0919332504272461\n",
      "0.03149716183543205\n",
      "0.10566771775484085\n",
      "0.10415356606245041\n",
      "0.02961929701268673\n",
      "0.057810019701719284\n",
      "0.1057526245713234\n",
      "0.04166098311543465\n",
      "0.0037577811162918806\n",
      "0.060791999101638794\n",
      "0.06421089917421341\n",
      "0.019571879878640175\n",
      "0.03591964766383171\n",
      "0.04279908910393715\n",
      "0.006563222501426935\n",
      "0.0219875480979681\n",
      "0.04463404417037964\n",
      "0.012756314128637314\n",
      "0.008634583093225956\n",
      "0.026967016980051994\n",
      "0.011062699370086193\n",
      "0.01303472276777029\n",
      "0.02322571724653244\n",
      "0.003999615088105202\n",
      "0.007687037345021963\n",
      "0.017639970406889915\n",
      "0.003967253025621176\n",
      "0.00823820661753416\n",
      "0.009945601224899292\n",
      "0.002397676697000861\n",
      "0.010706947185099125\n",
      "0.005463758483529091\n",
      "0.0014157574623823166\n",
      "0.0081146489828825\n",
      "0.0025756685063242912\n",
      "0.00447944737970829\n",
      "0.003863574704155326\n",
      "0.0008330447599291801\n",
      "0.005864182021468878\n",
      "0.0016320623690262437\n",
      "0.0023208612110465765\n",
      "0.0024267786648124456\n",
      "0.001160409883596003\n",
      "0.0033518627751618624\n",
      "0.00015372969210147858\n",
      "0.002309428295120597\n",
      "0.0012513156980276108\n",
      "0.0013768542557954788\n",
      "0.001268858090043068\n",
      "0.0005286866798996925\n",
      "0.0016666268929839134\n",
      "0.00012120014434913173\n",
      "0.0013236034428700805\n",
      "0.00034952195710502565\n",
      "0.001194074167869985\n",
      "0.00010801354801515117\n",
      "0.000821349851321429\n",
      "0.00035433005541563034\n",
      "0.0005788495764136314\n",
      "0.00019747081387322396\n",
      "0.0005913392524234951\n",
      "0.00029790555709041655\n",
      "0.0003530563262756914\n",
      "0.00017358145851176232\n",
      "0.0003915481793228537\n",
      "9.4067923782859e-05\n",
      "0.00033560488373041153\n",
      "0.00011923754209419712\n",
      "0.00030455520027317107\n",
      "2.3645969122298993e-05\n",
      "0.0002840167435351759\n",
      "1.8297694623470306e-05\n",
      "0.00019783216703217477\n",
      "0.00010252030187984928\n",
      "0.00011854711920022964\n",
      "9.968535596271977e-05\n",
      "5.280257391859777e-05\n",
      "0.0001349762751488015\n",
      "8.17328691482544e-06\n",
      "0.00012827105820178986\n",
      "5.255546420812607e-05\n",
      "3.1227245926856995e-05\n",
      "9.309034794569016e-05\n",
      "4.240001089783618e-06\n",
      "6.652033334830776e-05\n",
      "5.5980246543185785e-05\n",
      "8.452062502328772e-06\n",
      "5.7214561820728704e-05\n",
      "2.039844730461482e-05\n",
      "1.2779298231180292e-05\n",
      "5.337378752301447e-05\n",
      "1.5646839528926648e-05\n",
      "1.0853323146875482e-05\n",
      "3.5524990380508825e-05\n",
      "9.395803317602258e-06\n",
      "9.73946134763537e-06\n",
      "3.053682667086832e-05\n",
      "1.5215016901493073e-05\n",
      "2.2469710074801696e-06\n",
      "1.269734184461413e-05\n",
      "2.1941959857940674e-05\n",
      "9.12882387638092e-06\n",
      "1.1924033742616302e-06\n",
      "1.3431224033411127e-05\n",
      "1.438458730262937e-05\n",
      "7.968395948410034e-06\n",
      "2.948877636299585e-06\n",
      "4.5985602810105775e-06\n",
      "1.1726592674676795e-05\n",
      "1.0780058801174164e-05\n",
      "7.902893230493646e-06\n",
      "2.216237362517859e-06\n",
      "3.03611159324646e-07\n",
      "3.0423204862017883e-06\n",
      "7.053837180137634e-06\n",
      "1.2982946827833075e-05\n",
      "1.4404766261577606e-05\n",
      "1.8472783267498016e-05\n",
      "2.390208283031825e-05\n",
      "3.8241658330662176e-05\n",
      "6.562502676388249e-05\n",
      "0.00013194761413615197\n",
      "0.00029390957206487656\n",
      "0.0007439249311573803\n",
      "0.002048409776762128\n",
      "0.006172854453325272\n",
      "0.020006509497761726\n",
      "0.06978583335876465\n",
      "0.2590988278388977\n",
      "1.020691990852356\n",
      "4.113994121551514\n",
      "15.733792304992676\n",
      "40.39152145385742\n",
      "38.97983169555664\n",
      "0.8211151957511902\n",
      "23.993833541870117\n",
      "21.815156936645508\n",
      "1.6472301483154297\n",
      "25.380468368530273\n",
      "2.9868929386138916\n",
      "13.505629539489746\n",
      "10.357976913452148\n",
      "3.299541473388672\n",
      "13.643890380859375\n",
      "0.019182490184903145\n",
      "11.759449005126953\n",
      "1.7018121480941772\n",
      "6.6626152992248535\n",
      "4.7671799659729\n",
      "2.0623905658721924\n",
      "6.583343029022217\n",
      "0.06887949258089066\n",
      "5.995542049407959\n",
      "0.7064463496208191\n",
      "3.423227071762085\n",
      "2.502770185470581\n",
      "0.8741016387939453\n",
      "3.5413124561309814\n",
      "0.0043063038028776646\n",
      "2.8266115188598633\n",
      "0.8922433853149414\n",
      "1.0396370887756348\n",
      "2.015378475189209\n",
      "0.011114309541881084\n",
      "1.8207076787948608\n",
      "0.5153337121009827\n",
      "0.5988902449607849\n",
      "1.330248236656189\n",
      "0.0037566099781543016\n",
      "1.0143924951553345\n",
      "0.5943048000335693\n",
      "0.12640173733234406\n",
      "0.9340324401855469\n",
      "0.18137399852275848\n",
      "0.29220685362815857\n",
      "0.6822631359100342\n",
      "0.041362494230270386\n",
      "0.33093681931495667\n",
      "0.4771202504634857\n",
      "0.011041882447898388\n",
      "0.2803255021572113\n",
      "0.3581501543521881\n",
      "0.011032801121473312\n",
      "0.1918676644563675\n",
      "0.29500049352645874\n",
      "0.03002171218395233\n",
      "0.09440239518880844\n",
      "0.2444010227918625\n",
      "0.07711320370435715\n",
      "0.01692061312496662\n",
      "0.16378502547740936\n",
      "0.1355769783258438\n",
      "0.006952665746212006\n",
      "0.052862849086523056\n",
      "0.13666610419750214\n",
      "0.07437754422426224\n",
      "0.0007626079022884369\n",
      "0.04419413208961487\n",
      "0.09969136863946915\n",
      "0.0651121512055397\n",
      "0.006392097566276789\n",
      "0.013076133094727993\n",
      "0.05922263488173485\n",
      "0.07075134664773941\n",
      "0.03660595789551735\n",
      "0.0036006036680191755\n",
      "0.005968934390693903\n",
      "0.03265060484409332\n",
      "0.05289444327354431\n",
      "0.05067729949951172\n",
      "0.03165950998663902\n",
      "0.011420737951993942\n",
      "0.0007982663810253143\n",
      "0.0021060146391391754\n",
      "0.012060613371431828\n",
      "0.026534797623753548\n",
      "0.043685805052518845\n",
      "0.06451914459466934\n",
      "0.09413579851388931\n",
      "0.14242221415042877\n",
      "0.2318263202905655\n",
      "0.408322811126709\n",
      "0.7845909595489502\n",
      "1.61166512966156\n",
      "3.527693510055542\n",
      "7.809998989105225\n",
      "16.951719284057617\n",
      "30.460678100585938\n",
      "38.918827056884766\n",
      "21.630422592163086\n",
      "1.0872684717178345\n",
      "7.710832118988037\n",
      "21.899106979370117\n",
      "13.444687843322754\n",
      "0.0985075831413269\n",
      "8.67630672454834\n",
      "15.418899536132812\n"
     ]
    }
   ],
   "source": [
    "import keras\n",
    "import numpy as np\n",
    "from keras.models import *\n",
    "from keras.layers import *\n",
    "\n",
    "# Create Model\n",
    "model = Sequential()\n",
    "model.add(Dense(128, input_shape=((1,3)), activation=\"relu\"))\n",
    "model.add(Dense(64, activation=\"relu\"))\n",
    "model.add(Dense(16, activation=\"relu\"))\n",
    "model.add(Dense(3))\n",
    "model.compile(loss=\"mse\", optimizer=\"adam\")\n",
    "\n",
    "# Data | Train\n",
    "for v in np.arange(1,350):\n",
    "    seed = v\n",
    "    x = np.expand_dims(np.array(np.arange(seed,seed+3)), axis=0)\n",
    "    y = np.expand_dims(np.array(np.arange(seed,seed+3)*2), axis=0)\n",
    "    print(model.train_on_batch(x,y))\n"
   ],
   "metadata": {
    "collapsed": false,
    "pycharm": {
     "name": "#%%\n"
    }
   }
  },
  {
   "cell_type": "code",
   "execution_count": 37,
   "outputs": [
    {
     "name": "stdout",
     "output_type": "stream",
     "text": [
      "WARNING:tensorflow:Model was constructed with shape (None, 1, 3) for input KerasTensor(type_spec=TensorSpec(shape=(None, 1, 3), dtype=tf.float32, name='dense_76_input'), name='dense_76_input', description=\"created by layer 'dense_76_input'\"), but it was called on an input with incompatible shape (None, 3).\n",
      "WARNING:tensorflow:9 out of the last 11 calls to <function Model.make_predict_function.<locals>.predict_function at 0x0000025DCC9A49D8> triggered tf.function retracing. Tracing is expensive and the excessive number of tracings could be due to (1) creating @tf.function repeatedly in a loop, (2) passing tensors with different shapes, (3) passing Python objects instead of tensors. For (1), please define your @tf.function outside of the loop. For (2), @tf.function has experimental_relax_shapes=True option that relaxes argument shapes that can avoid unnecessary retracing. For (3), please refer to https://www.tensorflow.org/guide/function#controlling_retracing and https://www.tensorflow.org/api_docs/python/tf/function for  more details.\n"
     ]
    },
    {
     "data": {
      "text/plain": "array([[8.357785 , 8.391244 , 8.4320545]], dtype=float32)"
     },
     "execution_count": 37,
     "metadata": {},
     "output_type": "execute_result"
    }
   ],
   "source": [
    "x_hat = np.expand_dims(np.array([3, 4, 5]), axis=0)\n",
    "model.predict(x_hat)\n"
   ],
   "metadata": {
    "collapsed": false,
    "pycharm": {
     "name": "#%%\n"
    }
   }
  },
  {
   "cell_type": "markdown",
   "source": [
    "## MLP Sk Learn"
   ],
   "metadata": {
    "collapsed": false
   }
  },
  {
   "cell_type": "code",
   "execution_count": 181,
   "outputs": [],
   "source": [
    "from sklearn.multioutput import MultiOutputClassifier\n",
    "from sklearn.neighbors import KNeighborsClassifier\n",
    "from sklearn.neural_network import MLPClassifier"
   ],
   "metadata": {
    "collapsed": false,
    "pycharm": {
     "name": "#%%\n"
    }
   }
  },
  {
   "cell_type": "code",
   "execution_count": 307,
   "outputs": [
    {
     "name": "stdout",
     "output_type": "stream",
     "text": [
      "Best parameters found:\n",
      " {'activation': 'tanh', 'alpha': 0.0001, 'hidden_layer_sizes': (100,), 'learning_rate': 'constant', 'solver': 'adam'}\n",
      "0.892 (+/-0.029) for {'activation': 'tanh', 'alpha': 0.0001, 'hidden_layer_sizes': (50, 50, 50), 'learning_rate': 'constant', 'solver': 'sgd'}\n",
      "0.944 (+/-0.013) for {'activation': 'tanh', 'alpha': 0.0001, 'hidden_layer_sizes': (50, 50, 50), 'learning_rate': 'constant', 'solver': 'adam'}\n",
      "0.892 (+/-0.029) for {'activation': 'tanh', 'alpha': 0.0001, 'hidden_layer_sizes': (50, 50, 50), 'learning_rate': 'adaptive', 'solver': 'sgd'}\n",
      "0.944 (+/-0.013) for {'activation': 'tanh', 'alpha': 0.0001, 'hidden_layer_sizes': (50, 50, 50), 'learning_rate': 'adaptive', 'solver': 'adam'}\n",
      "0.894 (+/-0.042) for {'activation': 'tanh', 'alpha': 0.0001, 'hidden_layer_sizes': (50, 100, 50), 'learning_rate': 'constant', 'solver': 'sgd'}\n",
      "0.942 (+/-0.016) for {'activation': 'tanh', 'alpha': 0.0001, 'hidden_layer_sizes': (50, 100, 50), 'learning_rate': 'constant', 'solver': 'adam'}\n",
      "0.894 (+/-0.042) for {'activation': 'tanh', 'alpha': 0.0001, 'hidden_layer_sizes': (50, 100, 50), 'learning_rate': 'adaptive', 'solver': 'sgd'}\n",
      "0.942 (+/-0.016) for {'activation': 'tanh', 'alpha': 0.0001, 'hidden_layer_sizes': (50, 100, 50), 'learning_rate': 'adaptive', 'solver': 'adam'}\n",
      "0.901 (+/-0.026) for {'activation': 'tanh', 'alpha': 0.0001, 'hidden_layer_sizes': (100,), 'learning_rate': 'constant', 'solver': 'sgd'}\n",
      "0.967 (+/-0.018) for {'activation': 'tanh', 'alpha': 0.0001, 'hidden_layer_sizes': (100,), 'learning_rate': 'constant', 'solver': 'adam'}\n",
      "0.901 (+/-0.026) for {'activation': 'tanh', 'alpha': 0.0001, 'hidden_layer_sizes': (100,), 'learning_rate': 'adaptive', 'solver': 'sgd'}\n",
      "0.967 (+/-0.018) for {'activation': 'tanh', 'alpha': 0.0001, 'hidden_layer_sizes': (100,), 'learning_rate': 'adaptive', 'solver': 'adam'}\n",
      "0.894 (+/-0.027) for {'activation': 'tanh', 'alpha': 0.05, 'hidden_layer_sizes': (50, 50, 50), 'learning_rate': 'constant', 'solver': 'sgd'}\n",
      "0.937 (+/-0.024) for {'activation': 'tanh', 'alpha': 0.05, 'hidden_layer_sizes': (50, 50, 50), 'learning_rate': 'constant', 'solver': 'adam'}\n",
      "0.894 (+/-0.027) for {'activation': 'tanh', 'alpha': 0.05, 'hidden_layer_sizes': (50, 50, 50), 'learning_rate': 'adaptive', 'solver': 'sgd'}\n",
      "0.937 (+/-0.024) for {'activation': 'tanh', 'alpha': 0.05, 'hidden_layer_sizes': (50, 50, 50), 'learning_rate': 'adaptive', 'solver': 'adam'}\n",
      "0.902 (+/-0.041) for {'activation': 'tanh', 'alpha': 0.05, 'hidden_layer_sizes': (50, 100, 50), 'learning_rate': 'constant', 'solver': 'sgd'}\n",
      "0.940 (+/-0.015) for {'activation': 'tanh', 'alpha': 0.05, 'hidden_layer_sizes': (50, 100, 50), 'learning_rate': 'constant', 'solver': 'adam'}\n",
      "0.902 (+/-0.041) for {'activation': 'tanh', 'alpha': 0.05, 'hidden_layer_sizes': (50, 100, 50), 'learning_rate': 'adaptive', 'solver': 'sgd'}\n",
      "0.940 (+/-0.015) for {'activation': 'tanh', 'alpha': 0.05, 'hidden_layer_sizes': (50, 100, 50), 'learning_rate': 'adaptive', 'solver': 'adam'}\n",
      "0.901 (+/-0.026) for {'activation': 'tanh', 'alpha': 0.05, 'hidden_layer_sizes': (100,), 'learning_rate': 'constant', 'solver': 'sgd'}\n",
      "0.961 (+/-0.019) for {'activation': 'tanh', 'alpha': 0.05, 'hidden_layer_sizes': (100,), 'learning_rate': 'constant', 'solver': 'adam'}\n",
      "0.901 (+/-0.026) for {'activation': 'tanh', 'alpha': 0.05, 'hidden_layer_sizes': (100,), 'learning_rate': 'adaptive', 'solver': 'sgd'}\n",
      "0.961 (+/-0.019) for {'activation': 'tanh', 'alpha': 0.05, 'hidden_layer_sizes': (100,), 'learning_rate': 'adaptive', 'solver': 'adam'}\n",
      "0.918 (+/-0.022) for {'activation': 'relu', 'alpha': 0.0001, 'hidden_layer_sizes': (50, 50, 50), 'learning_rate': 'constant', 'solver': 'sgd'}\n",
      "0.949 (+/-0.029) for {'activation': 'relu', 'alpha': 0.0001, 'hidden_layer_sizes': (50, 50, 50), 'learning_rate': 'constant', 'solver': 'adam'}\n",
      "0.940 (+/-0.009) for {'activation': 'relu', 'alpha': 0.0001, 'hidden_layer_sizes': (50, 50, 50), 'learning_rate': 'adaptive', 'solver': 'sgd'}\n",
      "0.949 (+/-0.029) for {'activation': 'relu', 'alpha': 0.0001, 'hidden_layer_sizes': (50, 50, 50), 'learning_rate': 'adaptive', 'solver': 'adam'}\n",
      "0.933 (+/-0.023) for {'activation': 'relu', 'alpha': 0.0001, 'hidden_layer_sizes': (50, 100, 50), 'learning_rate': 'constant', 'solver': 'sgd'}\n",
      "0.948 (+/-0.040) for {'activation': 'relu', 'alpha': 0.0001, 'hidden_layer_sizes': (50, 100, 50), 'learning_rate': 'constant', 'solver': 'adam'}\n",
      "0.942 (+/-0.020) for {'activation': 'relu', 'alpha': 0.0001, 'hidden_layer_sizes': (50, 100, 50), 'learning_rate': 'adaptive', 'solver': 'sgd'}\n",
      "0.948 (+/-0.040) for {'activation': 'relu', 'alpha': 0.0001, 'hidden_layer_sizes': (50, 100, 50), 'learning_rate': 'adaptive', 'solver': 'adam'}\n",
      "0.928 (+/-0.031) for {'activation': 'relu', 'alpha': 0.0001, 'hidden_layer_sizes': (100,), 'learning_rate': 'constant', 'solver': 'sgd'}\n",
      "0.934 (+/-0.012) for {'activation': 'relu', 'alpha': 0.0001, 'hidden_layer_sizes': (100,), 'learning_rate': 'constant', 'solver': 'adam'}\n",
      "0.934 (+/-0.021) for {'activation': 'relu', 'alpha': 0.0001, 'hidden_layer_sizes': (100,), 'learning_rate': 'adaptive', 'solver': 'sgd'}\n",
      "0.934 (+/-0.012) for {'activation': 'relu', 'alpha': 0.0001, 'hidden_layer_sizes': (100,), 'learning_rate': 'adaptive', 'solver': 'adam'}\n",
      "0.918 (+/-0.018) for {'activation': 'relu', 'alpha': 0.05, 'hidden_layer_sizes': (50, 50, 50), 'learning_rate': 'constant', 'solver': 'sgd'}\n",
      "0.949 (+/-0.013) for {'activation': 'relu', 'alpha': 0.05, 'hidden_layer_sizes': (50, 50, 50), 'learning_rate': 'constant', 'solver': 'adam'}\n",
      "0.940 (+/-0.013) for {'activation': 'relu', 'alpha': 0.05, 'hidden_layer_sizes': (50, 50, 50), 'learning_rate': 'adaptive', 'solver': 'sgd'}\n",
      "0.949 (+/-0.013) for {'activation': 'relu', 'alpha': 0.05, 'hidden_layer_sizes': (50, 50, 50), 'learning_rate': 'adaptive', 'solver': 'adam'}\n",
      "0.933 (+/-0.025) for {'activation': 'relu', 'alpha': 0.05, 'hidden_layer_sizes': (50, 100, 50), 'learning_rate': 'constant', 'solver': 'sgd'}\n",
      "0.946 (+/-0.022) for {'activation': 'relu', 'alpha': 0.05, 'hidden_layer_sizes': (50, 100, 50), 'learning_rate': 'constant', 'solver': 'adam'}\n",
      "0.943 (+/-0.018) for {'activation': 'relu', 'alpha': 0.05, 'hidden_layer_sizes': (50, 100, 50), 'learning_rate': 'adaptive', 'solver': 'sgd'}\n",
      "0.946 (+/-0.022) for {'activation': 'relu', 'alpha': 0.05, 'hidden_layer_sizes': (50, 100, 50), 'learning_rate': 'adaptive', 'solver': 'adam'}\n",
      "0.928 (+/-0.032) for {'activation': 'relu', 'alpha': 0.05, 'hidden_layer_sizes': (100,), 'learning_rate': 'constant', 'solver': 'sgd'}\n",
      "0.936 (+/-0.015) for {'activation': 'relu', 'alpha': 0.05, 'hidden_layer_sizes': (100,), 'learning_rate': 'constant', 'solver': 'adam'}\n",
      "0.934 (+/-0.021) for {'activation': 'relu', 'alpha': 0.05, 'hidden_layer_sizes': (100,), 'learning_rate': 'adaptive', 'solver': 'sgd'}\n",
      "0.936 (+/-0.015) for {'activation': 'relu', 'alpha': 0.05, 'hidden_layer_sizes': (100,), 'learning_rate': 'adaptive', 'solver': 'adam'}\n"
     ]
    },
    {
     "name": "stderr",
     "output_type": "stream",
     "text": [
      "C:\\Users\\MARCELO\\anaconda3\\lib\\site-packages\\sklearn\\neural_network\\_multilayer_perceptron.py:571: ConvergenceWarning: Stochastic Optimizer: Maximum iterations (200) reached and the optimization hasn't converged yet.\n",
      "  % self.max_iter, ConvergenceWarning)\n"
     ]
    }
   ],
   "source": [
    "clf = MLPClassifier(random_state=1, max_iter=200)\n",
    "#https://datascience.stackexchange.com/questions/36049/how-to-adjust-the-hyperparameters-of-mlp-classifier-to-get-more-perfect-performa\n",
    "\n",
    "parameter_space = {\n",
    "    'hidden_layer_sizes': [(50,50,50), (50,100,50), (100,)],\n",
    "    'activation': ['tanh', 'relu'],\n",
    "    'solver': ['sgd', 'adam'],\n",
    "    'alpha': [0.0001, 0.05],\n",
    "    'learning_rate': ['constant','adaptive'],\n",
    "}\n",
    "\n",
    "from sklearn.model_selection import GridSearchCV\n",
    "\n",
    "clf = GridSearchCV(clf, parameter_space, n_jobs=-1, cv=3)\n",
    "clf.fit(dataset.to_numpy()[:, :-1], dataset.to_numpy()[:, -1])\n",
    "\n",
    "# Best paramete set\n",
    "print('Best parameters found:\\n', clf.best_params_)\n",
    "\n",
    "# All results\n",
    "means = clf.cv_results_['mean_test_score']\n",
    "stds = clf.cv_results_['std_test_score']\n",
    "for mean, std, params in zip(means, stds, clf.cv_results_['params']):\n",
    "    print(\"%0.3f (+/-%0.03f) for %r\" % (mean, std * 2, params))"
   ],
   "metadata": {
    "collapsed": false,
    "pycharm": {
     "name": "#%%\n"
    }
   }
  },
  {
   "cell_type": "code",
   "execution_count": null,
   "outputs": [],
   "source": [
    "clf = MLPClassifier(random_state=1, max_iter=200, activation='tanh', alpha=0.0001, hidden_layer_sizes=(100,), learning_rate='constant', solver='adam')\n",
    "\n",
    "shape = (330,18)\n",
    "\n",
    "data_X = np.concatenate((data['F1']))\n",
    "data_Y =  np.concatenate(([0] * shape[0]))\n",
    "\n",
    "clf.partial_fit(data_X, data_Y, classes= np.arange(0,1))"
   ],
   "metadata": {
    "collapsed": false,
    "pycharm": {
     "name": "#%%\n"
    }
   }
  },
  {
   "cell_type": "code",
   "execution_count": 332,
   "outputs": [
    {
     "data": {
      "text/plain": "array([1, 1, 1, 1, 1, 1, 1, 1, 1, 1, 1, 1, 1, 1, 1, 1, 1, 1, 1, 1, 1, 1,\n       1, 1, 1, 1, 1, 1, 1, 1, 1, 1, 1, 1, 1, 1, 1, 1, 1, 1, 1, 1, 1, 1,\n       1, 1, 1, 1, 1, 1, 1, 1, 1, 1, 1, 1, 1, 1, 1, 1, 1, 1, 1, 1, 1, 1,\n       1, 1, 1, 1, 1, 1, 1, 1, 1, 1, 1, 1, 1, 1, 1, 1, 1, 1, 1, 1, 1, 1,\n       1, 1, 1, 1, 1, 1, 1, 1, 1, 1, 1])"
     },
     "execution_count": 332,
     "metadata": {},
     "output_type": "execute_result"
    }
   ],
   "source": [
    "unknown = 0\n",
    "comparative = data['FF_train']\n",
    "for r in clf.predict_proba(comparative):\n",
    "    if max(r) < 0.5:\n",
    "        unknown = unknown+1\n",
    "\n",
    "unknown / len(comparative)\n",
    "\n",
    "clf.predict(comparative)\n",
    "#clf.classes_"
   ],
   "metadata": {
    "collapsed": false,
    "pycharm": {
     "name": "#%%\n"
    }
   }
  },
  {
   "cell_type": "markdown",
   "source": [
    "## GAN"
   ],
   "metadata": {
    "collapsed": false,
    "pycharm": {
     "name": "#%% md\n"
    }
   }
  },
  {
   "cell_type": "code",
   "execution_count": 48,
   "outputs": [
    {
     "data": {
      "text/plain": "<torch._C.Generator at 0x271aed925f0>"
     },
     "execution_count": 48,
     "metadata": {},
     "output_type": "execute_result"
    }
   ],
   "source": [
    "# https://realpython.com/generative-adversarial-networks/\n",
    "import torch\n",
    "from torch import nn\n",
    "import math\n",
    "import matplotlib.pyplot as plt\n",
    "torch.manual_seed(111)"
   ],
   "metadata": {
    "collapsed": false,
    "pycharm": {
     "name": "#%%\n"
    }
   }
  },
  {
   "cell_type": "code",
   "execution_count": 113,
   "outputs": [],
   "source": [
    "#train_data_length = 1024\n",
    "#train_data = torch.zeros((train_data_length, 2))\n",
    "#train_data[:, 0] = 2 * math.pi * torch.rand(train_data_length)\n",
    "#train_data[:, 1] = torch.sin(train_data[:, 0])\n",
    "#train_labels = torch.zeros(train_data_length)\n",
    "train_data = torch.from_numpy(data['FF'][:256,:16])\n",
    "train_data_length = len(train_data)\n",
    "train_labels = torch.zeros(train_data_length)\n",
    "train_set = [\n",
    "    (train_data[i], train_labels[i]) for i in range(train_data_length)\n",
    "]"
   ],
   "metadata": {
    "collapsed": false,
    "pycharm": {
     "name": "#%%\n"
    }
   }
  },
  {
   "cell_type": "code",
   "execution_count": 114,
   "outputs": [
    {
     "data": {
      "text/plain": "[<matplotlib.lines.Line2D at 0x2776a3d5f88>]"
     },
     "execution_count": 114,
     "metadata": {},
     "output_type": "execute_result"
    },
    {
     "data": {
      "text/plain": "<Figure size 432x288 with 1 Axes>",
      "image/png": "[encoded data removed]"
     },
     "metadata": {
      "needs_background": "light"
     },
     "output_type": "display_data"
    }
   ],
   "source": [
    "plt.plot(train_data[:, 0], train_data[:, 1], \".\")"
   ],
   "metadata": {
    "collapsed": false,
    "pycharm": {
     "name": "#%%\n"
    }
   }
  },
  {
   "cell_type": "code",
   "execution_count": 154,
   "outputs": [],
   "source": [
    "batch_size = 16\n",
    "train_loader = torch.utils.data.DataLoader(\n",
    "    train_set, batch_size=batch_size, shuffle=True\n",
    ")"
   ],
   "metadata": {
    "collapsed": false,
    "pycharm": {
     "name": "#%%\n"
    }
   }
  },
  {
   "cell_type": "code",
   "execution_count": 79,
   "outputs": [],
   "source": [
    "class Discriminator(nn.Module):\n",
    "    def __init__(self):\n",
    "        super().__init__()\n",
    "        self.model = nn.Sequential(\n",
    "            nn.Linear(16, 256),\n",
    "            nn.ReLU(),\n",
    "            nn.Dropout(0.3),\n",
    "            nn.Linear(256, 128),\n",
    "            nn.ReLU(),\n",
    "            nn.Dropout(0.3),\n",
    "            nn.Linear(128, 64),\n",
    "            nn.ReLU(),\n",
    "            nn.Dropout(0.3),\n",
    "            nn.Linear(64, 1),\n",
    "            nn.Sigmoid(),\n",
    "        )\n",
    "\n",
    "    def forward(self, x):\n",
    "        output = self.model(x)\n",
    "        return output"
   ],
   "metadata": {
    "collapsed": false,
    "pycharm": {
     "name": "#%%\n"
    }
   }
  },
  {
   "cell_type": "code",
   "execution_count": 80,
   "outputs": [],
   "source": [
    "discriminator = Discriminator()"
   ],
   "metadata": {
    "collapsed": false,
    "pycharm": {
     "name": "#%%\n"
    }
   }
  },
  {
   "cell_type": "code",
   "execution_count": 167,
   "outputs": [],
   "source": [
    "class Generator(nn.Module):\n",
    "    def __init__(self):\n",
    "        super().__init__()\n",
    "        self.model = nn.Sequential(\n",
    "            nn.Linear(16, 64),\n",
    "            nn.ReLU(),\n",
    "            nn.Linear(64, 32),\n",
    "            nn.ReLU(),\n",
    "            nn.Linear(32, 16),\n",
    "        )\n",
    "\n",
    "    def forward(self, x):\n",
    "        output = self.model(x)\n",
    "        return output\n",
    "\n",
    "generator = Generator()"
   ],
   "metadata": {
    "collapsed": false,
    "pycharm": {
     "name": "#%%\n"
    }
   }
  },
  {
   "cell_type": "code",
   "execution_count": 129,
   "outputs": [],
   "source": [
    "lr = 0.001\n",
    "num_epochs = 300\n",
    "loss_function = nn.BCELoss()"
   ],
   "metadata": {
    "collapsed": false,
    "pycharm": {
     "name": "#%%\n"
    }
   }
  },
  {
   "cell_type": "code",
   "execution_count": 130,
   "outputs": [],
   "source": [
    "optimizer_discriminator = torch.optim.Adam(discriminator.parameters(), lr=lr)\n",
    "optimizer_generator = torch.optim.Adam(generator.parameters(), lr=lr)"
   ],
   "metadata": {
    "collapsed": false,
    "pycharm": {
     "name": "#%%\n"
    }
   }
  },
  {
   "cell_type": "code",
   "execution_count": 168,
   "outputs": [
    {
     "name": "stdout",
     "output_type": "stream",
     "text": [
      "Epoch: 0 Loss D.: 0.0\n",
      "Epoch: 0 Loss G.: 49.06116485595703\n",
      "Epoch: 10 Loss D.: 0.0\n",
      "Epoch: 10 Loss G.: 44.17748260498047\n",
      "Epoch: 20 Loss D.: 0.0\n",
      "Epoch: 20 Loss G.: 45.346946716308594\n",
      "Epoch: 30 Loss D.: 3.725290742551124e-09\n",
      "Epoch: 30 Loss G.: 48.673912048339844\n",
      "Epoch: 40 Loss D.: 0.0\n",
      "Epoch: 40 Loss G.: 56.211708068847656\n",
      "Epoch: 50 Loss D.: 0.0\n",
      "Epoch: 50 Loss G.: 49.2932014465332\n",
      "Epoch: 60 Loss D.: 0.0\n",
      "Epoch: 60 Loss G.: 51.56615447998047\n",
      "Epoch: 70 Loss D.: 0.0\n",
      "Epoch: 70 Loss G.: 58.14373779296875\n",
      "Epoch: 80 Loss D.: 0.0\n",
      "Epoch: 80 Loss G.: 50.48008728027344\n",
      "Epoch: 90 Loss D.: 0.0\n",
      "Epoch: 90 Loss G.: 52.756614685058594\n",
      "Epoch: 100 Loss D.: 0.0\n",
      "Epoch: 100 Loss G.: 49.84931945800781\n",
      "Epoch: 110 Loss D.: 0.0\n",
      "Epoch: 110 Loss G.: 40.90523910522461\n",
      "Epoch: 120 Loss D.: 0.0\n",
      "Epoch: 120 Loss G.: 43.060482025146484\n",
      "Epoch: 130 Loss D.: 0.0\n",
      "Epoch: 130 Loss G.: 48.60139083862305\n",
      "Epoch: 140 Loss D.: 0.0\n",
      "Epoch: 140 Loss G.: 48.05744934082031\n",
      "Epoch: 150 Loss D.: 0.0\n",
      "Epoch: 150 Loss G.: 52.571258544921875\n",
      "Epoch: 160 Loss D.: 0.0\n",
      "Epoch: 160 Loss G.: 46.918701171875\n",
      "Epoch: 170 Loss D.: 0.0\n",
      "Epoch: 170 Loss G.: 50.36656951904297\n",
      "Epoch: 180 Loss D.: 0.0\n",
      "Epoch: 180 Loss G.: 53.26549530029297\n",
      "Epoch: 190 Loss D.: 0.0\n",
      "Epoch: 190 Loss G.: 60.335670471191406\n",
      "Epoch: 200 Loss D.: 0.0\n",
      "Epoch: 200 Loss G.: 59.10914611816406\n"
     ]
    },
    {
     "ename": "KeyboardInterrupt",
     "evalue": "",
     "output_type": "error",
     "traceback": [
      "\u001B[1;31m---------------------------------------------------------------------------\u001B[0m",
      "\u001B[1;31mKeyboardInterrupt\u001B[0m                         Traceback (most recent call last)",
      "\u001B[1;32m<ipython-input-168-a8a9ab6be475>\u001B[0m in \u001B[0;36m<module>\u001B[1;34m\u001B[0m\n\u001B[0;32m     18\u001B[0m             output_discriminator, all_samples_labels)\n\u001B[0;32m     19\u001B[0m         \u001B[0mloss_discriminator\u001B[0m\u001B[1;33m.\u001B[0m\u001B[0mbackward\u001B[0m\u001B[1;33m(\u001B[0m\u001B[1;33m)\u001B[0m\u001B[1;33m\u001B[0m\u001B[1;33m\u001B[0m\u001B[0m\n\u001B[1;32m---> 20\u001B[1;33m         \u001B[0moptimizer_discriminator\u001B[0m\u001B[1;33m.\u001B[0m\u001B[0mstep\u001B[0m\u001B[1;33m(\u001B[0m\u001B[1;33m)\u001B[0m\u001B[1;33m\u001B[0m\u001B[1;33m\u001B[0m\u001B[0m\n\u001B[0m\u001B[0;32m     21\u001B[0m \u001B[1;33m\u001B[0m\u001B[0m\n\u001B[0;32m     22\u001B[0m         \u001B[1;31m# Data for training the generator\u001B[0m\u001B[1;33m\u001B[0m\u001B[1;33m\u001B[0m\u001B[1;33m\u001B[0m\u001B[0m\n",
      "\u001B[1;32m~\\anaconda3\\lib\\site-packages\\torch\\optim\\optimizer.py\u001B[0m in \u001B[0;36mwrapper\u001B[1;34m(*args, **kwargs)\u001B[0m\n\u001B[0;32m     86\u001B[0m                 \u001B[0mprofile_name\u001B[0m \u001B[1;33m=\u001B[0m \u001B[1;34m\"Optimizer.step#{}.step\"\u001B[0m\u001B[1;33m.\u001B[0m\u001B[0mformat\u001B[0m\u001B[1;33m(\u001B[0m\u001B[0mobj\u001B[0m\u001B[1;33m.\u001B[0m\u001B[0m__class__\u001B[0m\u001B[1;33m.\u001B[0m\u001B[0m__name__\u001B[0m\u001B[1;33m)\u001B[0m\u001B[1;33m\u001B[0m\u001B[1;33m\u001B[0m\u001B[0m\n\u001B[0;32m     87\u001B[0m                 \u001B[1;32mwith\u001B[0m \u001B[0mtorch\u001B[0m\u001B[1;33m.\u001B[0m\u001B[0mautograd\u001B[0m\u001B[1;33m.\u001B[0m\u001B[0mprofiler\u001B[0m\u001B[1;33m.\u001B[0m\u001B[0mrecord_function\u001B[0m\u001B[1;33m(\u001B[0m\u001B[0mprofile_name\u001B[0m\u001B[1;33m)\u001B[0m\u001B[1;33m:\u001B[0m\u001B[1;33m\u001B[0m\u001B[1;33m\u001B[0m\u001B[0m\n\u001B[1;32m---> 88\u001B[1;33m                     \u001B[1;32mreturn\u001B[0m \u001B[0mfunc\u001B[0m\u001B[1;33m(\u001B[0m\u001B[1;33m*\u001B[0m\u001B[0margs\u001B[0m\u001B[1;33m,\u001B[0m \u001B[1;33m**\u001B[0m\u001B[0mkwargs\u001B[0m\u001B[1;33m)\u001B[0m\u001B[1;33m\u001B[0m\u001B[1;33m\u001B[0m\u001B[0m\n\u001B[0m\u001B[0;32m     89\u001B[0m             \u001B[1;32mreturn\u001B[0m \u001B[0mwrapper\u001B[0m\u001B[1;33m\u001B[0m\u001B[1;33m\u001B[0m\u001B[0m\n\u001B[0;32m     90\u001B[0m \u001B[1;33m\u001B[0m\u001B[0m\n",
      "\u001B[1;32m~\\anaconda3\\lib\\site-packages\\torch\\autograd\\grad_mode.py\u001B[0m in \u001B[0;36mdecorate_context\u001B[1;34m(*args, **kwargs)\u001B[0m\n\u001B[0;32m     26\u001B[0m         \u001B[1;32mdef\u001B[0m \u001B[0mdecorate_context\u001B[0m\u001B[1;33m(\u001B[0m\u001B[1;33m*\u001B[0m\u001B[0margs\u001B[0m\u001B[1;33m,\u001B[0m \u001B[1;33m**\u001B[0m\u001B[0mkwargs\u001B[0m\u001B[1;33m)\u001B[0m\u001B[1;33m:\u001B[0m\u001B[1;33m\u001B[0m\u001B[1;33m\u001B[0m\u001B[0m\n\u001B[0;32m     27\u001B[0m             \u001B[1;32mwith\u001B[0m \u001B[0mself\u001B[0m\u001B[1;33m.\u001B[0m\u001B[0m__class__\u001B[0m\u001B[1;33m(\u001B[0m\u001B[1;33m)\u001B[0m\u001B[1;33m:\u001B[0m\u001B[1;33m\u001B[0m\u001B[1;33m\u001B[0m\u001B[0m\n\u001B[1;32m---> 28\u001B[1;33m                 \u001B[1;32mreturn\u001B[0m \u001B[0mfunc\u001B[0m\u001B[1;33m(\u001B[0m\u001B[1;33m*\u001B[0m\u001B[0margs\u001B[0m\u001B[1;33m,\u001B[0m \u001B[1;33m**\u001B[0m\u001B[0mkwargs\u001B[0m\u001B[1;33m)\u001B[0m\u001B[1;33m\u001B[0m\u001B[1;33m\u001B[0m\u001B[0m\n\u001B[0m\u001B[0;32m     29\u001B[0m         \u001B[1;32mreturn\u001B[0m \u001B[0mcast\u001B[0m\u001B[1;33m(\u001B[0m\u001B[0mF\u001B[0m\u001B[1;33m,\u001B[0m \u001B[0mdecorate_context\u001B[0m\u001B[1;33m)\u001B[0m\u001B[1;33m\u001B[0m\u001B[1;33m\u001B[0m\u001B[0m\n\u001B[0;32m     30\u001B[0m \u001B[1;33m\u001B[0m\u001B[0m\n",
      "\u001B[1;32m~\\anaconda3\\lib\\site-packages\\torch\\optim\\adam.py\u001B[0m in \u001B[0;36mstep\u001B[1;34m(self, closure)\u001B[0m\n\u001B[0;32m    142\u001B[0m                    \u001B[0mlr\u001B[0m\u001B[1;33m=\u001B[0m\u001B[0mgroup\u001B[0m\u001B[1;33m[\u001B[0m\u001B[1;34m'lr'\u001B[0m\u001B[1;33m]\u001B[0m\u001B[1;33m,\u001B[0m\u001B[1;33m\u001B[0m\u001B[1;33m\u001B[0m\u001B[0m\n\u001B[0;32m    143\u001B[0m                    \u001B[0mweight_decay\u001B[0m\u001B[1;33m=\u001B[0m\u001B[0mgroup\u001B[0m\u001B[1;33m[\u001B[0m\u001B[1;34m'weight_decay'\u001B[0m\u001B[1;33m]\u001B[0m\u001B[1;33m,\u001B[0m\u001B[1;33m\u001B[0m\u001B[1;33m\u001B[0m\u001B[0m\n\u001B[1;32m--> 144\u001B[1;33m                    eps=group['eps'])\n\u001B[0m\u001B[0;32m    145\u001B[0m         \u001B[1;32mreturn\u001B[0m \u001B[0mloss\u001B[0m\u001B[1;33m\u001B[0m\u001B[1;33m\u001B[0m\u001B[0m\n",
      "\u001B[1;32m~\\anaconda3\\lib\\site-packages\\torch\\optim\\_functional.py\u001B[0m in \u001B[0;36madam\u001B[1;34m(params, grads, exp_avgs, exp_avg_sqs, max_exp_avg_sqs, state_steps, amsgrad, beta1, beta2, lr, weight_decay, eps)\u001B[0m\n\u001B[0;32m     85\u001B[0m         \u001B[1;31m# Decay the first and second moment running average coefficient\u001B[0m\u001B[1;33m\u001B[0m\u001B[1;33m\u001B[0m\u001B[1;33m\u001B[0m\u001B[0m\n\u001B[0;32m     86\u001B[0m         \u001B[0mexp_avg\u001B[0m\u001B[1;33m.\u001B[0m\u001B[0mmul_\u001B[0m\u001B[1;33m(\u001B[0m\u001B[0mbeta1\u001B[0m\u001B[1;33m)\u001B[0m\u001B[1;33m.\u001B[0m\u001B[0madd_\u001B[0m\u001B[1;33m(\u001B[0m\u001B[0mgrad\u001B[0m\u001B[1;33m,\u001B[0m \u001B[0malpha\u001B[0m\u001B[1;33m=\u001B[0m\u001B[1;36m1\u001B[0m \u001B[1;33m-\u001B[0m \u001B[0mbeta1\u001B[0m\u001B[1;33m)\u001B[0m\u001B[1;33m\u001B[0m\u001B[1;33m\u001B[0m\u001B[0m\n\u001B[1;32m---> 87\u001B[1;33m         \u001B[0mexp_avg_sq\u001B[0m\u001B[1;33m.\u001B[0m\u001B[0mmul_\u001B[0m\u001B[1;33m(\u001B[0m\u001B[0mbeta2\u001B[0m\u001B[1;33m)\u001B[0m\u001B[1;33m.\u001B[0m\u001B[0maddcmul_\u001B[0m\u001B[1;33m(\u001B[0m\u001B[0mgrad\u001B[0m\u001B[1;33m,\u001B[0m \u001B[0mgrad\u001B[0m\u001B[1;33m.\u001B[0m\u001B[0mconj\u001B[0m\u001B[1;33m(\u001B[0m\u001B[1;33m)\u001B[0m\u001B[1;33m,\u001B[0m \u001B[0mvalue\u001B[0m\u001B[1;33m=\u001B[0m\u001B[1;36m1\u001B[0m \u001B[1;33m-\u001B[0m \u001B[0mbeta2\u001B[0m\u001B[1;33m)\u001B[0m\u001B[1;33m\u001B[0m\u001B[1;33m\u001B[0m\u001B[0m\n\u001B[0m\u001B[0;32m     88\u001B[0m         \u001B[1;32mif\u001B[0m \u001B[0mamsgrad\u001B[0m\u001B[1;33m:\u001B[0m\u001B[1;33m\u001B[0m\u001B[1;33m\u001B[0m\u001B[0m\n\u001B[0;32m     89\u001B[0m             \u001B[1;31m# Maintains the maximum of all 2nd moment running avg. till now\u001B[0m\u001B[1;33m\u001B[0m\u001B[1;33m\u001B[0m\u001B[1;33m\u001B[0m\u001B[0m\n",
      "\u001B[1;31mKeyboardInterrupt\u001B[0m: "
     ]
    }
   ],
   "source": [
    "for epoch in range(num_epochs):\n",
    "    for n, (real_samples, _) in enumerate(train_loader):\n",
    "        # Data for training the discriminator\n",
    "\n",
    "        real_samples_labels = torch.ones((batch_size, 1))\n",
    "        latent_space_samples = torch.randn((batch_size, 16))\n",
    "        generated_samples = generator(latent_space_samples)\n",
    "        generated_samples_labels = torch.zeros((batch_size, 1))\n",
    "        all_samples = torch.cat((real_samples.type(torch.FloatTensor), generated_samples))\n",
    "        all_samples_labels = torch.cat(\n",
    "            (real_samples_labels, generated_samples_labels)\n",
    "        )\n",
    "\n",
    "        # Training the discriminator\n",
    "        discriminator.zero_grad()\n",
    "        output_discriminator = discriminator(all_samples)\n",
    "        loss_discriminator = loss_function(\n",
    "            output_discriminator, all_samples_labels)\n",
    "        loss_discriminator.backward()\n",
    "        optimizer_discriminator.step()\n",
    "\n",
    "        # Data for training the generator\n",
    "        latent_space_samples = torch.randn((batch_size, 16))\n",
    "\n",
    "        # Training the generator\n",
    "        generator.zero_grad()\n",
    "        generated_samples = generator(latent_space_samples)\n",
    "        output_discriminator_generated = discriminator(generated_samples)\n",
    "        loss_generator = loss_function(\n",
    "            output_discriminator_generated, real_samples_labels\n",
    "        )\n",
    "        loss_generator.backward()\n",
    "        optimizer_generator.step()\n",
    "\n",
    "        # Show loss\n",
    "        if epoch % 10 == 0 and n == batch_size - 1:\n",
    "            print(f\"Epoch: {epoch} Loss D.: {loss_discriminator}\")\n",
    "            print(f\"Epoch: {epoch} Loss G.: {loss_generator}\")"
   ],
   "metadata": {
    "collapsed": false,
    "pycharm": {
     "name": "#%%\n"
    }
   }
  },
  {
   "cell_type": "code",
   "execution_count": 152,
   "outputs": [],
   "source": [
    "latent_space_samples = torch.randn(100, 16)\n",
    "generated_samples = generator(latent_space_samples)"
   ],
   "metadata": {
    "collapsed": false,
    "pycharm": {
     "name": "#%%\n"
    }
   }
  },
  {
   "cell_type": "code",
   "execution_count": 153,
   "outputs": [
    {
     "data": {
      "text/plain": "[<matplotlib.lines.Line2D at 0x2776a5a49c8>]"
     },
     "execution_count": 153,
     "metadata": {},
     "output_type": "execute_result"
    },
    {
     "data": {
      "text/plain": "<Figure size 432x288 with 1 Axes>",
      "image/png": "[encoded data removed]"
     },
     "metadata": {
      "needs_background": "light"
     },
     "output_type": "display_data"
    }
   ],
   "source": [
    "generated_samples = generated_samples.detach()\n",
    "plt.plot(generated_samples[:, 0], generated_samples[:, 1], \".\")"
   ],
   "metadata": {
    "collapsed": false,
    "pycharm": {
     "name": "#%%\n"
    }
   }
  }
 ],
 "metadata": {
  "kernelspec": {
   "display_name": "Python 3",
   "language": "python",
   "name": "python3"
  },
  "language_info": {
   "codemirror_mode": {
    "name": "ipython",
    "version": 3
   },
   "file_extension": ".py",
   "mimetype": "text/x-python",
   "name": "python",
   "nbconvert_exporter": "python",
   "pygments_lexer": "ipython3",
   "version": "3.7.6"
  }
 },
 "nbformat": 4,
 "nbformat_minor": 4
}