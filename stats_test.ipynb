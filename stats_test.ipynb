{
 "cells": [
  {
   "cell_type": "code",
   "execution_count": 8,
   "metadata": {
    "collapsed": true
   },
   "outputs": [],
   "source": [
    "import matplotlib.pyplot as plt\n",
    "from scipy import stats\n",
    "import pandas as pd\n",
    "import numpy as np\n",
    "import matplotlib.pyplot as plt\n",
    "import seaborn as sns\n",
    "from scipy.stats import f_oneway\n",
    "from statsmodels.stats.multicomp import pairwise_tukeyhsd"
   ]
  },
  {
   "cell_type": "markdown",
   "source": [
    "# Representação de Dados\n",
    "\n",
    "## Kraemer"
   ],
   "metadata": {
    "collapsed": false
   }
  },
  {
   "cell_type": "code",
   "execution_count": 3,
   "outputs": [],
   "source": [
    "columns = ['1','2','3','4','5']\n",
    "\n",
    "data = [\n",
    "    [79.0, 57.0, 60.0, 66.9, 92.8, 62.7, 72.8, 91.0, 79.0, 83.0, 83.1],\n",
    "    [89.2, 68.9, 68.0, 68.7, 96.5, 73.1, 76.8, 96.0, 81.3, 90.4, 90.5],\n",
    "    [83.5, 65.4, 61.7, 64.8, 93.8, 56.0, 67.4, 84.2, 76.0, 84.5, 84.4],\n",
    "    [83.5, 58.0, 59.9, 71.2, 87.4, 57.3, 63.4, 79.3, 73.3, 84.2, 84.3],\n",
    "    [80.3, 56.5, 60.7, 66.7, 92.2, 67.7, 73.1, 91.3, 79.1, 82.8, 82.9],\n",
    "]\n",
    "\n",
    "df = pd.DataFrame(np.transpose(data), columns=columns)"
   ],
   "metadata": {
    "collapsed": false,
    "pycharm": {
     "name": "#%%\n"
    }
   }
  },
  {
   "cell_type": "code",
   "execution_count": 4,
   "outputs": [
    {
     "data": {
      "text/plain": "[Text(0, 0, '1'),\n Text(0, 0, '2'),\n Text(0, 0, '3'),\n Text(0, 0, '4'),\n Text(0, 0, '5')]"
     },
     "execution_count": 4,
     "metadata": {},
     "output_type": "execute_result"
    },
    {
     "data": {
      "text/plain": "<Figure size 432x288 with 1 Axes>",
      "image/png": "[encoded data removed]"
     },
     "metadata": {
      "needs_background": "light"
     },
     "output_type": "display_data"
    }
   ],
   "source": [
    "ax = sns.boxplot(data=data, palette='Blues')\n",
    "ax.set(xlabel='Representação de Dados', ylabel='Acurácia Média')\n",
    "ax.set_xticklabels(columns, rotation=0)\n",
    "\n",
    "#fig = ax.get_figure()\n",
    "#fig.savefig(\"boxplot_representacao_dados.pdf\")"
   ],
   "metadata": {
    "collapsed": false,
    "pycharm": {
     "name": "#%%\n"
    }
   }
  },
  {
   "cell_type": "code",
   "execution_count": 5,
   "outputs": [
    {
     "name": "stdout",
     "output_type": "stream",
     "text": [
      "Stats 0.943334698677063 p-value 0.5604581236839294\n",
      "null hypo cannot be rejected\n",
      "Stats 0.8826534748077393 p-value 0.11242392659187317\n",
      "null hypo cannot be rejected\n",
      "Stats 0.9232016801834106 p-value 0.3462148904800415\n",
      "null hypo cannot be rejected\n",
      "Stats 0.8830311298370361 p-value 0.11366711556911469\n",
      "null hypo cannot be rejected\n",
      "Stats 0.9524951577186584 p-value 0.6759597063064575\n",
      "null hypo cannot be rejected\n"
     ]
    }
   ],
   "source": [
    "# n0 => hipotese nula (vem de distribuicao normal)\n",
    "# nA => nao vem de distribuicao normal\n",
    "\n",
    "alpha = 0.05\n",
    "for i in df.columns:\n",
    "    a, b = stats.shapiro(df[[i]])\n",
    "    print('Stats', a, 'p-value', b)\n",
    "\n",
    "    if b < alpha:\n",
    "        print('null hyp can be rejected')\n",
    "    else:\n",
    "        print('null hypo cannot be rejected')"
   ],
   "metadata": {
    "collapsed": false,
    "pycharm": {
     "name": "#%%\n"
    }
   }
  },
  {
   "cell_type": "code",
   "execution_count": 6,
   "outputs": [
    {
     "data": {
      "text/plain": "HZResults(hz=0.8360701765023368, pval=0.10093709661489542, normal=True)"
     },
     "execution_count": 6,
     "metadata": {},
     "output_type": "execute_result"
    }
   ],
   "source": [
    "#Henze-Zirkler multivariate normality test\n",
    "\n",
    "import pingouin as pg\n",
    "\n",
    "pg.multivariate_normality(df, 0.05)"
   ],
   "metadata": {
    "collapsed": false,
    "pycharm": {
     "name": "#%%\n"
    }
   }
  },
  {
   "cell_type": "code",
   "execution_count": 7,
   "outputs": [
    {
     "ename": "IndexError",
     "evalue": "list index out of range",
     "output_type": "error",
     "traceback": [
      "\u001B[1;31m---------------------------------------------------------------------------\u001B[0m",
      "\u001B[1;31mIndexError\u001B[0m                                Traceback (most recent call last)",
      "\u001B[1;32m<ipython-input-7-937723db3815>\u001B[0m in \u001B[0;36m<module>\u001B[1;34m\u001B[0m\n\u001B[0;32m      1\u001B[0m \u001B[1;31m# Friedman\u001B[0m\u001B[1;33m\u001B[0m\u001B[1;33m\u001B[0m\u001B[1;33m\u001B[0m\u001B[0m\n\u001B[0;32m      2\u001B[0m \u001B[1;33m\u001B[0m\u001B[0m\n\u001B[1;32m----> 3\u001B[1;33m \u001B[0mstats\u001B[0m\u001B[1;33m.\u001B[0m\u001B[0mfriedmanchisquare\u001B[0m\u001B[1;33m(\u001B[0m\u001B[0mdata\u001B[0m\u001B[1;33m[\u001B[0m\u001B[1;36m0\u001B[0m\u001B[1;33m]\u001B[0m\u001B[1;33m,\u001B[0m\u001B[0mdata\u001B[0m\u001B[1;33m[\u001B[0m\u001B[1;36m1\u001B[0m\u001B[1;33m]\u001B[0m\u001B[1;33m,\u001B[0m\u001B[0mdata\u001B[0m\u001B[1;33m[\u001B[0m\u001B[1;36m2\u001B[0m\u001B[1;33m]\u001B[0m\u001B[1;33m,\u001B[0m\u001B[0mdata\u001B[0m\u001B[1;33m[\u001B[0m\u001B[1;36m3\u001B[0m\u001B[1;33m]\u001B[0m\u001B[1;33m,\u001B[0m\u001B[0mdata\u001B[0m\u001B[1;33m[\u001B[0m\u001B[1;36m4\u001B[0m\u001B[1;33m]\u001B[0m\u001B[1;33m,\u001B[0m\u001B[0mdata\u001B[0m\u001B[1;33m[\u001B[0m\u001B[1;36m5\u001B[0m\u001B[1;33m]\u001B[0m\u001B[1;33m)\u001B[0m\u001B[1;33m\u001B[0m\u001B[1;33m\u001B[0m\u001B[0m\n\u001B[0m\u001B[0;32m      4\u001B[0m \u001B[1;33m\u001B[0m\u001B[0m\n\u001B[0;32m      5\u001B[0m \u001B[1;31m#p-value < 0.05 => CAN BE REJECT NULL HYPOT (The mean for each population is equal), then The mean for each population IS NOT EQUAL\u001B[0m\u001B[1;33m\u001B[0m\u001B[1;33m\u001B[0m\u001B[1;33m\u001B[0m\u001B[0m\n",
      "\u001B[1;31mIndexError\u001B[0m: list index out of range"
     ]
    }
   ],
   "source": [
    "# Friedman\n",
    "\n",
    "stats.friedmanchisquare(data[0],data[1],data[2],data[3],data[4],data[5])\n",
    "\n",
    "#p-value < 0.05 => CAN BE REJECT NULL HYPOT (The mean for each population is equal), then The mean for each population IS NOT EQUAL\n",
    "\n",
    "# A representação dos dados tem significancia estatistica na acurácia."
   ],
   "metadata": {
    "collapsed": false,
    "pycharm": {
     "name": "#%%\n"
    }
   }
  },
  {
   "cell_type": "code",
   "execution_count": 10,
   "outputs": [
    {
     "data": {
      "text/plain": "F_onewayResult(statistic=0.8909795993728175, pvalue=0.47629630565500547)"
     },
     "execution_count": 10,
     "metadata": {},
     "output_type": "execute_result"
    }
   ],
   "source": [
    "# anova test\n",
    "f_oneway(data[0], data[1], data[2], data[3], data[4])\n",
    "\n",
    "# NAO REJEITOU HIPOTESE NULA (TODOS TEM MESMA MEDIA)"
   ],
   "metadata": {
    "collapsed": false,
    "pycharm": {
     "name": "#%%\n"
    }
   }
  },
  {
   "cell_type": "code",
   "execution_count": 13,
   "outputs": [
    {
     "data": {
      "text/plain": "55"
     },
     "execution_count": 13,
     "metadata": {},
     "output_type": "execute_result"
    }
   ],
   "source": [],
   "metadata": {
    "collapsed": false,
    "pycharm": {
     "name": "#%%\n"
    }
   }
  },
  {
   "cell_type": "code",
   "execution_count": 17,
   "outputs": [
    {
     "name": "stdout",
     "output_type": "stream",
     "text": [
      " Multiple Comparison of Means - Tukey HSD, FWER=0.05 \n",
      "=====================================================\n",
      "group1 group2 meandiff p-adj   lower    upper  reject\n",
      "-----------------------------------------------------\n",
      "  rep1   rep2   6.5545 0.6699  -7.7045 20.8136  False\n",
      "  rep1   rep3  -0.5091    0.9 -14.7682   13.75  False\n",
      "  rep1   rep4  -2.3182    0.9 -16.5773 11.9409  False\n",
      "  rep1   rep5   0.5455    0.9 -13.7136 14.8045  False\n",
      "  rep2   rep3  -7.0636 0.6137 -21.3227  7.1954  False\n",
      "  rep2   rep4  -8.8727 0.4089 -23.1318  5.3863  False\n",
      "  rep2   rep5  -6.0091   0.73 -20.2682    8.25  False\n",
      "  rep3   rep4  -1.8091    0.9 -16.0682   12.45  False\n",
      "  rep3   rep5   1.0545    0.9 -13.2045 15.3136  False\n",
      "  rep4   rep5   2.8636    0.9 -11.3954 17.1227  False\n",
      "-----------------------------------------------------\n"
     ]
    }
   ],
   "source": [
    "# tukey test\n",
    "\n",
    "df = pd.DataFrame({'score': data[0] + data[1] + data[2] + data[3] + data[4],\n",
    "                   'group': np.repeat(['rep1', 'rep2', 'rep3', 'rep4', 'rep5'], repeats=11)})\n",
    "\n",
    "# perform Tukey's test\n",
    "tukey = pairwise_tukeyhsd(endog=df['score'],\n",
    "                          groups=df['group'],\n",
    "                          alpha=0.05)\n",
    "\n",
    "print(tukey)"
   ],
   "metadata": {
    "collapsed": false,
    "pycharm": {
     "name": "#%%\n"
    }
   }
  },
  {
   "cell_type": "markdown",
   "source": [
    "# RESULTADOS SAM KNN"
   ],
   "metadata": {
    "collapsed": false,
    "pycharm": {
     "name": "#%% md\n"
    }
   }
  },
  {
   "cell_type": "code",
   "execution_count": null,
   "outputs": [],
   "source": [
    "columns = ['1', '2','3']\n",
    "\n",
    "data = [\n",
    "    [86.4375,85.125,61.0625,85.375,79.625,63.25,88.5,87.5,56.71875,85.4375,57.16666667,61.5625,86.875,67.29166667,59.25,86.9375,57.58333333,55.53125,88.125,78.375,84.78125,86.8125,86,59.59375,87.875,87.625,59.65625,86.375,84.20833333,66.53125],\n",
    "    [93.125,100,92.4375,100,95.375,100,91.8125,100,94,100,93.1875,100,92.5625,100,95.5625,100,93.6875,100,95.5625,100],\n",
    "    [16.0625,13.3125,13.6875,16.375,13.4375,0,15.5,13.5,0,15.6875,13.3125,14,15.5625,13.5625,14.3125,15.625,13.5,14,15.3125,13.4375,14.25,16.8125,0,0,15.5,13.375,14.375,16,13.75,14.125]\n",
    "]\n",
    "\n",
    "df = pd.DataFrame(np.transpose(data), columns=columns)"
   ],
   "metadata": {
    "collapsed": false,
    "pycharm": {
     "name": "#%%\n"
    }
   }
  },
  {
   "cell_type": "code",
   "execution_count": null,
   "outputs": [],
   "source": [
    "ax = sns.boxplot(data=data, palette='Blues')\n",
    "ax.set(xlabel='Representação de Dados', ylabel='Acurácia Média')\n",
    "ax.set_xticklabels(columns, rotation=0)\n",
    "\n",
    "#fig = ax.get_figure()\n",
    "#fig.savefig(\"boxplot_representacao_dados.pdf\")"
   ],
   "metadata": {
    "collapsed": false,
    "pycharm": {
     "name": "#%%\n"
    }
   }
  },
  {
   "cell_type": "markdown",
   "source": [
    "# Mini Batch Kmeans"
   ],
   "metadata": {
    "collapsed": false
   }
  },
  {
   "cell_type": "markdown",
   "source": [
    "## Silhouette Score"
   ],
   "metadata": {
    "collapsed": false
   }
  },
  {
   "cell_type": "code",
   "execution_count": 1,
   "outputs": [
    {
     "ename": "NameError",
     "evalue": "name 'pd' is not defined",
     "output_type": "error",
     "traceback": [
      "\u001B[1;31m---------------------------------------------------------------------------\u001B[0m",
      "\u001B[1;31mNameError\u001B[0m                                 Traceback (most recent call last)",
      "\u001B[1;32m<ipython-input-1-63fe60cd88bd>\u001B[0m in \u001B[0;36m<module>\u001B[1;34m\u001B[0m\n\u001B[0;32m      9\u001B[0m ]\n\u001B[0;32m     10\u001B[0m \u001B[1;33m\u001B[0m\u001B[0m\n\u001B[1;32m---> 11\u001B[1;33m \u001B[0mdf\u001B[0m \u001B[1;33m=\u001B[0m \u001B[0mpd\u001B[0m\u001B[1;33m.\u001B[0m\u001B[0mDataFrame\u001B[0m\u001B[1;33m(\u001B[0m\u001B[0mnp\u001B[0m\u001B[1;33m.\u001B[0m\u001B[0mtranspose\u001B[0m\u001B[1;33m(\u001B[0m\u001B[0mdata\u001B[0m\u001B[1;33m)\u001B[0m\u001B[1;33m,\u001B[0m \u001B[0mcolumns\u001B[0m\u001B[1;33m=\u001B[0m\u001B[0mcolumns\u001B[0m\u001B[1;33m)\u001B[0m\u001B[1;33m\u001B[0m\u001B[1;33m\u001B[0m\u001B[0m\n\u001B[0m",
      "\u001B[1;31mNameError\u001B[0m: name 'pd' is not defined"
     ]
    }
   ],
   "source": [
    "columns = ['1','2','3','4','5']\n",
    "\n",
    "data = [\n",
    "    [-0.072,     -0.042,     0.027,     -0.002,     -.023,     -.077,     -.023,     -.082,     .082,     .063],\n",
    "    [0.063,     0.077,     0.038,     0.055,     0.082,     0.009,     0.123,     0.112,     0.028,     0.042],\n",
    "    [-0.040,     -0.105,     -0.058,     -0.114,     -0.051,     -0.101,     0.008,     -0.036,     -0.065,     -0.055],\n",
    "    [0.055,     -0.116,     -0.111,     -0.065,     -0.037,     -0.060,     -0.033,     -0.086,     -0.057,     -0.037],\n",
    "    [-0.016,     0.097,     0.024,     0.094,     0.083,     0.066,     -0.049,     -0.050,     -0.065,     -0.053],\n",
    "]\n",
    "\n",
    "df = pd.DataFrame(np.transpose(data), columns=columns)"
   ],
   "metadata": {
    "collapsed": false,
    "pycharm": {
     "name": "#%%\n"
    }
   }
  },
  {
   "cell_type": "code",
   "execution_count": null,
   "outputs": [],
   "source": [
    "ax = sns.boxplot(data=data, palette='Blues')\n",
    "ax.set(xlabel='Representação de Dados', ylabel='Acurácia Média')\n",
    "ax.set_xticklabels(columns, rotation=0)\n",
    "\n",
    "#fig = ax.get_figure()\n",
    "#fig.savefig(\"boxplot_representacao_dados.pdf\")"
   ],
   "metadata": {
    "collapsed": false,
    "pycharm": {
     "name": "#%%\n"
    }
   }
  },
  {
   "cell_type": "code",
   "execution_count": null,
   "outputs": [],
   "source": [
    "# n0 => hipotese nula (vem de distribuicao normal)\n",
    "# nA => nao vem de distribuicao normal\n",
    "\n",
    "alpha = 0.05\n",
    "for i in df.columns:\n",
    "    a, b = stats.shapiro(df[[i]])\n",
    "    print('Stats', a, 'p-value', b)\n",
    "\n",
    "    if b < alpha:\n",
    "        print('null hyp can be rejected')\n",
    "    else:\n",
    "        print('null hypo cannot be rejected')"
   ],
   "metadata": {
    "collapsed": false,
    "pycharm": {
     "name": "#%%\n"
    }
   }
  },
  {
   "cell_type": "code",
   "execution_count": null,
   "outputs": [],
   "source": [
    "#Henze-Zirkler multivariate normality test\n",
    "\n",
    "import pingouin as pg\n",
    "\n",
    "pg.multivariate_normality(df, 0.05)"
   ],
   "metadata": {
    "collapsed": false,
    "pycharm": {
     "name": "#%%\n"
    }
   }
  },
  {
   "cell_type": "code",
   "execution_count": null,
   "outputs": [],
   "source": [
    "# Friedman\n",
    "\n",
    "stats.friedmanchisquare(data[0],data[1],data[2],data[3],data[4])\n",
    "\n",
    "#p-value < 0.05 => CAN BE REJECT NULL HYPOT (The mean for each population is equal), then The mean for each population IS NOT EQUAL\n",
    "\n",
    "# A representação dos dados tem significancia estatistica na acurácia."
   ],
   "metadata": {
    "collapsed": false,
    "pycharm": {
     "name": "#%%\n"
    }
   }
  },
  {
   "cell_type": "markdown",
   "source": [
    "## Homogeneity Score"
   ],
   "metadata": {
    "collapsed": false
   }
  },
  {
   "cell_type": "code",
   "execution_count": null,
   "outputs": [],
   "source": [
    "columns = ['1','2','3','4','5']\n",
    "\n",
    "data = [\n",
    "    [87.51,\t81.20,\t86.64,\t87.91,\t85.14,\t84.42,\t81.59,\t81.15,\t85.63,\t83.40],\n",
    "    [88.53,\t91.05,\t89.88,\t88.99,\t89.11,\t88.99,\t90.79,\t91.20,\t90.63,\t89.72],\n",
    "    [83.84,\t80.60,\t83.60,\t77.94,\t84.93,\t83.58,\t84.46,\t81.98,\t83.42,\t80.66],\n",
    "    [83.73,\t84.32,\t82.66,\t85.04,\t87.18,\t85.09,\t86.40,\t85.45,\t84.14,\t86.80],\n",
    "    [87.45,\t87.74,\t85.04,\t86.76,\t85.74,\t82.01,\t83.41,\t85.84,\t85.00,\t87.30]\n",
    "]\n",
    "\n",
    "df = pd.DataFrame(np.transpose(data), columns=columns)"
   ],
   "metadata": {
    "collapsed": false,
    "pycharm": {
     "name": "#%%\n"
    }
   }
  },
  {
   "cell_type": "code",
   "execution_count": null,
   "outputs": [],
   "source": [
    "ax = sns.boxplot(data=data, palette='Blues')\n",
    "ax.set(xlabel='Representação de Dados', ylabel='Acurácia Média')\n",
    "ax.set_xticklabels(columns, rotation=0)\n",
    "\n",
    "#fig = ax.get_figure()\n",
    "#fig.savefig(\"boxplot_representacao_dados.pdf\")"
   ],
   "metadata": {
    "collapsed": false,
    "pycharm": {
     "name": "#%%\n"
    }
   }
  },
  {
   "cell_type": "code",
   "execution_count": null,
   "outputs": [],
   "source": [
    "# n0 => hipotese nula (vem de distribuicao normal)\n",
    "# nA => nao vem de distribuicao normal\n",
    "\n",
    "alpha = 0.05\n",
    "for i in df.columns:\n",
    "    a, b = stats.shapiro(df[[i]])\n",
    "    print('Stats', a, 'p-value', b)\n",
    "\n",
    "    if b < alpha:\n",
    "        print('null hyp can be rejected')\n",
    "    else:\n",
    "        print('null hypo cannot be rejected')"
   ],
   "metadata": {
    "collapsed": false,
    "pycharm": {
     "name": "#%%\n"
    }
   }
  },
  {
   "cell_type": "code",
   "execution_count": null,
   "outputs": [],
   "source": [
    "#Henze-Zirkler multivariate normality test\n",
    "\n",
    "import pingouin as pg\n",
    "\n",
    "pg.multivariate_normality(df, 0.05)"
   ],
   "metadata": {
    "collapsed": false,
    "pycharm": {
     "name": "#%%\n"
    }
   }
  },
  {
   "cell_type": "code",
   "execution_count": null,
   "outputs": [],
   "source": [
    "# Friedman\n",
    "\n",
    "stats.friedmanchisquare(data[0],data[1],data[2],data[3],data[4])\n",
    "\n",
    "#p-value < 0.05 => CAN BE REJECT NULL HYPOT (The mean for each population is equal), then The mean for each population IS NOT EQUAL\n",
    "\n",
    "# A representação dos dados tem significancia estatistica na acurácia."
   ],
   "metadata": {
    "collapsed": false,
    "pycharm": {
     "name": "#%%\n"
    }
   }
  }
 ],
 "metadata": {
  "kernelspec": {
   "display_name": "Python 3",
   "language": "python",
   "name": "python3"
  },
  "language_info": {
   "codemirror_mode": {
    "name": "ipython",
    "version": 2
   },
   "file_extension": ".py",
   "mimetype": "text/x-python",
   "name": "python",
   "nbconvert_exporter": "python",
   "pygments_lexer": "ipython2",
   "version": "2.7.6"
  }
 },
 "nbformat": 4,
 "nbformat_minor": 0
}