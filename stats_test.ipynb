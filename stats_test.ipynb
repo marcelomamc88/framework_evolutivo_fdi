{
 "cells": [
  {
   "cell_type": "code",
   "execution_count": 7,
   "metadata": {
    "collapsed": true
   },
   "outputs": [],
   "source": [
    "import matplotlib.pyplot as plt\n",
    "from scipy import stats\n",
    "import pandas as pd\n",
    "import numpy as np\n",
    "import matplotlib.pyplot as plt\n",
    "import seaborn as sns"
   ]
  },
  {
   "cell_type": "markdown",
   "source": [
    "# Representação de Dados\n",
    "\n",
    "## Kraemer"
   ],
   "metadata": {
    "collapsed": false
   }
  },
  {
   "cell_type": "code",
   "execution_count": 2,
   "outputs": [],
   "source": [
    "columns = ['1','2','3','4','5']\n",
    "\n",
    "data = [\n",
    "    [79.0, 57.0, 60.0, 66.9, 92.8, 62.7, 72.8, 91.0, 79.0, 83.0, 83.1],\n",
    "    [89.2, 68.9, 68.0, 68.7, 96.5, 73.1, 76.8, 96.0, 81.3, 90.4, 90.5],\n",
    "    [83.5, 65.4, 61.7, 64.8, 93.8, 56.0, 67.4, 84.2, 76.0, 84.5, 84.4],\n",
    "    [83.5, 58.0, 59.9, 71.2, 87.4, 57.3, 63.4, 79.3, 73.3, 84.2, 84.3],\n",
    "    [80.3, 56.5, 60.7, 66.7, 92.2, 67.7, 73.1, 91.3, 79.1, 82.8, 82.9],\n",
    "]\n",
    "\n",
    "df = pd.DataFrame(np.transpose(data), columns=columns)"
   ],
   "metadata": {
    "collapsed": false,
    "pycharm": {
     "name": "#%%\n"
    }
   }
  },
  {
   "cell_type": "code",
   "execution_count": 4,
   "outputs": [
    {
     "data": {
      "text/plain": "[Text(0, 0, '1'),\n Text(0, 0, '2'),\n Text(0, 0, '3'),\n Text(0, 0, '4'),\n Text(0, 0, '5')]"
     },
     "execution_count": 4,
     "metadata": {},
     "output_type": "execute_result"
    },
    {
     "data": {
      "text/plain": "<Figure size 432x288 with 1 Axes>",
      "image/png": "[encoded data removed]"
     },
     "metadata": {
      "needs_background": "light"
     },
     "output_type": "display_data"
    }
   ],
   "source": [
    "ax = sns.boxplot(data=data, palette='Blues')\n",
    "ax.set(xlabel='Representação de Dados', ylabel='Acurácia Média')\n",
    "ax.set_xticklabels(columns, rotation=0)\n",
    "\n",
    "#fig = ax.get_figure()\n",
    "#fig.savefig(\"boxplot_representacao_dados.pdf\")"
   ],
   "metadata": {
    "collapsed": false,
    "pycharm": {
     "name": "#%%\n"
    }
   }
  },
  {
   "cell_type": "code",
   "execution_count": 10,
   "outputs": [
    {
     "name": "stdout",
     "output_type": "stream",
     "text": [
      "Stats 0.943334698677063 p-value 0.5604581236839294\n",
      "null hypo cannot be rejected\n",
      "Stats 0.8826534748077393 p-value 0.11242392659187317\n",
      "null hypo cannot be rejected\n",
      "Stats 0.9232016801834106 p-value 0.3462148904800415\n",
      "null hypo cannot be rejected\n",
      "Stats 0.8830311298370361 p-value 0.11366711556911469\n",
      "null hypo cannot be rejected\n",
      "Stats 0.9524951577186584 p-value 0.6759597063064575\n",
      "null hypo cannot be rejected\n"
     ]
    }
   ],
   "source": [
    "# n0 => hipotese nula (vem de distribuicao normal)\n",
    "# nA => nao vem de distribuicao normal\n",
    "\n",
    "alpha = 0.05\n",
    "for i in df.columns:\n",
    "    a, b = stats.shapiro(df[[i]])\n",
    "    print('Stats', a, 'p-value', b)\n",
    "\n",
    "    if b < alpha:\n",
    "        print('null hyp can be rejected')\n",
    "    else:\n",
    "        print('null hypo cannot be rejected')"
   ],
   "metadata": {
    "collapsed": false,
    "pycharm": {
     "name": "#%%\n"
    }
   }
  },
  {
   "cell_type": "code",
   "execution_count": 6,
   "outputs": [
    {
     "data": {
      "text/plain": "HZResults(hz=0.8360701765023368, pval=0.10093709661489542, normal=True)"
     },
     "execution_count": 6,
     "metadata": {},
     "output_type": "execute_result"
    }
   ],
   "source": [
    "#Henze-Zirkler multivariate normality test\n",
    "\n",
    "import pingouin as pg\n",
    "\n",
    "pg.multivariate_normality(df, 0.05)"
   ],
   "metadata": {
    "collapsed": false,
    "pycharm": {
     "name": "#%%\n"
    }
   }
  },
  {
   "cell_type": "code",
   "execution_count": 9,
   "outputs": [
    {
     "data": {
      "text/plain": "FriedmanchisquareResult(statistic=23.498659517426304, pvalue=0.00027095884491751585)"
     },
     "execution_count": 9,
     "metadata": {},
     "output_type": "execute_result"
    }
   ],
   "source": [
    "# Friedman\n",
    "\n",
    "stats.friedmanchisquare(data[0],data[1],data[2],data[3],data[4],data[5])\n",
    "\n",
    "#p-value < 0.05 => CAN BE REJECT NULL HYPOT (The mean for each population is equal), then The mean for each population IS NOT EQUAL\n",
    "\n",
    "# A representação dos dados tem significancia estatistica na acurácia."
   ],
   "metadata": {
    "collapsed": false,
    "pycharm": {
     "name": "#%%\n"
    }
   }
  },
  {
   "cell_type": "code",
   "execution_count": 12,
   "outputs": [
    {
     "data": {
      "text/plain": "               1          2          3          4          5\ncount  11.000000  11.000000  11.000000  11.000000  11.000000\nmean   75.209091  81.763636  74.700000  72.890909  75.754545\nstd    12.266658  11.187160  12.168813  11.614168  11.815021\nmin    57.000000  68.000000  56.000000  57.300000  56.500000\n25%    64.800000  71.000000  65.100000  61.650000  67.200000\n50%    79.000000  81.300000  76.000000  73.300000  79.100000\n75%    83.050000  90.450000  84.300000  83.850000  82.850000\nmax    92.800000  96.500000  93.800000  87.400000  92.200000",
      "text/html": "<div>\n<style scoped>\n    .dataframe tbody tr th:only-of-type {\n        vertical-align: middle;\n    }\n\n    .dataframe tbody tr th {\n        vertical-align: top;\n    }\n\n    .dataframe thead th {\n        text-align: right;\n    }\n</style>\n<table border=\"1\" class=\"dataframe\">\n  <thead>\n    <tr style=\"text-align: right;\">\n      <th></th>\n      <th>1</th>\n      <th>2</th>\n      <th>3</th>\n      <th>4</th>\n      <th>5</th>\n    </tr>\n  </thead>\n  <tbody>\n    <tr>\n      <th>count</th>\n      <td>11.000000</td>\n      <td>11.000000</td>\n      <td>11.000000</td>\n      <td>11.000000</td>\n      <td>11.000000</td>\n    </tr>\n    <tr>\n      <th>mean</th>\n      <td>75.209091</td>\n      <td>81.763636</td>\n      <td>74.700000</td>\n      <td>72.890909</td>\n      <td>75.754545</td>\n    </tr>\n    <tr>\n      <th>std</th>\n      <td>12.266658</td>\n      <td>11.187160</td>\n      <td>12.168813</td>\n      <td>11.614168</td>\n      <td>11.815021</td>\n    </tr>\n    <tr>\n      <th>min</th>\n      <td>57.000000</td>\n      <td>68.000000</td>\n      <td>56.000000</td>\n      <td>57.300000</td>\n      <td>56.500000</td>\n    </tr>\n    <tr>\n      <th>25%</th>\n      <td>64.800000</td>\n      <td>71.000000</td>\n      <td>65.100000</td>\n      <td>61.650000</td>\n      <td>67.200000</td>\n    </tr>\n    <tr>\n      <th>50%</th>\n      <td>79.000000</td>\n      <td>81.300000</td>\n      <td>76.000000</td>\n      <td>73.300000</td>\n      <td>79.100000</td>\n    </tr>\n    <tr>\n      <th>75%</th>\n      <td>83.050000</td>\n      <td>90.450000</td>\n      <td>84.300000</td>\n      <td>83.850000</td>\n      <td>82.850000</td>\n    </tr>\n    <tr>\n      <th>max</th>\n      <td>92.800000</td>\n      <td>96.500000</td>\n      <td>93.800000</td>\n      <td>87.400000</td>\n      <td>92.200000</td>\n    </tr>\n  </tbody>\n</table>\n</div>"
     },
     "execution_count": 12,
     "metadata": {},
     "output_type": "execute_result"
    }
   ],
   "source": [
    "df.describe()"
   ],
   "metadata": {
    "collapsed": false,
    "pycharm": {
     "name": "#%%\n"
    }
   }
  }
 ],
 "metadata": {
  "kernelspec": {
   "display_name": "Python 3",
   "language": "python",
   "name": "python3"
  },
  "language_info": {
   "codemirror_mode": {
    "name": "ipython",
    "version": 2
   },
   "file_extension": ".py",
   "mimetype": "text/x-python",
   "name": "python",
   "nbconvert_exporter": "python",
   "pygments_lexer": "ipython2",
   "version": "2.7.6"
  }
 },
 "nbformat": 4,
 "nbformat_minor": 0
}